{
 "cells": [
  {
   "cell_type": "markdown",
   "id": "9aa3b5b4",
   "metadata": {},
   "source": [
    "# Import Libraries"
   ]
  },
  {
   "cell_type": "code",
   "execution_count": 1,
   "id": "0a71cbe2",
   "metadata": {},
   "outputs": [],
   "source": [
    "import pandas as pd\n",
    "import numpy as np\n",
    "from sklearn.preprocessing import StandardScaler, OneHotEncoder\n",
    "from scipy import stats\n",
    "import seaborn as sns\n",
    "import matplotlib.pyplot as plt\n",
    "import statsmodels.api as sm"
   ]
  },
  {
   "cell_type": "markdown",
   "id": "65e5d3cb",
   "metadata": {},
   "source": [
    "# Healthy Patients"
   ]
  },
  {
   "cell_type": "code",
   "execution_count": 2,
   "id": "d0a4d292",
   "metadata": {},
   "outputs": [
    {
     "data": {
      "image/png": "[encoded data removed]",
      "text/plain": [
       "<Figure size 640x480 with 1 Axes>"
      ]
     },
     "metadata": {},
     "output_type": "display_data"
    }
   ],
   "source": [
    "input_path = '/Users/baileyng/MIND_data/ukb_NEO/NEO_tabular_all_healthy.csv'\n",
    "df = pd.read_csv(input_path, index_col=0)\n",
    "\n",
    "# Histogram\n",
    "sns.histplot(df['20127-0.0'])\n",
    "plt.title('Distribution of Neuroticism Scores')\n",
    "plt.xlabel('Neuroticism Score')\n",
    "plt.ylabel('Frequency')\n",
    "plt.show()"
   ]
  },
  {
   "cell_type": "code",
   "execution_count": 3,
   "id": "7ad40e00",
   "metadata": {},
   "outputs": [],
   "source": [
    "# load FC regions\n",
    "with open('/Users/baileyng/MIND_models/FC_colnames.txt', 'r') as f:\n",
    "    fc_regions = [line.strip() for line in f.readlines()]\n",
    "\n",
    "rename = pd.read_csv('/Users/baileyng/MIND_models/region_names/col_renames.csv')\n",
    "rename_dict = dict(zip(rename['datafield_code'], rename['datafield_name']))\n",
    "\n",
    "# rename columns\n",
    "df = df.rename(columns=rename_dict)"
   ]
  },
  {
   "cell_type": "code",
   "execution_count": 4,
   "id": "b9d644a2",
   "metadata": {},
   "outputs": [],
   "source": [
    "# Process categorical variables\n",
    "encoder = OneHotEncoder(drop='first', sparse_output=False)\n",
    "centre_encoded = encoder.fit_transform(df[['assessment_centre']])\n",
    "\n",
    "centre_feature_names = encoder.get_feature_names_out(['assessment_centre'])\n",
    "centre_feature_names = [name.replace('assessment_centre_', 'centre_') for name in centre_feature_names]\n",
    "\n",
    "centre_df = pd.DataFrame(centre_encoded, columns=centre_feature_names, index=df.index)\n",
    "df = pd.concat([df, centre_df], axis=1)\n",
    "\n",
    "#Get centre dummy column names\n",
    "centre_cols = [col for col in df.columns if col.startswith('centre_')]"
   ]
  },
  {
   "cell_type": "code",
   "execution_count": 5,
   "id": "4b0eaebd",
   "metadata": {},
   "outputs": [],
   "source": [
    "# Prepare base features\n",
    "df['age_squared'] = df['age'] ** 2\n",
    "df['age_sex_interaction'] = df['age'] * df['sex']"
   ]
  },
  {
   "cell_type": "code",
   "execution_count": 6,
   "id": "0a014ed8",
   "metadata": {},
   "outputs": [
    {
     "name": "stdout",
     "output_type": "stream",
     "text": [
      "\n",
      "Successfully fitted models for 210 regions\n",
      "Results shape: (210, 62)\n"
     ]
    }
   ],
   "source": [
    "# Initialize storage for results\n",
    "results = []\n",
    "\n",
    "# Fit linear model for each FC region\n",
    "for region in fc_regions:\n",
    "    try:\n",
    "        feature_cols = ['age', 'sex', 'age_sex_interaction', 'age_squared',\n",
    "                        region, 'head_motion'] + centre_cols\n",
    "\n",
    "        X = df[feature_cols]\n",
    "        y = df['neuroticism_score']\n",
    "\n",
    "        # Standardize features\n",
    "        scaler = StandardScaler()\n",
    "        dummy_cols = ['sex'] + centre_cols\n",
    "        continuous_cols = [col for col in feature_cols if col not in dummy_cols]\n",
    "\n",
    "        X_scaled = X.copy()\n",
    "        X_scaled[continuous_cols] = scaler.fit_transform(X[continuous_cols])\n",
    "\n",
    "        X_scaled_w_const = sm.add_constant(X_scaled)\n",
    "\n",
    "        # Fit linear regression model\n",
    "        model = sm.OLS(y, X_scaled_w_const).fit()\n",
    "\n",
    "        # Extract model statistics\n",
    "        n_obs = model.nobs\n",
    "        df_resid = model.df_resid\n",
    "        r_squared = model.rsquared\n",
    "        adj_r_squared = model.rsquared_adj\n",
    "        rmse = np.sqrt(model.mse_resid)\n",
    "        f_statistic = model.fvalue\n",
    "        f_pvalue = model.f_pvalue\n",
    "\n",
    "        # Store main results\n",
    "        result = {\n",
    "            'region_pair': region,\n",
    "            'n_observations': int(n_obs),\n",
    "            'df_residual': int(df_resid),\n",
    "            'r_squared': r_squared,\n",
    "            'adj_r_squared': adj_r_squared,\n",
    "            'rmse': rmse,\n",
    "            'f_statistic': f_statistic,\n",
    "            'f_pvalue': f_pvalue\n",
    "        }\n",
    "\n",
    "        # Add coefficient statistics\n",
    "        param_names = ['const'] + feature_cols\n",
    "\n",
    "        for i, param in enumerate(param_names):\n",
    "\n",
    "            if param == region:\n",
    "                param_name = 'region_pair'\n",
    "            else:\n",
    "                param_name = param\n",
    "                \n",
    "            result[f'coef_{param_name}'] = model.params[i]\n",
    "            result[f'se_{param_name}'] = model.bse[i]\n",
    "            result[f'tstat_{param_name}'] = model.tvalues[i]\n",
    "            result[f'pvalue_{param_name}'] = model.pvalues[i]\n",
    "\n",
    "            # Confidence intervals\n",
    "            conf_int = model.conf_int().iloc[i]\n",
    "            result[f'ci_lower_{param_name}'] = conf_int[0]\n",
    "            result[f'ci_upper_{param_name}'] = conf_int[1]\n",
    "\n",
    "        results.append(result)\n",
    "\n",
    "    except Exception as e:\n",
    "        print(f\"Error fitting model for {region}: {e}\")\n",
    "        continue\n",
    "\n",
    "# Convert results to DataFrame\n",
    "results_df = pd.DataFrame(results)\n",
    "print(f\"\\nSuccessfully fitted models for {len(results_df)} regions\")\n",
    "print(f\"Results shape: {results_df.shape}\")\n"
   ]
  },
  {
   "cell_type": "code",
   "execution_count": 7,
   "id": "886c9c2b",
   "metadata": {},
   "outputs": [
    {
     "name": "stdout",
     "output_type": "stream",
     "text": [
      "Saved file!\n"
     ]
    }
   ],
   "source": [
    "# Save results to CSV files\n",
    "output_dir = '/Users/baileyng/MIND_data/ukb_NEO/'\n",
    "\n",
    "# Save complete results\n",
    "results_df.to_csv(f'{output_dir}NEO_lm_results_healthy.csv', index=False)\n",
    "\n",
    "print(\"Saved file!\")"
   ]
  },
  {
   "cell_type": "code",
   "execution_count": 8,
   "id": "b7bcf5e8",
   "metadata": {},
   "outputs": [],
   "source": [
    "# Calculate and save descriptive statistics\n",
    "descriptive_stats = {}\n",
    "\n",
    "descriptive_stats['n'] = df['age'].count()\n",
    "\n",
    "# Means and standard deviations for continuous variables\n",
    "continuous_vars = ['neuroticism_score', 'age', 'head_motion']\n",
    "for var in continuous_vars:\n",
    "    descriptive_stats[f'{var}_mean'] = df[var].mean()\n",
    "    descriptive_stats[f'{var}_std'] = df[var].std()\n",
    "\n",
    "# Percentages for categorical variables\n",
    "categorical_vars = ['sex', 'assessment_centre']\n",
    "for var in categorical_vars:\n",
    "    value_counts = df[var].value_counts()\n",
    "    percentages = df[var].value_counts(normalize=True) * 100\n",
    "    \n",
    "    for category in value_counts.index:\n",
    "        descriptive_stats[f'{var}_{category}_count'] = value_counts[category]\n",
    "        descriptive_stats[f'{var}_{category}_percent'] = percentages[category]\n",
    "\n",
    "# Convert to DataFrame and save\n",
    "descriptive_df = pd.DataFrame([descriptive_stats])\n",
    "descriptive_df.to_csv(f'{output_dir}NEO_summary_stats_healthy.csv', index=False)"
   ]
  },
  {
   "cell_type": "markdown",
   "id": "43152216",
   "metadata": {},
   "source": [
    "# MDD Patients"
   ]
  },
  {
   "cell_type": "code",
   "execution_count": 9,
   "id": "8e9161e6",
   "metadata": {},
   "outputs": [
    {
     "data": {
      "image/png": "[encoded data removed]",
      "text/plain": [
       "<Figure size 640x480 with 1 Axes>"
      ]
     },
     "metadata": {},
     "output_type": "display_data"
    }
   ],
   "source": [
    "input_path = '/Users/baileyng/MIND_data/ukb_NEO/NEO_tabular_all_MDD.csv'\n",
    "df = pd.read_csv(input_path, index_col=0)\n",
    "\n",
    "# Histogram\n",
    "sns.histplot(df['20127-0.0'])\n",
    "plt.title('Distribution of Neuroticism Scores')\n",
    "plt.xlabel('Neuroticism Score')\n",
    "plt.ylabel('Frequency')\n",
    "plt.show()"
   ]
  },
  {
   "cell_type": "code",
   "execution_count": 10,
   "id": "aff7bfb9",
   "metadata": {},
   "outputs": [],
   "source": [
    "# load FC regions\n",
    "with open('/Users/baileyng/MIND_models/FC_colnames.txt', 'r') as f:\n",
    "    fc_regions = [line.strip() for line in f.readlines()]\n",
    "\n",
    "rename = pd.read_csv('/Users/baileyng/MIND_models/region_names/col_renames.csv')\n",
    "rename_dict = dict(zip(rename['datafield_code'], rename['datafield_name']))\n",
    "\n",
    "# rename columns\n",
    "df = df.rename(columns=rename_dict)"
   ]
  },
  {
   "cell_type": "code",
   "execution_count": 11,
   "id": "80494a2b",
   "metadata": {},
   "outputs": [],
   "source": [
    "# Process categorical variables\n",
    "encoder = OneHotEncoder(drop='first', sparse_output=False)\n",
    "centre_encoded = encoder.fit_transform(df[['assessment_centre']])\n",
    "\n",
    "centre_feature_names = encoder.get_feature_names_out(['assessment_centre'])\n",
    "centre_feature_names = [name.replace('assessment_centre_', 'centre_') for name in centre_feature_names]\n",
    "\n",
    "centre_df = pd.DataFrame(centre_encoded, columns=centre_feature_names, index=df.index)\n",
    "df = pd.concat([df, centre_df], axis=1)\n",
    "\n",
    "#Get centre dummy column names\n",
    "centre_cols = [col for col in df.columns if col.startswith('centre_')]"
   ]
  },
  {
   "cell_type": "code",
   "execution_count": 12,
   "id": "2d9048d7",
   "metadata": {},
   "outputs": [],
   "source": [
    "# Prepare base features\n",
    "df['age_squared'] = df['age'] ** 2\n",
    "df['age_sex_interaction'] = df['age'] * df['sex']"
   ]
  },
  {
   "cell_type": "code",
   "execution_count": 13,
   "id": "d6482ed1",
   "metadata": {},
   "outputs": [
    {
     "name": "stdout",
     "output_type": "stream",
     "text": [
      "\n",
      "Successfully fitted models for 210 regions\n",
      "Results shape: (210, 62)\n"
     ]
    }
   ],
   "source": [
    "# Initialize storage for results\n",
    "results = []\n",
    "\n",
    "# Fit linear model for each FC region\n",
    "for region in fc_regions:\n",
    "    try:\n",
    "        feature_cols = ['age', 'sex', 'age_sex_interaction', 'age_squared',\n",
    "                        region, 'head_motion'] + centre_cols\n",
    "\n",
    "        X = df[feature_cols]\n",
    "        y = df['neuroticism_score']\n",
    "\n",
    "        # Standardize features\n",
    "        scaler = StandardScaler()\n",
    "        dummy_cols = ['sex'] + centre_cols\n",
    "        continuous_cols = [col for col in feature_cols if col not in dummy_cols]\n",
    "\n",
    "        X_scaled = X.copy()\n",
    "        X_scaled[continuous_cols] = scaler.fit_transform(X[continuous_cols])\n",
    "\n",
    "        X_scaled_w_const = sm.add_constant(X_scaled)\n",
    "\n",
    "        # Fit linear regression model\n",
    "        model = sm.OLS(y, X_scaled_w_const).fit()\n",
    "\n",
    "        # Extract model statistics\n",
    "        n_obs = model.nobs\n",
    "        df_resid = model.df_resid\n",
    "        r_squared = model.rsquared\n",
    "        adj_r_squared = model.rsquared_adj\n",
    "        rmse = np.sqrt(model.mse_resid)\n",
    "        f_statistic = model.fvalue\n",
    "        f_pvalue = model.f_pvalue\n",
    "\n",
    "        # Store main results\n",
    "        result = {\n",
    "            'region_pair': region,\n",
    "            'n_observations': int(n_obs),\n",
    "            'df_residual': int(df_resid),\n",
    "            'r_squared': r_squared,\n",
    "            'adj_r_squared': adj_r_squared,\n",
    "            'rmse': rmse,\n",
    "            'f_statistic': f_statistic,\n",
    "            'f_pvalue': f_pvalue\n",
    "        }\n",
    "\n",
    "        # Add coefficient statistics\n",
    "        param_names = ['const'] + feature_cols\n",
    "\n",
    "        for i, param in enumerate(param_names):\n",
    "\n",
    "            if param == region:\n",
    "                param_name = 'region_pair'\n",
    "            else:\n",
    "                param_name = param\n",
    "                \n",
    "            result[f'coef_{param_name}'] = model.params[i]\n",
    "            result[f'se_{param_name}'] = model.bse[i]\n",
    "            result[f'tstat_{param_name}'] = model.tvalues[i]\n",
    "            result[f'pvalue_{param_name}'] = model.pvalues[i]\n",
    "\n",
    "            # Confidence intervals\n",
    "            conf_int = model.conf_int().iloc[i]\n",
    "            result[f'ci_lower_{param_name}'] = conf_int[0]\n",
    "            result[f'ci_upper_{param_name}'] = conf_int[1]\n",
    "\n",
    "        results.append(result)\n",
    "\n",
    "    except Exception as e:\n",
    "        print(f\"Error fitting model for {region}: {e}\")\n",
    "        continue\n",
    "\n",
    "# Convert results to DataFrame\n",
    "results_df = pd.DataFrame(results)\n",
    "print(f\"\\nSuccessfully fitted models for {len(results_df)} regions\")\n",
    "print(f\"Results shape: {results_df.shape}\")\n"
   ]
  },
  {
   "cell_type": "code",
   "execution_count": 14,
   "id": "e42b80ec",
   "metadata": {},
   "outputs": [
    {
     "name": "stdout",
     "output_type": "stream",
     "text": [
      "Saved file!\n"
     ]
    }
   ],
   "source": [
    "# Save results to CSV files\n",
    "output_dir = '/Users/baileyng/MIND_data/ukb_NEO/'\n",
    "\n",
    "# Save complete results\n",
    "results_df.to_csv(f'{output_dir}NEO_lm_results_MDD.csv', index=False)\n",
    "\n",
    "print(\"Saved file!\")"
   ]
  },
  {
   "cell_type": "code",
   "execution_count": 15,
   "id": "42138952",
   "metadata": {},
   "outputs": [],
   "source": [
    "# Calculate and save descriptive statistics\n",
    "descriptive_stats = {}\n",
    "\n",
    "descriptive_stats['n'] = df['age'].count()\n",
    "\n",
    "# Means and standard deviations for continuous variables\n",
    "continuous_vars = ['neuroticism_score', 'age', 'head_motion']\n",
    "for var in continuous_vars:\n",
    "    descriptive_stats[f'{var}_mean'] = df[var].mean()\n",
    "    descriptive_stats[f'{var}_std'] = df[var].std()\n",
    "\n",
    "# Percentages for categorical variables\n",
    "categorical_vars = ['sex', 'assessment_centre']\n",
    "for var in categorical_vars:\n",
    "    value_counts = df[var].value_counts()\n",
    "    percentages = df[var].value_counts(normalize=True) * 100\n",
    "    \n",
    "    for category in value_counts.index:\n",
    "        descriptive_stats[f'{var}_{category}_count'] = value_counts[category]\n",
    "        descriptive_stats[f'{var}_{category}_percent'] = percentages[category]\n",
    "\n",
    "# Convert to DataFrame and save\n",
    "descriptive_df = pd.DataFrame([descriptive_stats])\n",
    "descriptive_df.to_csv(f'{output_dir}NEO_summary_stats_MDD.csv', index=False)"
   ]
  }
 ],
 "metadata": {
  "kernelspec": {
   "display_name": "venv",
   "language": "python",
   "name": "python3"
  },
  "language_info": {
   "codemirror_mode": {
    "name": "ipython",
    "version": 3
   },
   "file_extension": ".py",
   "mimetype": "text/x-python",
   "name": "python",
   "nbconvert_exporter": "python",
   "pygments_lexer": "ipython3",
   "version": "3.8.20"
  }
 },
 "nbformat": 4,
 "nbformat_minor": 5
}
