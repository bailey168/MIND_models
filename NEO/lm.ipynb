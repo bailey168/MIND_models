{
 "cells": [
  {
   "cell_type": "markdown",
   "id": "9aa3b5b4",
   "metadata": {},
   "source": [
    "# Import Libraries"
   ]
  },
  {
   "cell_type": "code",
   "execution_count": 1,
   "id": "0a71cbe2",
   "metadata": {},
   "outputs": [],
   "source": [
    "import pandas as pd\n",
    "import numpy as np\n",
    "from sklearn.linear_model import LinearRegression\n",
    "from sklearn.preprocessing import LabelEncoder, StandardScaler\n",
    "from scipy import stats\n",
    "import warnings\n",
    "import seaborn as sns\n",
    "import matplotlib.pyplot as plt\n",
    "warnings.filterwarnings('ignore')\n"
   ]
  },
  {
   "cell_type": "markdown",
   "id": "65e5d3cb",
   "metadata": {},
   "source": [
    "# Healthy Patients"
   ]
  },
  {
   "cell_type": "code",
   "execution_count": 2,
   "id": "d0a4d292",
   "metadata": {},
   "outputs": [
    {
     "data": {
      "image/png": "[encoded data removed]",
      "text/plain": [
       "<Figure size 640x480 with 1 Axes>"
      ]
     },
     "metadata": {},
     "output_type": "display_data"
    }
   ],
   "source": [
    "input_path = '/Users/baileyng/MIND_data/ukb_NEO/NEO_tabular_all_healthy.csv'\n",
    "df = pd.read_csv(input_path, index_col=0)\n",
    "\n",
    "# Histogram\n",
    "sns.histplot(df['20127-0.0'])\n",
    "plt.title('Distribution of Neuroticism Scores')\n",
    "plt.xlabel('Neuroticism Score')\n",
    "plt.ylabel('Frequency')\n",
    "plt.show()"
   ]
  },
  {
   "cell_type": "code",
   "execution_count": 3,
   "id": "7ad40e00",
   "metadata": {},
   "outputs": [],
   "source": [
    "# load FC regions\n",
    "with open('/Users/baileyng/MIND_models/FC_colnames.txt', 'r') as f:\n",
    "    fc_regions = [line.strip() for line in f.readlines()]\n",
    "\n",
    "rename = pd.read_csv('/Users/baileyng/MIND_models/region_names/col_renames.csv')\n",
    "rename_dict = dict(zip(rename['datafield_code'], rename['datafield_name']))\n",
    "\n",
    "# rename columns\n",
    "df = df.rename(columns=rename_dict)"
   ]
  },
  {
   "cell_type": "code",
   "execution_count": 4,
   "id": "b9d644a2",
   "metadata": {},
   "outputs": [],
   "source": [
    "# Process categorical variables\n",
    "df['sex_encoded'] = LabelEncoder().fit_transform(df['sex'])\n",
    "\n",
    "centre_dummies = pd.get_dummies(df['assessment_centre'], prefix='centre', drop_first=True)\n",
    "df = pd.concat([df, centre_dummies], axis=1)\n",
    "\n",
    "#Get centre dummy column names\n",
    "centre_cols = [col for col in df.columns if col.startswith('centre_')]"
   ]
  },
  {
   "cell_type": "code",
   "execution_count": 5,
   "id": "4b0eaebd",
   "metadata": {},
   "outputs": [],
   "source": [
    "# Prepare base features\n",
    "df['age_squared'] = df['age'] ** 2\n",
    "df['age_sex_interaction'] = df['age'] * df['sex_encoded']"
   ]
  },
  {
   "cell_type": "code",
   "execution_count": 6,
   "id": "0a014ed8",
   "metadata": {},
   "outputs": [
    {
     "name": "stdout",
     "output_type": "stream",
     "text": [
      "Successfully fitted models for 210 regions\n",
      "Results shape: (210, 222)\n"
     ]
    }
   ],
   "source": [
    "# Initialize storage for results\n",
    "results = []\n",
    "\n",
    "# Fit linear model for each FC region\n",
    "for region in fc_regions:\n",
    "    try:\n",
    "        feature_cols = ['age', 'sex_encoded', 'age_sex_interaction', 'age_squared',\n",
    "                        region, 'head_motion'] + centre_cols\n",
    "        \n",
    "        # Drop rows with missing values\n",
    "        model_df = df[feature_cols + ['neuroticism_score']].dropna()\n",
    "\n",
    "        X = model_df[feature_cols]\n",
    "        y = model_df['neuroticism_score']\n",
    "\n",
    "        # Fit linear regression model\n",
    "        model = LinearRegression()\n",
    "        model.fit(X, y)\n",
    "\n",
    "        # Calculate R-squared\n",
    "        y_pred = model.predict(X)\n",
    "        r_squared = model.score(X, y)\n",
    "\n",
    "        # Calculate adjusted R-squared\n",
    "        n = len(y)\n",
    "        p = X.shape[1]\n",
    "        adj_r_squared = 1 - (1 - r_squared) * (n - 1) / (n - p - 1)\n",
    "\n",
    "        # Calculate residual standard error\n",
    "        residuals = y - y_pred\n",
    "        mse = np.mean(residuals ** 2)\n",
    "        rmse = np.sqrt(mse)\n",
    "\n",
    "        # Store results\n",
    "        result = {\n",
    "            'region_pair': region,\n",
    "            'n_samples': n,\n",
    "            'r_squared': r_squared,\n",
    "            'rmse': rmse,\n",
    "            'intercept': model.intercept_\n",
    "        }\n",
    "\n",
    "        # Add coefficients\n",
    "        for i, col in enumerate(feature_cols):\n",
    "            result[f'coef_{col}'] = model.coef_[i]\n",
    "\n",
    "        results.append(result)\n",
    "    \n",
    "    except Exception as e:\n",
    "        print(f\"Error fitting model for {region}: {e}\")\n",
    "    \n",
    "# Convert results to DataFrame\n",
    "results_df = pd.DataFrame(results)\n",
    "print(f\"Successfully fitted models for {len(results_df)} regions\")\n",
    "print(f\"Results shape: {results_df.shape}\")\n"
   ]
  }
 ],
 "metadata": {
  "kernelspec": {
   "display_name": "venv",
   "language": "python",
   "name": "python3"
  },
  "language_info": {
   "codemirror_mode": {
    "name": "ipython",
    "version": 3
   },
   "file_extension": ".py",
   "mimetype": "text/x-python",
   "name": "python",
   "nbconvert_exporter": "python",
   "pygments_lexer": "ipython3",
   "version": "3.8.20"
  }
 },
 "nbformat": 4,
 "nbformat_minor": 5
}
