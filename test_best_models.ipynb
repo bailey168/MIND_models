{
 "cells": [
  {
   "cell_type": "code",
   "execution_count": null,
   "id": "966c3299",
   "metadata": {},
   "outputs": [],
   "source": [
    "import pandas as pd\n",
    "import json\n",
    "from sys import argv\n",
    "import numpy as np\n",
    "import xgboost as xgb\n",
    "import os\n",
    "from sklearn.preprocessing import RobustScaler, MinMaxScaler\n",
    "import copy"
   ]
  }
 ],
 "metadata": {
  "language_info": {
   "name": "python"
  }
 },
 "nbformat": 4,
 "nbformat_minor": 5
}
