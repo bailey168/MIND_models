{
 "cells": [
  {
   "cell_type": "markdown",
   "id": "25ae522b",
   "metadata": {},
   "source": [
    "# Set up"
   ]
  },
  {
   "cell_type": "code",
   "execution_count": 45,
   "id": "edc7107c",
   "metadata": {},
   "outputs": [],
   "source": [
    "import pandas as pd\n",
    "import numpy as np\n",
    "import seaborn as sns\n",
    "from collections import Counter\n",
    "from matplotlib import cm\n",
    "import matplotlib.pyplot as plt\n",
    "from sklearn.preprocessing import StandardScaler, OneHotEncoder\n",
    "from sklearn.compose import ColumnTransformer\n",
    "from sklearn.pipeline import make_pipeline\n",
    "from sklearn.cross_decomposition import PLSRegression\n",
    "from sklearn.model_selection import KFold, GridSearchCV\n",
    "from sklearn.metrics import mean_absolute_error, mean_squared_error, r2_score, explained_variance_score\n",
    "import nibabel.freesurfer.io as fsio\n",
    "from nilearn import datasets, plotting\n",
    "import random\n",
    "from joblib import Parallel, delayed\n",
    "from adjustText import adjust_text\n",
    "from matplotlib.patches import Ellipse"
   ]
  },
  {
   "cell_type": "code",
   "execution_count": 46,
   "id": "65ebc51f",
   "metadata": {},
   "outputs": [],
   "source": [
    "random.seed(42)\n",
    "np.random.seed(42)"
   ]
  },
  {
   "cell_type": "code",
   "execution_count": 47,
   "id": "66b17f13",
   "metadata": {},
   "outputs": [],
   "source": [
    "rename = pd.read_csv('/Users/baileyng/MIND_models/region_names/col_renames.csv')\n",
    "rename_dict = dict(zip(rename['datafield_code'], rename['datafield_name']))"
   ]
  },
  {
   "cell_type": "markdown",
   "id": "52a9eeb1",
   "metadata": {},
   "source": [
    "# PLS Analysis Function"
   ]
  },
  {
   "cell_type": "code",
   "execution_count": 4,
   "id": "6e93beae",
   "metadata": {},
   "outputs": [],
   "source": [
    "def pct_var(pls: PLSRegression, X: np.ndarray, Y: np.ndarray):\n",
    "    Xc = X - X.mean(axis=0)\n",
    "    Yc = Y - Y.mean(axis=0)\n",
    "    SSX = np.sum(Xc**2)\n",
    "    SSY = np.sum(Yc**2)\n",
    "\n",
    "    T = pls.x_scores_\n",
    "    P = pls.x_loadings_\n",
    "    Q = pls.y_loadings_\n",
    "\n",
    "    pct_X = []\n",
    "    pct_Y = []\n",
    "    for k in range(1, pls.n_components+1):\n",
    "        Tk = T[:, :k]\n",
    "        Pk = P[:, :k]\n",
    "        Qk = Q[:, :k]\n",
    "\n",
    "        Xhat = Tk @ Pk.T\n",
    "        Yhat = Tk @ Qk.T\n",
    "\n",
    "        pct_X.append(100 * np.sum(Xhat**2) / SSX)\n",
    "        pct_Y.append(100 * np.sum(Yhat**2) / SSY)\n",
    "\n",
    "    return np.array(pct_X), np.array(pct_Y)"
   ]
  },
  {
   "cell_type": "code",
   "execution_count": 5,
   "id": "fd52cd56",
   "metadata": {},
   "outputs": [],
   "source": [
    "def varname_to_region(var):\n",
    "    if var.startswith('lh_'):\n",
    "        return 'lh', var.replace('lh_', '').replace('_thickness', '')\n",
    "    elif var.startswith('rh_'):\n",
    "        return 'rh', var.replace('rh_', '').replace('_thickness', '').replace('.', '')\n",
    "    return None, None\n",
    "\n",
    "# 2. Set FreeSurfer fsaverage path\n",
    "fsaverage_path = '/Applications/freesurfer/subjects/fsaverage'\n",
    "\n",
    "# 3. Load annotation files\n",
    "lh_annot = fsio.read_annot(f'{fsaverage_path}/label/lh.aparc.annot')\n",
    "rh_annot = fsio.read_annot(f'{fsaverage_path}/label/rh.aparc.annot')\n",
    "lh_labels, lh_cmap, lh_names = lh_annot\n",
    "rh_labels, rh_cmap, rh_names = rh_annot\n",
    "lh_names = [name.decode('utf-8') for name in lh_names]\n",
    "rh_names = [name.decode('utf-8') for name in rh_names]"
   ]
  },
  {
   "cell_type": "code",
   "execution_count": 48,
   "id": "6ad73310",
   "metadata": {},
   "outputs": [],
   "source": [
    "# inner parallelized\n",
    "def pls_analysis(X, y, continuous_vars, categorical_vars, n_splits=10):\n",
    "    preprocessor = ColumnTransformer(transformers=[\n",
    "        # scale continuous features\n",
    "        ('num', StandardScaler(), continuous_vars),\n",
    "        # one-hot encode the assessment centre (drop one level to avoid collinearity)\n",
    "        ('cat', OneHotEncoder(drop='first', sparse_output=False), categorical_vars),\n",
    "    ])\n",
    "\n",
    "    # Cross-validation set-up\n",
    "    outer_cv = KFold(n_splits=n_splits, shuffle=True, random_state=42)\n",
    "\n",
    "    outer_mae, outer_rmse, outer_r2 = [], [], []\n",
    "    best_ncomps = []\n",
    "    coefs_list = []\n",
    "    # vip_list = []\n",
    "\n",
    "    for fold, (train_idx, test_idx) in enumerate(outer_cv.split(X, y), start=1):\n",
    "        X_train, X_test = X.iloc[train_idx], X.iloc[test_idx]\n",
    "        y_train, y_test = y.iloc[train_idx], y.iloc[test_idx]\n",
    "\n",
    "        # Inner CV\n",
    "        pipe = make_pipeline(\n",
    "            preprocessor,\n",
    "            PLSRegression()\n",
    "        )\n",
    "\n",
    "        param_grid = {\n",
    "            'plsregression__n_components': list(range(1, 11))\n",
    "        }\n",
    "\n",
    "        inner_cv = KFold(n_splits=10, shuffle=True, random_state=42)\n",
    "        grid = GridSearchCV(\n",
    "            pipe, \n",
    "            param_grid, \n",
    "            cv=inner_cv, \n",
    "            scoring='neg_mean_squared_error',  # or 'r2'\n",
    "            n_jobs=-1\n",
    "        )\n",
    "        \n",
    "        grid.fit(X_train, y_train)\n",
    "        best_n = grid.best_params_['plsregression__n_components']\n",
    "        best_ncomps.append(best_n)\n",
    "        \n",
    "        y_pred = grid.predict(X_test)\n",
    "\n",
    "        # --- metrics ---\n",
    "        mae = mean_absolute_error(y_test, y_pred)\n",
    "        rmse = np.sqrt(mean_squared_error(y_test, y_pred))\n",
    "        r2 = r2_score(y_test, y_pred)\n",
    "\n",
    "        outer_mae.append(mae)\n",
    "        outer_rmse.append(rmse)\n",
    "        outer_r2.append(r2)\n",
    "\n",
    "        # --- extract loadings and compute VIP ---\n",
    "        pls = grid.best_estimator_.named_steps['plsregression']\n",
    "        coefs_list.append(pls.coef_.ravel())\n",
    "        \n",
    "        T = pls.x_scores_\n",
    "        W = pls.x_weights_\n",
    "        Q = pls.y_loadings_\n",
    "        p, h = W.shape\n",
    "\n",
    "        # # S = np.sum((T ** 2) * (Q.T ** 2), axis=0)\n",
    "        # S = np.sum((T ** 2) * (Q ** 2), axis=0)\n",
    "        # total_S = np.sum(S)\n",
    "        # vip = np.zeros(p)\n",
    "        # for j in range(p):\n",
    "        #     # weight_sq = [(W[j, k] ** 2) * S[k] for k in range(h)]\n",
    "        #     # vip[j] = np.sqrt(p * np.sum(weight_sq) / total_S)\n",
    "        #     vip[j] = np.sqrt(p * np.sum((W[j, :]**2) * S) / total_S)\n",
    "        # vip_list.append(vip)\n",
    "\n",
    "        print(f'Fold {fold:02d} • n_comp={best_n:02d} • '\n",
    "            f'MAE={mae:.3f} • RMSE={rmse:.3f} • R²={r2:.3f}')\n",
    "        \n",
    "\n",
    "    # Aggregate results\n",
    "    print('\\n=== 10-fold CV summary ===')\n",
    "    print(f'n_components (mean ± std): '\n",
    "        f'{np.mean(best_ncomps):.1f} ± {np.std(best_ncomps):.1f}')\n",
    "    print(f'MAE :  {np.mean(outer_mae):.3f} ± {np.std(outer_mae):.3f}')\n",
    "    print(f'RMSE:  {np.mean(outer_rmse):.3f} ± {np.std(outer_rmse):.3f}')\n",
    "    print(f'R²  :  {np.mean(outer_r2):.3f} ± {np.std(outer_r2):.3f}')\n",
    "\n",
    "    # # Get feature names after preprocessing\n",
    "    # # First, fit the preprocessor to get the transformed feature names\n",
    "    # preprocessor_fitted = preprocessor.fit(X)\n",
    "\n",
    "    # # Get feature names for each transformer\n",
    "    # num_features = continuous_vars\n",
    "    # cat_features = list(preprocessor_fitted.named_transformers_['cat'].get_feature_names_out(categorical_vars))\n",
    "\n",
    "    # # Combine all feature names in the correct order\n",
    "    # all_feature_names = num_features + cat_features\n",
    "\n",
    "\n",
    "    # # Final refit on all data\n",
    "    # final_pipe = make_pipeline(\n",
    "    #     preprocessor,\n",
    "    #     PLSRegression(\n",
    "    #         n_components=int(np.round(np.mean(best_ncomps))),\n",
    "    #     )\n",
    "    # ).fit(X, y)\n",
    "\n",
    "    # pls = final_pipe.named_steps['plsregression']\n",
    "    # ct  = final_pipe.named_steps['columntransformer']\n",
    "\n",
    "\n",
    "\n",
    "\n",
    "    # # 3) re-transform your original X to the exact matrix PLS saw\n",
    "    # X_proc = ct.transform(X)            # this is a NumPy array, shape (n_samples, n_features')\n",
    "\n",
    "    # # 4) compute the cumulative % variance explained\n",
    "    # X_pctvar, Y_pctvar = pct_var(pls, X_proc, y)\n",
    "\n",
    "    # print(\"Percentage of variance explained:\")\n",
    "    # print(\"Component\\tX (Predictors)\\tY (Response)\")\n",
    "    # print(\"-\" * 40)\n",
    "    # for i in range(len(X_pctvar)):\n",
    "    #     print(f\"PLS{i+1}\\t\\t{X_pctvar[i]:.2f}%\\t\\t{Y_pctvar[i]:.2f}%\")\n",
    "\n",
    "    # print(f\"\\nTotal variance explained:\")\n",
    "    # print(f\"X: {X_pctvar[-1]:.2f}%\")\n",
    "    # print(f\"Y: {Y_pctvar[-1]:.2f}%\")\n",
    "\n",
    "    # # Plot the results\n",
    "    # plt.figure(figsize=(10, 6))\n",
    "    # components = np.arange(1, len(X_pctvar) + 1)\n",
    "    # plt.plot(components, X_pctvar, 'b-o', label='X (Predictors)', linewidth=2)\n",
    "    # plt.plot(components, Y_pctvar, 'r-o', label='Y (Fluid Intelligence)', linewidth=2)\n",
    "    # plt.xlabel('PLS Component')\n",
    "    # plt.ylabel('Cumulative Variance Explained (%)')\n",
    "    # plt.title('Percentage of Variance Explained by PLS Components')\n",
    "    # plt.legend()\n",
    "    # plt.grid(True, alpha=0.3)\n",
    "    # plt.xticks(components)\n",
    "    # plt.show()\n",
    "\n",
    "\n",
    "    # T = pls.x_scores_\n",
    "\n",
    "    # # Scatter plot of Fluid Intelligence Score vs PLS1 scores\n",
    "    # plt.figure(figsize=(8, 6))\n",
    "    # plt.scatter(T[:,0], y, alpha=0.6, s=12, color='blue')\n",
    "    # plt.xlabel(\"PLS1 Scores\")\n",
    "    # plt.ylabel(\"Fluid Intelligence Score\")\n",
    "    # plt.title(\"Fluid Intelligence Score vs PLS1 Scores\")\n",
    "    # plt.show()\n",
    "\n",
    "    # # Scatter plot of Fluid Intelligence Score vs PLS2 scores\n",
    "    # plt.figure(figsize=(8, 6))\n",
    "    # plt.scatter(T[:,1], y, alpha=0.6, s=12, color='red')\n",
    "    # plt.xlabel(\"PLS2 Scores\")\n",
    "    # plt.ylabel(\"Fluid Intelligence Score\")\n",
    "    # plt.title(\"Fluid Intelligence Score vs PLS2 Scores\")\n",
    "    # plt.show()\n",
    "\n",
    "    # W = pls.x_weights_\n",
    "    # plt.figure(figsize=(12, 6))\n",
    "    # plt.bar(all_feature_names, W[:,0])\n",
    "    # plt.xticks(rotation=90)\n",
    "    # plt.title(\"PLS1 Weights\")\n",
    "    # plt.tight_layout()\n",
    "    # plt.show()\n",
    "\n",
    "    # plt.figure(figsize=(12, 6))\n",
    "    # plt.bar(all_feature_names, W[:,1])\n",
    "    # plt.xticks(rotation=90)\n",
    "    # plt.title(\"PLS2 Weights\")\n",
    "    # plt.tight_layout()\n",
    "    # plt.show()\n",
    "\n",
    "    # plt.figure(figsize=(12, 6))\n",
    "    # plt.bar(all_feature_names, W[:,2])\n",
    "    # plt.xticks(rotation=90)\n",
    "    # plt.title(\"PLS3 Weights\")\n",
    "    # plt.tight_layout()\n",
    "    # plt.show()\n",
    "\n",
    "\n",
    "    # # # Calculate Z-scores for the weights\n",
    "    # # W1_mean = np.mean(W[:, 0])\n",
    "    # # W1_std = np.std(W[:, 0])\n",
    "    # # W2_mean = np.mean(W[:, 1])\n",
    "    # # W2_std = np.std(W[:, 1])\n",
    "\n",
    "    # # plt.figure(figsize=(8, 10))\n",
    "    # # plt.axhline(0, color='grey', lw=1)\n",
    "    # # plt.axvline(0, color='grey', lw=1)\n",
    "\n",
    "    # # # Draw arrows for each variable\n",
    "    # # for i, var in enumerate(all_feature_names):\n",
    "    # #     plt.arrow(0, 0, W[i, 0], W[i, 1], \n",
    "    # #             color='b', alpha=0.6, head_width=0.01, head_length=0.01, length_includes_head=True)\n",
    "\n",
    "    # # # Label all variables, closer to the arrow tip\n",
    "    # # texts = []\n",
    "    # # for i, var in enumerate(all_feature_names):\n",
    "    # #     texts.append(\n",
    "    # #         plt.text(W[i, 0]*1.02, W[i, 1]*1.02, var, color='r', ha='center', va='center', \n",
    "    # #                 fontsize=8, clip_on=True)\n",
    "    # #     )\n",
    "\n",
    "    # # ellipse = Ellipse((0, 0), \n",
    "    # #                 width=6*W1_std, height=6*W2_std,  # 6 = 2*3 std devs (±3)\n",
    "    # #                 fill=False, color='g', linestyle='--', linewidth=2, \n",
    "    # #                 label='Z-score = ±3 (elliptical)')\n",
    "    # # plt.gca().add_patch(ellipse)\n",
    "\n",
    "    # # adjust_text(texts, arrowprops=dict(arrowstyle='-', color='grey', lw=0.5), \n",
    "    # #             expand_points=(1.2, 1.2), expand_text=(1.2, 1.2), force_text=0.5, force_points=0.5)\n",
    "\n",
    "    # # plt.xlabel(\"PLS1 Weight\")\n",
    "    # # plt.ylabel(\"PLS2 Weight\")\n",
    "    # # plt.title(\"PLS Weight Plot\")\n",
    "    # # plt.grid(True)\n",
    "    # # plt.axis('equal')\n",
    "    # # plt.tight_layout()\n",
    "    # # plt.legend()\n",
    "    # # plt.show()\n",
    "\n",
    "    # # 1. Variable names and coefficients\n",
    "    # vars_to_plot = np.array(all_feature_names)\n",
    "    # means = pls.x_weights_[:,0]\n",
    "\n",
    "    # # 4. Prepare vertex data arrays\n",
    "    # lh_vertex_data = np.full_like(lh_labels, np.nan, dtype=float)\n",
    "    # rh_vertex_data = np.full_like(rh_labels, np.nan, dtype=float)\n",
    "\n",
    "    # for var, coef in zip(vars_to_plot, means):\n",
    "    #     hemi, region = varname_to_region(var)\n",
    "    #     if hemi == 'lh':\n",
    "    #         idxs = [i for i, n in enumerate(lh_names) if region.lower() in n.lower()]\n",
    "    #         for idx in idxs:\n",
    "    #             lh_vertex_data[lh_labels == idx] = coef\n",
    "    #     elif hemi == 'rh':\n",
    "    #         idxs = [i for i, n in enumerate(rh_names) if region.lower() in n.lower()]\n",
    "    #         for idx in idxs:\n",
    "    #             rh_vertex_data[rh_labels == idx] = coef\n",
    "\n",
    "    # # 5. Load inflated_pre surfaces\n",
    "    # lh_inflated_pre_path = f'{fsaverage_path}/surf/lh.inflated_pre'\n",
    "    # rh_inflated_pre_path = f'{fsaverage_path}/surf/rh.inflated_pre'\n",
    "    # lh_coords, lh_faces = fsio.read_geometry(lh_inflated_pre_path)\n",
    "    # rh_coords, rh_faces = fsio.read_geometry(rh_inflated_pre_path)\n",
    "    # lh_mesh = (lh_coords, lh_faces)\n",
    "    # rh_mesh = (rh_coords, rh_faces)\n",
    "\n",
    "    # # 6. Load fsaverage sulcal maps for background\n",
    "    # fsavg = datasets.fetch_surf_fsaverage('fsaverage')\n",
    "    # sulc_left = fsavg.sulc_left\n",
    "    # sulc_right = fsavg.sulc_right\n",
    "\n",
    "    # # 7. Plotting function\n",
    "    # global_vmax = np.nanmax(np.abs(np.concatenate([lh_vertex_data, rh_vertex_data])))\n",
    "\n",
    "    # def plot_three_views_custom(surf_mesh, vertex_data, bg_map, hemi, title):\n",
    "    #     views = ['lateral', 'medial', 'dorsal']\n",
    "    #     fig, axes = plt.subplots(1, 3, subplot_kw={'projection': '3d'}, figsize=(40, 20))\n",
    "    #     cmap = 'seismic'\n",
    "    #     for i, view in enumerate(views):\n",
    "    #         plotting.plot_surf_stat_map(\n",
    "    #             surf_mesh, vertex_data, hemi=hemi, bg_map=bg_map,\n",
    "    #             cmap=cmap, colorbar=False, vmax=global_vmax, vmin=-global_vmax, symmetric_cbar=True,\n",
    "    #             view=view, axes=axes[i], title='', figure=fig, alpha=0.9\n",
    "    #         )\n",
    "    #         axes[i].set_title(view.capitalize(), fontsize=30)\n",
    "    #         axes[i].axis('off')\n",
    "    #     # Colorbar\n",
    "    #     cbar_ax = fig.add_axes([0.33, 0.09, 0.34, 0.03])\n",
    "    #     norm = plt.Normalize(vmin=-global_vmax, vmax=global_vmax)\n",
    "    #     cb = fig.colorbar(cm.ScalarMappable(norm=norm, cmap=cmap), cax=cbar_ax, orientation='horizontal')\n",
    "    #     cb.set_label('PLS1 Weights', fontsize=16)\n",
    "    #     cb.ax.tick_params(labelsize=18)\n",
    "    #     plt.suptitle(title, fontsize=38, y=0.96)\n",
    "    #     plt.tight_layout(rect=[0, 0.15, 1, 0.92])\n",
    "    #     plt.show()\n",
    "\n",
    "    # # 8. Plot with inflated_pre\n",
    "    # plot_three_views_custom(lh_mesh, lh_vertex_data, sulc_left, 'left', '(Demographic + MIND)')\n",
    "    # plot_three_views_custom(rh_mesh, rh_vertex_data, sulc_right, 'right', '(Demographic + MIND)')\n",
    "\n",
    "    # # 1. Variable names and coefficients\n",
    "    # vars_to_plot = np.array(all_feature_names)\n",
    "    # means = pls.x_weights_[:,1]\n",
    "\n",
    "    # # 4. Prepare vertex data arrays\n",
    "    # lh_vertex_data = np.full_like(lh_labels, np.nan, dtype=float)\n",
    "    # rh_vertex_data = np.full_like(rh_labels, np.nan, dtype=float)\n",
    "\n",
    "    # for var, coef in zip(vars_to_plot, means):\n",
    "    #     hemi, region = varname_to_region(var)\n",
    "    #     if hemi == 'lh':\n",
    "    #         idxs = [i for i, n in enumerate(lh_names) if region.lower() in n.lower()]\n",
    "    #         for idx in idxs:\n",
    "    #             lh_vertex_data[lh_labels == idx] = coef\n",
    "    #     elif hemi == 'rh':\n",
    "    #         idxs = [i for i, n in enumerate(rh_names) if region.lower() in n.lower()]\n",
    "    #         for idx in idxs:\n",
    "    #             rh_vertex_data[rh_labels == idx] = coef\n",
    "\n",
    "    # # 5. Load inflated_pre surfaces\n",
    "    # lh_inflated_pre_path = f'{fsaverage_path}/surf/lh.inflated_pre'\n",
    "    # rh_inflated_pre_path = f'{fsaverage_path}/surf/rh.inflated_pre'\n",
    "    # lh_coords, lh_faces = fsio.read_geometry(lh_inflated_pre_path)\n",
    "    # rh_coords, rh_faces = fsio.read_geometry(rh_inflated_pre_path)\n",
    "    # lh_mesh = (lh_coords, lh_faces)\n",
    "    # rh_mesh = (rh_coords, rh_faces)\n",
    "\n",
    "    # # 6. Load fsaverage sulcal maps for background\n",
    "    # fsavg = datasets.fetch_surf_fsaverage('fsaverage')\n",
    "    # sulc_left = fsavg.sulc_left\n",
    "    # sulc_right = fsavg.sulc_right\n",
    "\n",
    "    # # 7. Plotting function\n",
    "    # global_vmax = np.nanmax(np.abs(np.concatenate([lh_vertex_data, rh_vertex_data])))\n",
    "\n",
    "    # def plot_three_views_custom(surf_mesh, vertex_data, bg_map, hemi, title):\n",
    "    #     views = ['lateral', 'medial', 'dorsal']\n",
    "    #     fig, axes = plt.subplots(1, 3, subplot_kw={'projection': '3d'}, figsize=(40, 20))\n",
    "    #     cmap = 'seismic'\n",
    "    #     for i, view in enumerate(views):\n",
    "    #         plotting.plot_surf_stat_map(\n",
    "    #             surf_mesh, vertex_data, hemi=hemi, bg_map=bg_map,\n",
    "    #             cmap=cmap, colorbar=False, vmax=global_vmax, vmin=-global_vmax, symmetric_cbar=True,\n",
    "    #             view=view, axes=axes[i], title='', figure=fig, alpha=0.9\n",
    "    #         )\n",
    "    #         axes[i].set_title(view.capitalize(), fontsize=30)\n",
    "    #         axes[i].axis('off')\n",
    "    #     # Colorbar\n",
    "    #     cbar_ax = fig.add_axes([0.33, 0.09, 0.34, 0.03])\n",
    "    #     norm = plt.Normalize(vmin=-global_vmax, vmax=global_vmax)\n",
    "    #     cb = fig.colorbar(cm.ScalarMappable(norm=norm, cmap=cmap), cax=cbar_ax, orientation='horizontal')\n",
    "    #     cb.set_label('PLS2 Weights', fontsize=16)\n",
    "    #     cb.ax.tick_params(labelsize=18)\n",
    "    #     plt.suptitle(title, fontsize=38, y=0.96)\n",
    "    #     plt.tight_layout(rect=[0, 0.15, 1, 0.92])\n",
    "    #     plt.show()\n",
    "\n",
    "    # # 8. Plot with inflated_pre\n",
    "    # plot_three_views_custom(lh_mesh, lh_vertex_data, sulc_left, 'left', '(Demographic + MIND)')\n",
    "    # plot_three_views_custom(rh_mesh, rh_vertex_data, sulc_right, 'right', '(Demographic + MIND)')\n",
    "\n",
    "    # # 1. Variable names and coefficients\n",
    "    # vars_to_plot = np.array(all_feature_names)\n",
    "    # means = pls.x_weights_[:,2]\n",
    "\n",
    "    # # 4. Prepare vertex data arrays\n",
    "    # lh_vertex_data = np.full_like(lh_labels, np.nan, dtype=float)\n",
    "    # rh_vertex_data = np.full_like(rh_labels, np.nan, dtype=float)\n",
    "\n",
    "    # for var, coef in zip(vars_to_plot, means):\n",
    "    #     hemi, region = varname_to_region(var)\n",
    "    #     if hemi == 'lh':\n",
    "    #         idxs = [i for i, n in enumerate(lh_names) if region.lower() in n.lower()]\n",
    "    #         for idx in idxs:\n",
    "    #             lh_vertex_data[lh_labels == idx] = coef\n",
    "    #     elif hemi == 'rh':\n",
    "    #         idxs = [i for i, n in enumerate(rh_names) if region.lower() in n.lower()]\n",
    "    #         for idx in idxs:\n",
    "    #             rh_vertex_data[rh_labels == idx] = coef\n",
    "\n",
    "    # # 5. Load inflated_pre surfaces\n",
    "    # lh_inflated_pre_path = f'{fsaverage_path}/surf/lh.inflated_pre'\n",
    "    # rh_inflated_pre_path = f'{fsaverage_path}/surf/rh.inflated_pre'\n",
    "    # lh_coords, lh_faces = fsio.read_geometry(lh_inflated_pre_path)\n",
    "    # rh_coords, rh_faces = fsio.read_geometry(rh_inflated_pre_path)\n",
    "    # lh_mesh = (lh_coords, lh_faces)\n",
    "    # rh_mesh = (rh_coords, rh_faces)\n",
    "\n",
    "    # # 6. Load fsaverage sulcal maps for background\n",
    "    # fsavg = datasets.fetch_surf_fsaverage('fsaverage')\n",
    "    # sulc_left = fsavg.sulc_left\n",
    "    # sulc_right = fsavg.sulc_right\n",
    "\n",
    "    # # 7. Plotting function\n",
    "    # global_vmax = np.nanmax(np.abs(np.concatenate([lh_vertex_data, rh_vertex_data])))\n",
    "\n",
    "    # def plot_three_views_custom(surf_mesh, vertex_data, bg_map, hemi, title):\n",
    "    #     views = ['lateral', 'medial', 'dorsal']\n",
    "    #     fig, axes = plt.subplots(1, 3, subplot_kw={'projection': '3d'}, figsize=(40, 20))\n",
    "    #     cmap = 'seismic'\n",
    "    #     for i, view in enumerate(views):\n",
    "    #         plotting.plot_surf_stat_map(\n",
    "    #             surf_mesh, vertex_data, hemi=hemi, bg_map=bg_map,\n",
    "    #             cmap=cmap, colorbar=False, vmax=global_vmax, vmin=-global_vmax, symmetric_cbar=True,\n",
    "    #             view=view, axes=axes[i], title='', figure=fig, alpha=0.9\n",
    "    #         )\n",
    "    #         axes[i].set_title(view.capitalize(), fontsize=30)\n",
    "    #         axes[i].axis('off')\n",
    "    #     # Colorbar\n",
    "    #     cbar_ax = fig.add_axes([0.33, 0.09, 0.34, 0.03])\n",
    "    #     norm = plt.Normalize(vmin=-global_vmax, vmax=global_vmax)\n",
    "    #     cb = fig.colorbar(cm.ScalarMappable(norm=norm, cmap=cmap), cax=cbar_ax, orientation='horizontal')\n",
    "    #     cb.set_label('PLS3 Weights', fontsize=16)\n",
    "    #     cb.ax.tick_params(labelsize=18)\n",
    "    #     plt.suptitle(title, fontsize=38, y=0.96)\n",
    "    #     plt.tight_layout(rect=[0, 0.15, 1, 0.92])\n",
    "    #     plt.show()\n",
    "\n",
    "    # # 8. Plot with inflated_pre\n",
    "    # plot_three_views_custom(lh_mesh, lh_vertex_data, sulc_left, 'left', '(Demographic + MIND)')\n",
    "    # plot_three_views_custom(rh_mesh, rh_vertex_data, sulc_right, 'right', '(Demographic + MIND)')"
   ]
  },
  {
   "cell_type": "code",
   "execution_count": null,
   "id": "9a7c0f57",
   "metadata": {},
   "outputs": [],
   "source": [
    "# # demographic only (inner parallelized)\n",
    "# def pls_analysis(X, y, continuous_vars, categorical_vars, n_splits=10):\n",
    "#     preprocessor = ColumnTransformer(transformers=[\n",
    "#         # scale continuous features\n",
    "#         ('num', StandardScaler(), continuous_vars),\n",
    "#         # one-hot encode the assessment centre (drop one level to avoid collinearity)\n",
    "#         ('cat', OneHotEncoder(drop='first', sparse_output=False), categorical_vars),\n",
    "#     ])\n",
    "\n",
    "#     # Cross-validation set-up\n",
    "#     outer_cv = KFold(n_splits=n_splits, shuffle=True, random_state=42)\n",
    "\n",
    "#     outer_mae, outer_rmse, outer_r2 = [], [], []\n",
    "#     best_ncomps = []\n",
    "#     coefs_list = []\n",
    "#     # vip_list = []\n",
    "\n",
    "#     for fold, (train_idx, test_idx) in enumerate(outer_cv.split(X, y), start=1):\n",
    "#         X_train, X_test = X.iloc[train_idx], X.iloc[test_idx]\n",
    "#         y_train, y_test = y.iloc[train_idx], y.iloc[test_idx]\n",
    "\n",
    "#         # Inner CV\n",
    "#         pipe = make_pipeline(\n",
    "#             preprocessor,\n",
    "#             PLSRegression()\n",
    "#         )\n",
    "\n",
    "#         param_grid = {\n",
    "#             'plsregression__n_components': list(range(1, 4))\n",
    "#         }\n",
    "\n",
    "#         inner_cv = KFold(n_splits=10, shuffle=True, random_state=42)\n",
    "#         grid = GridSearchCV(\n",
    "#             pipe, \n",
    "#             param_grid, \n",
    "#             cv=inner_cv, \n",
    "#             scoring='neg_mean_squared_error',  # or 'r2'\n",
    "#             n_jobs=-1\n",
    "#         )\n",
    "        \n",
    "#         grid.fit(X_train, y_train)\n",
    "#         best_n = grid.best_params_['plsregression__n_components']\n",
    "#         best_ncomps.append(best_n)\n",
    "        \n",
    "#         y_pred = grid.predict(X_test)\n",
    "\n",
    "#         # --- metrics ---\n",
    "#         mae = mean_absolute_error(y_test, y_pred)\n",
    "#         rmse = np.sqrt(mean_squared_error(y_test, y_pred))\n",
    "#         r2 = r2_score(y_test, y_pred)\n",
    "\n",
    "#         outer_mae.append(mae)\n",
    "#         outer_rmse.append(rmse)\n",
    "#         outer_r2.append(r2)\n",
    "\n",
    "#         # --- extract loadings and compute VIP ---\n",
    "#         pls = grid.best_estimator_.named_steps['plsregression']\n",
    "#         coefs_list.append(pls.coef_.ravel())\n",
    "        \n",
    "#         T = pls.x_scores_\n",
    "#         W = pls.x_weights_\n",
    "#         Q = pls.y_loadings_\n",
    "#         p, h = W.shape\n",
    "\n",
    "#         # # S = np.sum((T ** 2) * (Q.T ** 2), axis=0)\n",
    "#         # S = np.sum((T ** 2) * (Q ** 2), axis=0)\n",
    "#         # total_S = np.sum(S)\n",
    "#         # vip = np.zeros(p)\n",
    "#         # for j in range(p):\n",
    "#         #     # weight_sq = [(W[j, k] ** 2) * S[k] for k in range(h)]\n",
    "#         #     # vip[j] = np.sqrt(p * np.sum(weight_sq) / total_S)\n",
    "#         #     vip[j] = np.sqrt(p * np.sum((W[j, :]**2) * S) / total_S)\n",
    "#         # vip_list.append(vip)\n",
    "\n",
    "#         print(f'Fold {fold:02d} • n_comp={best_n:02d} • '\n",
    "#             f'MAE={mae:.3f} • RMSE={rmse:.3f} • R²={r2:.3f}')\n",
    "        \n",
    "\n",
    "#     # Aggregate results\n",
    "#     print('\\n=== 10-fold CV summary ===')\n",
    "#     print(f'n_components (mean ± std): '\n",
    "#         f'{np.mean(best_ncomps):.1f} ± {np.std(best_ncomps):.1f}')\n",
    "#     print(f'MAE :  {np.mean(outer_mae):.3f} ± {np.std(outer_mae):.3f}')\n",
    "#     print(f'RMSE:  {np.mean(outer_rmse):.3f} ± {np.std(outer_rmse):.3f}')\n",
    "#     print(f'R²  :  {np.mean(outer_r2):.3f} ± {np.std(outer_r2):.3f}')"
   ]
  },
  {
   "cell_type": "code",
   "execution_count": null,
   "id": "1e9b381d",
   "metadata": {},
   "outputs": [],
   "source": [
    "# # outer parallelized\n",
    "# def process_fold(fold_data, preprocessor, param_grid, inner_cv):\n",
    "#     \"\"\"Process a single fold of cross-validation\"\"\"\n",
    "#     fold, train_idx, test_idx, X, y = fold_data\n",
    "    \n",
    "#     X_train, X_test = X.iloc[train_idx], X.iloc[test_idx]\n",
    "#     y_train, y_test = y.iloc[train_idx], y.iloc[test_idx]\n",
    "\n",
    "#     # Inner CV\n",
    "#     pipe = make_pipeline(\n",
    "#         preprocessor,\n",
    "#         PLSRegression()\n",
    "#     )\n",
    "\n",
    "#     grid = GridSearchCV(\n",
    "#         pipe, \n",
    "#         param_grid, \n",
    "#         cv=inner_cv, \n",
    "#         scoring='neg_mean_squared_error',\n",
    "#         n_jobs=1  # Set to 1 since we're parallelizing outer CV\n",
    "#     )\n",
    "    \n",
    "#     grid.fit(X_train, y_train)\n",
    "#     best_n = grid.best_params_['plsregression__n_components']\n",
    "    \n",
    "#     y_pred = grid.predict(X_test)\n",
    "\n",
    "#     # Calculate metrics\n",
    "#     mae = mean_absolute_error(y_test, y_pred)\n",
    "#     rmse = np.sqrt(mean_squared_error(y_test, y_pred))\n",
    "#     r2 = r2_score(y_test, y_pred)\n",
    "\n",
    "#     # Extract coefficients\n",
    "#     pls = grid.best_estimator_.named_steps['plsregression']\n",
    "#     coefs = pls.coef_.ravel()\n",
    "    \n",
    "#     print(f'Fold {fold:02d} • n_comp={best_n:02d} • '\n",
    "#           f'MAE={mae:.3f} • RMSE={rmse:.3f} • R²={r2:.3f}')\n",
    "    \n",
    "#     return {\n",
    "#         'fold': fold,\n",
    "#         'best_n': best_n,\n",
    "#         'mae': mae,\n",
    "#         'rmse': rmse,\n",
    "#         'r2': r2,\n",
    "#         'coefs': coefs\n",
    "#     }\n",
    "\n",
    "# def pls_analysis(X, y, continuous_vars, categorical_vars, n_splits=10, n_jobs=-1):\n",
    "#     preprocessor = ColumnTransformer(transformers=[\n",
    "#         # scale continuous features\n",
    "#         ('num', StandardScaler(), continuous_vars),\n",
    "#         # one-hot encode the assessment centre (drop one level to avoid collinearity)\n",
    "#         ('cat', OneHotEncoder(drop='first', sparse_output=False), categorical_vars),\n",
    "#     ])\n",
    "\n",
    "#     # Cross-validation set-up\n",
    "#     outer_cv = KFold(n_splits=n_splits, shuffle=True, random_state=42)\n",
    "\n",
    "#     # Prepare fold data\n",
    "#     fold_data = []\n",
    "#     for fold, (train_idx, test_idx) in enumerate(outer_cv.split(X, y), start=1):\n",
    "#         fold_data.append((fold, train_idx, test_idx, X, y))\n",
    "    \n",
    "#     # Inner CV setup\n",
    "#     param_grid = {\n",
    "#         'plsregression__n_components': list(range(1, 11))\n",
    "#     }\n",
    "#     inner_cv = KFold(n_splits=10, shuffle=True, random_state=42)\n",
    "    \n",
    "#     # Parallel processing\n",
    "#     results = Parallel(n_jobs=n_jobs, verbose=1)(\n",
    "#         delayed(process_fold)(\n",
    "#             fold_info, \n",
    "#             preprocessor, \n",
    "#             param_grid, \n",
    "#             inner_cv\n",
    "#         ) for fold_info in fold_data\n",
    "#     )\n",
    "    \n",
    "#     # Extract results\n",
    "#     outer_mae = [r['mae'] for r in results]\n",
    "#     outer_rmse = [r['rmse'] for r in results]\n",
    "#     outer_r2 = [r['r2'] for r in results]\n",
    "#     best_ncomps = [r['best_n'] for r in results]\n",
    "#     coefs_list = [r['coefs'] for r in results]\n",
    "    \n",
    "#     # Aggregate results\n",
    "#     print('\\n=== 10-fold CV summary ===')\n",
    "#     print(f'n_components (mean ± std): '\n",
    "#           f'{np.mean(best_ncomps):.1f} ± {np.std(best_ncomps):.1f}')\n",
    "#     print(f'MAE :  {np.mean(outer_mae):.3f} ± {np.std(outer_mae):.3f}')\n",
    "#     print(f'RMSE:  {np.mean(outer_rmse):.3f} ± {np.std(outer_rmse):.3f}')\n",
    "#     print(f'R²  :  {np.mean(outer_r2):.3f} ± {np.std(outer_r2):.3f}')\n",
    "    \n",
    "#     return {\n",
    "#         'mae': outer_mae,\n",
    "#         'rmse': outer_rmse,\n",
    "#         'r2': outer_r2,\n",
    "#         'best_ncomps': best_ncomps,\n",
    "#         'coefs_list': coefs_list\n",
    "#     }\n",
    "\n",
    "#     # # Get feature names after preprocessing\n",
    "#     # # First, fit the preprocessor to get the transformed feature names\n",
    "#     # preprocessor_fitted = preprocessor.fit(X)\n",
    "\n",
    "#     # # Get feature names for each transformer\n",
    "#     # num_features = continuous_vars\n",
    "#     # cat_features = list(preprocessor_fitted.named_transformers_['cat'].get_feature_names_out(categorical_vars))\n",
    "\n",
    "#     # # Combine all feature names in the correct order\n",
    "#     # all_feature_names = num_features + cat_features\n",
    "\n",
    "\n",
    "#     # # Final refit on all data\n",
    "#     # final_pipe = make_pipeline(\n",
    "#     #     preprocessor,\n",
    "#     #     PLSRegression(\n",
    "#     #         n_components=int(np.round(np.mean(best_ncomps))),\n",
    "#     #     )\n",
    "#     # ).fit(X, y)\n",
    "\n",
    "#     # pls = final_pipe.named_steps['plsregression']\n",
    "#     # ct  = final_pipe.named_steps['columntransformer']\n",
    "\n",
    "\n",
    "\n",
    "\n",
    "#     # # 3) re-transform your original X to the exact matrix PLS saw\n",
    "#     # X_proc = ct.transform(X)            # this is a NumPy array, shape (n_samples, n_features')\n",
    "\n",
    "#     # # 4) compute the cumulative % variance explained\n",
    "#     # X_pctvar, Y_pctvar = pct_var(pls, X_proc, y)\n",
    "\n",
    "#     # print(\"Percentage of variance explained:\")\n",
    "#     # print(\"Component\\tX (Predictors)\\tY (Response)\")\n",
    "#     # print(\"-\" * 40)\n",
    "#     # for i in range(len(X_pctvar)):\n",
    "#     #     print(f\"PLS{i+1}\\t\\t{X_pctvar[i]:.2f}%\\t\\t{Y_pctvar[i]:.2f}%\")\n",
    "\n",
    "#     # print(f\"\\nTotal variance explained:\")\n",
    "#     # print(f\"X: {X_pctvar[-1]:.2f}%\")\n",
    "#     # print(f\"Y: {Y_pctvar[-1]:.2f}%\")\n",
    "\n",
    "#     # # Plot the results\n",
    "#     # plt.figure(figsize=(10, 6))\n",
    "#     # components = np.arange(1, len(X_pctvar) + 1)\n",
    "#     # plt.plot(components, X_pctvar, 'b-o', label='X (Predictors)', linewidth=2)\n",
    "#     # plt.plot(components, Y_pctvar, 'r-o', label='Y (Fluid Intelligence)', linewidth=2)\n",
    "#     # plt.xlabel('PLS Component')\n",
    "#     # plt.ylabel('Cumulative Variance Explained (%)')\n",
    "#     # plt.title('Percentage of Variance Explained by PLS Components')\n",
    "#     # plt.legend()\n",
    "#     # plt.grid(True, alpha=0.3)\n",
    "#     # plt.xticks(components)\n",
    "#     # plt.show()\n",
    "\n",
    "\n",
    "#     # T = pls.x_scores_\n",
    "\n",
    "#     # # Scatter plot of Fluid Intelligence Score vs PLS1 scores\n",
    "#     # plt.figure(figsize=(8, 6))\n",
    "#     # plt.scatter(T[:,0], y, alpha=0.6, s=12, color='blue')\n",
    "#     # plt.xlabel(\"PLS1 Scores\")\n",
    "#     # plt.ylabel(\"Fluid Intelligence Score\")\n",
    "#     # plt.title(\"Fluid Intelligence Score vs PLS1 Scores\")\n",
    "#     # plt.show()\n",
    "\n",
    "#     # # Scatter plot of Fluid Intelligence Score vs PLS2 scores\n",
    "#     # plt.figure(figsize=(8, 6))\n",
    "#     # plt.scatter(T[:,1], y, alpha=0.6, s=12, color='red')\n",
    "#     # plt.xlabel(\"PLS2 Scores\")\n",
    "#     # plt.ylabel(\"Fluid Intelligence Score\")\n",
    "#     # plt.title(\"Fluid Intelligence Score vs PLS2 Scores\")\n",
    "#     # plt.show()\n",
    "\n",
    "#     # W = pls.x_weights_\n",
    "#     # plt.figure(figsize=(12, 6))\n",
    "#     # plt.bar(all_feature_names, W[:,0])\n",
    "#     # plt.xticks(rotation=90)\n",
    "#     # plt.title(\"PLS1 Weights\")\n",
    "#     # plt.tight_layout()\n",
    "#     # plt.show()\n",
    "\n",
    "#     # plt.figure(figsize=(12, 6))\n",
    "#     # plt.bar(all_feature_names, W[:,1])\n",
    "#     # plt.xticks(rotation=90)\n",
    "#     # plt.title(\"PLS2 Weights\")\n",
    "#     # plt.tight_layout()\n",
    "#     # plt.show()\n",
    "\n",
    "#     # plt.figure(figsize=(12, 6))\n",
    "#     # plt.bar(all_feature_names, W[:,2])\n",
    "#     # plt.xticks(rotation=90)\n",
    "#     # plt.title(\"PLS3 Weights\")\n",
    "#     # plt.tight_layout()\n",
    "#     # plt.show()\n",
    "\n",
    "\n",
    "#     # # # Calculate Z-scores for the weights\n",
    "#     # # W1_mean = np.mean(W[:, 0])\n",
    "#     # # W1_std = np.std(W[:, 0])\n",
    "#     # # W2_mean = np.mean(W[:, 1])\n",
    "#     # # W2_std = np.std(W[:, 1])\n",
    "\n",
    "#     # # plt.figure(figsize=(8, 10))\n",
    "#     # # plt.axhline(0, color='grey', lw=1)\n",
    "#     # # plt.axvline(0, color='grey', lw=1)\n",
    "\n",
    "#     # # # Draw arrows for each variable\n",
    "#     # # for i, var in enumerate(all_feature_names):\n",
    "#     # #     plt.arrow(0, 0, W[i, 0], W[i, 1], \n",
    "#     # #             color='b', alpha=0.6, head_width=0.01, head_length=0.01, length_includes_head=True)\n",
    "\n",
    "#     # # # Label all variables, closer to the arrow tip\n",
    "#     # # texts = []\n",
    "#     # # for i, var in enumerate(all_feature_names):\n",
    "#     # #     texts.append(\n",
    "#     # #         plt.text(W[i, 0]*1.02, W[i, 1]*1.02, var, color='r', ha='center', va='center', \n",
    "#     # #                 fontsize=8, clip_on=True)\n",
    "#     # #     )\n",
    "\n",
    "#     # # ellipse = Ellipse((0, 0), \n",
    "#     # #                 width=6*W1_std, height=6*W2_std,  # 6 = 2*3 std devs (±3)\n",
    "#     # #                 fill=False, color='g', linestyle='--', linewidth=2, \n",
    "#     # #                 label='Z-score = ±3 (elliptical)')\n",
    "#     # # plt.gca().add_patch(ellipse)\n",
    "\n",
    "#     # # adjust_text(texts, arrowprops=dict(arrowstyle='-', color='grey', lw=0.5), \n",
    "#     # #             expand_points=(1.2, 1.2), expand_text=(1.2, 1.2), force_text=0.5, force_points=0.5)\n",
    "\n",
    "#     # # plt.xlabel(\"PLS1 Weight\")\n",
    "#     # # plt.ylabel(\"PLS2 Weight\")\n",
    "#     # # plt.title(\"PLS Weight Plot\")\n",
    "#     # # plt.grid(True)\n",
    "#     # # plt.axis('equal')\n",
    "#     # # plt.tight_layout()\n",
    "#     # # plt.legend()\n",
    "#     # # plt.show()\n",
    "\n",
    "#     # # 1. Variable names and coefficients\n",
    "#     # vars_to_plot = np.array(all_feature_names)\n",
    "#     # means = pls.x_weights_[:,0]\n",
    "\n",
    "#     # # 4. Prepare vertex data arrays\n",
    "#     # lh_vertex_data = np.full_like(lh_labels, np.nan, dtype=float)\n",
    "#     # rh_vertex_data = np.full_like(rh_labels, np.nan, dtype=float)\n",
    "\n",
    "#     # for var, coef in zip(vars_to_plot, means):\n",
    "#     #     hemi, region = varname_to_region(var)\n",
    "#     #     if hemi == 'lh':\n",
    "#     #         idxs = [i for i, n in enumerate(lh_names) if region.lower() in n.lower()]\n",
    "#     #         for idx in idxs:\n",
    "#     #             lh_vertex_data[lh_labels == idx] = coef\n",
    "#     #     elif hemi == 'rh':\n",
    "#     #         idxs = [i for i, n in enumerate(rh_names) if region.lower() in n.lower()]\n",
    "#     #         for idx in idxs:\n",
    "#     #             rh_vertex_data[rh_labels == idx] = coef\n",
    "\n",
    "#     # # 5. Load inflated_pre surfaces\n",
    "#     # lh_inflated_pre_path = f'{fsaverage_path}/surf/lh.inflated_pre'\n",
    "#     # rh_inflated_pre_path = f'{fsaverage_path}/surf/rh.inflated_pre'\n",
    "#     # lh_coords, lh_faces = fsio.read_geometry(lh_inflated_pre_path)\n",
    "#     # rh_coords, rh_faces = fsio.read_geometry(rh_inflated_pre_path)\n",
    "#     # lh_mesh = (lh_coords, lh_faces)\n",
    "#     # rh_mesh = (rh_coords, rh_faces)\n",
    "\n",
    "#     # # 6. Load fsaverage sulcal maps for background\n",
    "#     # fsavg = datasets.fetch_surf_fsaverage('fsaverage')\n",
    "#     # sulc_left = fsavg.sulc_left\n",
    "#     # sulc_right = fsavg.sulc_right\n",
    "\n",
    "#     # # 7. Plotting function\n",
    "#     # global_vmax = np.nanmax(np.abs(np.concatenate([lh_vertex_data, rh_vertex_data])))\n",
    "\n",
    "#     # def plot_three_views_custom(surf_mesh, vertex_data, bg_map, hemi, title):\n",
    "#     #     views = ['lateral', 'medial', 'dorsal']\n",
    "#     #     fig, axes = plt.subplots(1, 3, subplot_kw={'projection': '3d'}, figsize=(40, 20))\n",
    "#     #     cmap = 'seismic'\n",
    "#     #     for i, view in enumerate(views):\n",
    "#     #         plotting.plot_surf_stat_map(\n",
    "#     #             surf_mesh, vertex_data, hemi=hemi, bg_map=bg_map,\n",
    "#     #             cmap=cmap, colorbar=False, vmax=global_vmax, vmin=-global_vmax, symmetric_cbar=True,\n",
    "#     #             view=view, axes=axes[i], title='', figure=fig, alpha=0.9\n",
    "#     #         )\n",
    "#     #         axes[i].set_title(view.capitalize(), fontsize=30)\n",
    "#     #         axes[i].axis('off')\n",
    "#     #     # Colorbar\n",
    "#     #     cbar_ax = fig.add_axes([0.33, 0.09, 0.34, 0.03])\n",
    "#     #     norm = plt.Normalize(vmin=-global_vmax, vmax=global_vmax)\n",
    "#     #     cb = fig.colorbar(cm.ScalarMappable(norm=norm, cmap=cmap), cax=cbar_ax, orientation='horizontal')\n",
    "#     #     cb.set_label('PLS1 Weights', fontsize=16)\n",
    "#     #     cb.ax.tick_params(labelsize=18)\n",
    "#     #     plt.suptitle(title, fontsize=38, y=0.96)\n",
    "#     #     plt.tight_layout(rect=[0, 0.15, 1, 0.92])\n",
    "#     #     plt.show()\n",
    "\n",
    "#     # # 8. Plot with inflated_pre\n",
    "#     # plot_three_views_custom(lh_mesh, lh_vertex_data, sulc_left, 'left', '(Demographic + MIND)')\n",
    "#     # plot_three_views_custom(rh_mesh, rh_vertex_data, sulc_right, 'right', '(Demographic + MIND)')\n",
    "\n",
    "#     # # 1. Variable names and coefficients\n",
    "#     # vars_to_plot = np.array(all_feature_names)\n",
    "#     # means = pls.x_weights_[:,1]\n",
    "\n",
    "#     # # 4. Prepare vertex data arrays\n",
    "#     # lh_vertex_data = np.full_like(lh_labels, np.nan, dtype=float)\n",
    "#     # rh_vertex_data = np.full_like(rh_labels, np.nan, dtype=float)\n",
    "\n",
    "#     # for var, coef in zip(vars_to_plot, means):\n",
    "#     #     hemi, region = varname_to_region(var)\n",
    "#     #     if hemi == 'lh':\n",
    "#     #         idxs = [i for i, n in enumerate(lh_names) if region.lower() in n.lower()]\n",
    "#     #         for idx in idxs:\n",
    "#     #             lh_vertex_data[lh_labels == idx] = coef\n",
    "#     #     elif hemi == 'rh':\n",
    "#     #         idxs = [i for i, n in enumerate(rh_names) if region.lower() in n.lower()]\n",
    "#     #         for idx in idxs:\n",
    "#     #             rh_vertex_data[rh_labels == idx] = coef\n",
    "\n",
    "#     # # 5. Load inflated_pre surfaces\n",
    "#     # lh_inflated_pre_path = f'{fsaverage_path}/surf/lh.inflated_pre'\n",
    "#     # rh_inflated_pre_path = f'{fsaverage_path}/surf/rh.inflated_pre'\n",
    "#     # lh_coords, lh_faces = fsio.read_geometry(lh_inflated_pre_path)\n",
    "#     # rh_coords, rh_faces = fsio.read_geometry(rh_inflated_pre_path)\n",
    "#     # lh_mesh = (lh_coords, lh_faces)\n",
    "#     # rh_mesh = (rh_coords, rh_faces)\n",
    "\n",
    "#     # # 6. Load fsaverage sulcal maps for background\n",
    "#     # fsavg = datasets.fetch_surf_fsaverage('fsaverage')\n",
    "#     # sulc_left = fsavg.sulc_left\n",
    "#     # sulc_right = fsavg.sulc_right\n",
    "\n",
    "#     # # 7. Plotting function\n",
    "#     # global_vmax = np.nanmax(np.abs(np.concatenate([lh_vertex_data, rh_vertex_data])))\n",
    "\n",
    "#     # def plot_three_views_custom(surf_mesh, vertex_data, bg_map, hemi, title):\n",
    "#     #     views = ['lateral', 'medial', 'dorsal']\n",
    "#     #     fig, axes = plt.subplots(1, 3, subplot_kw={'projection': '3d'}, figsize=(40, 20))\n",
    "#     #     cmap = 'seismic'\n",
    "#     #     for i, view in enumerate(views):\n",
    "#     #         plotting.plot_surf_stat_map(\n",
    "#     #             surf_mesh, vertex_data, hemi=hemi, bg_map=bg_map,\n",
    "#     #             cmap=cmap, colorbar=False, vmax=global_vmax, vmin=-global_vmax, symmetric_cbar=True,\n",
    "#     #             view=view, axes=axes[i], title='', figure=fig, alpha=0.9\n",
    "#     #         )\n",
    "#     #         axes[i].set_title(view.capitalize(), fontsize=30)\n",
    "#     #         axes[i].axis('off')\n",
    "#     #     # Colorbar\n",
    "#     #     cbar_ax = fig.add_axes([0.33, 0.09, 0.34, 0.03])\n",
    "#     #     norm = plt.Normalize(vmin=-global_vmax, vmax=global_vmax)\n",
    "#     #     cb = fig.colorbar(cm.ScalarMappable(norm=norm, cmap=cmap), cax=cbar_ax, orientation='horizontal')\n",
    "#     #     cb.set_label('PLS2 Weights', fontsize=16)\n",
    "#     #     cb.ax.tick_params(labelsize=18)\n",
    "#     #     plt.suptitle(title, fontsize=38, y=0.96)\n",
    "#     #     plt.tight_layout(rect=[0, 0.15, 1, 0.92])\n",
    "#     #     plt.show()\n",
    "\n",
    "#     # # 8. Plot with inflated_pre\n",
    "#     # plot_three_views_custom(lh_mesh, lh_vertex_data, sulc_left, 'left', '(Demographic + MIND)')\n",
    "#     # plot_three_views_custom(rh_mesh, rh_vertex_data, sulc_right, 'right', '(Demographic + MIND)')\n",
    "\n",
    "#     # # 1. Variable names and coefficients\n",
    "#     # vars_to_plot = np.array(all_feature_names)\n",
    "#     # means = pls.x_weights_[:,2]\n",
    "\n",
    "#     # # 4. Prepare vertex data arrays\n",
    "#     # lh_vertex_data = np.full_like(lh_labels, np.nan, dtype=float)\n",
    "#     # rh_vertex_data = np.full_like(rh_labels, np.nan, dtype=float)\n",
    "\n",
    "#     # for var, coef in zip(vars_to_plot, means):\n",
    "#     #     hemi, region = varname_to_region(var)\n",
    "#     #     if hemi == 'lh':\n",
    "#     #         idxs = [i for i, n in enumerate(lh_names) if region.lower() in n.lower()]\n",
    "#     #         for idx in idxs:\n",
    "#     #             lh_vertex_data[lh_labels == idx] = coef\n",
    "#     #     elif hemi == 'rh':\n",
    "#     #         idxs = [i for i, n in enumerate(rh_names) if region.lower() in n.lower()]\n",
    "#     #         for idx in idxs:\n",
    "#     #             rh_vertex_data[rh_labels == idx] = coef\n",
    "\n",
    "#     # # 5. Load inflated_pre surfaces\n",
    "#     # lh_inflated_pre_path = f'{fsaverage_path}/surf/lh.inflated_pre'\n",
    "#     # rh_inflated_pre_path = f'{fsaverage_path}/surf/rh.inflated_pre'\n",
    "#     # lh_coords, lh_faces = fsio.read_geometry(lh_inflated_pre_path)\n",
    "#     # rh_coords, rh_faces = fsio.read_geometry(rh_inflated_pre_path)\n",
    "#     # lh_mesh = (lh_coords, lh_faces)\n",
    "#     # rh_mesh = (rh_coords, rh_faces)\n",
    "\n",
    "#     # # 6. Load fsaverage sulcal maps for background\n",
    "#     # fsavg = datasets.fetch_surf_fsaverage('fsaverage')\n",
    "#     # sulc_left = fsavg.sulc_left\n",
    "#     # sulc_right = fsavg.sulc_right\n",
    "\n",
    "#     # # 7. Plotting function\n",
    "#     # global_vmax = np.nanmax(np.abs(np.concatenate([lh_vertex_data, rh_vertex_data])))\n",
    "\n",
    "#     # def plot_three_views_custom(surf_mesh, vertex_data, bg_map, hemi, title):\n",
    "#     #     views = ['lateral', 'medial', 'dorsal']\n",
    "#     #     fig, axes = plt.subplots(1, 3, subplot_kw={'projection': '3d'}, figsize=(40, 20))\n",
    "#     #     cmap = 'seismic'\n",
    "#     #     for i, view in enumerate(views):\n",
    "#     #         plotting.plot_surf_stat_map(\n",
    "#     #             surf_mesh, vertex_data, hemi=hemi, bg_map=bg_map,\n",
    "#     #             cmap=cmap, colorbar=False, vmax=global_vmax, vmin=-global_vmax, symmetric_cbar=True,\n",
    "#     #             view=view, axes=axes[i], title='', figure=fig, alpha=0.9\n",
    "#     #         )\n",
    "#     #         axes[i].set_title(view.capitalize(), fontsize=30)\n",
    "#     #         axes[i].axis('off')\n",
    "#     #     # Colorbar\n",
    "#     #     cbar_ax = fig.add_axes([0.33, 0.09, 0.34, 0.03])\n",
    "#     #     norm = plt.Normalize(vmin=-global_vmax, vmax=global_vmax)\n",
    "#     #     cb = fig.colorbar(cm.ScalarMappable(norm=norm, cmap=cmap), cax=cbar_ax, orientation='horizontal')\n",
    "#     #     cb.set_label('PLS3 Weights', fontsize=16)\n",
    "#     #     cb.ax.tick_params(labelsize=18)\n",
    "#     #     plt.suptitle(title, fontsize=38, y=0.96)\n",
    "#     #     plt.tight_layout(rect=[0, 0.15, 1, 0.92])\n",
    "#     #     plt.show()\n",
    "\n",
    "#     # # 8. Plot with inflated_pre\n",
    "#     # plot_three_views_custom(lh_mesh, lh_vertex_data, sulc_left, 'left', '(Demographic + MIND)')\n",
    "#     # plot_three_views_custom(rh_mesh, rh_vertex_data, sulc_right, 'right', '(Demographic + MIND)')\n",
    "\n",
    "\n"
   ]
  },
  {
   "cell_type": "markdown",
   "id": "849e5a1c",
   "metadata": {},
   "source": [
    "# GF"
   ]
  },
  {
   "cell_type": "code",
   "execution_count": 16,
   "id": "55ebb3a1",
   "metadata": {},
   "outputs": [],
   "source": [
    "# Load the dataset\n",
    "df = pd.read_csv('/Users/baileyng/MIND_data/ukb_master_GF_no_outliers.csv', index_col=0)"
   ]
  },
  {
   "cell_type": "code",
   "execution_count": 17,
   "id": "60040ea3",
   "metadata": {},
   "outputs": [
    {
     "data": {
      "image/png": "[encoded data removed]",
      "text/plain": [
       "<Figure size 640x480 with 1 Axes>"
      ]
     },
     "metadata": {},
     "output_type": "display_data"
    }
   ],
   "source": [
    "# Histogram of Fluid Intelligence Scores\n",
    "sns.histplot(df['20016-2.0'])\n",
    "plt.title('Distribution of Fluid Intelligence Scores')\n",
    "plt.xlabel('Fluid Intelligence Score')\n",
    "plt.ylabel('Frequency')\n",
    "plt.show()"
   ]
  },
  {
   "cell_type": "code",
   "execution_count": 18,
   "id": "82cc271c",
   "metadata": {},
   "outputs": [
    {
     "name": "stdout",
     "output_type": "stream",
     "text": [
      "33977\n",
      "(33977, 2628)\n"
     ]
    }
   ],
   "source": [
    "print(len(df))\n",
    "print(df.shape)"
   ]
  },
  {
   "cell_type": "markdown",
   "id": "a8b7006d",
   "metadata": {},
   "source": [
    "## GF vs. MIND (avg)"
   ]
  },
  {
   "cell_type": "code",
   "execution_count": 10,
   "id": "01c02b8c",
   "metadata": {},
   "outputs": [
    {
     "name": "stdout",
     "output_type": "stream",
     "text": [
      "(33977, 71)\n",
      "(33977,)\n"
     ]
    }
   ],
   "source": [
    "# Set X and y\n",
    "with open('/Users/baileyng/MIND_models/region_names/MIND_avg_regions.txt', 'r') as f:\n",
    "    brain_regions = [line.strip() for line in f.readlines()]\n",
    "\n",
    "# Define demographic/clinical features\n",
    "demographic_vars = ['31-0.0', '21003-2.0', '54-2.0']\n",
    "\n",
    "# Combine demographic features with brain region features\n",
    "all_vars = demographic_vars + brain_regions\n",
    "\n",
    "X = df[all_vars]\n",
    "y = df['20016-2.0']\n",
    "\n",
    "print(X.shape)\n",
    "print(y.shape)"
   ]
  },
  {
   "cell_type": "code",
   "execution_count": 11,
   "id": "98a4c12f",
   "metadata": {},
   "outputs": [],
   "source": [
    "# rename columns\n",
    "X = X.rename(columns=rename_dict)\n",
    "\n",
    "categorical_vars = ['sex', 'assessment_centre']\n",
    "continuous_vars  = [c for c in X.columns if c not in categorical_vars]"
   ]
  },
  {
   "cell_type": "code",
   "execution_count": 12,
   "id": "ddfddfe5",
   "metadata": {},
   "outputs": [
    {
     "name": "stderr",
     "output_type": "stream",
     "text": [
      "[Parallel(n_jobs=-1)]: Using backend LokyBackend with 8 concurrent workers.\n"
     ]
    },
    {
     "name": "stdout",
     "output_type": "stream",
     "text": [
      "Fold 01 • n_comp=04 • MAE=1.621 • RMSE=2.020 • R²=0.029\n",
      "Fold 02 • n_comp=04 • MAE=1.636 • RMSE=2.034 • R²=0.031\n",
      "Fold 03 • n_comp=03 • MAE=1.643 • RMSE=2.043 • R²=0.039\n",
      "Fold 05 • n_comp=03 • MAE=1.605 • RMSE=2.004 • R²=0.030\n",
      "Fold 06 • n_comp=03 • MAE=1.585 • RMSE=1.976 • R²=0.043\n",
      "Fold 04 • n_comp=04 • MAE=1.653 • RMSE=2.059 • R²=0.032\n",
      "Fold 07 • n_comp=03 • MAE=1.617 • RMSE=2.018 • R²=0.032\n",
      "Fold 08 • n_comp=03 • MAE=1.657 • RMSE=2.052 • R²=0.022\n"
     ]
    },
    {
     "name": "stderr",
     "output_type": "stream",
     "text": [
      "[Parallel(n_jobs=-1)]: Done   6 out of  10 | elapsed:   20.9s remaining:   13.9s\n"
     ]
    },
    {
     "name": "stdout",
     "output_type": "stream",
     "text": [
      "Fold 09 • n_comp=03 • MAE=1.607 • RMSE=2.002 • R²=0.036\n",
      "Fold 10 • n_comp=04 • MAE=1.629 • RMSE=2.034 • R²=0.035\n",
      "\n",
      "=== 10-fold CV summary ===\n",
      "n_components (mean ± std): 3.4 ± 0.5\n",
      "MAE :  1.625 ± 0.022\n",
      "RMSE:  2.024 ± 0.024\n",
      "R²  :  0.033 ± 0.005\n"
     ]
    },
    {
     "name": "stderr",
     "output_type": "stream",
     "text": [
      "[Parallel(n_jobs=-1)]: Done  10 out of  10 | elapsed:   27.2s finished\n"
     ]
    },
    {
     "data": {
      "text/plain": [
       "{'mae': [1.620789683747022,\n",
       "  1.6356164805814626,\n",
       "  1.642542629589212,\n",
       "  1.6534124119544573,\n",
       "  1.6054795429416169,\n",
       "  1.5846702375308779,\n",
       "  1.6172456688401584,\n",
       "  1.6571770620871595,\n",
       "  1.6067854339932959,\n",
       "  1.6289274423638291],\n",
       " 'rmse': [2.020214498757342,\n",
       "  2.034122232698095,\n",
       "  2.043146129813315,\n",
       "  2.0587159145474265,\n",
       "  2.0035988623392496,\n",
       "  1.976143001357726,\n",
       "  2.017552574375593,\n",
       "  2.052391067967517,\n",
       "  2.001701708294878,\n",
       "  2.0337991843519947],\n",
       " 'r2': [0.029303726442954425,\n",
       "  0.031136177578584223,\n",
       "  0.038595506345630026,\n",
       "  0.032193101185941986,\n",
       "  0.030274696877667817,\n",
       "  0.04290803813160904,\n",
       "  0.03165555258542474,\n",
       "  0.021858018339525276,\n",
       "  0.035701661345695856,\n",
       "  0.03503041388575934],\n",
       " 'best_ncomps': [4, 4, 3, 4, 3, 3, 3, 3, 3, 4],\n",
       " 'coefs_list': [array([-0.10647198,  0.05104017,  0.00298554, -0.00762325,  0.01547378,\n",
       "         -0.00061085,  0.03326275,  0.00101938,  0.05353717, -0.04315915,\n",
       "          0.00299405,  0.05862305, -0.01526592, -0.01023638, -0.00919078,\n",
       "          0.00037305,  0.00994368, -0.00310357, -0.03441222, -0.00118453,\n",
       "         -0.03682168,  0.00883685, -0.00189183, -0.02477199,  0.00422861,\n",
       "          0.08527937,  0.00482706,  0.01973299, -0.04509679, -0.02457912,\n",
       "          0.02804341,  0.03545967, -0.02612945,  0.04753197, -0.02857131,\n",
       "          0.01874181, -0.0302709 , -0.0230892 ,  0.04212467,  0.02106832,\n",
       "          0.00293354,  0.02455518,  0.02030416, -0.02164687,  0.00091499,\n",
       "          0.03283852, -0.03488733,  0.01277437,  0.02348364,  0.02394335,\n",
       "          0.03240797, -0.02362674, -0.01000863, -0.00180104, -0.02780881,\n",
       "         -0.01025224, -0.00371038, -0.02310564,  0.01609204,  0.08148969,\n",
       "          0.00490315,  0.05128252, -0.07208477, -0.04116929, -0.00374845,\n",
       "          0.06513573, -0.022488  ,  0.03354537,  0.01755631,  0.05965089,\n",
       "         -0.04329829, -0.09207897]),\n",
       "  array([-1.06424036e-01,  5.38117360e-02, -3.61060486e-03, -1.35752182e-02,\n",
       "          1.80432948e-02, -2.56303332e-03,  3.16114861e-02,  2.63950641e-03,\n",
       "          5.51485160e-02, -3.66038014e-02,  3.13680330e-03,  6.17582020e-02,\n",
       "         -1.27524621e-02, -8.61250782e-03, -1.04246083e-02,  5.04824532e-04,\n",
       "          1.31564971e-02,  1.03087695e-03, -2.19924077e-02,  1.21539201e-02,\n",
       "         -3.75628673e-02,  2.01779767e-02,  1.82039416e-05, -1.64143105e-02,\n",
       "          2.59745078e-04,  8.49775022e-02,  4.00980553e-03,  3.49189727e-02,\n",
       "         -5.96158433e-02, -2.78943290e-02,  3.77887406e-02,  2.13357115e-02,\n",
       "         -2.22780951e-02,  5.45035620e-02, -2.04921325e-02,  2.31123734e-02,\n",
       "         -3.31799655e-02, -2.30161160e-02,  4.22814189e-02,  2.44959026e-02,\n",
       "          1.83091188e-04,  2.09723742e-02,  1.91754887e-02, -1.95661071e-02,\n",
       "         -7.84494171e-03,  2.61018126e-02, -3.31383480e-02,  1.39842289e-02,\n",
       "          2.16725789e-02,  2.22883091e-02,  3.37343546e-02, -2.94612224e-02,\n",
       "         -9.94910398e-03, -1.53277465e-02, -2.60252800e-02, -1.43175430e-02,\n",
       "         -4.17531830e-03, -2.10498783e-02,  2.00061419e-02,  7.92420725e-02,\n",
       "          2.77938057e-03,  5.14841254e-02, -7.63451587e-02, -3.70135533e-02,\n",
       "         -1.31139995e-02,  5.53916086e-02, -2.48371023e-02,  2.85886308e-02,\n",
       "          1.97042433e-02,  5.48618248e-02, -4.19063387e-02, -8.62060056e-02]),\n",
       "  array([-0.09638542,  0.04765119, -0.00068883, -0.00473207,  0.0117565 ,\n",
       "         -0.00141365,  0.02934468,  0.00617958,  0.04417718, -0.05151344,\n",
       "         -0.00021747,  0.05714882, -0.01539189,  0.00185307, -0.01145313,\n",
       "         -0.0018379 ,  0.01059635, -0.00852216, -0.01165786,  0.00453177,\n",
       "         -0.02064805,  0.00494888, -0.00316264, -0.01379412, -0.00055783,\n",
       "          0.06804122,  0.0007863 ,  0.02167991, -0.05860378, -0.01470452,\n",
       "          0.03327827,  0.04936487, -0.02657149,  0.05365282, -0.02070169,\n",
       "          0.02118662, -0.03557028, -0.01544548,  0.01678483,  0.00839703,\n",
       "          0.00920808,  0.02502409,  0.02309828, -0.03730758, -0.00046564,\n",
       "          0.03093322, -0.03526489,  0.02476397,  0.01475506,  0.01098223,\n",
       "          0.02606121, -0.02062964,  0.00788098, -0.0066069 , -0.02089454,\n",
       "         -0.01186237, -0.01316446, -0.01757255,  0.01000209,  0.06360937,\n",
       "          0.0051854 ,  0.03375704, -0.06914186, -0.02681681,  0.00762277,\n",
       "          0.05856862, -0.02823275,  0.03093324,  0.01039143,  0.06963256,\n",
       "         -0.02711998, -0.0831874 ]),\n",
       "  array([-0.10382179,  0.05532702,  0.0080825 , -0.00625526,  0.02049388,\n",
       "          0.0030391 ,  0.02448253,  0.00529894,  0.0588419 , -0.04168054,\n",
       "          0.00746416,  0.06404075, -0.02005795, -0.01045177, -0.01256389,\n",
       "          0.00252674,  0.01666199, -0.00110353, -0.02948871,  0.00438465,\n",
       "         -0.03147642,  0.0179653 , -0.00097786, -0.03097782, -0.00386195,\n",
       "          0.08137462,  0.00855771,  0.02829229, -0.05398379, -0.03650185,\n",
       "          0.03409734,  0.04472278, -0.02828418,  0.04673941, -0.0192474 ,\n",
       "          0.0232441 , -0.03821642, -0.01722643,  0.03598442,  0.01183814,\n",
       "          0.00132564,  0.03168872,  0.01006297, -0.02343065, -0.0007092 ,\n",
       "          0.02893699, -0.03852681,  0.0109681 ,  0.0269618 ,  0.02765437,\n",
       "          0.03514375, -0.02747308, -0.01010647, -0.01684175, -0.02009711,\n",
       "         -0.01566724, -0.00735184, -0.02215705,  0.01971004,  0.07917247,\n",
       "          0.00392618,  0.04695554, -0.07450018, -0.04211608, -0.00569149,\n",
       "          0.05411109, -0.02606275,  0.03310338,  0.02035305,  0.06062717,\n",
       "         -0.04068778, -0.08630021]),\n",
       "  array([-0.09469409,  0.05659835,  0.00298488, -0.0057514 ,  0.00869803,\n",
       "         -0.01255809,  0.03034907,  0.00530736,  0.04188969, -0.05668393,\n",
       "          0.00609763,  0.05541137, -0.0190001 ,  0.00145102, -0.004224  ,\n",
       "          0.00107169,  0.01198687, -0.00989347, -0.01117014,  0.00467396,\n",
       "         -0.02270033,  0.00487539, -0.00962712, -0.01850119,  0.00213861,\n",
       "          0.07397351,  0.0061414 ,  0.02728705, -0.05215056, -0.025552  ,\n",
       "          0.03204832,  0.04586892, -0.02948456,  0.0454741 , -0.01403145,\n",
       "          0.02574858, -0.03068254, -0.01791729,  0.01439724,  0.00680906,\n",
       "          0.00383742,  0.02920231,  0.01908287, -0.04090702, -0.00145008,\n",
       "          0.03901452, -0.03312125,  0.02376427,  0.01200032,  0.01120888,\n",
       "          0.02744674, -0.02010333,  0.00288188, -0.01031903, -0.02466205,\n",
       "         -0.00706553, -0.01670394, -0.0196162 ,  0.01127952,  0.07032142,\n",
       "          0.00228739,  0.03718078, -0.06676927, -0.02784894,  0.00321736,\n",
       "          0.0631049 , -0.03438063,  0.03858186,  0.02034694,  0.05976922,\n",
       "         -0.02557175, -0.07800029]),\n",
       "  array([-0.08978988,  0.05480933, -0.00013406, -0.00667616,  0.0109135 ,\n",
       "         -0.01461495,  0.02251366,  0.0034653 ,  0.0411779 , -0.04422856,\n",
       "         -0.00207341,  0.05032212, -0.01663559,  0.001589  ,  0.00119739,\n",
       "         -0.00023917,  0.01449192, -0.00223608, -0.00621128,  0.00437366,\n",
       "         -0.02471662,  0.00439277, -0.00510537, -0.01993716,  0.00417091,\n",
       "          0.07052211,  0.01347942,  0.02696603, -0.05643821, -0.02436688,\n",
       "          0.02512821,  0.04889393, -0.03140698,  0.05346901, -0.01968941,\n",
       "          0.02025936, -0.03840631, -0.01655591,  0.01467869,  0.01030391,\n",
       "          0.00955098,  0.02285564,  0.01572548, -0.03279668, -0.00295257,\n",
       "          0.02907721, -0.03474899,  0.01715544,  0.01721373,  0.01130018,\n",
       "          0.02471388, -0.01637827,  0.0100296 , -0.00246688, -0.02482796,\n",
       "         -0.01375355, -0.01180551, -0.0184676 ,  0.01229645,  0.0659072 ,\n",
       "          0.00946119,  0.04504938, -0.06662338, -0.03851557,  0.00231787,\n",
       "          0.05887793, -0.03435871,  0.03974071,  0.01184654,  0.06573819,\n",
       "         -0.02101559, -0.0783011 ]),\n",
       "  array([-0.09826475,  0.05320472,  0.00780854, -0.00402769,  0.01240379,\n",
       "         -0.01201528,  0.03150959,  0.00724961,  0.04338066, -0.04907169,\n",
       "         -0.00052131,  0.0536393 , -0.01926458, -0.00210419, -0.00548639,\n",
       "         -0.00443132,  0.00681881, -0.00371829, -0.00936447,  0.00015705,\n",
       "         -0.02686784,  0.00081303, -0.00835161, -0.01466359,  0.0025718 ,\n",
       "          0.07553834,  0.00851638,  0.02441256, -0.05531588, -0.02338571,\n",
       "          0.0307489 ,  0.04189571, -0.02917623,  0.04339367, -0.01366712,\n",
       "          0.02108081, -0.03465059, -0.00714401,  0.01881944,  0.00602224,\n",
       "          0.00890562,  0.02294298,  0.02097226, -0.03529795, -0.00191821,\n",
       "          0.02845342, -0.03414926,  0.02341771,  0.01135674,  0.01301375,\n",
       "          0.02668888, -0.01937302,  0.00727008, -0.01125256, -0.01765918,\n",
       "         -0.01431761, -0.02318775, -0.01359333,  0.01013182,  0.06848492,\n",
       "          0.00335331,  0.040689  , -0.06271574, -0.03072057,  0.00626571,\n",
       "          0.06294089, -0.03815369,  0.03547679,  0.01195502,  0.07329818,\n",
       "         -0.01873298, -0.08346558]),\n",
       "  array([-9.29926168e-02,  5.15642199e-02,  7.42335865e-03, -3.43800642e-03,\n",
       "          1.44404756e-02, -7.79608664e-03,  2.58931958e-02,  1.12823482e-03,\n",
       "          4.37059133e-02, -4.56917263e-02,  5.58202867e-05,  5.63095275e-02,\n",
       "         -1.91095174e-02,  3.97533288e-03, -7.55544280e-03, -4.17618263e-03,\n",
       "          7.26283435e-03, -1.21090791e-02, -3.71438806e-03,  6.88837784e-03,\n",
       "         -2.70684027e-02,  5.51150332e-03, -6.05138426e-03, -1.72116388e-02,\n",
       "          8.94694466e-05,  7.13853729e-02,  9.31928622e-03,  2.03482988e-02,\n",
       "         -6.63524783e-02, -2.13150041e-02,  3.20850366e-02,  4.54474662e-02,\n",
       "         -4.36744454e-02,  4.66771580e-02, -1.12019489e-02,  2.68522460e-02,\n",
       "         -2.93674174e-02, -8.14773526e-03,  2.08117658e-02,  7.74539023e-03,\n",
       "          1.06898886e-02,  2.51650410e-02,  2.22486238e-02, -3.99947973e-02,\n",
       "         -3.53308065e-04,  3.38935393e-02, -3.40659018e-02,  2.03214384e-02,\n",
       "          1.82862570e-02,  1.33107490e-02,  2.80675520e-02, -2.25038474e-02,\n",
       "          1.57743670e-03, -9.08447734e-03, -1.92405487e-02, -1.59400855e-02,\n",
       "         -2.24147554e-02, -1.68363803e-02,  1.06764861e-02,  7.54633948e-02,\n",
       "          2.12568598e-03,  3.90364668e-02, -7.12814882e-02, -2.93844279e-02,\n",
       "          1.19769831e-02,  6.39122361e-02, -2.04126606e-02,  3.19625336e-02,\n",
       "          1.38648810e-02,  6.65013370e-02, -2.64117149e-02, -8.62886264e-02]),\n",
       "  array([-0.09431512,  0.05570785,  0.00615318, -0.00865151,  0.01292972,\n",
       "         -0.00755731,  0.02485966,  0.00073674,  0.0419993 , -0.04267754,\n",
       "         -0.0019178 ,  0.04672785, -0.01385066,  0.00136831, -0.00269441,\n",
       "          0.00040345,  0.01798476, -0.00451103, -0.00397381,  0.00094141,\n",
       "         -0.02140718,  0.00869822, -0.00577375, -0.01987273, -0.00134014,\n",
       "          0.0722884 ,  0.00347215,  0.02512358, -0.05953699, -0.02311278,\n",
       "          0.02963541,  0.03968001, -0.02941588,  0.04691137, -0.01101271,\n",
       "          0.02751127, -0.03205099, -0.01843183,  0.01582563,  0.01166242,\n",
       "          0.00931419,  0.02628369,  0.01770033, -0.03372378, -0.00436736,\n",
       "          0.03557042, -0.03196527,  0.02403368,  0.01908932,  0.01443155,\n",
       "          0.02757304, -0.0214324 ,  0.01015012, -0.01073736, -0.02168741,\n",
       "         -0.01600457, -0.01896206, -0.01008093,  0.01358051,  0.06765684,\n",
       "          0.00282721,  0.03972251, -0.07268191, -0.02727655,  0.00397997,\n",
       "          0.05970025, -0.03524783,  0.03709217,  0.01388992,  0.06721837,\n",
       "         -0.02217033, -0.08075364]),\n",
       "  array([-0.10814809,  0.05426534,  0.01145455, -0.0070232 ,  0.01858934,\n",
       "         -0.00284263,  0.03029667,  0.00104379,  0.05719854, -0.04356701,\n",
       "         -0.00243516,  0.06471189, -0.01214391, -0.01647381, -0.01407946,\n",
       "         -0.00675534,  0.0056633 , -0.00710661, -0.03269359, -0.00287858,\n",
       "         -0.02965961,  0.02886333,  0.0036702 , -0.01957452,  0.00593123,\n",
       "          0.08267158,  0.01217703,  0.03331174, -0.05123966, -0.02626342,\n",
       "          0.02700568,  0.03341286, -0.02005714,  0.04842572, -0.0217812 ,\n",
       "          0.01992446, -0.03350429, -0.02129944,  0.04652295,  0.01196358,\n",
       "          0.00097907,  0.02843003,  0.01579852, -0.02488626, -0.00659828,\n",
       "          0.02948382, -0.03049132,  0.00969621,  0.03026277,  0.02854073,\n",
       "          0.04140756, -0.02104035, -0.01249194, -0.01764429, -0.0270056 ,\n",
       "         -0.01322275, -0.00919237, -0.02283803,  0.00892681,  0.07568893,\n",
       "          0.00136701,  0.05637528, -0.07530217, -0.04528333, -0.01022193,\n",
       "          0.05468812, -0.02537115,  0.04302085,  0.00927291,  0.0585483 ,\n",
       "         -0.04359244, -0.09266232])]}"
      ]
     },
     "execution_count": 12,
     "metadata": {},
     "output_type": "execute_result"
    }
   ],
   "source": [
    "pls_analysis(X, y, continuous_vars, categorical_vars, n_splits=10)"
   ]
  },
  {
   "cell_type": "markdown",
   "id": "ba1b8438",
   "metadata": {},
   "source": [
    "## GF vs. MIND"
   ]
  },
  {
   "cell_type": "code",
   "execution_count": 12,
   "id": "6061bc71",
   "metadata": {},
   "outputs": [
    {
     "name": "stdout",
     "output_type": "stream",
     "text": [
      "(33977, 2281)\n",
      "(33977,)\n"
     ]
    }
   ],
   "source": [
    "# Set X and y\n",
    "with open('/Users/baileyng/MIND_models/region_names/MIND_regions.txt', 'r') as f:\n",
    "    brain_regions = [line.strip() for line in f.readlines()]\n",
    "\n",
    "# Define demographic/clinical features\n",
    "demographic_vars = ['31-0.0', '21003-2.0', '54-2.0']\n",
    "\n",
    "# Combine demographic features with brain region features\n",
    "all_vars = demographic_vars + brain_regions\n",
    "\n",
    "X = df[all_vars]\n",
    "y = df['20016-2.0']\n",
    "\n",
    "print(X.shape)\n",
    "print(y.shape)"
   ]
  },
  {
   "cell_type": "code",
   "execution_count": null,
   "id": "35a0020c",
   "metadata": {},
   "outputs": [
    {
     "name": "stdout",
     "output_type": "stream",
     "text": [
      "Columns renamed successfully.\n"
     ]
    }
   ],
   "source": [
    "# rename columns\n",
    "X = X.rename(columns=rename_dict)\n",
    "\n",
    "categorical_vars = ['sex', 'assessment_centre']\n",
    "continuous_vars  = [c for c in X.columns if c not in categorical_vars]"
   ]
  },
  {
   "cell_type": "code",
   "execution_count": 14,
   "id": "a8557037",
   "metadata": {},
   "outputs": [
    {
     "name": "stdout",
     "output_type": "stream",
     "text": [
      "Fold 01 • n_comp=06 • MAE=1.605 • RMSE=2.005 • R²=0.044\n",
      "Fold 02 • n_comp=06 • MAE=1.624 • RMSE=2.024 • R²=0.041\n",
      "Fold 03 • n_comp=06 • MAE=1.633 • RMSE=2.038 • R²=0.044\n",
      "Fold 04 • n_comp=06 • MAE=1.651 • RMSE=2.058 • R²=0.033\n",
      "Fold 05 • n_comp=06 • MAE=1.601 • RMSE=1.997 • R²=0.037\n",
      "Fold 06 • n_comp=06 • MAE=1.565 • RMSE=1.957 • R²=0.061\n",
      "Fold 07 • n_comp=06 • MAE=1.606 • RMSE=2.008 • R²=0.041\n",
      "Fold 08 • n_comp=06 • MAE=1.646 • RMSE=2.037 • R²=0.037\n",
      "Fold 09 • n_comp=06 • MAE=1.603 • RMSE=1.997 • R²=0.040\n",
      "Fold 10 • n_comp=06 • MAE=1.625 • RMSE=2.035 • R²=0.034\n",
      "\n",
      "=== 10-fold CV summary ===\n",
      "n_components (mean ± std): 6.0 ± 0.0\n",
      "MAE :  1.616 ± 0.024\n",
      "RMSE:  2.016 ± 0.027\n",
      "R²  :  0.041 ± 0.008\n"
     ]
    }
   ],
   "source": [
    "pls_analysis(X, y, continuous_vars, categorical_vars, n_splits=10)"
   ]
  },
  {
   "cell_type": "markdown",
   "id": "c6192f4b",
   "metadata": {},
   "source": [
    "## GF vs. CT"
   ]
  },
  {
   "cell_type": "code",
   "execution_count": 13,
   "id": "21159c38",
   "metadata": {},
   "outputs": [
    {
     "name": "stdout",
     "output_type": "stream",
     "text": [
      "(33977, 65)\n",
      "(33977,)\n"
     ]
    }
   ],
   "source": [
    "# Set X and y\n",
    "with open('/Users/baileyng/MIND_models/region_names/CT_regions.txt', 'r') as f:\n",
    "    brain_regions = [line.strip() for line in f.readlines()]\n",
    "\n",
    "# Define demographic/clinical features\n",
    "demographic_vars = ['31-0.0', '21003-2.0', '54-2.0']\n",
    "\n",
    "# Combine demographic features with brain region features\n",
    "all_vars = demographic_vars + brain_regions\n",
    "\n",
    "X = df[all_vars]\n",
    "y = df['20016-2.0']\n",
    "\n",
    "print(X.shape)\n",
    "print(y.shape)"
   ]
  },
  {
   "cell_type": "code",
   "execution_count": 14,
   "id": "42ed6385",
   "metadata": {},
   "outputs": [],
   "source": [
    "# rename columns\n",
    "X = X.rename(columns=rename_dict)\n",
    "\n",
    "categorical_vars = ['sex', 'assessment_centre']\n",
    "continuous_vars  = [c for c in X.columns if c not in categorical_vars]"
   ]
  },
  {
   "cell_type": "code",
   "execution_count": 15,
   "id": "bee67e59",
   "metadata": {},
   "outputs": [
    {
     "name": "stdout",
     "output_type": "stream",
     "text": [
      "Fold 01 • n_comp=06 • MAE=1.632 • RMSE=2.032 • R²=0.018\n",
      "Fold 02 • n_comp=05 • MAE=1.644 • RMSE=2.042 • R²=0.024\n",
      "Fold 03 • n_comp=09 • MAE=1.651 • RMSE=2.057 • R²=0.026\n",
      "Fold 04 • n_comp=05 • MAE=1.662 • RMSE=2.070 • R²=0.021\n",
      "Fold 05 • n_comp=05 • MAE=1.604 • RMSE=2.002 • R²=0.032\n",
      "Fold 06 • n_comp=05 • MAE=1.589 • RMSE=1.985 • R²=0.035\n",
      "Fold 07 • n_comp=06 • MAE=1.631 • RMSE=2.035 • R²=0.015\n",
      "Fold 08 • n_comp=08 • MAE=1.652 • RMSE=2.046 • R²=0.028\n",
      "Fold 09 • n_comp=09 • MAE=1.623 • RMSE=2.016 • R²=0.022\n",
      "Fold 10 • n_comp=06 • MAE=1.637 • RMSE=2.043 • R²=0.026\n",
      "\n",
      "=== 10-fold CV summary ===\n",
      "n_components (mean ± std): 6.4 ± 1.6\n",
      "MAE :  1.632 ± 0.021\n",
      "RMSE:  2.033 ± 0.024\n",
      "R²  :  0.025 ± 0.006\n"
     ]
    }
   ],
   "source": [
    "pls_analysis(X, y, continuous_vars, categorical_vars, n_splits=10)"
   ]
  },
  {
   "cell_type": "markdown",
   "id": "13eaa766",
   "metadata": {},
   "source": [
    "## GF vs. FC"
   ]
  },
  {
   "cell_type": "code",
   "execution_count": 16,
   "id": "5c1106f6",
   "metadata": {},
   "outputs": [
    {
     "name": "stdout",
     "output_type": "stream",
     "text": [
      "(33977, 214)\n",
      "(33977,)\n"
     ]
    }
   ],
   "source": [
    "# Set X and y\n",
    "with open('/Users/baileyng/MIND_models/region_names/FC_regions.txt', 'r') as f:\n",
    "    brain_regions = [line.strip() for line in f.readlines()]\n",
    "\n",
    "# Define demographic/clinical features\n",
    "demographic_vars = ['31-0.0', '21003-2.0', '54-2.0', '25741-2.0']\n",
    "\n",
    "# Combine demographic features with brain region features\n",
    "all_vars = demographic_vars + brain_regions\n",
    "\n",
    "X = df[all_vars]\n",
    "y = df['20016-2.0']\n",
    "\n",
    "print(X.shape)\n",
    "print(y.shape)"
   ]
  },
  {
   "cell_type": "code",
   "execution_count": 17,
   "id": "3ada4ae5",
   "metadata": {},
   "outputs": [],
   "source": [
    "# rename columns\n",
    "X = X.rename(columns=rename_dict)\n",
    "\n",
    "categorical_vars = ['sex', 'assessment_centre']\n",
    "continuous_vars  = [c for c in X.columns if c not in categorical_vars]"
   ]
  },
  {
   "cell_type": "code",
   "execution_count": 18,
   "id": "eb0f2d4f",
   "metadata": {},
   "outputs": [
    {
     "name": "stderr",
     "output_type": "stream",
     "text": [
      "/Users/baileyng/MIND_models/venv/lib/python3.8/site-packages/joblib/externals/loky/process_executor.py:752: UserWarning: A worker stopped while some jobs were given to the executor. This can be caused by a too short worker timeout or by a memory leak.\n",
      "  warnings.warn(\n"
     ]
    },
    {
     "name": "stdout",
     "output_type": "stream",
     "text": [
      "Fold 01 • n_comp=05 • MAE=1.581 • RMSE=1.985 • R²=0.063\n",
      "Fold 02 • n_comp=05 • MAE=1.599 • RMSE=1.990 • R²=0.073\n",
      "Fold 03 • n_comp=05 • MAE=1.615 • RMSE=2.020 • R²=0.060\n",
      "Fold 04 • n_comp=05 • MAE=1.615 • RMSE=2.018 • R²=0.070\n",
      "Fold 05 • n_comp=05 • MAE=1.573 • RMSE=1.964 • R²=0.068\n",
      "Fold 06 • n_comp=05 • MAE=1.545 • RMSE=1.929 • R²=0.088\n",
      "Fold 07 • n_comp=05 • MAE=1.598 • RMSE=1.995 • R²=0.053\n",
      "Fold 08 • n_comp=05 • MAE=1.604 • RMSE=2.000 • R²=0.071\n",
      "Fold 09 • n_comp=05 • MAE=1.572 • RMSE=1.965 • R²=0.070\n",
      "Fold 10 • n_comp=05 • MAE=1.590 • RMSE=1.987 • R²=0.079\n",
      "\n",
      "=== 10-fold CV summary ===\n",
      "n_components (mean ± std): 5.0 ± 0.0\n",
      "MAE :  1.589 ± 0.021\n",
      "RMSE:  1.985 ± 0.026\n",
      "R²  :  0.070 ± 0.009\n"
     ]
    }
   ],
   "source": [
    "pls_analysis(X, y, continuous_vars, categorical_vars, n_splits=10)"
   ]
  },
  {
   "cell_type": "markdown",
   "id": "f90f8fe8",
   "metadata": {},
   "source": [
    "## GF vs. Demographic Data"
   ]
  },
  {
   "cell_type": "code",
   "execution_count": 19,
   "id": "d88c96d0",
   "metadata": {},
   "outputs": [
    {
     "name": "stdout",
     "output_type": "stream",
     "text": [
      "(33977, 3)\n",
      "(33977,)\n"
     ]
    }
   ],
   "source": [
    "# Set X and y\n",
    "brain_regions = []\n",
    "\n",
    "# Define demographic/clinical features\n",
    "demographic_vars = ['31-0.0', '21003-2.0', '54-2.0']\n",
    "\n",
    "# Combine demographic features with brain region features\n",
    "all_vars = demographic_vars + brain_regions\n",
    "\n",
    "X = df[all_vars]\n",
    "y = df['20016-2.0']\n",
    "\n",
    "print(X.shape)\n",
    "print(y.shape)"
   ]
  },
  {
   "cell_type": "code",
   "execution_count": 20,
   "id": "13d94b35",
   "metadata": {},
   "outputs": [],
   "source": [
    "# rename columns\n",
    "X = X.rename(columns=rename_dict)\n",
    "\n",
    "categorical_vars = ['sex', 'assessment_centre']\n",
    "continuous_vars  = [c for c in X.columns if c not in categorical_vars]"
   ]
  },
  {
   "cell_type": "code",
   "execution_count": 21,
   "id": "76102184",
   "metadata": {},
   "outputs": [
    {
     "name": "stdout",
     "output_type": "stream",
     "text": [
      "Fold 01 • n_comp=02 • MAE=1.634 • RMSE=2.040 • R²=0.010\n",
      "Fold 02 • n_comp=02 • MAE=1.654 • RMSE=2.051 • R²=0.015\n",
      "Fold 03 • n_comp=02 • MAE=1.666 • RMSE=2.072 • R²=0.012\n",
      "Fold 04 • n_comp=02 • MAE=1.670 • RMSE=2.076 • R²=0.015\n",
      "Fold 05 • n_comp=02 • MAE=1.614 • RMSE=2.015 • R²=0.019\n",
      "Fold 06 • n_comp=02 • MAE=1.601 • RMSE=1.998 • R²=0.022\n",
      "Fold 07 • n_comp=03 • MAE=1.642 • RMSE=2.044 • R²=0.006\n",
      "Fold 08 • n_comp=02 • MAE=1.670 • RMSE=2.062 • R²=0.012\n",
      "Fold 09 • n_comp=02 • MAE=1.631 • RMSE=2.023 • R²=0.015\n",
      "Fold 10 • n_comp=02 • MAE=1.652 • RMSE=2.054 • R²=0.016\n",
      "\n",
      "=== 10-fold CV summary ===\n",
      "n_components (mean ± std): 2.1 ± 0.3\n",
      "MAE :  1.643 ± 0.022\n",
      "RMSE:  2.044 ± 0.024\n",
      "R²  :  0.014 ± 0.004\n"
     ]
    }
   ],
   "source": [
    "pls_analysis(X, y, continuous_vars, categorical_vars, n_splits=10)"
   ]
  },
  {
   "cell_type": "markdown",
   "id": "6c88071f",
   "metadata": {},
   "source": [
    "# PAL"
   ]
  },
  {
   "cell_type": "code",
   "execution_count": 22,
   "id": "c214d6f8",
   "metadata": {},
   "outputs": [],
   "source": [
    "# Load the dataset\n",
    "df = pd.read_csv('/Users/baileyng/MIND_data/ukb_master_PAL_no_outliers.csv', index_col=0)"
   ]
  },
  {
   "cell_type": "code",
   "execution_count": 23,
   "id": "85101d4b",
   "metadata": {},
   "outputs": [
    {
     "data": {
      "image/png": "[encoded data removed]",
      "text/plain": [
       "<Figure size 640x480 with 1 Axes>"
      ]
     },
     "metadata": {},
     "output_type": "display_data"
    }
   ],
   "source": [
    "# Histogram of PAL Scores\n",
    "sns.histplot(df['20197-2.0'])\n",
    "plt.title('Distribution of PAL Scores')\n",
    "plt.xlabel('PAL Score')\n",
    "plt.ylabel('Frequency')\n",
    "plt.show()"
   ]
  },
  {
   "cell_type": "code",
   "execution_count": 24,
   "id": "48492565",
   "metadata": {},
   "outputs": [
    {
     "name": "stdout",
     "output_type": "stream",
     "text": [
      "24492\n",
      "(24492, 2628)\n"
     ]
    }
   ],
   "source": [
    "print(len(df))\n",
    "print(df.shape)"
   ]
  },
  {
   "cell_type": "markdown",
   "id": "af5ccbaf",
   "metadata": {},
   "source": [
    "### PAL vs. MIND (avg)"
   ]
  },
  {
   "cell_type": "code",
   "execution_count": 10,
   "id": "2d664657",
   "metadata": {},
   "outputs": [
    {
     "name": "stdout",
     "output_type": "stream",
     "text": [
      "(24492, 71)\n",
      "(24492,)\n"
     ]
    }
   ],
   "source": [
    "# Set X and y\n",
    "with open('/Users/baileyng/MIND_models/region_names/MIND_avg_regions.txt', 'r') as f:\n",
    "    brain_regions = [line.strip() for line in f.readlines()]\n",
    "\n",
    "# Define demographic/clinical features\n",
    "demographic_vars = ['31-0.0', '21003-2.0', '54-2.0']\n",
    "\n",
    "# Combine demographic features with brain region features\n",
    "all_vars = demographic_vars + brain_regions\n",
    "\n",
    "X = df[all_vars]\n",
    "y = df['20197-2.0']\n",
    "\n",
    "print(X.shape)\n",
    "print(y.shape)"
   ]
  },
  {
   "cell_type": "code",
   "execution_count": 11,
   "id": "c517fca9",
   "metadata": {},
   "outputs": [],
   "source": [
    "# rename columns\n",
    "X = X.rename(columns=rename_dict)\n",
    "\n",
    "categorical_vars = ['sex', 'assessment_centre']\n",
    "continuous_vars  = [c for c in X.columns if c not in categorical_vars]"
   ]
  },
  {
   "cell_type": "code",
   "execution_count": 12,
   "id": "fff7639a",
   "metadata": {},
   "outputs": [
    {
     "name": "stdout",
     "output_type": "stream",
     "text": [
      "Fold 01 • n_comp=05 • MAE=2.076 • RMSE=2.539 • R²=0.064\n",
      "Fold 02 • n_comp=05 • MAE=2.104 • RMSE=2.551 • R²=0.046\n",
      "Fold 03 • n_comp=05 • MAE=2.098 • RMSE=2.584 • R²=0.062\n",
      "Fold 04 • n_comp=04 • MAE=2.071 • RMSE=2.533 • R²=0.059\n",
      "Fold 05 • n_comp=05 • MAE=2.040 • RMSE=2.476 • R²=0.053\n",
      "Fold 06 • n_comp=04 • MAE=2.105 • RMSE=2.559 • R²=0.081\n",
      "Fold 07 • n_comp=05 • MAE=2.089 • RMSE=2.538 • R²=0.062\n",
      "Fold 08 • n_comp=05 • MAE=2.068 • RMSE=2.536 • R²=0.065\n",
      "Fold 09 • n_comp=05 • MAE=2.082 • RMSE=2.554 • R²=0.066\n",
      "Fold 10 • n_comp=05 • MAE=2.070 • RMSE=2.542 • R²=0.047\n",
      "\n",
      "=== 10-fold CV summary ===\n",
      "n_components (mean ± std): 4.8 ± 0.4\n",
      "MAE :  2.080 ± 0.019\n",
      "RMSE:  2.541 ± 0.026\n",
      "R²  :  0.061 ± 0.009\n"
     ]
    }
   ],
   "source": [
    "pls_analysis(X, y, continuous_vars, categorical_vars, n_splits=10)"
   ]
  },
  {
   "cell_type": "markdown",
   "id": "bc8dfda9",
   "metadata": {},
   "source": [
    "### PAL vs. MIND"
   ]
  },
  {
   "cell_type": "code",
   "execution_count": 13,
   "id": "a275af92",
   "metadata": {},
   "outputs": [
    {
     "name": "stdout",
     "output_type": "stream",
     "text": [
      "(24492, 2281)\n",
      "(24492,)\n"
     ]
    }
   ],
   "source": [
    "# Set X and y\n",
    "with open('/Users/baileyng/MIND_models/region_names/MIND_regions.txt', 'r') as f:\n",
    "    brain_regions = [line.strip() for line in f.readlines()]\n",
    "\n",
    "# Define demographic/clinical features\n",
    "demographic_vars = ['31-0.0', '21003-2.0', '54-2.0']\n",
    "\n",
    "# Combine demographic features with brain region features\n",
    "all_vars = demographic_vars + brain_regions\n",
    "\n",
    "X = df[all_vars]\n",
    "y = df['20197-2.0']\n",
    "\n",
    "print(X.shape)\n",
    "print(y.shape)"
   ]
  },
  {
   "cell_type": "code",
   "execution_count": 14,
   "id": "cfdd7d1c",
   "metadata": {},
   "outputs": [],
   "source": [
    "# rename columns\n",
    "X = X.rename(columns=rename_dict)\n",
    "\n",
    "categorical_vars = ['sex', 'assessment_centre']\n",
    "continuous_vars  = [c for c in X.columns if c not in categorical_vars]"
   ]
  },
  {
   "cell_type": "code",
   "execution_count": 15,
   "id": "2482d5d2",
   "metadata": {},
   "outputs": [
    {
     "name": "stdout",
     "output_type": "stream",
     "text": [
      "Fold 01 • n_comp=07 • MAE=2.088 • RMSE=2.558 • R²=0.050\n",
      "Fold 02 • n_comp=07 • MAE=2.105 • RMSE=2.551 • R²=0.046\n",
      "Fold 03 • n_comp=07 • MAE=2.105 • RMSE=2.589 • R²=0.058\n",
      "Fold 04 • n_comp=09 • MAE=2.091 • RMSE=2.564 • R²=0.036\n",
      "Fold 05 • n_comp=07 • MAE=2.061 • RMSE=2.501 • R²=0.035\n",
      "Fold 06 • n_comp=06 • MAE=2.129 • RMSE=2.598 • R²=0.052\n",
      "Fold 07 • n_comp=08 • MAE=2.113 • RMSE=2.576 • R²=0.034\n",
      "Fold 08 • n_comp=06 • MAE=2.085 • RMSE=2.557 • R²=0.049\n",
      "Fold 09 • n_comp=09 • MAE=2.092 • RMSE=2.571 • R²=0.054\n",
      "Fold 10 • n_comp=06 • MAE=2.088 • RMSE=2.559 • R²=0.035\n",
      "\n",
      "=== 10-fold CV summary ===\n",
      "n_components (mean ± std): 7.2 ± 1.1\n",
      "MAE :  2.096 ± 0.018\n",
      "RMSE:  2.562 ± 0.025\n",
      "R²  :  0.045 ± 0.009\n"
     ]
    }
   ],
   "source": [
    "pls_analysis(X, y, continuous_vars, categorical_vars, n_splits=10)"
   ]
  },
  {
   "cell_type": "markdown",
   "id": "8580185c",
   "metadata": {},
   "source": [
    "### PAL vs. CT"
   ]
  },
  {
   "cell_type": "code",
   "execution_count": 16,
   "id": "f4ffafb4",
   "metadata": {},
   "outputs": [
    {
     "name": "stdout",
     "output_type": "stream",
     "text": [
      "(24492, 65)\n",
      "(24492,)\n"
     ]
    }
   ],
   "source": [
    "# Set X and y\n",
    "with open('/Users/baileyng/MIND_models/region_names/CT_regions.txt', 'r') as f:\n",
    "    brain_regions = [line.strip() for line in f.readlines()]\n",
    "\n",
    "# Define demographic/clinical features\n",
    "demographic_vars = ['31-0.0', '21003-2.0', '54-2.0']\n",
    "\n",
    "# Combine demographic features with brain region features\n",
    "all_vars = demographic_vars + brain_regions\n",
    "\n",
    "X = df[all_vars]\n",
    "y = df['20197-2.0']\n",
    "\n",
    "print(X.shape)\n",
    "print(y.shape)"
   ]
  },
  {
   "cell_type": "code",
   "execution_count": 17,
   "id": "407c3a2e",
   "metadata": {},
   "outputs": [],
   "source": [
    "# rename columns\n",
    "X = X.rename(columns=rename_dict)\n",
    "\n",
    "categorical_vars = ['sex', 'assessment_centre']\n",
    "continuous_vars  = [c for c in X.columns if c not in categorical_vars]"
   ]
  },
  {
   "cell_type": "code",
   "execution_count": 18,
   "id": "988899b1",
   "metadata": {},
   "outputs": [
    {
     "name": "stdout",
     "output_type": "stream",
     "text": [
      "Fold 01 • n_comp=05 • MAE=2.081 • RMSE=2.537 • R²=0.066\n",
      "Fold 02 • n_comp=05 • MAE=2.106 • RMSE=2.556 • R²=0.043\n",
      "Fold 03 • n_comp=05 • MAE=2.096 • RMSE=2.581 • R²=0.064\n",
      "Fold 04 • n_comp=05 • MAE=2.065 • RMSE=2.532 • R²=0.060\n",
      "Fold 05 • n_comp=05 • MAE=2.041 • RMSE=2.475 • R²=0.055\n",
      "Fold 06 • n_comp=06 • MAE=2.107 • RMSE=2.564 • R²=0.077\n",
      "Fold 07 • n_comp=05 • MAE=2.087 • RMSE=2.537 • R²=0.063\n",
      "Fold 08 • n_comp=05 • MAE=2.073 • RMSE=2.540 • R²=0.061\n",
      "Fold 09 • n_comp=05 • MAE=2.084 • RMSE=2.554 • R²=0.066\n",
      "Fold 10 • n_comp=05 • MAE=2.076 • RMSE=2.542 • R²=0.048\n",
      "\n",
      "=== 10-fold CV summary ===\n",
      "n_components (mean ± std): 5.1 ± 0.3\n",
      "MAE :  2.082 ± 0.019\n",
      "RMSE:  2.542 ± 0.027\n",
      "R²  :  0.060 ± 0.009\n"
     ]
    }
   ],
   "source": [
    "pls_analysis(X, y, continuous_vars, categorical_vars, n_splits=10)"
   ]
  },
  {
   "cell_type": "markdown",
   "id": "42080c67",
   "metadata": {},
   "source": [
    "### PAL vs. FC"
   ]
  },
  {
   "cell_type": "code",
   "execution_count": 19,
   "id": "a81ccac7",
   "metadata": {},
   "outputs": [
    {
     "name": "stdout",
     "output_type": "stream",
     "text": [
      "(24492, 214)\n",
      "(24492,)\n"
     ]
    }
   ],
   "source": [
    "# Set X and y\n",
    "with open('/Users/baileyng/MIND_models/region_names/FC_regions.txt', 'r') as f:\n",
    "    brain_regions = [line.strip() for line in f.readlines()]\n",
    "\n",
    "# Define demographic/clinical features\n",
    "demographic_vars = ['31-0.0', '21003-2.0', '54-2.0', '25741-2.0']\n",
    "\n",
    "# Combine demographic features with brain region features\n",
    "all_vars = demographic_vars + brain_regions\n",
    "\n",
    "X = df[all_vars]\n",
    "y = df['20197-2.0']\n",
    "\n",
    "print(X.shape)\n",
    "print(y.shape)"
   ]
  },
  {
   "cell_type": "code",
   "execution_count": 20,
   "id": "e774b18f",
   "metadata": {},
   "outputs": [],
   "source": [
    "# rename columns\n",
    "X = X.rename(columns=rename_dict)\n",
    "\n",
    "categorical_vars = ['sex', 'assessment_centre']\n",
    "continuous_vars  = [c for c in X.columns if c not in categorical_vars]"
   ]
  },
  {
   "cell_type": "code",
   "execution_count": 21,
   "id": "c19bae6e",
   "metadata": {},
   "outputs": [
    {
     "name": "stdout",
     "output_type": "stream",
     "text": [
      "Fold 01 • n_comp=09 • MAE=2.035 • RMSE=2.503 • R²=0.091\n",
      "Fold 02 • n_comp=10 • MAE=2.039 • RMSE=2.497 • R²=0.087\n",
      "Fold 03 • n_comp=09 • MAE=2.055 • RMSE=2.543 • R²=0.091\n",
      "Fold 04 • n_comp=09 • MAE=2.035 • RMSE=2.496 • R²=0.087\n",
      "Fold 05 • n_comp=10 • MAE=1.994 • RMSE=2.423 • R²=0.093\n",
      "Fold 06 • n_comp=09 • MAE=2.053 • RMSE=2.523 • R²=0.106\n",
      "Fold 07 • n_comp=10 • MAE=2.031 • RMSE=2.487 • R²=0.099\n",
      "Fold 08 • n_comp=09 • MAE=2.032 • RMSE=2.500 • R²=0.091\n",
      "Fold 09 • n_comp=09 • MAE=2.037 • RMSE=2.515 • R²=0.094\n",
      "Fold 10 • n_comp=10 • MAE=2.016 • RMSE=2.484 • R²=0.091\n",
      "\n",
      "=== 10-fold CV summary ===\n",
      "n_components (mean ± std): 9.4 ± 0.5\n",
      "MAE :  2.033 ± 0.017\n",
      "RMSE:  2.497 ± 0.030\n",
      "R²  :  0.093 ± 0.006\n"
     ]
    }
   ],
   "source": [
    "pls_analysis(X, y, continuous_vars, categorical_vars, n_splits=10)"
   ]
  },
  {
   "cell_type": "markdown",
   "id": "29bb86dd",
   "metadata": {},
   "source": [
    "## PAL vs. Demographic Data"
   ]
  },
  {
   "cell_type": "code",
   "execution_count": 25,
   "id": "3de47348",
   "metadata": {},
   "outputs": [
    {
     "name": "stdout",
     "output_type": "stream",
     "text": [
      "(24492, 3)\n",
      "(24492,)\n"
     ]
    }
   ],
   "source": [
    "# Set X and y\n",
    "brain_regions = []\n",
    "\n",
    "# Define demographic/clinical features\n",
    "demographic_vars = ['31-0.0', '21003-2.0', '54-2.0']\n",
    "\n",
    "# Combine demographic features with brain region features\n",
    "all_vars = demographic_vars + brain_regions\n",
    "\n",
    "X = df[all_vars]\n",
    "y = df['20197-2.0']\n",
    "\n",
    "print(X.shape)\n",
    "print(y.shape)"
   ]
  },
  {
   "cell_type": "code",
   "execution_count": 26,
   "id": "1696284d",
   "metadata": {},
   "outputs": [],
   "source": [
    "# rename columns\n",
    "X = X.rename(columns=rename_dict)\n",
    "\n",
    "categorical_vars = ['sex', 'assessment_centre']\n",
    "continuous_vars  = [c for c in X.columns if c not in categorical_vars]"
   ]
  },
  {
   "cell_type": "code",
   "execution_count": 27,
   "id": "0653efd9",
   "metadata": {},
   "outputs": [
    {
     "name": "stdout",
     "output_type": "stream",
     "text": [
      "Fold 01 • n_comp=03 • MAE=2.088 • RMSE=2.546 • R²=0.059\n",
      "Fold 02 • n_comp=03 • MAE=2.105 • RMSE=2.556 • R²=0.043\n",
      "Fold 03 • n_comp=03 • MAE=2.101 • RMSE=2.587 • R²=0.059\n",
      "Fold 04 • n_comp=03 • MAE=2.074 • RMSE=2.537 • R²=0.056\n",
      "Fold 05 • n_comp=03 • MAE=2.044 • RMSE=2.473 • R²=0.056\n",
      "Fold 06 • n_comp=03 • MAE=2.114 • RMSE=2.571 • R²=0.071\n",
      "Fold 07 • n_comp=03 • MAE=2.092 • RMSE=2.544 • R²=0.058\n",
      "Fold 08 • n_comp=03 • MAE=2.069 • RMSE=2.536 • R²=0.065\n",
      "Fold 09 • n_comp=03 • MAE=2.086 • RMSE=2.557 • R²=0.064\n",
      "Fold 10 • n_comp=03 • MAE=2.075 • RMSE=2.543 • R²=0.047\n",
      "\n",
      "=== 10-fold CV summary ===\n",
      "n_components (mean ± std): 3.0 ± 0.0\n",
      "MAE :  2.085 ± 0.019\n",
      "RMSE:  2.545 ± 0.029\n",
      "R²  :  0.058 ± 0.008\n"
     ]
    }
   ],
   "source": [
    "pls_analysis(X, y, continuous_vars, categorical_vars, n_splits=10)"
   ]
  },
  {
   "cell_type": "markdown",
   "id": "84004ae1",
   "metadata": {},
   "source": [
    "# DSST"
   ]
  },
  {
   "cell_type": "code",
   "execution_count": 28,
   "id": "6172df27",
   "metadata": {},
   "outputs": [],
   "source": [
    "# Load the dataset\n",
    "df = pd.read_csv('/Users/baileyng/MIND_data/ukb_master_DSST_no_outliers.csv', index_col=0)"
   ]
  },
  {
   "cell_type": "code",
   "execution_count": 29,
   "id": "def9d9fa",
   "metadata": {},
   "outputs": [
    {
     "data": {
      "image/png": "[encoded data removed]",
      "text/plain": [
       "<Figure size 640x480 with 1 Axes>"
      ]
     },
     "metadata": {},
     "output_type": "display_data"
    }
   ],
   "source": [
    "# Histogram of DSST Scores\n",
    "sns.histplot(df['23324-2.0'])\n",
    "plt.title('Distribution of DSST Scores')\n",
    "plt.xlabel('DSST Score')\n",
    "plt.ylabel('Frequency')\n",
    "plt.show()"
   ]
  },
  {
   "cell_type": "code",
   "execution_count": 30,
   "id": "7709d3a7",
   "metadata": {},
   "outputs": [
    {
     "name": "stdout",
     "output_type": "stream",
     "text": [
      "24275\n",
      "(24275, 2628)\n"
     ]
    }
   ],
   "source": [
    "print(len(df))\n",
    "print(df.shape)"
   ]
  },
  {
   "cell_type": "markdown",
   "id": "f5f121e1",
   "metadata": {},
   "source": [
    "### DSST vs. MIND (avg)"
   ]
  },
  {
   "cell_type": "code",
   "execution_count": 25,
   "id": "f363b6e7",
   "metadata": {},
   "outputs": [
    {
     "name": "stdout",
     "output_type": "stream",
     "text": [
      "(24275, 71)\n",
      "(24275,)\n"
     ]
    }
   ],
   "source": [
    "# Set X and y\n",
    "with open('/Users/baileyng/MIND_models/region_names/MIND_avg_regions.txt', 'r') as f:\n",
    "    brain_regions = [line.strip() for line in f.readlines()]\n",
    "\n",
    "# Define demographic/clinical features\n",
    "demographic_vars = ['31-0.0', '21003-2.0', '54-2.0']\n",
    "\n",
    "# Combine demographic features with brain region features\n",
    "all_vars = demographic_vars + brain_regions\n",
    "\n",
    "X = df[all_vars]\n",
    "y = df['23324-2.0']\n",
    "\n",
    "print(X.shape)\n",
    "print(y.shape)"
   ]
  },
  {
   "cell_type": "code",
   "execution_count": 26,
   "id": "6d7d9811",
   "metadata": {},
   "outputs": [],
   "source": [
    "# rename columns\n",
    "X = X.rename(columns=rename_dict)\n",
    "\n",
    "categorical_vars = ['sex', 'assessment_centre']\n",
    "continuous_vars  = [c for c in X.columns if c not in categorical_vars]"
   ]
  },
  {
   "cell_type": "code",
   "execution_count": 27,
   "id": "80755eaf",
   "metadata": {},
   "outputs": [
    {
     "name": "stdout",
     "output_type": "stream",
     "text": [
      "Fold 01 • n_comp=05 • MAE=3.703 • RMSE=4.712 • R²=0.193\n",
      "Fold 02 • n_comp=06 • MAE=3.804 • RMSE=4.845 • R²=0.207\n",
      "Fold 03 • n_comp=05 • MAE=3.725 • RMSE=4.712 • R²=0.200\n",
      "Fold 04 • n_comp=06 • MAE=3.665 • RMSE=4.619 • R²=0.161\n",
      "Fold 05 • n_comp=06 • MAE=3.782 • RMSE=4.816 • R²=0.181\n",
      "Fold 06 • n_comp=06 • MAE=3.701 • RMSE=4.738 • R²=0.195\n",
      "Fold 07 • n_comp=06 • MAE=3.738 • RMSE=4.754 • R²=0.188\n",
      "Fold 08 • n_comp=06 • MAE=3.713 • RMSE=4.738 • R²=0.184\n",
      "Fold 09 • n_comp=06 • MAE=3.640 • RMSE=4.636 • R²=0.189\n",
      "Fold 10 • n_comp=06 • MAE=3.650 • RMSE=4.597 • R²=0.203\n",
      "\n",
      "=== 10-fold CV summary ===\n",
      "n_components (mean ± std): 5.8 ± 0.4\n",
      "MAE :  3.712 ± 0.050\n",
      "RMSE:  4.717 ± 0.077\n",
      "R²  :  0.190 ± 0.013\n"
     ]
    }
   ],
   "source": [
    "pls_analysis(X, y, continuous_vars, categorical_vars, n_splits=10)"
   ]
  },
  {
   "cell_type": "markdown",
   "id": "3b9f2cfb",
   "metadata": {},
   "source": [
    "### DSST vs. MIND"
   ]
  },
  {
   "cell_type": "code",
   "execution_count": 28,
   "id": "898a9804",
   "metadata": {},
   "outputs": [
    {
     "name": "stdout",
     "output_type": "stream",
     "text": [
      "(24275, 2281)\n",
      "(24275,)\n"
     ]
    }
   ],
   "source": [
    "# Set X and y\n",
    "with open('/Users/baileyng/MIND_models/region_names/MIND_regions.txt', 'r') as f:\n",
    "    brain_regions = [line.strip() for line in f.readlines()]\n",
    "\n",
    "# Define demographic/clinical features\n",
    "demographic_vars = ['31-0.0', '21003-2.0', '54-2.0']\n",
    "\n",
    "# Combine demographic features with brain region features\n",
    "all_vars = demographic_vars + brain_regions\n",
    "\n",
    "X = df[all_vars]\n",
    "y = df['23324-2.0']\n",
    "\n",
    "print(X.shape)\n",
    "print(y.shape)"
   ]
  },
  {
   "cell_type": "code",
   "execution_count": 29,
   "id": "85146e22",
   "metadata": {},
   "outputs": [],
   "source": [
    "# rename columns\n",
    "X = X.rename(columns=rename_dict)\n",
    "\n",
    "categorical_vars = ['sex', 'assessment_centre']\n",
    "continuous_vars  = [c for c in X.columns if c not in categorical_vars]"
   ]
  },
  {
   "cell_type": "code",
   "execution_count": 30,
   "id": "c7eed665",
   "metadata": {},
   "outputs": [
    {
     "name": "stdout",
     "output_type": "stream",
     "text": [
      "Fold 01 • n_comp=10 • MAE=3.764 • RMSE=4.769 • R²=0.173\n",
      "Fold 02 • n_comp=10 • MAE=3.865 • RMSE=4.909 • R²=0.186\n",
      "Fold 03 • n_comp=10 • MAE=3.760 • RMSE=4.766 • R²=0.181\n",
      "Fold 04 • n_comp=10 • MAE=3.686 • RMSE=4.673 • R²=0.141\n",
      "Fold 05 • n_comp=10 • MAE=3.821 • RMSE=4.863 • R²=0.165\n",
      "Fold 06 • n_comp=10 • MAE=3.772 • RMSE=4.812 • R²=0.170\n",
      "Fold 07 • n_comp=10 • MAE=3.816 • RMSE=4.831 • R²=0.162\n",
      "Fold 08 • n_comp=10 • MAE=3.761 • RMSE=4.808 • R²=0.159\n",
      "Fold 09 • n_comp=10 • MAE=3.675 • RMSE=4.670 • R²=0.178\n",
      "Fold 10 • n_comp=10 • MAE=3.686 • RMSE=4.649 • R²=0.185\n",
      "\n",
      "=== 10-fold CV summary ===\n",
      "n_components (mean ± std): 10.0 ± 0.0\n",
      "MAE :  3.761 ± 0.060\n",
      "RMSE:  4.775 ± 0.083\n",
      "R²  :  0.170 ± 0.013\n"
     ]
    }
   ],
   "source": [
    "pls_analysis(X, y, continuous_vars, categorical_vars, n_splits=10)"
   ]
  },
  {
   "cell_type": "markdown",
   "id": "adf5398c",
   "metadata": {},
   "source": [
    "### DSST vs. CT"
   ]
  },
  {
   "cell_type": "code",
   "execution_count": 31,
   "id": "df951bcc",
   "metadata": {},
   "outputs": [
    {
     "name": "stdout",
     "output_type": "stream",
     "text": [
      "(24275, 65)\n",
      "(24275,)\n"
     ]
    }
   ],
   "source": [
    "# Set X and y\n",
    "with open('/Users/baileyng/MIND_models/region_names/CT_regions.txt', 'r') as f:\n",
    "    brain_regions = [line.strip() for line in f.readlines()]\n",
    "\n",
    "# Define demographic/clinical features\n",
    "demographic_vars = ['31-0.0', '21003-2.0', '54-2.0']\n",
    "\n",
    "# Combine demographic features with brain region features\n",
    "all_vars = demographic_vars + brain_regions\n",
    "\n",
    "X = df[all_vars]\n",
    "y = df['23324-2.0']\n",
    "\n",
    "print(X.shape)\n",
    "print(y.shape)"
   ]
  },
  {
   "cell_type": "code",
   "execution_count": 32,
   "id": "beccbed7",
   "metadata": {},
   "outputs": [],
   "source": [
    "# rename columns\n",
    "X = X.rename(columns=rename_dict)\n",
    "\n",
    "categorical_vars = ['sex', 'assessment_centre']\n",
    "continuous_vars  = [c for c in X.columns if c not in categorical_vars]"
   ]
  },
  {
   "cell_type": "code",
   "execution_count": 33,
   "id": "401e0cdb",
   "metadata": {},
   "outputs": [
    {
     "name": "stdout",
     "output_type": "stream",
     "text": [
      "Fold 01 • n_comp=06 • MAE=3.709 • RMSE=4.711 • R²=0.193\n",
      "Fold 02 • n_comp=06 • MAE=3.811 • RMSE=4.845 • R²=0.207\n",
      "Fold 03 • n_comp=06 • MAE=3.715 • RMSE=4.713 • R²=0.199\n",
      "Fold 04 • n_comp=06 • MAE=3.659 • RMSE=4.612 • R²=0.163\n",
      "Fold 05 • n_comp=06 • MAE=3.789 • RMSE=4.831 • R²=0.176\n",
      "Fold 06 • n_comp=06 • MAE=3.700 • RMSE=4.728 • R²=0.198\n",
      "Fold 07 • n_comp=06 • MAE=3.743 • RMSE=4.774 • R²=0.181\n",
      "Fold 08 • n_comp=06 • MAE=3.722 • RMSE=4.751 • R²=0.179\n",
      "Fold 09 • n_comp=06 • MAE=3.643 • RMSE=4.639 • R²=0.188\n",
      "Fold 10 • n_comp=06 • MAE=3.652 • RMSE=4.610 • R²=0.198\n",
      "\n",
      "=== 10-fold CV summary ===\n",
      "n_components (mean ± std): 6.0 ± 0.0\n",
      "MAE :  3.714 ± 0.053\n",
      "RMSE:  4.721 ± 0.079\n",
      "R²  :  0.188 ± 0.013\n"
     ]
    }
   ],
   "source": [
    "pls_analysis(X, y, continuous_vars, categorical_vars, n_splits=10)"
   ]
  },
  {
   "cell_type": "markdown",
   "id": "613536d1",
   "metadata": {},
   "source": [
    "### DSST vs. FC"
   ]
  },
  {
   "cell_type": "code",
   "execution_count": 34,
   "id": "52ee3da1",
   "metadata": {},
   "outputs": [
    {
     "name": "stdout",
     "output_type": "stream",
     "text": [
      "(24275, 214)\n",
      "(24275,)\n"
     ]
    }
   ],
   "source": [
    "# Set X and y\n",
    "with open('/Users/baileyng/MIND_models/region_names/FC_regions.txt', 'r') as f:\n",
    "    brain_regions = [line.strip() for line in f.readlines()]\n",
    "\n",
    "# Define demographic/clinical features\n",
    "demographic_vars = ['31-0.0', '21003-2.0', '54-2.0', '25741-2.0']\n",
    "\n",
    "# Combine demographic features with brain region features\n",
    "all_vars = demographic_vars + brain_regions\n",
    "\n",
    "X = df[all_vars]\n",
    "y = df['23324-2.0']\n",
    "\n",
    "print(X.shape)\n",
    "print(y.shape)"
   ]
  },
  {
   "cell_type": "code",
   "execution_count": 35,
   "id": "9350dec7",
   "metadata": {},
   "outputs": [],
   "source": [
    "# rename columns\n",
    "X = X.rename(columns=rename_dict)\n",
    "\n",
    "categorical_vars = ['sex', 'assessment_centre']\n",
    "continuous_vars  = [c for c in X.columns if c not in categorical_vars]"
   ]
  },
  {
   "cell_type": "code",
   "execution_count": 36,
   "id": "1ca57c8e",
   "metadata": {},
   "outputs": [
    {
     "name": "stdout",
     "output_type": "stream",
     "text": [
      "Fold 01 • n_comp=09 • MAE=3.647 • RMSE=4.658 • R²=0.211\n",
      "Fold 02 • n_comp=09 • MAE=3.773 • RMSE=4.814 • R²=0.217\n",
      "Fold 03 • n_comp=09 • MAE=3.699 • RMSE=4.674 • R²=0.213\n",
      "Fold 04 • n_comp=09 • MAE=3.648 • RMSE=4.611 • R²=0.164\n",
      "Fold 05 • n_comp=09 • MAE=3.779 • RMSE=4.796 • R²=0.188\n",
      "Fold 06 • n_comp=09 • MAE=3.669 • RMSE=4.691 • R²=0.211\n",
      "Fold 07 • n_comp=09 • MAE=3.714 • RMSE=4.719 • R²=0.200\n",
      "Fold 08 • n_comp=10 • MAE=3.684 • RMSE=4.727 • R²=0.187\n",
      "Fold 09 • n_comp=10 • MAE=3.633 • RMSE=4.616 • R²=0.196\n",
      "Fold 10 • n_comp=09 • MAE=3.617 • RMSE=4.565 • R²=0.214\n",
      "\n",
      "=== 10-fold CV summary ===\n",
      "n_components (mean ± std): 9.2 ± 0.4\n",
      "MAE :  3.686 ± 0.053\n",
      "RMSE:  4.687 ± 0.076\n",
      "R²  :  0.200 ± 0.016\n"
     ]
    }
   ],
   "source": [
    "pls_analysis(X, y, continuous_vars, categorical_vars, n_splits=10)"
   ]
  },
  {
   "cell_type": "markdown",
   "id": "9c3b2784",
   "metadata": {},
   "source": [
    "## DSST vs. Demographic Data"
   ]
  },
  {
   "cell_type": "code",
   "execution_count": 31,
   "id": "5d610060",
   "metadata": {},
   "outputs": [
    {
     "name": "stdout",
     "output_type": "stream",
     "text": [
      "(24275, 3)\n",
      "(24275,)\n"
     ]
    }
   ],
   "source": [
    "# Set X and y\n",
    "brain_regions = []\n",
    "\n",
    "# Define demographic/clinical features\n",
    "demographic_vars = ['31-0.0', '21003-2.0', '54-2.0']\n",
    "\n",
    "# Combine demographic features with brain region features\n",
    "all_vars = demographic_vars + brain_regions\n",
    "\n",
    "X = df[all_vars]\n",
    "y = df['23324-2.0']\n",
    "\n",
    "print(X.shape)\n",
    "print(y.shape)"
   ]
  },
  {
   "cell_type": "code",
   "execution_count": 32,
   "id": "a8c32b25",
   "metadata": {},
   "outputs": [],
   "source": [
    "# rename columns\n",
    "X = X.rename(columns=rename_dict)\n",
    "\n",
    "categorical_vars = ['sex', 'assessment_centre']\n",
    "continuous_vars  = [c for c in X.columns if c not in categorical_vars]"
   ]
  },
  {
   "cell_type": "code",
   "execution_count": 33,
   "id": "1c1ee293",
   "metadata": {},
   "outputs": [
    {
     "name": "stdout",
     "output_type": "stream",
     "text": [
      "Fold 01 • n_comp=03 • MAE=3.725 • RMSE=4.734 • R²=0.185\n",
      "Fold 02 • n_comp=03 • MAE=3.810 • RMSE=4.852 • R²=0.205\n",
      "Fold 03 • n_comp=03 • MAE=3.722 • RMSE=4.722 • R²=0.196\n",
      "Fold 04 • n_comp=03 • MAE=3.674 • RMSE=4.631 • R²=0.156\n",
      "Fold 05 • n_comp=03 • MAE=3.798 • RMSE=4.849 • R²=0.170\n",
      "Fold 06 • n_comp=03 • MAE=3.716 • RMSE=4.749 • R²=0.191\n",
      "Fold 07 • n_comp=03 • MAE=3.761 • RMSE=4.786 • R²=0.177\n",
      "Fold 08 • n_comp=03 • MAE=3.731 • RMSE=4.774 • R²=0.171\n",
      "Fold 09 • n_comp=03 • MAE=3.657 • RMSE=4.660 • R²=0.181\n",
      "Fold 10 • n_comp=03 • MAE=3.666 • RMSE=4.622 • R²=0.194\n",
      "\n",
      "=== 10-fold CV summary ===\n",
      "n_components (mean ± std): 3.0 ± 0.0\n",
      "MAE :  3.726 ± 0.050\n",
      "RMSE:  4.738 ± 0.078\n",
      "R²  :  0.183 ± 0.014\n"
     ]
    }
   ],
   "source": [
    "pls_analysis(X, y, continuous_vars, categorical_vars, n_splits=10)"
   ]
  },
  {
   "cell_type": "markdown",
   "id": "a246b9cd",
   "metadata": {},
   "source": [
    "# TMT"
   ]
  },
  {
   "cell_type": "code",
   "execution_count": 49,
   "id": "d834c5a2",
   "metadata": {},
   "outputs": [],
   "source": [
    "# Load the dataset\n",
    "df = pd.read_csv('/Users/baileyng/MIND_data/ukb_master_TMT_no_outliers.csv', index_col=0)"
   ]
  },
  {
   "cell_type": "code",
   "execution_count": 50,
   "id": "77bca847",
   "metadata": {},
   "outputs": [
    {
     "data": {
      "image/png": "[encoded data removed]",
      "text/plain": [
       "<Figure size 640x480 with 1 Axes>"
      ]
     },
     "metadata": {},
     "output_type": "display_data"
    }
   ],
   "source": [
    "# Histogram of TMT Scores\n",
    "sns.histplot(df['trailmaking_score'])\n",
    "plt.title('Distribution of TMT Scores')\n",
    "plt.xlabel('TMT Score')\n",
    "plt.ylabel('Frequency')\n",
    "plt.show()"
   ]
  },
  {
   "cell_type": "code",
   "execution_count": 51,
   "id": "433b60d7",
   "metadata": {},
   "outputs": [
    {
     "name": "stdout",
     "output_type": "stream",
     "text": [
      "23362\n",
      "(23362, 2628)\n"
     ]
    }
   ],
   "source": [
    "print(len(df))\n",
    "print(df.shape)"
   ]
  },
  {
   "cell_type": "markdown",
   "id": "c1c6f792",
   "metadata": {},
   "source": [
    "### TMT vs. MIND (avg)"
   ]
  },
  {
   "cell_type": "code",
   "execution_count": 52,
   "id": "13923e0c",
   "metadata": {},
   "outputs": [
    {
     "name": "stdout",
     "output_type": "stream",
     "text": [
      "(23362, 71)\n",
      "(23362,)\n"
     ]
    }
   ],
   "source": [
    "# Set X and y\n",
    "with open('/Users/baileyng/MIND_models/region_names/MIND_avg_regions.txt', 'r') as f:\n",
    "    brain_regions = [line.strip() for line in f.readlines()]\n",
    "\n",
    "# Define demographic/clinical features\n",
    "demographic_vars = ['31-0.0', '21003-2.0', '54-2.0']\n",
    "\n",
    "# Combine demographic features with brain region features\n",
    "all_vars = demographic_vars + brain_regions\n",
    "\n",
    "X = df[all_vars]\n",
    "y = df['trailmaking_score']\n",
    "\n",
    "print(X.shape)\n",
    "print(y.shape)"
   ]
  },
  {
   "cell_type": "code",
   "execution_count": 53,
   "id": "24e9a044",
   "metadata": {},
   "outputs": [],
   "source": [
    "# rename columns\n",
    "X = X.rename(columns=rename_dict)\n",
    "\n",
    "categorical_vars = ['sex', 'assessment_centre']\n",
    "continuous_vars  = [c for c in X.columns if c not in categorical_vars]"
   ]
  },
  {
   "cell_type": "code",
   "execution_count": 54,
   "id": "b4062295",
   "metadata": {},
   "outputs": [
    {
     "name": "stdout",
     "output_type": "stream",
     "text": [
      "Fold 01 • n_comp=06 • MAE=152.318 • RMSE=204.732 • R²=0.098\n",
      "Fold 02 • n_comp=06 • MAE=142.837 • RMSE=190.780 • R²=0.137\n",
      "Fold 03 • n_comp=06 • MAE=144.857 • RMSE=197.484 • R²=0.121\n",
      "Fold 04 • n_comp=06 • MAE=142.657 • RMSE=197.176 • R²=0.136\n",
      "Fold 05 • n_comp=06 • MAE=140.738 • RMSE=190.721 • R²=0.133\n",
      "Fold 06 • n_comp=06 • MAE=144.204 • RMSE=201.155 • R²=0.125\n",
      "Fold 07 • n_comp=06 • MAE=144.319 • RMSE=195.567 • R²=0.133\n",
      "Fold 08 • n_comp=07 • MAE=146.228 • RMSE=203.530 • R²=0.146\n",
      "Fold 09 • n_comp=05 • MAE=147.680 • RMSE=203.748 • R²=0.124\n",
      "Fold 10 • n_comp=05 • MAE=147.192 • RMSE=202.258 • R²=0.153\n",
      "\n",
      "=== 10-fold CV summary ===\n",
      "n_components (mean ± std): 5.9 ± 0.5\n",
      "MAE :  145.303 ± 3.092\n",
      "RMSE:  198.715 ± 4.938\n",
      "R²  :  0.131 ± 0.014\n"
     ]
    }
   ],
   "source": [
    "pls_analysis(X, y, continuous_vars, categorical_vars, n_splits=10)"
   ]
  },
  {
   "cell_type": "markdown",
   "id": "d5ac1e0e",
   "metadata": {},
   "source": [
    "### TMT vs. MIND"
   ]
  },
  {
   "cell_type": "code",
   "execution_count": 55,
   "id": "e59fdee9",
   "metadata": {},
   "outputs": [
    {
     "name": "stdout",
     "output_type": "stream",
     "text": [
      "(23362, 2281)\n",
      "(23362,)\n"
     ]
    }
   ],
   "source": [
    "# Set X and y\n",
    "with open('/Users/baileyng/MIND_models/region_names/MIND_regions.txt', 'r') as f:\n",
    "    brain_regions = [line.strip() for line in f.readlines()]\n",
    "\n",
    "# Define demographic/clinical features\n",
    "demographic_vars = ['31-0.0', '21003-2.0', '54-2.0']\n",
    "\n",
    "# Combine demographic features with brain region features\n",
    "all_vars = demographic_vars + brain_regions\n",
    "\n",
    "X = df[all_vars]\n",
    "y = df['trailmaking_score']\n",
    "\n",
    "print(X.shape)\n",
    "print(y.shape)"
   ]
  },
  {
   "cell_type": "code",
   "execution_count": 56,
   "id": "62e69828",
   "metadata": {},
   "outputs": [],
   "source": [
    "# rename columns\n",
    "X = X.rename(columns=rename_dict)\n",
    "\n",
    "categorical_vars = ['sex', 'assessment_centre']\n",
    "continuous_vars  = [c for c in X.columns if c not in categorical_vars]"
   ]
  },
  {
   "cell_type": "code",
   "execution_count": 57,
   "id": "cc39053c",
   "metadata": {},
   "outputs": [
    {
     "name": "stdout",
     "output_type": "stream",
     "text": [
      "Fold 01 • n_comp=10 • MAE=154.170 • RMSE=207.349 • R²=0.075\n",
      "Fold 02 • n_comp=10 • MAE=144.555 • RMSE=192.138 • R²=0.125\n",
      "Fold 03 • n_comp=10 • MAE=146.401 • RMSE=198.617 • R²=0.111\n",
      "Fold 04 • n_comp=10 • MAE=143.089 • RMSE=197.674 • R²=0.131\n",
      "Fold 05 • n_comp=10 • MAE=143.380 • RMSE=193.257 • R²=0.110\n",
      "Fold 06 • n_comp=10 • MAE=145.262 • RMSE=202.085 • R²=0.117\n",
      "Fold 07 • n_comp=10 • MAE=146.335 • RMSE=197.612 • R²=0.115\n",
      "Fold 08 • n_comp=10 • MAE=148.679 • RMSE=205.495 • R²=0.130\n",
      "Fold 09 • n_comp=10 • MAE=150.024 • RMSE=206.563 • R²=0.100\n",
      "Fold 10 • n_comp=10 • MAE=147.616 • RMSE=202.686 • R²=0.149\n",
      "\n",
      "=== 10-fold CV summary ===\n",
      "n_components (mean ± std): 10.0 ± 0.0\n",
      "MAE :  146.951 ± 3.193\n",
      "RMSE:  200.348 ± 5.079\n",
      "R²  :  0.116 ± 0.019\n"
     ]
    }
   ],
   "source": [
    "pls_analysis(X, y, continuous_vars, categorical_vars, n_splits=10)"
   ]
  },
  {
   "cell_type": "markdown",
   "id": "fa6f99fe",
   "metadata": {},
   "source": [
    "### TMT vs. CT"
   ]
  },
  {
   "cell_type": "code",
   "execution_count": 58,
   "id": "b7923977",
   "metadata": {},
   "outputs": [
    {
     "name": "stdout",
     "output_type": "stream",
     "text": [
      "(23362, 65)\n",
      "(23362,)\n"
     ]
    }
   ],
   "source": [
    "# Set X and y\n",
    "with open('/Users/baileyng/MIND_models/region_names/CT_regions.txt', 'r') as f:\n",
    "    brain_regions = [line.strip() for line in f.readlines()]\n",
    "\n",
    "# Define demographic/clinical features\n",
    "demographic_vars = ['31-0.0', '21003-2.0', '54-2.0']\n",
    "\n",
    "# Combine demographic features with brain region features\n",
    "all_vars = demographic_vars + brain_regions\n",
    "\n",
    "X = df[all_vars]\n",
    "y = df['trailmaking_score']\n",
    "\n",
    "print(X.shape)\n",
    "print(y.shape)"
   ]
  },
  {
   "cell_type": "code",
   "execution_count": 59,
   "id": "d3ca6927",
   "metadata": {},
   "outputs": [],
   "source": [
    "# rename columns\n",
    "X = X.rename(columns=rename_dict)\n",
    "\n",
    "categorical_vars = ['sex', 'assessment_centre']\n",
    "continuous_vars  = [c for c in X.columns if c not in categorical_vars]"
   ]
  },
  {
   "cell_type": "code",
   "execution_count": 60,
   "id": "8bbc821c",
   "metadata": {},
   "outputs": [
    {
     "name": "stdout",
     "output_type": "stream",
     "text": [
      "Fold 01 • n_comp=06 • MAE=152.069 • RMSE=204.187 • R²=0.103\n",
      "Fold 02 • n_comp=05 • MAE=142.597 • RMSE=190.942 • R²=0.136\n",
      "Fold 03 • n_comp=05 • MAE=145.190 • RMSE=197.621 • R²=0.119\n",
      "Fold 04 • n_comp=05 • MAE=141.833 • RMSE=197.567 • R²=0.132\n",
      "Fold 05 • n_comp=05 • MAE=141.372 • RMSE=191.402 • R²=0.127\n",
      "Fold 06 • n_comp=05 • MAE=145.111 • RMSE=201.368 • R²=0.123\n",
      "Fold 07 • n_comp=05 • MAE=145.290 • RMSE=195.711 • R²=0.132\n",
      "Fold 08 • n_comp=05 • MAE=147.614 • RMSE=204.960 • R²=0.134\n",
      "Fold 09 • n_comp=05 • MAE=147.860 • RMSE=203.735 • R²=0.125\n",
      "Fold 10 • n_comp=05 • MAE=148.069 • RMSE=202.969 • R²=0.147\n",
      "\n",
      "=== 10-fold CV summary ===\n",
      "n_components (mean ± std): 5.1 ± 0.3\n",
      "MAE :  145.700 ± 3.140\n",
      "RMSE:  199.046 ± 4.936\n",
      "R²  :  0.128 ± 0.011\n"
     ]
    }
   ],
   "source": [
    "pls_analysis(X, y, continuous_vars, categorical_vars, n_splits=10)"
   ]
  },
  {
   "cell_type": "markdown",
   "id": "5b23f907",
   "metadata": {},
   "source": [
    "### TMT vs. FC"
   ]
  },
  {
   "cell_type": "code",
   "execution_count": 61,
   "id": "da36a119",
   "metadata": {},
   "outputs": [
    {
     "name": "stdout",
     "output_type": "stream",
     "text": [
      "(23362, 214)\n",
      "(23362,)\n"
     ]
    }
   ],
   "source": [
    "# Set X and y\n",
    "with open('/Users/baileyng/MIND_models/region_names/FC_regions.txt', 'r') as f:\n",
    "    brain_regions = [line.strip() for line in f.readlines()]\n",
    "\n",
    "# Define demographic/clinical features\n",
    "demographic_vars = ['31-0.0', '21003-2.0', '54-2.0', '25741-2.0']\n",
    "\n",
    "# Combine demographic features with brain region features\n",
    "all_vars = demographic_vars + brain_regions\n",
    "\n",
    "X = df[all_vars]\n",
    "y = df['trailmaking_score']\n",
    "\n",
    "print(X.shape)\n",
    "print(y.shape)"
   ]
  },
  {
   "cell_type": "code",
   "execution_count": 62,
   "id": "306a7206",
   "metadata": {},
   "outputs": [],
   "source": [
    "# rename columns\n",
    "X = X.rename(columns=rename_dict)\n",
    "\n",
    "categorical_vars = ['sex', 'assessment_centre']\n",
    "continuous_vars  = [c for c in X.columns if c not in categorical_vars]"
   ]
  },
  {
   "cell_type": "code",
   "execution_count": 63,
   "id": "ddee4381",
   "metadata": {},
   "outputs": [
    {
     "name": "stdout",
     "output_type": "stream",
     "text": [
      "Fold 01 • n_comp=10 • MAE=150.771 • RMSE=201.648 • R²=0.125\n",
      "Fold 02 • n_comp=09 • MAE=142.185 • RMSE=189.841 • R²=0.146\n",
      "Fold 03 • n_comp=09 • MAE=143.033 • RMSE=195.107 • R²=0.142\n",
      "Fold 04 • n_comp=10 • MAE=139.365 • RMSE=193.056 • R²=0.171\n",
      "Fold 05 • n_comp=09 • MAE=140.170 • RMSE=189.078 • R²=0.148\n",
      "Fold 06 • n_comp=09 • MAE=143.335 • RMSE=198.413 • R²=0.149\n",
      "Fold 07 • n_comp=09 • MAE=141.680 • RMSE=192.026 • R²=0.165\n",
      "Fold 08 • n_comp=09 • MAE=144.788 • RMSE=200.041 • R²=0.175\n",
      "Fold 09 • n_comp=08 • MAE=143.833 • RMSE=199.569 • R²=0.160\n",
      "Fold 10 • n_comp=08 • MAE=146.041 • RMSE=200.870 • R²=0.164\n",
      "\n",
      "=== 10-fold CV summary ===\n",
      "n_components (mean ± std): 9.0 ± 0.6\n",
      "MAE :  143.520 ± 3.075\n",
      "RMSE:  195.965 ± 4.490\n",
      "R²  :  0.154 ± 0.015\n"
     ]
    }
   ],
   "source": [
    "pls_analysis(X, y, continuous_vars, categorical_vars, n_splits=10)"
   ]
  },
  {
   "cell_type": "markdown",
   "id": "2b82db4d",
   "metadata": {},
   "source": [
    "## TMT vs. Demographic Data"
   ]
  },
  {
   "cell_type": "code",
   "execution_count": 37,
   "id": "c12cdfa5",
   "metadata": {},
   "outputs": [
    {
     "name": "stdout",
     "output_type": "stream",
     "text": [
      "(23362, 3)\n",
      "(23362,)\n"
     ]
    }
   ],
   "source": [
    "# Set X and y\n",
    "brain_regions = []\n",
    "\n",
    "# Define demographic/clinical features\n",
    "demographic_vars = ['31-0.0', '21003-2.0', '54-2.0']\n",
    "\n",
    "# Combine demographic features with brain region features\n",
    "all_vars = demographic_vars + brain_regions\n",
    "\n",
    "X = df[all_vars]\n",
    "y = df['trailmaking_score']\n",
    "\n",
    "print(X.shape)\n",
    "print(y.shape)"
   ]
  },
  {
   "cell_type": "code",
   "execution_count": 38,
   "id": "efe58d0f",
   "metadata": {},
   "outputs": [],
   "source": [
    "# rename columns\n",
    "X = X.rename(columns=rename_dict)\n",
    "\n",
    "categorical_vars = ['sex', 'assessment_centre']\n",
    "continuous_vars  = [c for c in X.columns if c not in categorical_vars]"
   ]
  },
  {
   "cell_type": "code",
   "execution_count": 39,
   "id": "ba9561c2",
   "metadata": {},
   "outputs": [
    {
     "name": "stdout",
     "output_type": "stream",
     "text": [
      "Fold 01 • n_comp=03 • MAE=152.282 • RMSE=204.259 • R²=0.102\n",
      "Fold 02 • n_comp=03 • MAE=142.748 • RMSE=191.249 • R²=0.133\n",
      "Fold 03 • n_comp=03 • MAE=145.659 • RMSE=198.146 • R²=0.115\n",
      "Fold 04 • n_comp=03 • MAE=142.949 • RMSE=198.163 • R²=0.127\n",
      "Fold 05 • n_comp=03 • MAE=141.653 • RMSE=191.782 • R²=0.123\n",
      "Fold 06 • n_comp=03 • MAE=145.550 • RMSE=202.484 • R²=0.114\n",
      "Fold 07 • n_comp=03 • MAE=145.553 • RMSE=196.516 • R²=0.125\n",
      "Fold 08 • n_comp=03 • MAE=147.787 • RMSE=205.066 • R²=0.133\n",
      "Fold 09 • n_comp=03 • MAE=147.829 • RMSE=203.702 • R²=0.125\n",
      "Fold 10 • n_comp=03 • MAE=149.105 • RMSE=204.382 • R²=0.135\n",
      "\n",
      "=== 10-fold CV summary ===\n",
      "n_components (mean ± std): 3.0 ± 0.0\n",
      "MAE :  146.111 ± 3.079\n",
      "RMSE:  199.575 ± 4.941\n",
      "R²  :  0.123 ± 0.010\n"
     ]
    }
   ],
   "source": [
    "pls_analysis(X, y, continuous_vars, categorical_vars, n_splits=10)"
   ]
  },
  {
   "cell_type": "markdown",
   "id": "681c7426",
   "metadata": {},
   "source": [
    "# All Cognitive Data"
   ]
  },
  {
   "cell_type": "code",
   "execution_count": 64,
   "id": "0992403c",
   "metadata": {},
   "outputs": [],
   "source": [
    "# Load the dataset\n",
    "df = pd.read_csv('/Users/baileyng/MIND_data/ukb_master_allcols_no_outliers.csv', index_col=0)"
   ]
  },
  {
   "cell_type": "code",
   "execution_count": 65,
   "id": "a882aea3",
   "metadata": {},
   "outputs": [
    {
     "name": "stdout",
     "output_type": "stream",
     "text": [
      "23188\n",
      "(23188, 2628)\n"
     ]
    }
   ],
   "source": [
    "print(len(df))\n",
    "print(df.shape)"
   ]
  },
  {
   "cell_type": "markdown",
   "id": "8cf455b8",
   "metadata": {},
   "source": [
    "### All Data vs. MIND (avg)"
   ]
  },
  {
   "cell_type": "code",
   "execution_count": 66,
   "id": "679ba7c3",
   "metadata": {},
   "outputs": [
    {
     "name": "stdout",
     "output_type": "stream",
     "text": [
      "(23188, 72)\n",
      "(23188, 4)\n"
     ]
    }
   ],
   "source": [
    "# Set X and y\n",
    "with open('/Users/baileyng/MIND_models/region_names/MIND_avg_regions.txt', 'r') as f:\n",
    "    brain_regions = [line.strip() for line in f.readlines()]\n",
    "\n",
    "# Define demographic/clinical features\n",
    "demographic_vars = ['31-0.0', '21003-2.0', '54-2.0', '25741-2.0']\n",
    "\n",
    "# Combine demographic features with brain region features\n",
    "all_vars = demographic_vars + brain_regions\n",
    "\n",
    "X = df[all_vars]\n",
    "y = df[['20016-2.0', '20197-2.0', '23324-2.0', 'trailmaking_score']]\n",
    "\n",
    "print(X.shape)\n",
    "print(y.shape)"
   ]
  },
  {
   "cell_type": "code",
   "execution_count": 67,
   "id": "9b6fafd9",
   "metadata": {},
   "outputs": [],
   "source": [
    "# rename columns\n",
    "X = X.rename(columns=rename_dict)\n",
    "\n",
    "categorical_vars = ['sex', 'assessment_centre']\n",
    "continuous_vars  = [c for c in X.columns if c not in categorical_vars]"
   ]
  },
  {
   "cell_type": "code",
   "execution_count": 68,
   "id": "0601eb51",
   "metadata": {},
   "outputs": [
    {
     "name": "stderr",
     "output_type": "stream",
     "text": [
      "/Users/baileyng/MIND_models/venv/lib/python3.8/site-packages/joblib/externals/loky/process_executor.py:752: UserWarning: A worker stopped while some jobs were given to the executor. This can be caused by a too short worker timeout or by a memory leak.\n",
      "  warnings.warn(\n"
     ]
    },
    {
     "name": "stdout",
     "output_type": "stream",
     "text": [
      "Fold 01 • n_comp=06 • MAE=38.963 • RMSE=103.069 • R²=0.105\n",
      "Fold 02 • n_comp=07 • MAE=38.815 • RMSE=99.729 • R²=0.107\n",
      "Fold 03 • n_comp=06 • MAE=37.902 • RMSE=98.066 • R²=0.092\n",
      "Fold 04 • n_comp=06 • MAE=37.266 • RMSE=96.908 • R²=0.105\n",
      "Fold 05 • n_comp=06 • MAE=37.185 • RMSE=96.130 • R²=0.114\n",
      "Fold 06 • n_comp=06 • MAE=37.326 • RMSE=97.993 • R²=0.098\n",
      "Fold 07 • n_comp=06 • MAE=38.435 • RMSE=101.136 • R²=0.105\n",
      "Fold 08 • n_comp=06 • MAE=37.059 • RMSE=95.961 • R²=0.096\n",
      "Fold 09 • n_comp=06 • MAE=38.013 • RMSE=97.666 • R²=0.098\n",
      "Fold 10 • n_comp=06 • MAE=37.006 • RMSE=96.941 • R²=0.106\n",
      "\n",
      "=== 10-fold CV summary ===\n",
      "n_components (mean ± std): 6.1 ± 0.3\n",
      "MAE :  37.797 ± 0.701\n",
      "RMSE:  98.360 ± 2.175\n",
      "R²  :  0.103 ± 0.006\n"
     ]
    }
   ],
   "source": [
    "pls_analysis(X, y, continuous_vars, categorical_vars, n_splits=10)"
   ]
  },
  {
   "cell_type": "markdown",
   "id": "22ba38d1",
   "metadata": {},
   "source": [
    "### All Data vs. MIND"
   ]
  },
  {
   "cell_type": "code",
   "execution_count": 69,
   "id": "ef09a9ed",
   "metadata": {},
   "outputs": [
    {
     "name": "stdout",
     "output_type": "stream",
     "text": [
      "(23188, 2282)\n",
      "(23188, 4)\n"
     ]
    }
   ],
   "source": [
    "# Set X and y\n",
    "with open('/Users/baileyng/MIND_models/region_names/MIND_regions.txt', 'r') as f:\n",
    "    brain_regions = [line.strip() for line in f.readlines()]\n",
    "\n",
    "# Define demographic/clinical features\n",
    "demographic_vars = ['31-0.0', '21003-2.0', '54-2.0', '25741-2.0']\n",
    "\n",
    "# Combine demographic features with brain region features\n",
    "all_vars = demographic_vars + brain_regions\n",
    "\n",
    "X = df[all_vars]\n",
    "y = df[['20016-2.0', '20197-2.0', '23324-2.0', 'trailmaking_score']]\n",
    "\n",
    "print(X.shape)\n",
    "print(y.shape)"
   ]
  },
  {
   "cell_type": "code",
   "execution_count": 70,
   "id": "e286e44a",
   "metadata": {},
   "outputs": [],
   "source": [
    "# rename columns\n",
    "X = X.rename(columns=rename_dict)\n",
    "\n",
    "categorical_vars = ['sex', 'assessment_centre']\n",
    "continuous_vars  = [c for c in X.columns if c not in categorical_vars]"
   ]
  },
  {
   "cell_type": "code",
   "execution_count": 71,
   "id": "ee371d15",
   "metadata": {},
   "outputs": [
    {
     "name": "stdout",
     "output_type": "stream",
     "text": [
      "Fold 01 • n_comp=10 • MAE=39.348 • RMSE=104.118 • R²=0.092\n",
      "Fold 02 • n_comp=10 • MAE=39.267 • RMSE=100.462 • R²=0.087\n",
      "Fold 03 • n_comp=10 • MAE=38.077 • RMSE=98.722 • R²=0.079\n",
      "Fold 04 • n_comp=10 • MAE=37.735 • RMSE=98.075 • R²=0.084\n",
      "Fold 05 • n_comp=10 • MAE=37.670 • RMSE=97.302 • R²=0.102\n",
      "Fold 06 • n_comp=10 • MAE=37.887 • RMSE=99.169 • R²=0.080\n",
      "Fold 07 • n_comp=10 • MAE=38.876 • RMSE=102.051 • R²=0.087\n",
      "Fold 08 • n_comp=10 • MAE=37.346 • RMSE=96.161 • R²=0.085\n",
      "Fold 09 • n_comp=10 • MAE=38.023 • RMSE=98.109 • R²=0.089\n",
      "Fold 10 • n_comp=10 • MAE=37.712 • RMSE=98.031 • R²=0.090\n",
      "\n",
      "=== 10-fold CV summary ===\n",
      "n_components (mean ± std): 10.0 ± 0.0\n",
      "MAE :  38.194 ± 0.672\n",
      "RMSE:  99.220 ± 2.254\n",
      "R²  :  0.088 ± 0.006\n"
     ]
    }
   ],
   "source": [
    "pls_analysis(X, y, continuous_vars, categorical_vars, n_splits=10)"
   ]
  },
  {
   "cell_type": "markdown",
   "id": "042e1a5f",
   "metadata": {},
   "source": [
    "### All Data vs. CT"
   ]
  },
  {
   "cell_type": "code",
   "execution_count": 72,
   "id": "c1b9b856",
   "metadata": {},
   "outputs": [
    {
     "name": "stdout",
     "output_type": "stream",
     "text": [
      "(23188, 66)\n",
      "(23188, 4)\n"
     ]
    }
   ],
   "source": [
    "# Set X and y\n",
    "with open('/Users/baileyng/MIND_models/region_names/CT_regions.txt', 'r') as f:\n",
    "    brain_regions = [line.strip() for line in f.readlines()]\n",
    "\n",
    "# Define demographic/clinical features\n",
    "demographic_vars = ['31-0.0', '21003-2.0', '54-2.0', '25741-2.0']\n",
    "\n",
    "# Combine demographic features with brain region features\n",
    "all_vars = demographic_vars + brain_regions\n",
    "\n",
    "X = df[all_vars]\n",
    "y = df[['20016-2.0', '20197-2.0', '23324-2.0', 'trailmaking_score']]\n",
    "\n",
    "print(X.shape)\n",
    "print(y.shape)"
   ]
  },
  {
   "cell_type": "code",
   "execution_count": 73,
   "id": "17581aa4",
   "metadata": {},
   "outputs": [],
   "source": [
    "# rename columns\n",
    "X = X.rename(columns=rename_dict)\n",
    "\n",
    "categorical_vars = ['sex', 'assessment_centre']\n",
    "continuous_vars  = [c for c in X.columns if c not in categorical_vars]"
   ]
  },
  {
   "cell_type": "code",
   "execution_count": 74,
   "id": "714386f8",
   "metadata": {},
   "outputs": [
    {
     "name": "stdout",
     "output_type": "stream",
     "text": [
      "Fold 01 • n_comp=09 • MAE=39.060 • RMSE=103.071 • R²=0.101\n",
      "Fold 02 • n_comp=10 • MAE=39.027 • RMSE=100.050 • R²=0.100\n",
      "Fold 03 • n_comp=08 • MAE=37.872 • RMSE=98.257 • R²=0.091\n",
      "Fold 04 • n_comp=08 • MAE=37.548 • RMSE=97.138 • R²=0.101\n",
      "Fold 05 • n_comp=08 • MAE=37.295 • RMSE=96.739 • R²=0.108\n",
      "Fold 06 • n_comp=08 • MAE=37.452 • RMSE=98.318 • R²=0.095\n",
      "Fold 07 • n_comp=08 • MAE=38.687 • RMSE=101.365 • R²=0.102\n",
      "Fold 08 • n_comp=08 • MAE=37.230 • RMSE=95.997 • R²=0.093\n",
      "Fold 09 • n_comp=08 • MAE=37.999 • RMSE=97.598 • R²=0.096\n",
      "Fold 10 • n_comp=08 • MAE=37.003 • RMSE=97.023 • R²=0.105\n",
      "\n",
      "=== 10-fold CV summary ===\n",
      "n_components (mean ± std): 8.3 ± 0.6\n",
      "MAE :  37.917 ± 0.720\n",
      "RMSE:  98.556 ± 2.140\n",
      "R²  :  0.099 ± 0.005\n"
     ]
    }
   ],
   "source": [
    "pls_analysis(X, y, continuous_vars, categorical_vars, n_splits=10)"
   ]
  },
  {
   "cell_type": "markdown",
   "id": "f3970d36",
   "metadata": {},
   "source": [
    "### All Data vs. FC"
   ]
  },
  {
   "cell_type": "code",
   "execution_count": 75,
   "id": "cd074a25",
   "metadata": {},
   "outputs": [
    {
     "name": "stdout",
     "output_type": "stream",
     "text": [
      "(23188, 214)\n",
      "(23188, 4)\n"
     ]
    }
   ],
   "source": [
    "# Set X and y\n",
    "with open('/Users/baileyng/MIND_models/region_names/FC_regions.txt', 'r') as f:\n",
    "    brain_regions = [line.strip() for line in f.readlines()]\n",
    "\n",
    "# Define demographic/clinical features\n",
    "demographic_vars = ['31-0.0', '21003-2.0', '54-2.0', '25741-2.0']\n",
    "\n",
    "# Combine demographic features with brain region features\n",
    "all_vars = demographic_vars + brain_regions\n",
    "\n",
    "X = df[all_vars]\n",
    "y = df[['20016-2.0', '20197-2.0', '23324-2.0', 'trailmaking_score']]\n",
    "\n",
    "print(X.shape)\n",
    "print(y.shape)"
   ]
  },
  {
   "cell_type": "code",
   "execution_count": 76,
   "id": "62893b7e",
   "metadata": {},
   "outputs": [],
   "source": [
    "# rename columns\n",
    "X = X.rename(columns=rename_dict)\n",
    "\n",
    "categorical_vars = ['sex', 'assessment_centre']\n",
    "continuous_vars  = [c for c in X.columns if c not in categorical_vars]"
   ]
  },
  {
   "cell_type": "code",
   "execution_count": 77,
   "id": "6da3d513",
   "metadata": {},
   "outputs": [
    {
     "name": "stdout",
     "output_type": "stream",
     "text": [
      "Fold 01 • n_comp=10 • MAE=38.572 • RMSE=102.272 • R²=0.122\n",
      "Fold 02 • n_comp=10 • MAE=37.958 • RMSE=97.309 • R²=0.133\n",
      "Fold 03 • n_comp=10 • MAE=37.432 • RMSE=97.233 • R²=0.109\n",
      "Fold 04 • n_comp=10 • MAE=36.940 • RMSE=95.720 • R²=0.125\n",
      "Fold 05 • n_comp=10 • MAE=36.889 • RMSE=95.314 • R²=0.130\n",
      "Fold 06 • n_comp=10 • MAE=36.883 • RMSE=96.672 • R²=0.117\n",
      "Fold 07 • n_comp=10 • MAE=38.596 • RMSE=100.685 • R²=0.122\n",
      "Fold 08 • n_comp=10 • MAE=36.640 • RMSE=95.105 • R²=0.112\n",
      "Fold 09 • n_comp=10 • MAE=37.448 • RMSE=96.504 • R²=0.114\n",
      "Fold 10 • n_comp=10 • MAE=36.591 • RMSE=95.581 • R²=0.126\n",
      "\n",
      "=== 10-fold CV summary ===\n",
      "n_components (mean ± std): 10.0 ± 0.0\n",
      "MAE :  37.395 ± 0.713\n",
      "RMSE:  97.239 ± 2.267\n",
      "R²  :  0.121 ± 0.007\n"
     ]
    }
   ],
   "source": [
    "pls_analysis(X, y, continuous_vars, categorical_vars, n_splits=10)"
   ]
  },
  {
   "cell_type": "markdown",
   "id": "a4749ea9",
   "metadata": {},
   "source": [
    "## All Data vs. Demographic Data"
   ]
  },
  {
   "cell_type": "code",
   "execution_count": 42,
   "id": "41c6d9f0",
   "metadata": {},
   "outputs": [
    {
     "name": "stdout",
     "output_type": "stream",
     "text": [
      "(23188, 3)\n",
      "(23188, 4)\n"
     ]
    }
   ],
   "source": [
    "# Set X and y\n",
    "brain_regions = []\n",
    "\n",
    "# Define demographic/clinical features\n",
    "demographic_vars = ['31-0.0', '21003-2.0', '54-2.0']\n",
    "\n",
    "# Combine demographic features with brain region features\n",
    "all_vars = demographic_vars + brain_regions\n",
    "\n",
    "X = df[all_vars]\n",
    "y = df[['20016-2.0', '20197-2.0', '23324-2.0', 'trailmaking_score']]\n",
    "\n",
    "print(X.shape)\n",
    "print(y.shape)"
   ]
  },
  {
   "cell_type": "code",
   "execution_count": 43,
   "id": "ed1cf873",
   "metadata": {},
   "outputs": [],
   "source": [
    "# rename columns\n",
    "X = X.rename(columns=rename_dict)\n",
    "\n",
    "categorical_vars = ['sex', 'assessment_centre']\n",
    "continuous_vars  = [c for c in X.columns if c not in categorical_vars]"
   ]
  },
  {
   "cell_type": "code",
   "execution_count": 44,
   "id": "e03b369d",
   "metadata": {},
   "outputs": [
    {
     "name": "stdout",
     "output_type": "stream",
     "text": [
      "Fold 01 • n_comp=03 • MAE=39.274 • RMSE=103.815 • R²=0.091\n",
      "Fold 02 • n_comp=03 • MAE=39.212 • RMSE=100.257 • R²=0.090\n",
      "Fold 03 • n_comp=02 • MAE=37.997 • RMSE=98.248 • R²=0.084\n",
      "Fold 04 • n_comp=03 • MAE=37.591 • RMSE=97.475 • R²=0.091\n",
      "Fold 05 • n_comp=03 • MAE=37.341 • RMSE=97.048 • R²=0.099\n",
      "Fold 06 • n_comp=03 • MAE=37.781 • RMSE=98.943 • R²=0.084\n",
      "Fold 07 • n_comp=03 • MAE=38.890 • RMSE=101.743 • R²=0.094\n",
      "Fold 08 • n_comp=03 • MAE=37.411 • RMSE=96.739 • R²=0.083\n",
      "Fold 09 • n_comp=03 • MAE=38.284 • RMSE=98.245 • R²=0.085\n",
      "Fold 10 • n_comp=03 • MAE=37.188 • RMSE=97.733 • R²=0.094\n",
      "\n",
      "=== 10-fold CV summary ===\n",
      "n_components (mean ± std): 2.9 ± 0.3\n",
      "MAE :  38.097 ± 0.744\n",
      "RMSE:  99.024 ± 2.151\n",
      "R²  :  0.090 ± 0.005\n"
     ]
    }
   ],
   "source": [
    "pls_analysis(X, y, continuous_vars, categorical_vars, n_splits=10)"
   ]
  }
 ],
 "metadata": {
  "kernelspec": {
   "display_name": "venv",
   "language": "python",
   "name": "python3"
  },
  "language_info": {
   "codemirror_mode": {
    "name": "ipython",
    "version": 3
   },
   "file_extension": ".py",
   "mimetype": "text/x-python",
   "name": "python",
   "nbconvert_exporter": "python",
   "pygments_lexer": "ipython3",
   "version": "3.8.20"
  }
 },
 "nbformat": 4,
 "nbformat_minor": 5
}
