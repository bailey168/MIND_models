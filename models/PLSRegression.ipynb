{
 "cells": [
  {
   "cell_type": "markdown",
   "id": "25ae522b",
   "metadata": {},
   "source": [
    "# Set up"
   ]
  },
  {
   "cell_type": "code",
   "execution_count": 2,
   "id": "edc7107c",
   "metadata": {},
   "outputs": [],
   "source": [
    "import pandas as pd\n",
    "import numpy as np\n",
    "import seaborn as sns\n",
    "from collections import Counter\n",
    "from matplotlib import cm\n",
    "import matplotlib.pyplot as plt\n",
    "from sklearn.preprocessing import StandardScaler, OneHotEncoder\n",
    "from sklearn.compose import ColumnTransformer\n",
    "from sklearn.pipeline import make_pipeline\n",
    "from sklearn.cross_decomposition import PLSRegression\n",
    "from sklearn.model_selection import KFold, GridSearchCV\n",
    "from sklearn.metrics import mean_absolute_error, mean_squared_error, r2_score, explained_variance_score\n",
    "import nibabel.freesurfer.io as fsio\n",
    "from nilearn import datasets, plotting\n",
    "import random\n",
    "import json\n",
    "from adjustText import adjust_text\n",
    "from matplotlib.patches import Ellipse"
   ]
  },
  {
   "cell_type": "code",
   "execution_count": 3,
   "id": "65ebc51f",
   "metadata": {},
   "outputs": [],
   "source": [
    "random.seed(42)\n",
    "np.random.seed(42)"
   ]
  },
  {
   "cell_type": "code",
   "execution_count": 4,
   "id": "66b17f13",
   "metadata": {},
   "outputs": [],
   "source": [
    "rename = pd.read_csv('/Users/baileyng/MIND_models/region_names/col_renames.csv')\n",
    "rename_dict = dict(zip(rename['datafield_code'], rename['datafield_name']))"
   ]
  },
  {
   "cell_type": "markdown",
   "id": "52a9eeb1",
   "metadata": {},
   "source": [
    "# PLS Analysis Function"
   ]
  },
  {
   "cell_type": "code",
   "execution_count": 5,
   "id": "6e93beae",
   "metadata": {},
   "outputs": [],
   "source": [
    "def pct_var(pls: PLSRegression, X: np.ndarray, Y: np.ndarray):\n",
    "    Xc = X - X.mean(axis=0)\n",
    "    Yc = Y - Y.mean(axis=0)\n",
    "    SSX = np.sum(Xc**2)\n",
    "    SSY = np.sum(Yc**2)\n",
    "\n",
    "    T = pls.x_scores_\n",
    "    P = pls.x_loadings_\n",
    "    Q = pls.y_loadings_\n",
    "\n",
    "    pct_X = []\n",
    "    pct_Y = []\n",
    "    for k in range(1, pls.n_components+1):\n",
    "        Tk = T[:, :k]\n",
    "        Pk = P[:, :k]\n",
    "        Qk = Q[:, :k]\n",
    "\n",
    "        Xhat = Tk @ Pk.T\n",
    "        Yhat = Tk @ Qk.T\n",
    "\n",
    "        pct_X.append(100 * np.sum(Xhat**2) / SSX)\n",
    "        pct_Y.append(100 * np.sum(Yhat**2) / SSY)\n",
    "\n",
    "    return np.array(pct_X), np.array(pct_Y)"
   ]
  },
  {
   "cell_type": "code",
   "execution_count": 6,
   "id": "fd52cd56",
   "metadata": {},
   "outputs": [],
   "source": [
    "def varname_to_region(var):\n",
    "    if var.startswith('lh_'):\n",
    "        return 'lh', var.replace('lh_', '').replace('_thickness', '')\n",
    "    elif var.startswith('rh_'):\n",
    "        return 'rh', var.replace('rh_', '').replace('_thickness', '').replace('.', '')\n",
    "    return None, None\n",
    "\n",
    "# 2. Set FreeSurfer fsaverage path\n",
    "fsaverage_path = '/Applications/freesurfer/subjects/fsaverage'\n",
    "\n",
    "# 3. Load annotation files\n",
    "lh_annot = fsio.read_annot(f'{fsaverage_path}/label/lh.aparc.annot')\n",
    "rh_annot = fsio.read_annot(f'{fsaverage_path}/label/rh.aparc.annot')\n",
    "lh_labels, lh_cmap, lh_names = lh_annot\n",
    "rh_labels, rh_cmap, rh_names = rh_annot\n",
    "lh_names = [name.decode('utf-8') for name in lh_names]\n",
    "rh_names = [name.decode('utf-8') for name in rh_names]"
   ]
  },
  {
   "cell_type": "code",
   "execution_count": 7,
   "id": "1e9b381d",
   "metadata": {},
   "outputs": [],
   "source": [
    "def pls_analysis(X, y, continuous_vars, categorical_vars, n_splits=10):\n",
    "    preprocessor = ColumnTransformer(transformers=[\n",
    "        # scale continuous features\n",
    "        ('num', StandardScaler(), continuous_vars),\n",
    "        # one-hot encode the assessment centre (drop one level to avoid collinearity)\n",
    "        ('cat', OneHotEncoder(drop='first', sparse_output=False), categorical_vars),\n",
    "    ])\n",
    "\n",
    "    # Cross-validation set-up\n",
    "    outer_cv = KFold(n_splits=n_splits, shuffle=True, random_state=42)\n",
    "\n",
    "    outer_mae, outer_rmse, outer_r2 = [], [], []\n",
    "    best_ncomps = []\n",
    "    coefs_list = []\n",
    "    # vip_list = []\n",
    "\n",
    "    for fold, (train_idx, test_idx) in enumerate(outer_cv.split(X, y), start=1):\n",
    "        X_train, X_test = X.iloc[train_idx], X.iloc[test_idx]\n",
    "        y_train, y_test = y.iloc[train_idx], y.iloc[test_idx]\n",
    "\n",
    "        # Inner CV\n",
    "        pipe = make_pipeline(\n",
    "            preprocessor,\n",
    "            PLSRegression()\n",
    "        )\n",
    "\n",
    "        param_grid = {\n",
    "            'plsregression__n_components': list(range(1, 11))\n",
    "        }\n",
    "\n",
    "        inner_cv = KFold(n_splits=10, shuffle=True, random_state=42)\n",
    "        grid = GridSearchCV(\n",
    "            pipe, \n",
    "            param_grid, \n",
    "            cv=inner_cv, \n",
    "            scoring='neg_mean_squared_error',  # or 'r2'\n",
    "            n_jobs=-1\n",
    "        )\n",
    "        \n",
    "        grid.fit(X_train, y_train)\n",
    "        best_n = grid.best_params_['plsregression__n_components']\n",
    "        best_ncomps.append(best_n)\n",
    "        \n",
    "        y_pred = grid.predict(X_test)\n",
    "\n",
    "        # --- metrics ---\n",
    "        mae = mean_absolute_error(y_test, y_pred)\n",
    "        rmse = np.sqrt(mean_squared_error(y_test, y_pred))\n",
    "        r2 = r2_score(y_test, y_pred)\n",
    "\n",
    "        outer_mae.append(mae)\n",
    "        outer_rmse.append(rmse)\n",
    "        outer_r2.append(r2)\n",
    "\n",
    "        # --- extract loadings and compute VIP ---\n",
    "        pls = grid.best_estimator_.named_steps['plsregression']\n",
    "        coefs_list.append(pls.coef_.ravel())\n",
    "        \n",
    "        T = pls.x_scores_\n",
    "        W = pls.x_weights_\n",
    "        Q = pls.y_loadings_\n",
    "        p, h = W.shape\n",
    "\n",
    "        # # S = np.sum((T ** 2) * (Q.T ** 2), axis=0)\n",
    "        # S = np.sum((T ** 2) * (Q ** 2), axis=0)\n",
    "        # total_S = np.sum(S)\n",
    "        # vip = np.zeros(p)\n",
    "        # for j in range(p):\n",
    "        #     # weight_sq = [(W[j, k] ** 2) * S[k] for k in range(h)]\n",
    "        #     # vip[j] = np.sqrt(p * np.sum(weight_sq) / total_S)\n",
    "        #     vip[j] = np.sqrt(p * np.sum((W[j, :]**2) * S) / total_S)\n",
    "        # vip_list.append(vip)\n",
    "\n",
    "        print(f'Fold {fold:02d} • n_comp={best_n:02d} • '\n",
    "            f'MAE={mae:.3f} • RMSE={rmse:.3f} • R²={r2:.3f}')\n",
    "        \n",
    "\n",
    "    # Aggregate results\n",
    "    print('\\n=== 10-fold CV summary ===')\n",
    "    print(f'n_components (mean ± std): '\n",
    "        f'{np.mean(best_ncomps):.1f} ± {np.std(best_ncomps):.1f}')\n",
    "    print(f'MAE :  {np.mean(outer_mae):.3f} ± {np.std(outer_mae):.3f}')\n",
    "    print(f'RMSE:  {np.mean(outer_rmse):.3f} ± {np.std(outer_rmse):.3f}')\n",
    "    print(f'R²  :  {np.mean(outer_r2):.3f} ± {np.std(outer_r2):.3f}')\n",
    "\n",
    "    # # Get feature names after preprocessing\n",
    "    # # First, fit the preprocessor to get the transformed feature names\n",
    "    # preprocessor_fitted = preprocessor.fit(X)\n",
    "\n",
    "    # # Get feature names for each transformer\n",
    "    # num_features = continuous_vars\n",
    "    # cat_features = list(preprocessor_fitted.named_transformers_['cat'].get_feature_names_out(categorical_vars))\n",
    "\n",
    "    # # Combine all feature names in the correct order\n",
    "    # all_feature_names = num_features + cat_features\n",
    "\n",
    "\n",
    "    # # Final refit on all data\n",
    "    # final_pipe = make_pipeline(\n",
    "    #     preprocessor,\n",
    "    #     PLSRegression(\n",
    "    #         n_components=int(np.round(np.mean(best_ncomps))),\n",
    "    #     )\n",
    "    # ).fit(X, y)\n",
    "\n",
    "    # pls = final_pipe.named_steps['plsregression']\n",
    "    # ct  = final_pipe.named_steps['columntransformer']\n",
    "\n",
    "\n",
    "\n",
    "\n",
    "    # # 3) re-transform your original X to the exact matrix PLS saw\n",
    "    # X_proc = ct.transform(X)            # this is a NumPy array, shape (n_samples, n_features')\n",
    "\n",
    "    # # 4) compute the cumulative % variance explained\n",
    "    # X_pctvar, Y_pctvar = pct_var(pls, X_proc, y)\n",
    "\n",
    "    # print(\"Percentage of variance explained:\")\n",
    "    # print(\"Component\\tX (Predictors)\\tY (Response)\")\n",
    "    # print(\"-\" * 40)\n",
    "    # for i in range(len(X_pctvar)):\n",
    "    #     print(f\"PLS{i+1}\\t\\t{X_pctvar[i]:.2f}%\\t\\t{Y_pctvar[i]:.2f}%\")\n",
    "\n",
    "    # print(f\"\\nTotal variance explained:\")\n",
    "    # print(f\"X: {X_pctvar[-1]:.2f}%\")\n",
    "    # print(f\"Y: {Y_pctvar[-1]:.2f}%\")\n",
    "\n",
    "    # # Plot the results\n",
    "    # plt.figure(figsize=(10, 6))\n",
    "    # components = np.arange(1, len(X_pctvar) + 1)\n",
    "    # plt.plot(components, X_pctvar, 'b-o', label='X (Predictors)', linewidth=2)\n",
    "    # plt.plot(components, Y_pctvar, 'r-o', label='Y (Fluid Intelligence)', linewidth=2)\n",
    "    # plt.xlabel('PLS Component')\n",
    "    # plt.ylabel('Cumulative Variance Explained (%)')\n",
    "    # plt.title('Percentage of Variance Explained by PLS Components')\n",
    "    # plt.legend()\n",
    "    # plt.grid(True, alpha=0.3)\n",
    "    # plt.xticks(components)\n",
    "    # plt.show()\n",
    "\n",
    "\n",
    "    # T = pls.x_scores_\n",
    "\n",
    "    # # Scatter plot of Fluid Intelligence Score vs PLS1 scores\n",
    "    # plt.figure(figsize=(8, 6))\n",
    "    # plt.scatter(T[:,0], y, alpha=0.6, s=12, color='blue')\n",
    "    # plt.xlabel(\"PLS1 Scores\")\n",
    "    # plt.ylabel(\"Fluid Intelligence Score\")\n",
    "    # plt.title(\"Fluid Intelligence Score vs PLS1 Scores\")\n",
    "    # plt.show()\n",
    "\n",
    "    # # Scatter plot of Fluid Intelligence Score vs PLS2 scores\n",
    "    # plt.figure(figsize=(8, 6))\n",
    "    # plt.scatter(T[:,1], y, alpha=0.6, s=12, color='red')\n",
    "    # plt.xlabel(\"PLS2 Scores\")\n",
    "    # plt.ylabel(\"Fluid Intelligence Score\")\n",
    "    # plt.title(\"Fluid Intelligence Score vs PLS2 Scores\")\n",
    "    # plt.show()\n",
    "\n",
    "    # W = pls.x_weights_\n",
    "    # plt.figure(figsize=(12, 6))\n",
    "    # plt.bar(all_feature_names, W[:,0])\n",
    "    # plt.xticks(rotation=90)\n",
    "    # plt.title(\"PLS1 Weights\")\n",
    "    # plt.tight_layout()\n",
    "    # plt.show()\n",
    "\n",
    "    # plt.figure(figsize=(12, 6))\n",
    "    # plt.bar(all_feature_names, W[:,1])\n",
    "    # plt.xticks(rotation=90)\n",
    "    # plt.title(\"PLS2 Weights\")\n",
    "    # plt.tight_layout()\n",
    "    # plt.show()\n",
    "\n",
    "    # plt.figure(figsize=(12, 6))\n",
    "    # plt.bar(all_feature_names, W[:,2])\n",
    "    # plt.xticks(rotation=90)\n",
    "    # plt.title(\"PLS3 Weights\")\n",
    "    # plt.tight_layout()\n",
    "    # plt.show()\n",
    "\n",
    "\n",
    "    # # # Calculate Z-scores for the weights\n",
    "    # # W1_mean = np.mean(W[:, 0])\n",
    "    # # W1_std = np.std(W[:, 0])\n",
    "    # # W2_mean = np.mean(W[:, 1])\n",
    "    # # W2_std = np.std(W[:, 1])\n",
    "\n",
    "    # # plt.figure(figsize=(8, 10))\n",
    "    # # plt.axhline(0, color='grey', lw=1)\n",
    "    # # plt.axvline(0, color='grey', lw=1)\n",
    "\n",
    "    # # # Draw arrows for each variable\n",
    "    # # for i, var in enumerate(all_feature_names):\n",
    "    # #     plt.arrow(0, 0, W[i, 0], W[i, 1], \n",
    "    # #             color='b', alpha=0.6, head_width=0.01, head_length=0.01, length_includes_head=True)\n",
    "\n",
    "    # # # Label all variables, closer to the arrow tip\n",
    "    # # texts = []\n",
    "    # # for i, var in enumerate(all_feature_names):\n",
    "    # #     texts.append(\n",
    "    # #         plt.text(W[i, 0]*1.02, W[i, 1]*1.02, var, color='r', ha='center', va='center', \n",
    "    # #                 fontsize=8, clip_on=True)\n",
    "    # #     )\n",
    "\n",
    "    # # ellipse = Ellipse((0, 0), \n",
    "    # #                 width=6*W1_std, height=6*W2_std,  # 6 = 2*3 std devs (±3)\n",
    "    # #                 fill=False, color='g', linestyle='--', linewidth=2, \n",
    "    # #                 label='Z-score = ±3 (elliptical)')\n",
    "    # # plt.gca().add_patch(ellipse)\n",
    "\n",
    "    # # adjust_text(texts, arrowprops=dict(arrowstyle='-', color='grey', lw=0.5), \n",
    "    # #             expand_points=(1.2, 1.2), expand_text=(1.2, 1.2), force_text=0.5, force_points=0.5)\n",
    "\n",
    "    # # plt.xlabel(\"PLS1 Weight\")\n",
    "    # # plt.ylabel(\"PLS2 Weight\")\n",
    "    # # plt.title(\"PLS Weight Plot\")\n",
    "    # # plt.grid(True)\n",
    "    # # plt.axis('equal')\n",
    "    # # plt.tight_layout()\n",
    "    # # plt.legend()\n",
    "    # # plt.show()\n",
    "\n",
    "    # # 1. Variable names and coefficients\n",
    "    # vars_to_plot = np.array(all_feature_names)\n",
    "    # means = pls.x_weights_[:,0]\n",
    "\n",
    "    # # 4. Prepare vertex data arrays\n",
    "    # lh_vertex_data = np.full_like(lh_labels, np.nan, dtype=float)\n",
    "    # rh_vertex_data = np.full_like(rh_labels, np.nan, dtype=float)\n",
    "\n",
    "    # for var, coef in zip(vars_to_plot, means):\n",
    "    #     hemi, region = varname_to_region(var)\n",
    "    #     if hemi == 'lh':\n",
    "    #         idxs = [i for i, n in enumerate(lh_names) if region.lower() in n.lower()]\n",
    "    #         for idx in idxs:\n",
    "    #             lh_vertex_data[lh_labels == idx] = coef\n",
    "    #     elif hemi == 'rh':\n",
    "    #         idxs = [i for i, n in enumerate(rh_names) if region.lower() in n.lower()]\n",
    "    #         for idx in idxs:\n",
    "    #             rh_vertex_data[rh_labels == idx] = coef\n",
    "\n",
    "    # # 5. Load inflated_pre surfaces\n",
    "    # lh_inflated_pre_path = f'{fsaverage_path}/surf/lh.inflated_pre'\n",
    "    # rh_inflated_pre_path = f'{fsaverage_path}/surf/rh.inflated_pre'\n",
    "    # lh_coords, lh_faces = fsio.read_geometry(lh_inflated_pre_path)\n",
    "    # rh_coords, rh_faces = fsio.read_geometry(rh_inflated_pre_path)\n",
    "    # lh_mesh = (lh_coords, lh_faces)\n",
    "    # rh_mesh = (rh_coords, rh_faces)\n",
    "\n",
    "    # # 6. Load fsaverage sulcal maps for background\n",
    "    # fsavg = datasets.fetch_surf_fsaverage('fsaverage')\n",
    "    # sulc_left = fsavg.sulc_left\n",
    "    # sulc_right = fsavg.sulc_right\n",
    "\n",
    "    # # 7. Plotting function\n",
    "    # global_vmax = np.nanmax(np.abs(np.concatenate([lh_vertex_data, rh_vertex_data])))\n",
    "\n",
    "    # def plot_three_views_custom(surf_mesh, vertex_data, bg_map, hemi, title):\n",
    "    #     views = ['lateral', 'medial', 'dorsal']\n",
    "    #     fig, axes = plt.subplots(1, 3, subplot_kw={'projection': '3d'}, figsize=(40, 20))\n",
    "    #     cmap = 'seismic'\n",
    "    #     for i, view in enumerate(views):\n",
    "    #         plotting.plot_surf_stat_map(\n",
    "    #             surf_mesh, vertex_data, hemi=hemi, bg_map=bg_map,\n",
    "    #             cmap=cmap, colorbar=False, vmax=global_vmax, vmin=-global_vmax, symmetric_cbar=True,\n",
    "    #             view=view, axes=axes[i], title='', figure=fig, alpha=0.9\n",
    "    #         )\n",
    "    #         axes[i].set_title(view.capitalize(), fontsize=30)\n",
    "    #         axes[i].axis('off')\n",
    "    #     # Colorbar\n",
    "    #     cbar_ax = fig.add_axes([0.33, 0.09, 0.34, 0.03])\n",
    "    #     norm = plt.Normalize(vmin=-global_vmax, vmax=global_vmax)\n",
    "    #     cb = fig.colorbar(cm.ScalarMappable(norm=norm, cmap=cmap), cax=cbar_ax, orientation='horizontal')\n",
    "    #     cb.set_label('PLS1 Weights', fontsize=16)\n",
    "    #     cb.ax.tick_params(labelsize=18)\n",
    "    #     plt.suptitle(title, fontsize=38, y=0.96)\n",
    "    #     plt.tight_layout(rect=[0, 0.15, 1, 0.92])\n",
    "    #     plt.show()\n",
    "\n",
    "    # # 8. Plot with inflated_pre\n",
    "    # plot_three_views_custom(lh_mesh, lh_vertex_data, sulc_left, 'left', '(Demographic + MIND)')\n",
    "    # plot_three_views_custom(rh_mesh, rh_vertex_data, sulc_right, 'right', '(Demographic + MIND)')\n",
    "\n",
    "    # # 1. Variable names and coefficients\n",
    "    # vars_to_plot = np.array(all_feature_names)\n",
    "    # means = pls.x_weights_[:,1]\n",
    "\n",
    "    # # 4. Prepare vertex data arrays\n",
    "    # lh_vertex_data = np.full_like(lh_labels, np.nan, dtype=float)\n",
    "    # rh_vertex_data = np.full_like(rh_labels, np.nan, dtype=float)\n",
    "\n",
    "    # for var, coef in zip(vars_to_plot, means):\n",
    "    #     hemi, region = varname_to_region(var)\n",
    "    #     if hemi == 'lh':\n",
    "    #         idxs = [i for i, n in enumerate(lh_names) if region.lower() in n.lower()]\n",
    "    #         for idx in idxs:\n",
    "    #             lh_vertex_data[lh_labels == idx] = coef\n",
    "    #     elif hemi == 'rh':\n",
    "    #         idxs = [i for i, n in enumerate(rh_names) if region.lower() in n.lower()]\n",
    "    #         for idx in idxs:\n",
    "    #             rh_vertex_data[rh_labels == idx] = coef\n",
    "\n",
    "    # # 5. Load inflated_pre surfaces\n",
    "    # lh_inflated_pre_path = f'{fsaverage_path}/surf/lh.inflated_pre'\n",
    "    # rh_inflated_pre_path = f'{fsaverage_path}/surf/rh.inflated_pre'\n",
    "    # lh_coords, lh_faces = fsio.read_geometry(lh_inflated_pre_path)\n",
    "    # rh_coords, rh_faces = fsio.read_geometry(rh_inflated_pre_path)\n",
    "    # lh_mesh = (lh_coords, lh_faces)\n",
    "    # rh_mesh = (rh_coords, rh_faces)\n",
    "\n",
    "    # # 6. Load fsaverage sulcal maps for background\n",
    "    # fsavg = datasets.fetch_surf_fsaverage('fsaverage')\n",
    "    # sulc_left = fsavg.sulc_left\n",
    "    # sulc_right = fsavg.sulc_right\n",
    "\n",
    "    # # 7. Plotting function\n",
    "    # global_vmax = np.nanmax(np.abs(np.concatenate([lh_vertex_data, rh_vertex_data])))\n",
    "\n",
    "    # def plot_three_views_custom(surf_mesh, vertex_data, bg_map, hemi, title):\n",
    "    #     views = ['lateral', 'medial', 'dorsal']\n",
    "    #     fig, axes = plt.subplots(1, 3, subplot_kw={'projection': '3d'}, figsize=(40, 20))\n",
    "    #     cmap = 'seismic'\n",
    "    #     for i, view in enumerate(views):\n",
    "    #         plotting.plot_surf_stat_map(\n",
    "    #             surf_mesh, vertex_data, hemi=hemi, bg_map=bg_map,\n",
    "    #             cmap=cmap, colorbar=False, vmax=global_vmax, vmin=-global_vmax, symmetric_cbar=True,\n",
    "    #             view=view, axes=axes[i], title='', figure=fig, alpha=0.9\n",
    "    #         )\n",
    "    #         axes[i].set_title(view.capitalize(), fontsize=30)\n",
    "    #         axes[i].axis('off')\n",
    "    #     # Colorbar\n",
    "    #     cbar_ax = fig.add_axes([0.33, 0.09, 0.34, 0.03])\n",
    "    #     norm = plt.Normalize(vmin=-global_vmax, vmax=global_vmax)\n",
    "    #     cb = fig.colorbar(cm.ScalarMappable(norm=norm, cmap=cmap), cax=cbar_ax, orientation='horizontal')\n",
    "    #     cb.set_label('PLS2 Weights', fontsize=16)\n",
    "    #     cb.ax.tick_params(labelsize=18)\n",
    "    #     plt.suptitle(title, fontsize=38, y=0.96)\n",
    "    #     plt.tight_layout(rect=[0, 0.15, 1, 0.92])\n",
    "    #     plt.show()\n",
    "\n",
    "    # # 8. Plot with inflated_pre\n",
    "    # plot_three_views_custom(lh_mesh, lh_vertex_data, sulc_left, 'left', '(Demographic + MIND)')\n",
    "    # plot_three_views_custom(rh_mesh, rh_vertex_data, sulc_right, 'right', '(Demographic + MIND)')\n",
    "\n",
    "    # # 1. Variable names and coefficients\n",
    "    # vars_to_plot = np.array(all_feature_names)\n",
    "    # means = pls.x_weights_[:,2]\n",
    "\n",
    "    # # 4. Prepare vertex data arrays\n",
    "    # lh_vertex_data = np.full_like(lh_labels, np.nan, dtype=float)\n",
    "    # rh_vertex_data = np.full_like(rh_labels, np.nan, dtype=float)\n",
    "\n",
    "    # for var, coef in zip(vars_to_plot, means):\n",
    "    #     hemi, region = varname_to_region(var)\n",
    "    #     if hemi == 'lh':\n",
    "    #         idxs = [i for i, n in enumerate(lh_names) if region.lower() in n.lower()]\n",
    "    #         for idx in idxs:\n",
    "    #             lh_vertex_data[lh_labels == idx] = coef\n",
    "    #     elif hemi == 'rh':\n",
    "    #         idxs = [i for i, n in enumerate(rh_names) if region.lower() in n.lower()]\n",
    "    #         for idx in idxs:\n",
    "    #             rh_vertex_data[rh_labels == idx] = coef\n",
    "\n",
    "    # # 5. Load inflated_pre surfaces\n",
    "    # lh_inflated_pre_path = f'{fsaverage_path}/surf/lh.inflated_pre'\n",
    "    # rh_inflated_pre_path = f'{fsaverage_path}/surf/rh.inflated_pre'\n",
    "    # lh_coords, lh_faces = fsio.read_geometry(lh_inflated_pre_path)\n",
    "    # rh_coords, rh_faces = fsio.read_geometry(rh_inflated_pre_path)\n",
    "    # lh_mesh = (lh_coords, lh_faces)\n",
    "    # rh_mesh = (rh_coords, rh_faces)\n",
    "\n",
    "    # # 6. Load fsaverage sulcal maps for background\n",
    "    # fsavg = datasets.fetch_surf_fsaverage('fsaverage')\n",
    "    # sulc_left = fsavg.sulc_left\n",
    "    # sulc_right = fsavg.sulc_right\n",
    "\n",
    "    # # 7. Plotting function\n",
    "    # global_vmax = np.nanmax(np.abs(np.concatenate([lh_vertex_data, rh_vertex_data])))\n",
    "\n",
    "    # def plot_three_views_custom(surf_mesh, vertex_data, bg_map, hemi, title):\n",
    "    #     views = ['lateral', 'medial', 'dorsal']\n",
    "    #     fig, axes = plt.subplots(1, 3, subplot_kw={'projection': '3d'}, figsize=(40, 20))\n",
    "    #     cmap = 'seismic'\n",
    "    #     for i, view in enumerate(views):\n",
    "    #         plotting.plot_surf_stat_map(\n",
    "    #             surf_mesh, vertex_data, hemi=hemi, bg_map=bg_map,\n",
    "    #             cmap=cmap, colorbar=False, vmax=global_vmax, vmin=-global_vmax, symmetric_cbar=True,\n",
    "    #             view=view, axes=axes[i], title='', figure=fig, alpha=0.9\n",
    "    #         )\n",
    "    #         axes[i].set_title(view.capitalize(), fontsize=30)\n",
    "    #         axes[i].axis('off')\n",
    "    #     # Colorbar\n",
    "    #     cbar_ax = fig.add_axes([0.33, 0.09, 0.34, 0.03])\n",
    "    #     norm = plt.Normalize(vmin=-global_vmax, vmax=global_vmax)\n",
    "    #     cb = fig.colorbar(cm.ScalarMappable(norm=norm, cmap=cmap), cax=cbar_ax, orientation='horizontal')\n",
    "    #     cb.set_label('PLS3 Weights', fontsize=16)\n",
    "    #     cb.ax.tick_params(labelsize=18)\n",
    "    #     plt.suptitle(title, fontsize=38, y=0.96)\n",
    "    #     plt.tight_layout(rect=[0, 0.15, 1, 0.92])\n",
    "    #     plt.show()\n",
    "\n",
    "    # # 8. Plot with inflated_pre\n",
    "    # plot_three_views_custom(lh_mesh, lh_vertex_data, sulc_left, 'left', '(Demographic + MIND)')\n",
    "    # plot_three_views_custom(rh_mesh, rh_vertex_data, sulc_right, 'right', '(Demographic + MIND)')\n",
    "\n",
    "\n"
   ]
  },
  {
   "cell_type": "markdown",
   "id": "849e5a1c",
   "metadata": {},
   "source": [
    "# GF"
   ]
  },
  {
   "cell_type": "code",
   "execution_count": 7,
   "id": "55ebb3a1",
   "metadata": {},
   "outputs": [],
   "source": [
    "# Load the dataset\n",
    "df = pd.read_csv('/Users/baileyng/MIND_data/ukb_master_GF_no_outliers.csv', index_col=0)"
   ]
  },
  {
   "cell_type": "code",
   "execution_count": 8,
   "id": "60040ea3",
   "metadata": {},
   "outputs": [
    {
     "data": {
      "image/png": "[encoded data removed]",
      "text/plain": [
       "<Figure size 640x480 with 1 Axes>"
      ]
     },
     "metadata": {},
     "output_type": "display_data"
    }
   ],
   "source": [
    "# Histogram of Fluid Intelligence Scores\n",
    "sns.histplot(df['20016-2.0'])\n",
    "plt.title('Distribution of Fluid Intelligence Scores')\n",
    "plt.xlabel('Fluid Intelligence Score')\n",
    "plt.ylabel('Frequency')\n",
    "plt.show()"
   ]
  },
  {
   "cell_type": "code",
   "execution_count": 9,
   "id": "82cc271c",
   "metadata": {},
   "outputs": [
    {
     "name": "stdout",
     "output_type": "stream",
     "text": [
      "33977\n",
      "(33977, 2628)\n"
     ]
    }
   ],
   "source": [
    "print(len(df))\n",
    "print(df.shape)"
   ]
  },
  {
   "cell_type": "markdown",
   "id": "a8b7006d",
   "metadata": {},
   "source": [
    "## GF vs. MIND (avg)"
   ]
  },
  {
   "cell_type": "code",
   "execution_count": 10,
   "id": "01c02b8c",
   "metadata": {},
   "outputs": [
    {
     "name": "stdout",
     "output_type": "stream",
     "text": [
      "(33977, 71)\n",
      "(33977,)\n"
     ]
    }
   ],
   "source": [
    "# Set X and y\n",
    "with open('/Users/baileyng/MIND_models/region_names/MIND_avg_regions.txt', 'r') as f:\n",
    "    brain_regions = [line.strip() for line in f.readlines()]\n",
    "\n",
    "# Define demographic/clinical features\n",
    "demographic_vars = ['31-0.0', '21003-2.0', '54-2.0']\n",
    "\n",
    "# Combine demographic features with brain region features\n",
    "all_vars = demographic_vars + brain_regions\n",
    "\n",
    "X = df[all_vars]\n",
    "y = df['20016-2.0']\n",
    "\n",
    "print(X.shape)\n",
    "print(y.shape)"
   ]
  },
  {
   "cell_type": "code",
   "execution_count": 11,
   "id": "98a4c12f",
   "metadata": {},
   "outputs": [],
   "source": [
    "# rename columns\n",
    "X = X.rename(columns=rename_dict)\n",
    "\n",
    "categorical_vars = ['sex', 'assessment_centre']\n",
    "continuous_vars  = [c for c in X.columns if c not in categorical_vars]"
   ]
  },
  {
   "cell_type": "code",
   "execution_count": 12,
   "id": "ddfddfe5",
   "metadata": {},
   "outputs": [
    {
     "name": "stdout",
     "output_type": "stream",
     "text": [
      "Fold 01 • n_comp=04 • MAE=1.621 • RMSE=2.020 • R²=0.029\n",
      "Fold 02 • n_comp=04 • MAE=1.636 • RMSE=2.034 • R²=0.031\n",
      "Fold 03 • n_comp=03 • MAE=1.643 • RMSE=2.043 • R²=0.039\n",
      "Fold 04 • n_comp=04 • MAE=1.653 • RMSE=2.059 • R²=0.032\n",
      "Fold 05 • n_comp=03 • MAE=1.605 • RMSE=2.004 • R²=0.030\n",
      "Fold 06 • n_comp=03 • MAE=1.585 • RMSE=1.976 • R²=0.043\n",
      "Fold 07 • n_comp=03 • MAE=1.617 • RMSE=2.018 • R²=0.032\n",
      "Fold 08 • n_comp=03 • MAE=1.657 • RMSE=2.052 • R²=0.022\n",
      "Fold 09 • n_comp=03 • MAE=1.607 • RMSE=2.002 • R²=0.036\n",
      "Fold 10 • n_comp=04 • MAE=1.629 • RMSE=2.034 • R²=0.035\n",
      "\n",
      "=== 10-fold CV summary ===\n",
      "n_components (mean ± std): 3.4 ± 0.5\n",
      "MAE :  1.625 ± 0.022\n",
      "RMSE:  2.024 ± 0.024\n",
      "R²  :  0.033 ± 0.005\n"
     ]
    }
   ],
   "source": [
    "pls_analysis(X, y, continuous_vars, categorical_vars, n_splits=10)"
   ]
  },
  {
   "cell_type": "markdown",
   "id": "ba1b8438",
   "metadata": {},
   "source": [
    "## GF vs. MIND"
   ]
  },
  {
   "cell_type": "code",
   "execution_count": 12,
   "id": "6061bc71",
   "metadata": {},
   "outputs": [
    {
     "name": "stdout",
     "output_type": "stream",
     "text": [
      "(33977, 2281)\n",
      "(33977,)\n"
     ]
    }
   ],
   "source": [
    "# Set X and y\n",
    "with open('/Users/baileyng/MIND_models/region_names/MIND_regions.txt', 'r') as f:\n",
    "    brain_regions = [line.strip() for line in f.readlines()]\n",
    "\n",
    "# Define demographic/clinical features\n",
    "demographic_vars = ['31-0.0', '21003-2.0', '54-2.0']\n",
    "\n",
    "# Combine demographic features with brain region features\n",
    "all_vars = demographic_vars + brain_regions\n",
    "\n",
    "X = df[all_vars]\n",
    "y = df['20016-2.0']\n",
    "\n",
    "print(X.shape)\n",
    "print(y.shape)"
   ]
  },
  {
   "cell_type": "code",
   "execution_count": null,
   "id": "35a0020c",
   "metadata": {},
   "outputs": [
    {
     "name": "stdout",
     "output_type": "stream",
     "text": [
      "Columns renamed successfully.\n"
     ]
    }
   ],
   "source": [
    "# rename columns\n",
    "X = X.rename(columns=rename_dict)\n",
    "\n",
    "categorical_vars = ['sex', 'assessment_centre']\n",
    "continuous_vars  = [c for c in X.columns if c not in categorical_vars]"
   ]
  },
  {
   "cell_type": "code",
   "execution_count": 14,
   "id": "a8557037",
   "metadata": {},
   "outputs": [
    {
     "name": "stdout",
     "output_type": "stream",
     "text": [
      "Fold 01 • n_comp=06 • MAE=1.605 • RMSE=2.005 • R²=0.044\n",
      "Fold 02 • n_comp=06 • MAE=1.624 • RMSE=2.024 • R²=0.041\n",
      "Fold 03 • n_comp=06 • MAE=1.633 • RMSE=2.038 • R²=0.044\n",
      "Fold 04 • n_comp=06 • MAE=1.651 • RMSE=2.058 • R²=0.033\n",
      "Fold 05 • n_comp=06 • MAE=1.601 • RMSE=1.997 • R²=0.037\n",
      "Fold 06 • n_comp=06 • MAE=1.565 • RMSE=1.957 • R²=0.061\n",
      "Fold 07 • n_comp=06 • MAE=1.606 • RMSE=2.008 • R²=0.041\n",
      "Fold 08 • n_comp=06 • MAE=1.646 • RMSE=2.037 • R²=0.037\n",
      "Fold 09 • n_comp=06 • MAE=1.603 • RMSE=1.997 • R²=0.040\n",
      "Fold 10 • n_comp=06 • MAE=1.625 • RMSE=2.035 • R²=0.034\n",
      "\n",
      "=== 10-fold CV summary ===\n",
      "n_components (mean ± std): 6.0 ± 0.0\n",
      "MAE :  1.616 ± 0.024\n",
      "RMSE:  2.016 ± 0.027\n",
      "R²  :  0.041 ± 0.008\n"
     ]
    }
   ],
   "source": [
    "pls_analysis(X, y, continuous_vars, categorical_vars, n_splits=10)"
   ]
  },
  {
   "cell_type": "markdown",
   "id": "c6192f4b",
   "metadata": {},
   "source": [
    "## GF vs. CT"
   ]
  },
  {
   "cell_type": "code",
   "execution_count": 13,
   "id": "21159c38",
   "metadata": {},
   "outputs": [
    {
     "name": "stdout",
     "output_type": "stream",
     "text": [
      "(33977, 65)\n",
      "(33977,)\n"
     ]
    }
   ],
   "source": [
    "# Set X and y\n",
    "with open('/Users/baileyng/MIND_models/region_names/CT_regions.txt', 'r') as f:\n",
    "    brain_regions = [line.strip() for line in f.readlines()]\n",
    "\n",
    "# Define demographic/clinical features\n",
    "demographic_vars = ['31-0.0', '21003-2.0', '54-2.0']\n",
    "\n",
    "# Combine demographic features with brain region features\n",
    "all_vars = demographic_vars + brain_regions\n",
    "\n",
    "X = df[all_vars]\n",
    "y = df['20016-2.0']\n",
    "\n",
    "print(X.shape)\n",
    "print(y.shape)"
   ]
  },
  {
   "cell_type": "code",
   "execution_count": 14,
   "id": "42ed6385",
   "metadata": {},
   "outputs": [],
   "source": [
    "# rename columns\n",
    "X = X.rename(columns=rename_dict)\n",
    "\n",
    "categorical_vars = ['sex', 'assessment_centre']\n",
    "continuous_vars  = [c for c in X.columns if c not in categorical_vars]"
   ]
  },
  {
   "cell_type": "code",
   "execution_count": 15,
   "id": "bee67e59",
   "metadata": {},
   "outputs": [
    {
     "name": "stdout",
     "output_type": "stream",
     "text": [
      "Fold 01 • n_comp=06 • MAE=1.632 • RMSE=2.032 • R²=0.018\n",
      "Fold 02 • n_comp=05 • MAE=1.644 • RMSE=2.042 • R²=0.024\n",
      "Fold 03 • n_comp=09 • MAE=1.651 • RMSE=2.057 • R²=0.026\n",
      "Fold 04 • n_comp=05 • MAE=1.662 • RMSE=2.070 • R²=0.021\n",
      "Fold 05 • n_comp=05 • MAE=1.604 • RMSE=2.002 • R²=0.032\n",
      "Fold 06 • n_comp=05 • MAE=1.589 • RMSE=1.985 • R²=0.035\n",
      "Fold 07 • n_comp=06 • MAE=1.631 • RMSE=2.035 • R²=0.015\n",
      "Fold 08 • n_comp=08 • MAE=1.652 • RMSE=2.046 • R²=0.028\n",
      "Fold 09 • n_comp=09 • MAE=1.623 • RMSE=2.016 • R²=0.022\n",
      "Fold 10 • n_comp=06 • MAE=1.637 • RMSE=2.043 • R²=0.026\n",
      "\n",
      "=== 10-fold CV summary ===\n",
      "n_components (mean ± std): 6.4 ± 1.6\n",
      "MAE :  1.632 ± 0.021\n",
      "RMSE:  2.033 ± 0.024\n",
      "R²  :  0.025 ± 0.006\n"
     ]
    }
   ],
   "source": [
    "pls_analysis(X, y, continuous_vars, categorical_vars, n_splits=10)"
   ]
  },
  {
   "cell_type": "markdown",
   "id": "13eaa766",
   "metadata": {},
   "source": [
    "## GF vs. FC"
   ]
  },
  {
   "cell_type": "code",
   "execution_count": 16,
   "id": "5c1106f6",
   "metadata": {},
   "outputs": [
    {
     "name": "stdout",
     "output_type": "stream",
     "text": [
      "(33977, 214)\n",
      "(33977,)\n"
     ]
    }
   ],
   "source": [
    "# Set X and y\n",
    "with open('/Users/baileyng/MIND_models/region_names/FC_regions.txt', 'r') as f:\n",
    "    brain_regions = [line.strip() for line in f.readlines()]\n",
    "\n",
    "# Define demographic/clinical features\n",
    "demographic_vars = ['31-0.0', '21003-2.0', '54-2.0', '25741-2.0']\n",
    "\n",
    "# Combine demographic features with brain region features\n",
    "all_vars = demographic_vars + brain_regions\n",
    "\n",
    "X = df[all_vars]\n",
    "y = df['20016-2.0']\n",
    "\n",
    "print(X.shape)\n",
    "print(y.shape)"
   ]
  },
  {
   "cell_type": "code",
   "execution_count": 17,
   "id": "3ada4ae5",
   "metadata": {},
   "outputs": [],
   "source": [
    "# rename columns\n",
    "X = X.rename(columns=rename_dict)\n",
    "\n",
    "categorical_vars = ['sex', 'assessment_centre']\n",
    "continuous_vars  = [c for c in X.columns if c not in categorical_vars]"
   ]
  },
  {
   "cell_type": "code",
   "execution_count": 18,
   "id": "eb0f2d4f",
   "metadata": {},
   "outputs": [
    {
     "name": "stderr",
     "output_type": "stream",
     "text": [
      "/Users/baileyng/MIND_models/venv/lib/python3.8/site-packages/joblib/externals/loky/process_executor.py:752: UserWarning: A worker stopped while some jobs were given to the executor. This can be caused by a too short worker timeout or by a memory leak.\n",
      "  warnings.warn(\n"
     ]
    },
    {
     "name": "stdout",
     "output_type": "stream",
     "text": [
      "Fold 01 • n_comp=05 • MAE=1.581 • RMSE=1.985 • R²=0.063\n",
      "Fold 02 • n_comp=05 • MAE=1.599 • RMSE=1.990 • R²=0.073\n",
      "Fold 03 • n_comp=05 • MAE=1.615 • RMSE=2.020 • R²=0.060\n",
      "Fold 04 • n_comp=05 • MAE=1.615 • RMSE=2.018 • R²=0.070\n",
      "Fold 05 • n_comp=05 • MAE=1.573 • RMSE=1.964 • R²=0.068\n",
      "Fold 06 • n_comp=05 • MAE=1.545 • RMSE=1.929 • R²=0.088\n",
      "Fold 07 • n_comp=05 • MAE=1.598 • RMSE=1.995 • R²=0.053\n",
      "Fold 08 • n_comp=05 • MAE=1.604 • RMSE=2.000 • R²=0.071\n",
      "Fold 09 • n_comp=05 • MAE=1.572 • RMSE=1.965 • R²=0.070\n",
      "Fold 10 • n_comp=05 • MAE=1.590 • RMSE=1.987 • R²=0.079\n",
      "\n",
      "=== 10-fold CV summary ===\n",
      "n_components (mean ± std): 5.0 ± 0.0\n",
      "MAE :  1.589 ± 0.021\n",
      "RMSE:  1.985 ± 0.026\n",
      "R²  :  0.070 ± 0.009\n"
     ]
    }
   ],
   "source": [
    "pls_analysis(X, y, continuous_vars, categorical_vars, n_splits=10)"
   ]
  },
  {
   "cell_type": "markdown",
   "id": "6c88071f",
   "metadata": {},
   "source": [
    "# PAL"
   ]
  },
  {
   "cell_type": "code",
   "execution_count": 7,
   "id": "c214d6f8",
   "metadata": {},
   "outputs": [],
   "source": [
    "# Load the dataset\n",
    "df = pd.read_csv('/Users/baileyng/MIND_data/ukb_master_PAL_no_outliers.csv', index_col=0)"
   ]
  },
  {
   "cell_type": "code",
   "execution_count": 8,
   "id": "85101d4b",
   "metadata": {},
   "outputs": [
    {
     "data": {
      "image/png": "[encoded data removed]",
      "text/plain": [
       "<Figure size 640x480 with 1 Axes>"
      ]
     },
     "metadata": {},
     "output_type": "display_data"
    }
   ],
   "source": [
    "# Histogram of PAL Scores\n",
    "sns.histplot(df['20197-2.0'])\n",
    "plt.title('Distribution of PAL Scores')\n",
    "plt.xlabel('PAL Score')\n",
    "plt.ylabel('Frequency')\n",
    "plt.show()"
   ]
  },
  {
   "cell_type": "code",
   "execution_count": 9,
   "id": "48492565",
   "metadata": {},
   "outputs": [
    {
     "name": "stdout",
     "output_type": "stream",
     "text": [
      "24492\n",
      "(24492, 2628)\n"
     ]
    }
   ],
   "source": [
    "print(len(df))\n",
    "print(df.shape)"
   ]
  },
  {
   "cell_type": "markdown",
   "id": "af5ccbaf",
   "metadata": {},
   "source": [
    "### PAL vs. MIND (avg)"
   ]
  },
  {
   "cell_type": "code",
   "execution_count": 10,
   "id": "2d664657",
   "metadata": {},
   "outputs": [
    {
     "name": "stdout",
     "output_type": "stream",
     "text": [
      "(24492, 71)\n",
      "(24492,)\n"
     ]
    }
   ],
   "source": [
    "# Set X and y\n",
    "with open('/Users/baileyng/MIND_models/region_names/MIND_avg_regions.txt', 'r') as f:\n",
    "    brain_regions = [line.strip() for line in f.readlines()]\n",
    "\n",
    "# Define demographic/clinical features\n",
    "demographic_vars = ['31-0.0', '21003-2.0', '54-2.0']\n",
    "\n",
    "# Combine demographic features with brain region features\n",
    "all_vars = demographic_vars + brain_regions\n",
    "\n",
    "X = df[all_vars]\n",
    "y = df['20197-2.0']\n",
    "\n",
    "print(X.shape)\n",
    "print(y.shape)"
   ]
  },
  {
   "cell_type": "code",
   "execution_count": 11,
   "id": "c517fca9",
   "metadata": {},
   "outputs": [],
   "source": [
    "# rename columns\n",
    "X = X.rename(columns=rename_dict)\n",
    "\n",
    "categorical_vars = ['sex', 'assessment_centre']\n",
    "continuous_vars  = [c for c in X.columns if c not in categorical_vars]"
   ]
  },
  {
   "cell_type": "code",
   "execution_count": 12,
   "id": "fff7639a",
   "metadata": {},
   "outputs": [
    {
     "name": "stdout",
     "output_type": "stream",
     "text": [
      "Fold 01 • n_comp=05 • MAE=2.076 • RMSE=2.539 • R²=0.064\n",
      "Fold 02 • n_comp=05 • MAE=2.104 • RMSE=2.551 • R²=0.046\n",
      "Fold 03 • n_comp=05 • MAE=2.098 • RMSE=2.584 • R²=0.062\n",
      "Fold 04 • n_comp=04 • MAE=2.071 • RMSE=2.533 • R²=0.059\n",
      "Fold 05 • n_comp=05 • MAE=2.040 • RMSE=2.476 • R²=0.053\n",
      "Fold 06 • n_comp=04 • MAE=2.105 • RMSE=2.559 • R²=0.081\n",
      "Fold 07 • n_comp=05 • MAE=2.089 • RMSE=2.538 • R²=0.062\n",
      "Fold 08 • n_comp=05 • MAE=2.068 • RMSE=2.536 • R²=0.065\n",
      "Fold 09 • n_comp=05 • MAE=2.082 • RMSE=2.554 • R²=0.066\n",
      "Fold 10 • n_comp=05 • MAE=2.070 • RMSE=2.542 • R²=0.047\n",
      "\n",
      "=== 10-fold CV summary ===\n",
      "n_components (mean ± std): 4.8 ± 0.4\n",
      "MAE :  2.080 ± 0.019\n",
      "RMSE:  2.541 ± 0.026\n",
      "R²  :  0.061 ± 0.009\n"
     ]
    }
   ],
   "source": [
    "pls_analysis(X, y, continuous_vars, categorical_vars, n_splits=10)"
   ]
  },
  {
   "cell_type": "markdown",
   "id": "bc8dfda9",
   "metadata": {},
   "source": [
    "### PAL vs. MIND"
   ]
  },
  {
   "cell_type": "code",
   "execution_count": 13,
   "id": "a275af92",
   "metadata": {},
   "outputs": [
    {
     "name": "stdout",
     "output_type": "stream",
     "text": [
      "(24492, 2281)\n",
      "(24492,)\n"
     ]
    }
   ],
   "source": [
    "# Set X and y\n",
    "with open('/Users/baileyng/MIND_models/region_names/MIND_regions.txt', 'r') as f:\n",
    "    brain_regions = [line.strip() for line in f.readlines()]\n",
    "\n",
    "# Define demographic/clinical features\n",
    "demographic_vars = ['31-0.0', '21003-2.0', '54-2.0']\n",
    "\n",
    "# Combine demographic features with brain region features\n",
    "all_vars = demographic_vars + brain_regions\n",
    "\n",
    "X = df[all_vars]\n",
    "y = df['20197-2.0']\n",
    "\n",
    "print(X.shape)\n",
    "print(y.shape)"
   ]
  },
  {
   "cell_type": "code",
   "execution_count": 14,
   "id": "cfdd7d1c",
   "metadata": {},
   "outputs": [],
   "source": [
    "# rename columns\n",
    "X = X.rename(columns=rename_dict)\n",
    "\n",
    "categorical_vars = ['sex', 'assessment_centre']\n",
    "continuous_vars  = [c for c in X.columns if c not in categorical_vars]"
   ]
  },
  {
   "cell_type": "code",
   "execution_count": 15,
   "id": "2482d5d2",
   "metadata": {},
   "outputs": [
    {
     "name": "stdout",
     "output_type": "stream",
     "text": [
      "Fold 01 • n_comp=07 • MAE=2.088 • RMSE=2.558 • R²=0.050\n",
      "Fold 02 • n_comp=07 • MAE=2.105 • RMSE=2.551 • R²=0.046\n",
      "Fold 03 • n_comp=07 • MAE=2.105 • RMSE=2.589 • R²=0.058\n",
      "Fold 04 • n_comp=09 • MAE=2.091 • RMSE=2.564 • R²=0.036\n",
      "Fold 05 • n_comp=07 • MAE=2.061 • RMSE=2.501 • R²=0.035\n",
      "Fold 06 • n_comp=06 • MAE=2.129 • RMSE=2.598 • R²=0.052\n",
      "Fold 07 • n_comp=08 • MAE=2.113 • RMSE=2.576 • R²=0.034\n",
      "Fold 08 • n_comp=06 • MAE=2.085 • RMSE=2.557 • R²=0.049\n",
      "Fold 09 • n_comp=09 • MAE=2.092 • RMSE=2.571 • R²=0.054\n",
      "Fold 10 • n_comp=06 • MAE=2.088 • RMSE=2.559 • R²=0.035\n",
      "\n",
      "=== 10-fold CV summary ===\n",
      "n_components (mean ± std): 7.2 ± 1.1\n",
      "MAE :  2.096 ± 0.018\n",
      "RMSE:  2.562 ± 0.025\n",
      "R²  :  0.045 ± 0.009\n"
     ]
    }
   ],
   "source": [
    "pls_analysis(X, y, continuous_vars, categorical_vars, n_splits=10)"
   ]
  },
  {
   "cell_type": "markdown",
   "id": "8580185c",
   "metadata": {},
   "source": [
    "### PAL vs. CT"
   ]
  },
  {
   "cell_type": "code",
   "execution_count": 16,
   "id": "f4ffafb4",
   "metadata": {},
   "outputs": [
    {
     "name": "stdout",
     "output_type": "stream",
     "text": [
      "(24492, 65)\n",
      "(24492,)\n"
     ]
    }
   ],
   "source": [
    "# Set X and y\n",
    "with open('/Users/baileyng/MIND_models/region_names/CT_regions.txt', 'r') as f:\n",
    "    brain_regions = [line.strip() for line in f.readlines()]\n",
    "\n",
    "# Define demographic/clinical features\n",
    "demographic_vars = ['31-0.0', '21003-2.0', '54-2.0']\n",
    "\n",
    "# Combine demographic features with brain region features\n",
    "all_vars = demographic_vars + brain_regions\n",
    "\n",
    "X = df[all_vars]\n",
    "y = df['20197-2.0']\n",
    "\n",
    "print(X.shape)\n",
    "print(y.shape)"
   ]
  },
  {
   "cell_type": "code",
   "execution_count": 17,
   "id": "407c3a2e",
   "metadata": {},
   "outputs": [],
   "source": [
    "# rename columns\n",
    "X = X.rename(columns=rename_dict)\n",
    "\n",
    "categorical_vars = ['sex', 'assessment_centre']\n",
    "continuous_vars  = [c for c in X.columns if c not in categorical_vars]"
   ]
  },
  {
   "cell_type": "code",
   "execution_count": 18,
   "id": "988899b1",
   "metadata": {},
   "outputs": [
    {
     "name": "stdout",
     "output_type": "stream",
     "text": [
      "Fold 01 • n_comp=05 • MAE=2.081 • RMSE=2.537 • R²=0.066\n",
      "Fold 02 • n_comp=05 • MAE=2.106 • RMSE=2.556 • R²=0.043\n",
      "Fold 03 • n_comp=05 • MAE=2.096 • RMSE=2.581 • R²=0.064\n",
      "Fold 04 • n_comp=05 • MAE=2.065 • RMSE=2.532 • R²=0.060\n",
      "Fold 05 • n_comp=05 • MAE=2.041 • RMSE=2.475 • R²=0.055\n",
      "Fold 06 • n_comp=06 • MAE=2.107 • RMSE=2.564 • R²=0.077\n",
      "Fold 07 • n_comp=05 • MAE=2.087 • RMSE=2.537 • R²=0.063\n",
      "Fold 08 • n_comp=05 • MAE=2.073 • RMSE=2.540 • R²=0.061\n",
      "Fold 09 • n_comp=05 • MAE=2.084 • RMSE=2.554 • R²=0.066\n",
      "Fold 10 • n_comp=05 • MAE=2.076 • RMSE=2.542 • R²=0.048\n",
      "\n",
      "=== 10-fold CV summary ===\n",
      "n_components (mean ± std): 5.1 ± 0.3\n",
      "MAE :  2.082 ± 0.019\n",
      "RMSE:  2.542 ± 0.027\n",
      "R²  :  0.060 ± 0.009\n"
     ]
    }
   ],
   "source": [
    "pls_analysis(X, y, continuous_vars, categorical_vars, n_splits=10)"
   ]
  },
  {
   "cell_type": "markdown",
   "id": "42080c67",
   "metadata": {},
   "source": [
    "### PAL vs. FC"
   ]
  },
  {
   "cell_type": "code",
   "execution_count": 19,
   "id": "a81ccac7",
   "metadata": {},
   "outputs": [
    {
     "name": "stdout",
     "output_type": "stream",
     "text": [
      "(24492, 214)\n",
      "(24492,)\n"
     ]
    }
   ],
   "source": [
    "# Set X and y\n",
    "with open('/Users/baileyng/MIND_models/region_names/FC_regions.txt', 'r') as f:\n",
    "    brain_regions = [line.strip() for line in f.readlines()]\n",
    "\n",
    "# Define demographic/clinical features\n",
    "demographic_vars = ['31-0.0', '21003-2.0', '54-2.0', '25741-2.0']\n",
    "\n",
    "# Combine demographic features with brain region features\n",
    "all_vars = demographic_vars + brain_regions\n",
    "\n",
    "X = df[all_vars]\n",
    "y = df['20197-2.0']\n",
    "\n",
    "print(X.shape)\n",
    "print(y.shape)"
   ]
  },
  {
   "cell_type": "code",
   "execution_count": 20,
   "id": "e774b18f",
   "metadata": {},
   "outputs": [],
   "source": [
    "# rename columns\n",
    "X = X.rename(columns=rename_dict)\n",
    "\n",
    "categorical_vars = ['sex', 'assessment_centre']\n",
    "continuous_vars  = [c for c in X.columns if c not in categorical_vars]"
   ]
  },
  {
   "cell_type": "code",
   "execution_count": 21,
   "id": "c19bae6e",
   "metadata": {},
   "outputs": [
    {
     "name": "stdout",
     "output_type": "stream",
     "text": [
      "Fold 01 • n_comp=09 • MAE=2.035 • RMSE=2.503 • R²=0.091\n",
      "Fold 02 • n_comp=10 • MAE=2.039 • RMSE=2.497 • R²=0.087\n",
      "Fold 03 • n_comp=09 • MAE=2.055 • RMSE=2.543 • R²=0.091\n",
      "Fold 04 • n_comp=09 • MAE=2.035 • RMSE=2.496 • R²=0.087\n",
      "Fold 05 • n_comp=10 • MAE=1.994 • RMSE=2.423 • R²=0.093\n",
      "Fold 06 • n_comp=09 • MAE=2.053 • RMSE=2.523 • R²=0.106\n",
      "Fold 07 • n_comp=10 • MAE=2.031 • RMSE=2.487 • R²=0.099\n",
      "Fold 08 • n_comp=09 • MAE=2.032 • RMSE=2.500 • R²=0.091\n",
      "Fold 09 • n_comp=09 • MAE=2.037 • RMSE=2.515 • R²=0.094\n",
      "Fold 10 • n_comp=10 • MAE=2.016 • RMSE=2.484 • R²=0.091\n",
      "\n",
      "=== 10-fold CV summary ===\n",
      "n_components (mean ± std): 9.4 ± 0.5\n",
      "MAE :  2.033 ± 0.017\n",
      "RMSE:  2.497 ± 0.030\n",
      "R²  :  0.093 ± 0.006\n"
     ]
    }
   ],
   "source": [
    "pls_analysis(X, y, continuous_vars, categorical_vars, n_splits=10)"
   ]
  },
  {
   "cell_type": "markdown",
   "id": "84004ae1",
   "metadata": {},
   "source": [
    "# DSST"
   ]
  },
  {
   "cell_type": "code",
   "execution_count": 22,
   "id": "6172df27",
   "metadata": {},
   "outputs": [],
   "source": [
    "# Load the dataset\n",
    "df = pd.read_csv('/Users/baileyng/MIND_data/ukb_master_DSST_no_outliers.csv', index_col=0)"
   ]
  },
  {
   "cell_type": "code",
   "execution_count": 23,
   "id": "def9d9fa",
   "metadata": {},
   "outputs": [
    {
     "data": {
      "image/png": "[encoded data removed]",
      "text/plain": [
       "<Figure size 640x480 with 1 Axes>"
      ]
     },
     "metadata": {},
     "output_type": "display_data"
    }
   ],
   "source": [
    "# Histogram of DSST Scores\n",
    "sns.histplot(df['23324-2.0'])\n",
    "plt.title('Distribution of DSST Scores')\n",
    "plt.xlabel('DSST Score')\n",
    "plt.ylabel('Frequency')\n",
    "plt.show()"
   ]
  },
  {
   "cell_type": "code",
   "execution_count": 24,
   "id": "7709d3a7",
   "metadata": {},
   "outputs": [
    {
     "name": "stdout",
     "output_type": "stream",
     "text": [
      "24275\n",
      "(24275, 2628)\n"
     ]
    }
   ],
   "source": [
    "print(len(df))\n",
    "print(df.shape)"
   ]
  },
  {
   "cell_type": "markdown",
   "id": "f5f121e1",
   "metadata": {},
   "source": [
    "### DSST vs. MIND (avg)"
   ]
  },
  {
   "cell_type": "code",
   "execution_count": 25,
   "id": "f363b6e7",
   "metadata": {},
   "outputs": [
    {
     "name": "stdout",
     "output_type": "stream",
     "text": [
      "(24275, 71)\n",
      "(24275,)\n"
     ]
    }
   ],
   "source": [
    "# Set X and y\n",
    "with open('/Users/baileyng/MIND_models/region_names/MIND_avg_regions.txt', 'r') as f:\n",
    "    brain_regions = [line.strip() for line in f.readlines()]\n",
    "\n",
    "# Define demographic/clinical features\n",
    "demographic_vars = ['31-0.0', '21003-2.0', '54-2.0']\n",
    "\n",
    "# Combine demographic features with brain region features\n",
    "all_vars = demographic_vars + brain_regions\n",
    "\n",
    "X = df[all_vars]\n",
    "y = df['23324-2.0']\n",
    "\n",
    "print(X.shape)\n",
    "print(y.shape)"
   ]
  },
  {
   "cell_type": "code",
   "execution_count": 26,
   "id": "6d7d9811",
   "metadata": {},
   "outputs": [],
   "source": [
    "# rename columns\n",
    "X = X.rename(columns=rename_dict)\n",
    "\n",
    "categorical_vars = ['sex', 'assessment_centre']\n",
    "continuous_vars  = [c for c in X.columns if c not in categorical_vars]"
   ]
  },
  {
   "cell_type": "code",
   "execution_count": 27,
   "id": "80755eaf",
   "metadata": {},
   "outputs": [
    {
     "name": "stdout",
     "output_type": "stream",
     "text": [
      "Fold 01 • n_comp=05 • MAE=3.703 • RMSE=4.712 • R²=0.193\n",
      "Fold 02 • n_comp=06 • MAE=3.804 • RMSE=4.845 • R²=0.207\n",
      "Fold 03 • n_comp=05 • MAE=3.725 • RMSE=4.712 • R²=0.200\n",
      "Fold 04 • n_comp=06 • MAE=3.665 • RMSE=4.619 • R²=0.161\n",
      "Fold 05 • n_comp=06 • MAE=3.782 • RMSE=4.816 • R²=0.181\n",
      "Fold 06 • n_comp=06 • MAE=3.701 • RMSE=4.738 • R²=0.195\n",
      "Fold 07 • n_comp=06 • MAE=3.738 • RMSE=4.754 • R²=0.188\n",
      "Fold 08 • n_comp=06 • MAE=3.713 • RMSE=4.738 • R²=0.184\n",
      "Fold 09 • n_comp=06 • MAE=3.640 • RMSE=4.636 • R²=0.189\n",
      "Fold 10 • n_comp=06 • MAE=3.650 • RMSE=4.597 • R²=0.203\n",
      "\n",
      "=== 10-fold CV summary ===\n",
      "n_components (mean ± std): 5.8 ± 0.4\n",
      "MAE :  3.712 ± 0.050\n",
      "RMSE:  4.717 ± 0.077\n",
      "R²  :  0.190 ± 0.013\n"
     ]
    }
   ],
   "source": [
    "pls_analysis(X, y, continuous_vars, categorical_vars, n_splits=10)"
   ]
  },
  {
   "cell_type": "markdown",
   "id": "3b9f2cfb",
   "metadata": {},
   "source": [
    "### DSST vs. MIND"
   ]
  },
  {
   "cell_type": "code",
   "execution_count": 28,
   "id": "898a9804",
   "metadata": {},
   "outputs": [
    {
     "name": "stdout",
     "output_type": "stream",
     "text": [
      "(24275, 2281)\n",
      "(24275,)\n"
     ]
    }
   ],
   "source": [
    "# Set X and y\n",
    "with open('/Users/baileyng/MIND_models/region_names/MIND_regions.txt', 'r') as f:\n",
    "    brain_regions = [line.strip() for line in f.readlines()]\n",
    "\n",
    "# Define demographic/clinical features\n",
    "demographic_vars = ['31-0.0', '21003-2.0', '54-2.0']\n",
    "\n",
    "# Combine demographic features with brain region features\n",
    "all_vars = demographic_vars + brain_regions\n",
    "\n",
    "X = df[all_vars]\n",
    "y = df['23324-2.0']\n",
    "\n",
    "print(X.shape)\n",
    "print(y.shape)"
   ]
  },
  {
   "cell_type": "code",
   "execution_count": 29,
   "id": "85146e22",
   "metadata": {},
   "outputs": [],
   "source": [
    "# rename columns\n",
    "X = X.rename(columns=rename_dict)\n",
    "\n",
    "categorical_vars = ['sex', 'assessment_centre']\n",
    "continuous_vars  = [c for c in X.columns if c not in categorical_vars]"
   ]
  },
  {
   "cell_type": "code",
   "execution_count": 30,
   "id": "c7eed665",
   "metadata": {},
   "outputs": [
    {
     "name": "stdout",
     "output_type": "stream",
     "text": [
      "Fold 01 • n_comp=10 • MAE=3.764 • RMSE=4.769 • R²=0.173\n",
      "Fold 02 • n_comp=10 • MAE=3.865 • RMSE=4.909 • R²=0.186\n",
      "Fold 03 • n_comp=10 • MAE=3.760 • RMSE=4.766 • R²=0.181\n",
      "Fold 04 • n_comp=10 • MAE=3.686 • RMSE=4.673 • R²=0.141\n",
      "Fold 05 • n_comp=10 • MAE=3.821 • RMSE=4.863 • R²=0.165\n",
      "Fold 06 • n_comp=10 • MAE=3.772 • RMSE=4.812 • R²=0.170\n",
      "Fold 07 • n_comp=10 • MAE=3.816 • RMSE=4.831 • R²=0.162\n",
      "Fold 08 • n_comp=10 • MAE=3.761 • RMSE=4.808 • R²=0.159\n",
      "Fold 09 • n_comp=10 • MAE=3.675 • RMSE=4.670 • R²=0.178\n",
      "Fold 10 • n_comp=10 • MAE=3.686 • RMSE=4.649 • R²=0.185\n",
      "\n",
      "=== 10-fold CV summary ===\n",
      "n_components (mean ± std): 10.0 ± 0.0\n",
      "MAE :  3.761 ± 0.060\n",
      "RMSE:  4.775 ± 0.083\n",
      "R²  :  0.170 ± 0.013\n"
     ]
    }
   ],
   "source": [
    "pls_analysis(X, y, continuous_vars, categorical_vars, n_splits=10)"
   ]
  },
  {
   "cell_type": "markdown",
   "id": "adf5398c",
   "metadata": {},
   "source": [
    "### DSST vs. CT"
   ]
  },
  {
   "cell_type": "code",
   "execution_count": 31,
   "id": "df951bcc",
   "metadata": {},
   "outputs": [
    {
     "name": "stdout",
     "output_type": "stream",
     "text": [
      "(24275, 65)\n",
      "(24275,)\n"
     ]
    }
   ],
   "source": [
    "# Set X and y\n",
    "with open('/Users/baileyng/MIND_models/region_names/CT_regions.txt', 'r') as f:\n",
    "    brain_regions = [line.strip() for line in f.readlines()]\n",
    "\n",
    "# Define demographic/clinical features\n",
    "demographic_vars = ['31-0.0', '21003-2.0', '54-2.0']\n",
    "\n",
    "# Combine demographic features with brain region features\n",
    "all_vars = demographic_vars + brain_regions\n",
    "\n",
    "X = df[all_vars]\n",
    "y = df['23324-2.0']\n",
    "\n",
    "print(X.shape)\n",
    "print(y.shape)"
   ]
  },
  {
   "cell_type": "code",
   "execution_count": 32,
   "id": "beccbed7",
   "metadata": {},
   "outputs": [],
   "source": [
    "# rename columns\n",
    "X = X.rename(columns=rename_dict)\n",
    "\n",
    "categorical_vars = ['sex', 'assessment_centre']\n",
    "continuous_vars  = [c for c in X.columns if c not in categorical_vars]"
   ]
  },
  {
   "cell_type": "code",
   "execution_count": 33,
   "id": "401e0cdb",
   "metadata": {},
   "outputs": [
    {
     "name": "stdout",
     "output_type": "stream",
     "text": [
      "Fold 01 • n_comp=06 • MAE=3.709 • RMSE=4.711 • R²=0.193\n",
      "Fold 02 • n_comp=06 • MAE=3.811 • RMSE=4.845 • R²=0.207\n",
      "Fold 03 • n_comp=06 • MAE=3.715 • RMSE=4.713 • R²=0.199\n",
      "Fold 04 • n_comp=06 • MAE=3.659 • RMSE=4.612 • R²=0.163\n",
      "Fold 05 • n_comp=06 • MAE=3.789 • RMSE=4.831 • R²=0.176\n",
      "Fold 06 • n_comp=06 • MAE=3.700 • RMSE=4.728 • R²=0.198\n",
      "Fold 07 • n_comp=06 • MAE=3.743 • RMSE=4.774 • R²=0.181\n",
      "Fold 08 • n_comp=06 • MAE=3.722 • RMSE=4.751 • R²=0.179\n",
      "Fold 09 • n_comp=06 • MAE=3.643 • RMSE=4.639 • R²=0.188\n",
      "Fold 10 • n_comp=06 • MAE=3.652 • RMSE=4.610 • R²=0.198\n",
      "\n",
      "=== 10-fold CV summary ===\n",
      "n_components (mean ± std): 6.0 ± 0.0\n",
      "MAE :  3.714 ± 0.053\n",
      "RMSE:  4.721 ± 0.079\n",
      "R²  :  0.188 ± 0.013\n"
     ]
    }
   ],
   "source": [
    "pls_analysis(X, y, continuous_vars, categorical_vars, n_splits=10)"
   ]
  },
  {
   "cell_type": "markdown",
   "id": "613536d1",
   "metadata": {},
   "source": [
    "### DSST vs. FC"
   ]
  },
  {
   "cell_type": "code",
   "execution_count": 34,
   "id": "52ee3da1",
   "metadata": {},
   "outputs": [
    {
     "name": "stdout",
     "output_type": "stream",
     "text": [
      "(24275, 214)\n",
      "(24275,)\n"
     ]
    }
   ],
   "source": [
    "# Set X and y\n",
    "with open('/Users/baileyng/MIND_models/region_names/FC_regions.txt', 'r') as f:\n",
    "    brain_regions = [line.strip() for line in f.readlines()]\n",
    "\n",
    "# Define demographic/clinical features\n",
    "demographic_vars = ['31-0.0', '21003-2.0', '54-2.0', '25741-2.0']\n",
    "\n",
    "# Combine demographic features with brain region features\n",
    "all_vars = demographic_vars + brain_regions\n",
    "\n",
    "X = df[all_vars]\n",
    "y = df['23324-2.0']\n",
    "\n",
    "print(X.shape)\n",
    "print(y.shape)"
   ]
  },
  {
   "cell_type": "code",
   "execution_count": 35,
   "id": "9350dec7",
   "metadata": {},
   "outputs": [],
   "source": [
    "# rename columns\n",
    "X = X.rename(columns=rename_dict)\n",
    "\n",
    "categorical_vars = ['sex', 'assessment_centre']\n",
    "continuous_vars  = [c for c in X.columns if c not in categorical_vars]"
   ]
  },
  {
   "cell_type": "code",
   "execution_count": 36,
   "id": "1ca57c8e",
   "metadata": {},
   "outputs": [
    {
     "name": "stdout",
     "output_type": "stream",
     "text": [
      "Fold 01 • n_comp=09 • MAE=3.647 • RMSE=4.658 • R²=0.211\n",
      "Fold 02 • n_comp=09 • MAE=3.773 • RMSE=4.814 • R²=0.217\n",
      "Fold 03 • n_comp=09 • MAE=3.699 • RMSE=4.674 • R²=0.213\n",
      "Fold 04 • n_comp=09 • MAE=3.648 • RMSE=4.611 • R²=0.164\n",
      "Fold 05 • n_comp=09 • MAE=3.779 • RMSE=4.796 • R²=0.188\n",
      "Fold 06 • n_comp=09 • MAE=3.669 • RMSE=4.691 • R²=0.211\n",
      "Fold 07 • n_comp=09 • MAE=3.714 • RMSE=4.719 • R²=0.200\n",
      "Fold 08 • n_comp=10 • MAE=3.684 • RMSE=4.727 • R²=0.187\n",
      "Fold 09 • n_comp=10 • MAE=3.633 • RMSE=4.616 • R²=0.196\n",
      "Fold 10 • n_comp=09 • MAE=3.617 • RMSE=4.565 • R²=0.214\n",
      "\n",
      "=== 10-fold CV summary ===\n",
      "n_components (mean ± std): 9.2 ± 0.4\n",
      "MAE :  3.686 ± 0.053\n",
      "RMSE:  4.687 ± 0.076\n",
      "R²  :  0.200 ± 0.016\n"
     ]
    }
   ],
   "source": [
    "pls_analysis(X, y, continuous_vars, categorical_vars, n_splits=10)"
   ]
  },
  {
   "cell_type": "markdown",
   "id": "a246b9cd",
   "metadata": {},
   "source": [
    "# TMT"
   ]
  },
  {
   "cell_type": "code",
   "execution_count": 8,
   "id": "d834c5a2",
   "metadata": {},
   "outputs": [],
   "source": [
    "# Load the dataset\n",
    "df = pd.read_csv('/Users/baileyng/MIND_data/ukb_master_TMT_no_outliers.csv', index_col=0)"
   ]
  },
  {
   "cell_type": "code",
   "execution_count": 38,
   "id": "77bca847",
   "metadata": {},
   "outputs": [
    {
     "data": {
      "image/png": "[encoded data removed]",
      "text/plain": [
       "<Figure size 640x480 with 1 Axes>"
      ]
     },
     "metadata": {},
     "output_type": "display_data"
    }
   ],
   "source": [
    "# Histogram of TMT Scores\n",
    "sns.histplot(df['trailmaking_score'])\n",
    "plt.title('Distribution of TMT Scores')\n",
    "plt.xlabel('TMT Score')\n",
    "plt.ylabel('Frequency')\n",
    "plt.show()"
   ]
  },
  {
   "cell_type": "code",
   "execution_count": 39,
   "id": "433b60d7",
   "metadata": {},
   "outputs": [
    {
     "name": "stdout",
     "output_type": "stream",
     "text": [
      "24492\n",
      "(24492, 2628)\n"
     ]
    }
   ],
   "source": [
    "print(len(df))\n",
    "print(df.shape)"
   ]
  },
  {
   "cell_type": "markdown",
   "id": "c1c6f792",
   "metadata": {},
   "source": [
    "### TMT vs. MIND (avg)"
   ]
  },
  {
   "cell_type": "code",
   "execution_count": 40,
   "id": "13923e0c",
   "metadata": {},
   "outputs": [
    {
     "name": "stdout",
     "output_type": "stream",
     "text": [
      "(24492, 71)\n",
      "(24492,)\n"
     ]
    }
   ],
   "source": [
    "# Set X and y\n",
    "with open('/Users/baileyng/MIND_models/region_names/MIND_avg_regions.txt', 'r') as f:\n",
    "    brain_regions = [line.strip() for line in f.readlines()]\n",
    "\n",
    "# Define demographic/clinical features\n",
    "demographic_vars = ['31-0.0', '21003-2.0', '54-2.0']\n",
    "\n",
    "# Combine demographic features with brain region features\n",
    "all_vars = demographic_vars + brain_regions\n",
    "\n",
    "X = df[all_vars]\n",
    "y = df['trailmaking_score']\n",
    "\n",
    "print(X.shape)\n",
    "print(y.shape)"
   ]
  },
  {
   "cell_type": "code",
   "execution_count": 41,
   "id": "24e9a044",
   "metadata": {},
   "outputs": [],
   "source": [
    "# rename columns\n",
    "X = X.rename(columns=rename_dict)\n",
    "\n",
    "categorical_vars = ['sex', 'assessment_centre']\n",
    "continuous_vars  = [c for c in X.columns if c not in categorical_vars]"
   ]
  },
  {
   "cell_type": "code",
   "execution_count": 42,
   "id": "b4062295",
   "metadata": {},
   "outputs": [
    {
     "name": "stdout",
     "output_type": "stream",
     "text": [
      "Fold 01 • n_comp=04 • MAE=176.425 • RMSE=293.983 • R²=0.082\n",
      "Fold 02 • n_comp=04 • MAE=172.440 • RMSE=276.644 • R²=0.073\n",
      "Fold 03 • n_comp=04 • MAE=177.297 • RMSE=279.430 • R²=0.063\n",
      "Fold 04 • n_comp=04 • MAE=172.116 • RMSE=269.513 • R²=0.079\n",
      "Fold 05 • n_comp=04 • MAE=171.227 • RMSE=265.072 • R²=0.044\n",
      "Fold 06 • n_comp=04 • MAE=173.696 • RMSE=262.275 • R²=0.069\n",
      "Fold 07 • n_comp=04 • MAE=176.838 • RMSE=262.683 • R²=0.056\n",
      "Fold 08 • n_comp=04 • MAE=170.765 • RMSE=261.890 • R²=0.082\n",
      "Fold 09 • n_comp=04 • MAE=172.606 • RMSE=276.270 • R²=0.066\n",
      "Fold 10 • n_comp=04 • MAE=168.278 • RMSE=260.266 • R²=0.054\n",
      "\n",
      "=== 10-fold CV summary ===\n",
      "n_components (mean ± std): 4.0 ± 0.0\n",
      "MAE :  173.169 ± 2.772\n",
      "RMSE:  270.803 ± 10.195\n",
      "R²  :  0.067 ± 0.012\n"
     ]
    }
   ],
   "source": [
    "pls_analysis(X, y, continuous_vars, categorical_vars, n_splits=10)"
   ]
  },
  {
   "cell_type": "markdown",
   "id": "d5ac1e0e",
   "metadata": {},
   "source": [
    "### TMT vs. MIND"
   ]
  },
  {
   "cell_type": "code",
   "execution_count": 43,
   "id": "e59fdee9",
   "metadata": {},
   "outputs": [
    {
     "name": "stdout",
     "output_type": "stream",
     "text": [
      "(24492, 2281)\n",
      "(24492,)\n"
     ]
    }
   ],
   "source": [
    "# Set X and y\n",
    "with open('/Users/baileyng/MIND_models/region_names/MIND_regions.txt', 'r') as f:\n",
    "    brain_regions = [line.strip() for line in f.readlines()]\n",
    "\n",
    "# Define demographic/clinical features\n",
    "demographic_vars = ['31-0.0', '21003-2.0', '54-2.0']\n",
    "\n",
    "# Combine demographic features with brain region features\n",
    "all_vars = demographic_vars + brain_regions\n",
    "\n",
    "X = df[all_vars]\n",
    "y = df['trailmaking_score']\n",
    "\n",
    "print(X.shape)\n",
    "print(y.shape)"
   ]
  },
  {
   "cell_type": "code",
   "execution_count": 44,
   "id": "62e69828",
   "metadata": {},
   "outputs": [],
   "source": [
    "# rename columns\n",
    "X = X.rename(columns=rename_dict)\n",
    "\n",
    "categorical_vars = ['sex', 'assessment_centre']\n",
    "continuous_vars  = [c for c in X.columns if c not in categorical_vars]"
   ]
  },
  {
   "cell_type": "code",
   "execution_count": 45,
   "id": "cc39053c",
   "metadata": {},
   "outputs": [
    {
     "name": "stdout",
     "output_type": "stream",
     "text": [
      "Fold 01 • n_comp=06 • MAE=178.817 • RMSE=296.572 • R²=0.065\n",
      "Fold 02 • n_comp=07 • MAE=176.302 • RMSE=280.124 • R²=0.049\n",
      "Fold 03 • n_comp=07 • MAE=181.287 • RMSE=285.389 • R²=0.023\n",
      "Fold 04 • n_comp=07 • MAE=175.723 • RMSE=273.635 • R²=0.051\n",
      "Fold 05 • n_comp=06 • MAE=173.849 • RMSE=267.583 • R²=0.026\n",
      "Fold 06 • n_comp=06 • MAE=176.252 • RMSE=263.684 • R²=0.059\n",
      "Fold 07 • n_comp=06 • MAE=178.031 • RMSE=264.085 • R²=0.046\n",
      "Fold 08 • n_comp=07 • MAE=175.083 • RMSE=265.310 • R²=0.058\n",
      "Fold 09 • n_comp=05 • MAE=177.449 • RMSE=279.785 • R²=0.042\n",
      "Fold 10 • n_comp=06 • MAE=171.326 • RMSE=263.140 • R²=0.033\n",
      "\n",
      "=== 10-fold CV summary ===\n",
      "n_components (mean ± std): 6.3 ± 0.6\n",
      "MAE :  176.412 ± 2.607\n",
      "RMSE:  273.931 ± 10.722\n",
      "R²  :  0.045 ± 0.013\n"
     ]
    }
   ],
   "source": [
    "pls_analysis(X, y, continuous_vars, categorical_vars, n_splits=10)"
   ]
  },
  {
   "cell_type": "markdown",
   "id": "fa6f99fe",
   "metadata": {},
   "source": [
    "### TMT vs. CT"
   ]
  },
  {
   "cell_type": "code",
   "execution_count": 46,
   "id": "b7923977",
   "metadata": {},
   "outputs": [
    {
     "name": "stdout",
     "output_type": "stream",
     "text": [
      "(24492, 65)\n",
      "(24492,)\n"
     ]
    }
   ],
   "source": [
    "# Set X and y\n",
    "with open('/Users/baileyng/MIND_models/region_names/CT_regions.txt', 'r') as f:\n",
    "    brain_regions = [line.strip() for line in f.readlines()]\n",
    "\n",
    "# Define demographic/clinical features\n",
    "demographic_vars = ['31-0.0', '21003-2.0', '54-2.0']\n",
    "\n",
    "# Combine demographic features with brain region features\n",
    "all_vars = demographic_vars + brain_regions\n",
    "\n",
    "X = df[all_vars]\n",
    "y = df['trailmaking_score']\n",
    "\n",
    "print(X.shape)\n",
    "print(y.shape)"
   ]
  },
  {
   "cell_type": "code",
   "execution_count": 47,
   "id": "d3ca6927",
   "metadata": {},
   "outputs": [],
   "source": [
    "# rename columns\n",
    "X = X.rename(columns=rename_dict)\n",
    "\n",
    "categorical_vars = ['sex', 'assessment_centre']\n",
    "continuous_vars  = [c for c in X.columns if c not in categorical_vars]"
   ]
  },
  {
   "cell_type": "code",
   "execution_count": 48,
   "id": "8bbc821c",
   "metadata": {},
   "outputs": [
    {
     "name": "stdout",
     "output_type": "stream",
     "text": [
      "Fold 01 • n_comp=05 • MAE=176.795 • RMSE=294.811 • R²=0.076\n",
      "Fold 02 • n_comp=05 • MAE=172.517 • RMSE=276.251 • R²=0.076\n",
      "Fold 03 • n_comp=05 • MAE=177.328 • RMSE=279.850 • R²=0.060\n",
      "Fold 04 • n_comp=05 • MAE=171.812 • RMSE=269.260 • R²=0.081\n",
      "Fold 05 • n_comp=05 • MAE=171.478 • RMSE=265.403 • R²=0.042\n",
      "Fold 06 • n_comp=05 • MAE=173.821 • RMSE=262.212 • R²=0.069\n",
      "Fold 07 • n_comp=05 • MAE=176.760 • RMSE=262.482 • R²=0.057\n",
      "Fold 08 • n_comp=05 • MAE=172.398 • RMSE=262.920 • R²=0.075\n",
      "Fold 09 • n_comp=05 • MAE=173.251 • RMSE=276.179 • R²=0.067\n",
      "Fold 10 • n_comp=05 • MAE=168.856 • RMSE=260.247 • R²=0.054\n",
      "\n",
      "=== 10-fold CV summary ===\n",
      "n_components (mean ± std): 5.0 ± 0.0\n",
      "MAE :  173.502 ± 2.588\n",
      "RMSE:  270.961 ± 10.319\n",
      "R²  :  0.066 ± 0.012\n"
     ]
    }
   ],
   "source": [
    "pls_analysis(X, y, continuous_vars, categorical_vars, n_splits=10)"
   ]
  },
  {
   "cell_type": "markdown",
   "id": "5b23f907",
   "metadata": {},
   "source": [
    "### TMT vs. FC"
   ]
  },
  {
   "cell_type": "code",
   "execution_count": 49,
   "id": "da36a119",
   "metadata": {},
   "outputs": [
    {
     "name": "stdout",
     "output_type": "stream",
     "text": [
      "(24492, 214)\n",
      "(24492,)\n"
     ]
    }
   ],
   "source": [
    "# Set X and y\n",
    "with open('/Users/baileyng/MIND_models/region_names/FC_regions.txt', 'r') as f:\n",
    "    brain_regions = [line.strip() for line in f.readlines()]\n",
    "\n",
    "# Define demographic/clinical features\n",
    "demographic_vars = ['31-0.0', '21003-2.0', '54-2.0', '25741-2.0']\n",
    "\n",
    "# Combine demographic features with brain region features\n",
    "all_vars = demographic_vars + brain_regions\n",
    "\n",
    "X = df[all_vars]\n",
    "y = df['trailmaking_score']\n",
    "\n",
    "print(X.shape)\n",
    "print(y.shape)"
   ]
  },
  {
   "cell_type": "code",
   "execution_count": 50,
   "id": "306a7206",
   "metadata": {},
   "outputs": [],
   "source": [
    "# rename columns\n",
    "X = X.rename(columns=rename_dict)\n",
    "\n",
    "categorical_vars = ['sex', 'assessment_centre']\n",
    "continuous_vars  = [c for c in X.columns if c not in categorical_vars]"
   ]
  },
  {
   "cell_type": "code",
   "execution_count": 51,
   "id": "ddee4381",
   "metadata": {},
   "outputs": [
    {
     "name": "stdout",
     "output_type": "stream",
     "text": [
      "Fold 01 • n_comp=09 • MAE=175.815 • RMSE=292.650 • R²=0.090\n",
      "Fold 02 • n_comp=08 • MAE=172.804 • RMSE=277.529 • R²=0.067\n",
      "Fold 03 • n_comp=09 • MAE=175.728 • RMSE=277.324 • R²=0.077\n",
      "Fold 04 • n_comp=08 • MAE=172.391 • RMSE=269.491 • R²=0.080\n",
      "Fold 05 • n_comp=08 • MAE=169.631 • RMSE=263.416 • R²=0.056\n",
      "Fold 06 • n_comp=07 • MAE=172.061 • RMSE=260.911 • R²=0.079\n",
      "Fold 07 • n_comp=08 • MAE=173.836 • RMSE=261.197 • R²=0.066\n",
      "Fold 08 • n_comp=08 • MAE=170.318 • RMSE=261.209 • R²=0.087\n",
      "Fold 09 • n_comp=09 • MAE=169.796 • RMSE=271.336 • R²=0.099\n",
      "Fold 10 • n_comp=08 • MAE=167.751 • RMSE=258.536 • R²=0.067\n",
      "\n",
      "=== 10-fold CV summary ===\n",
      "n_components (mean ± std): 8.2 ± 0.6\n",
      "MAE :  172.013 ± 2.529\n",
      "RMSE:  269.360 ± 10.166\n",
      "R²  :  0.077 ± 0.012\n"
     ]
    }
   ],
   "source": [
    "pls_analysis(X, y, continuous_vars, categorical_vars, n_splits=10)"
   ]
  },
  {
   "cell_type": "markdown",
   "id": "681c7426",
   "metadata": {},
   "source": [
    "# All Cognitive Data"
   ]
  },
  {
   "cell_type": "code",
   "execution_count": 12,
   "id": "0992403c",
   "metadata": {},
   "outputs": [],
   "source": [
    "# Load the dataset\n",
    "df = pd.read_csv('/Users/baileyng/MIND_data/ukb_master_allcols_no_outliers.csv', index_col=0)"
   ]
  },
  {
   "cell_type": "code",
   "execution_count": 13,
   "id": "a882aea3",
   "metadata": {},
   "outputs": [
    {
     "name": "stdout",
     "output_type": "stream",
     "text": [
      "24143\n",
      "(24143, 2628)\n"
     ]
    }
   ],
   "source": [
    "print(len(df))\n",
    "print(df.shape)"
   ]
  },
  {
   "cell_type": "markdown",
   "id": "8cf455b8",
   "metadata": {},
   "source": [
    "### All Data vs. MIND (avg)"
   ]
  },
  {
   "cell_type": "code",
   "execution_count": 61,
   "id": "679ba7c3",
   "metadata": {},
   "outputs": [
    {
     "name": "stdout",
     "output_type": "stream",
     "text": [
      "(24143, 72)\n",
      "(24143, 4)\n"
     ]
    }
   ],
   "source": [
    "# Set X and y\n",
    "with open('/Users/baileyng/MIND_models/region_names/MIND_avg_regions.txt', 'r') as f:\n",
    "    brain_regions = [line.strip() for line in f.readlines()]\n",
    "\n",
    "# Define demographic/clinical features\n",
    "demographic_vars = ['31-0.0', '21003-2.0', '54-2.0', '25741-2.0']\n",
    "\n",
    "# Combine demographic features with brain region features\n",
    "all_vars = demographic_vars + brain_regions\n",
    "\n",
    "X = df[all_vars]\n",
    "y = df[['20016-2.0', '20197-2.0', '23324-2.0', 'trailmaking_score']]\n",
    "\n",
    "print(X.shape)\n",
    "print(y.shape)"
   ]
  },
  {
   "cell_type": "code",
   "execution_count": 62,
   "id": "9b6fafd9",
   "metadata": {},
   "outputs": [],
   "source": [
    "# rename columns\n",
    "X = X.rename(columns=rename_dict)\n",
    "\n",
    "categorical_vars = ['sex', 'assessment_centre']\n",
    "continuous_vars  = [c for c in X.columns if c not in categorical_vars]"
   ]
  },
  {
   "cell_type": "code",
   "execution_count": 63,
   "id": "0601eb51",
   "metadata": {},
   "outputs": [
    {
     "name": "stdout",
     "output_type": "stream",
     "text": [
      "Fold 01 • n_comp=06 • MAE=45.892 • RMSE=143.108 • R²=0.087\n",
      "Fold 02 • n_comp=06 • MAE=43.098 • RMSE=125.957 • R²=0.085\n",
      "Fold 03 • n_comp=06 • MAE=44.172 • RMSE=136.246 • R²=0.093\n",
      "Fold 04 • n_comp=06 • MAE=44.269 • RMSE=128.711 • R²=0.083\n",
      "Fold 05 • n_comp=06 • MAE=42.912 • RMSE=125.288 • R²=0.099\n",
      "Fold 06 • n_comp=06 • MAE=44.759 • RMSE=140.403 • R²=0.084\n",
      "Fold 07 • n_comp=06 • MAE=45.050 • RMSE=133.851 • R²=0.095\n",
      "Fold 08 • n_comp=06 • MAE=42.585 • RMSE=122.742 • R²=0.095\n",
      "Fold 09 • n_comp=06 • MAE=43.522 • RMSE=128.504 • R²=0.102\n",
      "Fold 10 • n_comp=06 • MAE=45.062 • RMSE=133.976 • R²=0.097\n",
      "\n",
      "=== 10-fold CV summary ===\n",
      "n_components (mean ± std): 6.0 ± 0.0\n",
      "MAE :  44.132 ± 1.027\n",
      "RMSE:  131.878 ± 6.399\n",
      "R²  :  0.092 ± 0.007\n"
     ]
    }
   ],
   "source": [
    "pls_analysis(X, y, continuous_vars, categorical_vars, n_splits=10)"
   ]
  },
  {
   "cell_type": "markdown",
   "id": "22ba38d1",
   "metadata": {},
   "source": [
    "### All Data vs. MIND"
   ]
  },
  {
   "cell_type": "code",
   "execution_count": 64,
   "id": "ef09a9ed",
   "metadata": {},
   "outputs": [
    {
     "name": "stdout",
     "output_type": "stream",
     "text": [
      "(24143, 2282)\n",
      "(24143, 4)\n"
     ]
    }
   ],
   "source": [
    "# Set X and y\n",
    "with open('/Users/baileyng/MIND_models/region_names/MIND_regions.txt', 'r') as f:\n",
    "    brain_regions = [line.strip() for line in f.readlines()]\n",
    "\n",
    "# Define demographic/clinical features\n",
    "demographic_vars = ['31-0.0', '21003-2.0', '54-2.0', '25741-2.0']\n",
    "\n",
    "# Combine demographic features with brain region features\n",
    "all_vars = demographic_vars + brain_regions\n",
    "\n",
    "X = df[all_vars]\n",
    "y = df[['20016-2.0', '20197-2.0', '23324-2.0', 'trailmaking_score']]\n",
    "\n",
    "print(X.shape)\n",
    "print(y.shape)"
   ]
  },
  {
   "cell_type": "code",
   "execution_count": 65,
   "id": "e286e44a",
   "metadata": {},
   "outputs": [],
   "source": [
    "# rename columns\n",
    "X = X.rename(columns=rename_dict)\n",
    "\n",
    "categorical_vars = ['sex', 'assessment_centre']\n",
    "continuous_vars  = [c for c in X.columns if c not in categorical_vars]"
   ]
  },
  {
   "cell_type": "code",
   "execution_count": 66,
   "id": "ee371d15",
   "metadata": {},
   "outputs": [
    {
     "name": "stdout",
     "output_type": "stream",
     "text": [
      "Fold 01 • n_comp=10 • MAE=45.916 • RMSE=143.128 • R²=0.079\n",
      "Fold 02 • n_comp=10 • MAE=43.441 • RMSE=126.412 • R²=0.072\n",
      "Fold 03 • n_comp=10 • MAE=44.558 • RMSE=136.892 • R²=0.084\n",
      "Fold 04 • n_comp=10 • MAE=44.790 • RMSE=129.639 • R²=0.069\n",
      "Fold 05 • n_comp=10 • MAE=43.510 • RMSE=126.572 • R²=0.080\n",
      "Fold 06 • n_comp=10 • MAE=45.045 • RMSE=140.842 • R²=0.076\n",
      "Fold 07 • n_comp=10 • MAE=45.531 • RMSE=135.287 • R²=0.073\n",
      "Fold 08 • n_comp=10 • MAE=42.875 • RMSE=123.305 • R²=0.083\n",
      "Fold 09 • n_comp=09 • MAE=44.375 • RMSE=129.982 • R²=0.078\n",
      "Fold 10 • n_comp=10 • MAE=45.210 • RMSE=135.031 • R²=0.086\n",
      "\n",
      "=== 10-fold CV summary ===\n",
      "n_components (mean ± std): 9.9 ± 0.3\n",
      "MAE :  44.525 ± 0.933\n",
      "RMSE:  132.709 ± 6.220\n",
      "R²  :  0.078 ± 0.005\n"
     ]
    }
   ],
   "source": [
    "pls_analysis(X, y, continuous_vars, categorical_vars, n_splits=10)"
   ]
  },
  {
   "cell_type": "markdown",
   "id": "042e1a5f",
   "metadata": {},
   "source": [
    "### All Data vs. CT"
   ]
  },
  {
   "cell_type": "code",
   "execution_count": 67,
   "id": "c1b9b856",
   "metadata": {},
   "outputs": [
    {
     "name": "stdout",
     "output_type": "stream",
     "text": [
      "(24143, 66)\n",
      "(24143, 4)\n"
     ]
    }
   ],
   "source": [
    "# Set X and y\n",
    "with open('/Users/baileyng/MIND_models/region_names/CT_regions.txt', 'r') as f:\n",
    "    brain_regions = [line.strip() for line in f.readlines()]\n",
    "\n",
    "# Define demographic/clinical features\n",
    "demographic_vars = ['31-0.0', '21003-2.0', '54-2.0', '25741-2.0']\n",
    "\n",
    "# Combine demographic features with brain region features\n",
    "all_vars = demographic_vars + brain_regions\n",
    "\n",
    "X = df[all_vars]\n",
    "y = df[['20016-2.0', '20197-2.0', '23324-2.0', 'trailmaking_score']]\n",
    "\n",
    "print(X.shape)\n",
    "print(y.shape)"
   ]
  },
  {
   "cell_type": "code",
   "execution_count": 68,
   "id": "17581aa4",
   "metadata": {},
   "outputs": [],
   "source": [
    "# rename columns\n",
    "X = X.rename(columns=rename_dict)\n",
    "\n",
    "categorical_vars = ['sex', 'assessment_centre']\n",
    "continuous_vars  = [c for c in X.columns if c not in categorical_vars]"
   ]
  },
  {
   "cell_type": "code",
   "execution_count": 69,
   "id": "714386f8",
   "metadata": {},
   "outputs": [
    {
     "name": "stdout",
     "output_type": "stream",
     "text": [
      "Fold 01 • n_comp=08 • MAE=46.059 • RMSE=143.054 • R²=0.083\n",
      "Fold 02 • n_comp=08 • MAE=42.990 • RMSE=125.628 • R²=0.084\n",
      "Fold 03 • n_comp=08 • MAE=44.391 • RMSE=136.461 • R²=0.088\n",
      "Fold 04 • n_comp=08 • MAE=44.538 • RMSE=129.339 • R²=0.078\n",
      "Fold 05 • n_comp=08 • MAE=43.019 • RMSE=125.670 • R²=0.095\n",
      "Fold 06 • n_comp=08 • MAE=44.875 • RMSE=140.566 • R²=0.080\n",
      "Fold 07 • n_comp=08 • MAE=45.162 • RMSE=133.795 • R²=0.096\n",
      "Fold 08 • n_comp=08 • MAE=42.822 • RMSE=123.141 • R²=0.088\n",
      "Fold 09 • n_comp=08 • MAE=43.660 • RMSE=128.577 • R²=0.098\n",
      "Fold 10 • n_comp=08 • MAE=45.093 • RMSE=134.540 • R²=0.093\n",
      "\n",
      "=== 10-fold CV summary ===\n",
      "n_components (mean ± std): 8.0 ± 0.0\n",
      "MAE :  44.261 ± 1.039\n",
      "RMSE:  132.077 ± 6.348\n",
      "R²  :  0.088 ± 0.007\n"
     ]
    }
   ],
   "source": [
    "pls_analysis(X, y, continuous_vars, categorical_vars, n_splits=10)"
   ]
  },
  {
   "cell_type": "markdown",
   "id": "f3970d36",
   "metadata": {},
   "source": [
    "### All Data vs. FC"
   ]
  },
  {
   "cell_type": "code",
   "execution_count": 70,
   "id": "cd074a25",
   "metadata": {},
   "outputs": [
    {
     "name": "stdout",
     "output_type": "stream",
     "text": [
      "(24143, 214)\n",
      "(24143, 4)\n"
     ]
    }
   ],
   "source": [
    "# Set X and y\n",
    "with open('/Users/baileyng/MIND_models/region_names/FC_regions.txt', 'r') as f:\n",
    "    brain_regions = [line.strip() for line in f.readlines()]\n",
    "\n",
    "# Define demographic/clinical features\n",
    "demographic_vars = ['31-0.0', '21003-2.0', '54-2.0', '25741-2.0']\n",
    "\n",
    "# Combine demographic features with brain region features\n",
    "all_vars = demographic_vars + brain_regions\n",
    "\n",
    "X = df[all_vars]\n",
    "y = df[['20016-2.0', '20197-2.0', '23324-2.0', 'trailmaking_score']]\n",
    "\n",
    "print(X.shape)\n",
    "print(y.shape)"
   ]
  },
  {
   "cell_type": "code",
   "execution_count": 71,
   "id": "62893b7e",
   "metadata": {},
   "outputs": [],
   "source": [
    "# rename columns\n",
    "X = X.rename(columns=rename_dict)\n",
    "\n",
    "categorical_vars = ['sex', 'assessment_centre']\n",
    "continuous_vars  = [c for c in X.columns if c not in categorical_vars]"
   ]
  },
  {
   "cell_type": "code",
   "execution_count": 72,
   "id": "6da3d513",
   "metadata": {},
   "outputs": [
    {
     "name": "stdout",
     "output_type": "stream",
     "text": [
      "Fold 01 • n_comp=07 • MAE=45.260 • RMSE=141.670 • R²=0.099\n",
      "Fold 02 • n_comp=07 • MAE=42.725 • RMSE=125.016 • R²=0.099\n",
      "Fold 03 • n_comp=07 • MAE=43.924 • RMSE=135.677 • R²=0.105\n",
      "Fold 04 • n_comp=07 • MAE=43.800 • RMSE=127.643 • R²=0.099\n",
      "Fold 05 • n_comp=07 • MAE=42.919 • RMSE=125.311 • R²=0.110\n",
      "Fold 06 • n_comp=07 • MAE=44.613 • RMSE=140.063 • R²=0.097\n",
      "Fold 07 • n_comp=07 • MAE=44.448 • RMSE=132.422 • R²=0.113\n",
      "Fold 08 • n_comp=07 • MAE=42.488 • RMSE=122.249 • R²=0.103\n",
      "Fold 09 • n_comp=08 • MAE=43.156 • RMSE=128.005 • R²=0.115\n",
      "Fold 10 • n_comp=10 • MAE=44.676 • RMSE=133.820 • R²=0.120\n",
      "\n",
      "=== 10-fold CV summary ===\n",
      "n_components (mean ± std): 7.4 ± 0.9\n",
      "MAE :  43.801 ± 0.898\n",
      "RMSE:  131.187 ± 6.265\n",
      "R²  :  0.106 ± 0.008\n"
     ]
    }
   ],
   "source": [
    "pls_analysis(X, y, continuous_vars, categorical_vars, n_splits=10)"
   ]
  },
  {
   "cell_type": "code",
   "execution_count": null,
   "id": "f62b29d9",
   "metadata": {},
   "outputs": [],
   "source": []
  }
 ],
 "metadata": {
  "kernelspec": {
   "display_name": "venv",
   "language": "python",
   "name": "python3"
  },
  "language_info": {
   "codemirror_mode": {
    "name": "ipython",
    "version": 3
   },
   "file_extension": ".py",
   "mimetype": "text/x-python",
   "name": "python",
   "nbconvert_exporter": "python",
   "pygments_lexer": "ipython3",
   "version": "3.8.20"
  }
 },
 "nbformat": 4,
 "nbformat_minor": 5
}
