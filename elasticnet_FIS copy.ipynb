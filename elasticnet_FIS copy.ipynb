{
 "cells": [
  {
   "cell_type": "code",
   "execution_count": 16,
   "id": "edc7107c",
   "metadata": {},
   "outputs": [],
   "source": [
    "import pandas as pd\n",
    "import numpy as np\n",
    "import seaborn as sns\n",
    "from collections import Counter\n",
    "import matplotlib.pyplot as plt\n",
    "from sklearn.preprocessing import StandardScaler\n",
    "from sklearn.pipeline import make_pipeline\n",
    "from sklearn.linear_model import ElasticNetCV\n",
    "from sklearn.model_selection import KFold, StratifiedKFold\n",
    "from sklearn.metrics import mean_absolute_error, mean_squared_error, r2_score\n"
   ]
  },
  {
   "cell_type": "code",
   "execution_count": 2,
   "id": "8e25b0a1",
   "metadata": {},
   "outputs": [],
   "source": [
    "# Load the dataset\n",
    "df = pd.read_csv('/Users/baileyng/MIND_models/ukb_FIS.csv', index_col=0)"
   ]
  },
  {
   "cell_type": "code",
   "execution_count": 3,
   "id": "3b2825a8",
   "metadata": {},
   "outputs": [
    {
     "data": {
      "image/png": "[encoded data removed]",
      "text/plain": [
       "<Figure size 640x480 with 1 Axes>"
      ]
     },
     "metadata": {},
     "output_type": "display_data"
    }
   ],
   "source": [
    "# Histogram of Fluid Intelligence Scores\n",
    "sns.histplot(df['20016-2.0'])\n",
    "plt.title('Distribution of Fluid Intelligence Scores')\n",
    "plt.xlabel('Fluid Intelligence Score')\n",
    "plt.ylabel('Frequency')\n",
    "plt.show()"
   ]
  },
  {
   "cell_type": "code",
   "execution_count": 4,
   "id": "1b15c397",
   "metadata": {},
   "outputs": [
    {
     "name": "stdout",
     "output_type": "stream",
     "text": [
      "25095\n"
     ]
    }
   ],
   "source": [
    "print(len(df))"
   ]
  },
  {
   "cell_type": "markdown",
   "id": "849e5a1c",
   "metadata": {},
   "source": [
    "##### Using MIND to predict Fluid Intelligence Score"
   ]
  },
  {
   "cell_type": "code",
   "execution_count": 6,
   "id": "01c02b8c",
   "metadata": {},
   "outputs": [],
   "source": [
    "# Set X and y\n",
    "\n",
    "X = df[['31-0.0', '21003-2.0',\n",
    "        \n",
    "        'lh_bankssts', 'lh_caudalanteriorcingulate', 'lh_caudalmiddlefrontal',\n",
    "        'lh_cuneus', 'lh_entorhinal', 'lh_fusiform', 'lh_inferiorparietal', \n",
    "        'lh_inferiortemporal', 'lh_isthmuscingulate', 'lh_lateraloccipital', \n",
    "        'lh_lateralorbitofrontal', 'lh_lingual', 'lh_medialorbitofrontal', \n",
    "        'lh_middletemporal', 'lh_parahippocampal', 'lh_paracentral', \n",
    "        'lh_parsopercularis', 'lh_parsorbitalis', 'lh_parstriangularis', \n",
    "        'lh_pericalcarine', 'lh_postcentral', 'lh_posteriorcingulate', \n",
    "        'lh_precentral', 'lh_precuneus', 'lh_rostralanteriorcingulate', \n",
    "        'lh_rostralmiddlefrontal', 'lh_superiorfrontal', 'lh_superiorparietal', \n",
    "        'lh_superiortemporal', 'lh_supramarginal', 'lh_frontalpole', \n",
    "        'lh_temporalpole', 'lh_transversetemporal', 'lh_insula', \n",
    "        'rh_bankssts', 'rh_caudalanteriorcingulate', 'rh_caudalmiddlefrontal', \n",
    "        'rh_cuneus', 'rh_entorhinal', 'rh_fusiform', 'rh_inferiorparietal', \n",
    "        'rh_inferiortemporal', 'rh_isthmuscingulate', 'rh_lateraloccipital', \n",
    "        'rh_lateralorbitofrontal', 'rh_lingual', 'rh_medialorbitofrontal', \n",
    "        'rh_middletemporal', 'rh_parahippocampal', 'rh_paracentral', \n",
    "        'rh_parsopercularis', 'rh_parsorbitalis', 'rh_parstriangularis', \n",
    "        'rh_pericalcarine', 'rh_postcentral', 'rh_posteriorcingulate', \n",
    "        'rh_precentral', 'rh_precuneus', 'rh_rostralanteriorcingulate', \n",
    "        'rh_rostralmiddlefrontal', 'rh_superiorfrontal', 'rh_superiorparietal', \n",
    "        'rh_superiortemporal', 'rh_supramarginal', 'rh_frontalpole', \n",
    "        'rh_temporalpole', 'rh_transversetemporal', 'rh_insula']]\n",
    "\n",
    "y = df['20016-2.0']"
   ]
  },
  {
   "cell_type": "code",
   "execution_count": 7,
   "id": "bb062f82",
   "metadata": {},
   "outputs": [
    {
     "name": "stdout",
     "output_type": "stream",
     "text": [
      "Fold 01 • MAE=1.642 • RMSE=2.064 • R²=0.022 • α=0.01624 • l1_ratio=0.40\n",
      "Fold 02 • MAE=1.635 • RMSE=2.034 • R²=0.011 • α=0.01624 • l1_ratio=0.50\n",
      "Fold 03 • MAE=1.569 • RMSE=1.951 • R²=0.029 • α=0.007848 • l1_ratio=0.40\n",
      "Fold 04 • MAE=1.622 • RMSE=2.032 • R²=0.021 • α=0.01624 • l1_ratio=0.50\n",
      "Fold 05 • MAE=1.593 • RMSE=1.991 • R²=0.043 • α=0.0336 • l1_ratio=0.30\n",
      "Fold 06 • MAE=1.625 • RMSE=2.048 • R²=0.036 • α=0.01624 • l1_ratio=0.50\n",
      "Fold 07 • MAE=1.609 • RMSE=1.996 • R²=0.032 • α=0.01624 • l1_ratio=0.50\n",
      "Fold 08 • MAE=1.588 • RMSE=1.974 • R²=0.027 • α=0.01624 • l1_ratio=0.50\n",
      "Fold 09 • MAE=1.643 • RMSE=2.024 • R²=0.028 • α=0.01624 • l1_ratio=0.50\n",
      "Fold 10 • MAE=1.681 • RMSE=2.079 • R²=0.032 • α=0.01624 • l1_ratio=0.50\n",
      "Fold 11 • MAE=1.695 • RMSE=2.113 • R²=0.017 • α=0.01624 • l1_ratio=0.30\n",
      "Fold 12 • MAE=1.650 • RMSE=2.054 • R²=0.031 • α=0.0336 • l1_ratio=0.30\n",
      "Fold 13 • MAE=1.616 • RMSE=2.005 • R²=0.035 • α=0.01624 • l1_ratio=0.40\n",
      "Fold 14 • MAE=1.638 • RMSE=2.041 • R²=0.028 • α=0.01624 • l1_ratio=0.30\n",
      "Fold 15 • MAE=1.594 • RMSE=1.992 • R²=0.027 • α=0.01624 • l1_ratio=0.30\n",
      "Fold 16 • MAE=1.640 • RMSE=2.017 • R²=0.009 • α=0.01624 • l1_ratio=0.60\n",
      "Fold 17 • MAE=1.565 • RMSE=1.950 • R²=0.022 • α=0.01624 • l1_ratio=0.50\n",
      "Fold 18 • MAE=1.660 • RMSE=2.067 • R²=0.036 • α=0.01624 • l1_ratio=0.40\n",
      "Fold 19 • MAE=1.658 • RMSE=2.077 • R²=0.050 • α=0.0336 • l1_ratio=0.30\n",
      "Fold 20 • MAE=1.622 • RMSE=2.027 • R²=0.038 • α=0.01624 • l1_ratio=0.50\n",
      "\n",
      "=== 10-fold CV summary ===\n",
      "Mean MAE :  1.627  ± 0.034\n",
      "Mean RMSE:  2.027 ± 0.042\n",
      "Mean R²  :  0.029  ± 0.010\n"
     ]
    }
   ],
   "source": [
    "# Cross-validation set-up\n",
    "outer_cv = KFold(n_splits=20, shuffle=True, random_state=42)\n",
    "\n",
    "outer_mae = []\n",
    "outer_rmse = []\n",
    "outer_r2 = []\n",
    "best_params_per_fold = []\n",
    "nonzero_predictors = []\n",
    "\n",
    "for fold, (train_idx, test_idx) in enumerate(outer_cv.split(X, y), start=1):\n",
    "    X_train, X_test = X.iloc[train_idx], X.iloc[test_idx]\n",
    "    y_train, y_test = y.iloc[train_idx], y.iloc[test_idx]\n",
    "\n",
    "    # Inner CV\n",
    "    model = make_pipeline(\n",
    "        StandardScaler(),\n",
    "        ElasticNetCV(\n",
    "            l1_ratio=np.linspace(0.3, 0.9, 7),\n",
    "            alphas=np.logspace(-4, 2, 20),\n",
    "            cv=20,\n",
    "            max_iter=5000,\n",
    "            random_state=42\n",
    "        )\n",
    "    )\n",
    "\n",
    "    model.fit(X_train, y_train)\n",
    "    y_pred = model.predict(X_test)\n",
    "\n",
    "    # --- metrics ---\n",
    "    mae = mean_absolute_error(y_test, y_pred)\n",
    "    rmse = np.sqrt(mean_squared_error(y_test, y_pred))\n",
    "    r2 = r2_score(y_test, y_pred)\n",
    "\n",
    "    outer_mae.append(mae)\n",
    "    outer_rmse.append(rmse)\n",
    "    outer_r2.append(r2)\n",
    "\n",
    "    # --- store best α & l1_ratio for this fold ---\n",
    "    est = model.named_steps['elasticnetcv']\n",
    "    best_params_per_fold.append(\n",
    "        {'alpha': est.alpha_, 'l1_ratio': est.l1_ratio_}\n",
    "    )\n",
    "\n",
    "    # --- predictors that survived ---\n",
    "    coefs = est.coef_\n",
    "    surviving = [col for col, c in zip(X.columns, coefs) if c != 0]\n",
    "    nonzero_predictors.append(surviving)\n",
    "\n",
    "    print(f\"Fold {fold:02d} • MAE={mae:.3f} • RMSE={rmse:.3f} • R²={r2:.3f} \"\n",
    "          f\"• α={est.alpha_:.4g} • l1_ratio={est.l1_ratio_:.2f}\")\n",
    "    \n",
    "\n",
    "# Aggregate results\n",
    "print(\"\\n=== 10-fold CV summary ===\")\n",
    "print(f\"Mean MAE :  {np.mean(outer_mae):.3f}  ± {np.std(outer_mae):.3f}\")\n",
    "print(f\"Mean RMSE:  {np.mean(outer_rmse):.3f} ± {np.std(outer_rmse):.3f}\")\n",
    "print(f\"Mean R²  :  {np.mean(outer_r2):.3f}  ± {np.std(outer_r2):.3f}\")\n",
    "\n"
   ]
  },
  {
   "cell_type": "code",
   "execution_count": 8,
   "id": "ae244488",
   "metadata": {},
   "outputs": [
    {
     "name": "stdout",
     "output_type": "stream",
     "text": [
      "\n",
      "Best α and l1_ratio per fold\n",
      "        alpha  l1_ratio\n",
      "0   0.016238       0.4\n",
      "1   0.016238       0.5\n",
      "2   0.007848       0.4\n",
      "3   0.016238       0.5\n",
      "4   0.033598       0.3\n",
      "5   0.016238       0.5\n",
      "6   0.016238       0.5\n",
      "7   0.016238       0.5\n",
      "8   0.016238       0.5\n",
      "9   0.016238       0.5\n",
      "10  0.016238       0.3\n",
      "11  0.033598       0.3\n",
      "12  0.016238       0.4\n",
      "13  0.016238       0.3\n",
      "14  0.016238       0.3\n",
      "15  0.016238       0.6\n",
      "16  0.016238       0.5\n",
      "17  0.016238       0.4\n",
      "18  0.033598       0.3\n",
      "19  0.016238       0.5\n",
      "\n",
      "Variables that kept non-zero coefficients in ≥1 fold:\n",
      "['21003-2.0', '31-0.0', 'lh_bankssts', 'lh_caudalanteriorcingulate', 'lh_caudalmiddlefrontal', 'lh_cuneus', 'lh_entorhinal', 'lh_frontalpole', 'lh_fusiform', 'lh_inferiorparietal', 'lh_inferiortemporal', 'lh_insula', 'lh_isthmuscingulate', 'lh_lateraloccipital', 'lh_lateralorbitofrontal', 'lh_lingual', 'lh_medialorbitofrontal', 'lh_middletemporal', 'lh_paracentral', 'lh_parahippocampal', 'lh_parsopercularis', 'lh_parsorbitalis', 'lh_pericalcarine', 'lh_postcentral', 'lh_posteriorcingulate', 'lh_precentral', 'lh_rostralanteriorcingulate', 'lh_rostralmiddlefrontal', 'lh_superiorfrontal', 'lh_superiorparietal', 'lh_superiortemporal', 'lh_supramarginal', 'lh_temporalpole', 'lh_transversetemporal', 'rh_bankssts', 'rh_caudalanteriorcingulate', 'rh_caudalmiddlefrontal', 'rh_cuneus', 'rh_entorhinal', 'rh_frontalpole', 'rh_inferiorparietal', 'rh_inferiortemporal', 'rh_insula', 'rh_isthmuscingulate', 'rh_lateraloccipital', 'rh_lateralorbitofrontal', 'rh_lingual', 'rh_medialorbitofrontal', 'rh_middletemporal', 'rh_paracentral', 'rh_parahippocampal', 'rh_parsopercularis', 'rh_parsorbitalis', 'rh_pericalcarine', 'rh_postcentral', 'rh_precentral', 'rh_precuneus', 'rh_rostralanteriorcingulate', 'rh_superiorfrontal', 'rh_superiorparietal', 'rh_superiortemporal', 'rh_supramarginal', 'rh_temporalpole', 'rh_transversetemporal']\n"
     ]
    }
   ],
   "source": [
    "# View parameter choices & surviving variables\n",
    "param_df = pd.DataFrame(best_params_per_fold)\n",
    "print(\"\\nBest α and l1_ratio per fold\\n\", param_df)\n",
    "\n",
    "print(\"\\nVariables that kept non-zero coefficients in ≥1 fold:\")\n",
    "print(sorted({v for fold_vars in nonzero_predictors for v in fold_vars}))"
   ]
  },
  {
   "cell_type": "code",
   "execution_count": 9,
   "id": "3c629859",
   "metadata": {},
   "outputs": [
    {
     "name": "stdout",
     "output_type": "stream",
     "text": [
      "\n",
      "=== Final model ===\n",
      "α  = 0.01624\n",
      "l1 = 0.50\n"
     ]
    }
   ],
   "source": [
    "# Final refit on all data\n",
    "final_model = make_pipeline(\n",
    "    StandardScaler(),\n",
    "    ElasticNetCV(\n",
    "        l1_ratio=np.linspace(0.3, 0.9, 7),\n",
    "        alphas=np.logspace(-4, 2, 20),\n",
    "        cv=20,\n",
    "        max_iter=5000,\n",
    "        random_state=42\n",
    "    )\n",
    ").fit(X, y)\n",
    "\n",
    "print(\"\\n=== Final model ===\")\n",
    "print(f\"α  = {final_model.named_steps['elasticnetcv'].alpha_:.4g}\")\n",
    "print(f\"l1 = {final_model.named_steps['elasticnetcv'].l1_ratio_:.2f}\")"
   ]
  }
 ],
 "metadata": {
  "kernelspec": {
   "display_name": "venv",
   "language": "python",
   "name": "python3"
  },
  "language_info": {
   "codemirror_mode": {
    "name": "ipython",
    "version": 3
   },
   "file_extension": ".py",
   "mimetype": "text/x-python",
   "name": "python",
   "nbconvert_exporter": "python",
   "pygments_lexer": "ipython3",
   "version": "3.8.20"
  }
 },
 "nbformat": 4,
 "nbformat_minor": 5
}
