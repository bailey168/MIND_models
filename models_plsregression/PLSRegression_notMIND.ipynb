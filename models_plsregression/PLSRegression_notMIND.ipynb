{
 "cells": [
  {
   "cell_type": "markdown",
   "id": "25ae522b",
   "metadata": {},
   "source": [
    "# Set up"
   ]
  },
  {
   "cell_type": "code",
   "execution_count": 1,
   "id": "edc7107c",
   "metadata": {},
   "outputs": [],
   "source": [
    "import pandas as pd\n",
    "import numpy as np\n",
    "import seaborn as sns\n",
    "from collections import Counter\n",
    "from matplotlib import cm\n",
    "import matplotlib.pyplot as plt\n",
    "from sklearn.preprocessing import StandardScaler, OneHotEncoder\n",
    "from sklearn.compose import ColumnTransformer\n",
    "from sklearn.pipeline import make_pipeline\n",
    "from sklearn.cross_decomposition import PLSRegression\n",
    "from sklearn.model_selection import KFold, GridSearchCV\n",
    "from sklearn.metrics import mean_absolute_error, mean_squared_error, r2_score, explained_variance_score\n",
    "import nibabel as nib\n",
    "import nibabel.freesurfer.io as fsio\n",
    "from nilearn import datasets, plotting\n",
    "import random\n",
    "from joblib import Parallel, delayed\n",
    "from adjustText import adjust_text\n",
    "from matplotlib.patches import Ellipse\n",
    "import re\n",
    "import os"
   ]
  },
  {
   "cell_type": "code",
   "execution_count": 2,
   "id": "65ebc51f",
   "metadata": {},
   "outputs": [],
   "source": [
    "random.seed(42)\n",
    "np.random.seed(42)"
   ]
  },
  {
   "cell_type": "code",
   "execution_count": 3,
   "id": "66b17f13",
   "metadata": {},
   "outputs": [],
   "source": [
    "rename = pd.read_csv('/Users/baileyng/MIND_models/region_names/col_renames.csv')\n",
    "rename_dict = dict(zip(rename['datafield_code'], rename['datafield_name']))\n",
    "\n",
    "weights_dir = '/Users/baileyng/MIND_models/models_plsregression/PLS_weights'"
   ]
  },
  {
   "cell_type": "markdown",
   "id": "52a9eeb1",
   "metadata": {},
   "source": [
    "# PLS Analysis Function"
   ]
  },
  {
   "cell_type": "code",
   "execution_count": 4,
   "id": "6ad73310",
   "metadata": {},
   "outputs": [],
   "source": [
    "# inner parallelized\n",
    "def pls_analysis(X, y, continuous_vars, categorical_vars, weights_dir, data_name, target_name, n_splits=10):\n",
    "    preprocessor = ColumnTransformer(transformers=[\n",
    "        # scale continuous features\n",
    "        ('num', StandardScaler(), continuous_vars),\n",
    "        # one-hot encode the assessment centre (drop one level to avoid collinearity)\n",
    "        ('cat', OneHotEncoder(drop='first', sparse_output=False), categorical_vars),\n",
    "    ])\n",
    "\n",
    "    # Cross-validation set-up\n",
    "    outer_cv = KFold(n_splits=n_splits, shuffle=True, random_state=42)\n",
    "\n",
    "    outer_mae, outer_rmse, outer_r2 = [], [], []\n",
    "    best_ncomps = []\n",
    "    coefs_list = []\n",
    "\n",
    "    for fold, (train_idx, test_idx) in enumerate(outer_cv.split(X, y), start=1):\n",
    "        X_train, X_test = X.iloc[train_idx], X.iloc[test_idx]\n",
    "        y_train, y_test = y.iloc[train_idx], y.iloc[test_idx]\n",
    "\n",
    "        # Inner CV\n",
    "        pipe = make_pipeline(\n",
    "            preprocessor,\n",
    "            PLSRegression()\n",
    "        )\n",
    "\n",
    "        param_grid = {\n",
    "            'plsregression__n_components': list(range(1, 11))\n",
    "        }\n",
    "\n",
    "        inner_cv = KFold(n_splits=n_splits, shuffle=True, random_state=42)\n",
    "        grid = GridSearchCV(\n",
    "            pipe, \n",
    "            param_grid, \n",
    "            cv=inner_cv, \n",
    "            scoring='neg_mean_squared_error',  # or 'r2'\n",
    "            n_jobs=-1\n",
    "        )\n",
    "        \n",
    "        grid.fit(X_train, y_train)\n",
    "        best_n = grid.best_params_['plsregression__n_components']\n",
    "        best_ncomps.append(best_n)\n",
    "        \n",
    "        y_pred = grid.predict(X_test)\n",
    "\n",
    "        # --- metrics ---\n",
    "        mae = mean_absolute_error(y_test, y_pred)\n",
    "        rmse = np.sqrt(mean_squared_error(y_test, y_pred))\n",
    "        r2 = r2_score(y_test, y_pred)\n",
    "\n",
    "        outer_mae.append(mae)\n",
    "        outer_rmse.append(rmse)\n",
    "        outer_r2.append(r2)\n",
    "\n",
    "        # --- extract loadings and compute VIP ---\n",
    "        pls = grid.best_estimator_.named_steps['plsregression']\n",
    "        coefs_list.append(pls.coef_.ravel())\n",
    "        \n",
    "        T = pls.x_scores_\n",
    "        W = pls.x_weights_\n",
    "        Q = pls.y_loadings_\n",
    "        p, h = W.shape\n",
    "\n",
    "        print(f'Fold {fold:02d} • n_comp={best_n:02d} • '\n",
    "            f'MAE={mae:.3f} • RMSE={rmse:.3f} • R²={r2:.3f}')\n",
    "        \n",
    "\n",
    "    # Aggregate results\n",
    "    print('\\n=== 10-fold CV summary ===')\n",
    "    print(f'n_components (mean ± std): '\n",
    "        f'{np.mean(best_ncomps):.1f} ± {np.std(best_ncomps):.1f}')\n",
    "    print(f'MAE :  {np.mean(outer_mae):.3f} ± {np.std(outer_mae):.3f}')\n",
    "    print(f'RMSE:  {np.mean(outer_rmse):.3f} ± {np.std(outer_rmse):.3f}')\n",
    "    print(f'R²  :  {np.mean(outer_r2):.3f} ± {np.std(outer_r2):.3f}')\n",
    "\n",
    "    # Get feature names after preprocessing\n",
    "    # First, fit the preprocessor to get the transformed feature names\n",
    "    preprocessor_fitted = preprocessor.fit(X)\n",
    "\n",
    "    # Get feature names for each transformer\n",
    "    num_features = continuous_vars\n",
    "    cat_features = list(preprocessor_fitted.named_transformers_['cat'].get_feature_names_out(categorical_vars))\n",
    "\n",
    "    # Combine all feature names in the correct order\n",
    "    all_feature_names = num_features + cat_features\n",
    "\n",
    "\n",
    "    # Final refit on all data\n",
    "    mean_ncomps = int(np.round(np.mean(best_ncomps)))\n",
    "\n",
    "    final_pipe = make_pipeline(\n",
    "        preprocessor,\n",
    "        PLSRegression(\n",
    "            n_components=mean_ncomps\n",
    "        )\n",
    "    ).fit(X, y)\n",
    "\n",
    "    pls = final_pipe.named_steps['plsregression']\n",
    "    ct  = final_pipe.named_steps['columntransformer']\n",
    "\n",
    "    W = pls.x_weights_\n",
    "\n",
    "    os.makedirs(weights_dir, exist_ok=True)\n",
    "\n",
    "    #Create a DataFrame to store the weights\n",
    "    weights_df = pd.DataFrame(W, \n",
    "                              index=all_feature_names, \n",
    "                              columns=[f'Component_{i+1}' for i in range(W.shape[1])])\n",
    "\n",
    "    weights_filename = f'PLS_weights_{data_name}_{target_name}.csv'\n",
    "    weights_filepath = os.path.join(weights_dir, weights_filename)\n",
    "    weights_df.to_csv(weights_filepath)\n",
    "\n",
    "    print(f\"PLS weights saved to: {weights_filepath}\")\n",
    "    print(f\"Final model parameters: n_components={mean_ncomps}\")\n",
    "\n",
    "\n",
    "# # demographic only (inner parallelized)\n",
    "# def pls_analysis(X, y, continuous_vars, categorical_vars, n_splits=10):\n",
    "#     preprocessor = ColumnTransformer(transformers=[\n",
    "#         # scale continuous features\n",
    "#         ('num', StandardScaler(), continuous_vars),\n",
    "#         # one-hot encode the assessment centre (drop one level to avoid collinearity)\n",
    "#         ('cat', OneHotEncoder(drop='first', sparse_output=False), categorical_vars),\n",
    "#     ])\n",
    "\n",
    "#     # Cross-validation set-up\n",
    "#     outer_cv = KFold(n_splits=n_splits, shuffle=True, random_state=42)\n",
    "\n",
    "#     outer_mae, outer_rmse, outer_r2 = [], [], []\n",
    "#     best_ncomps = []\n",
    "#     coefs_list = []\n",
    "\n",
    "#     for fold, (train_idx, test_idx) in enumerate(outer_cv.split(X, y), start=1):\n",
    "#         X_train, X_test = X.iloc[train_idx], X.iloc[test_idx]\n",
    "#         y_train, y_test = y.iloc[train_idx], y.iloc[test_idx]\n",
    "\n",
    "#         # Inner CV\n",
    "#         pipe = make_pipeline(\n",
    "#             preprocessor,\n",
    "#             PLSRegression()\n",
    "#         )\n",
    "\n",
    "#         param_grid = {\n",
    "#             'plsregression__n_components': list(range(1, 4))\n",
    "#         }\n",
    "\n",
    "#         inner_cv = KFold(n_splits=10, shuffle=True, random_state=42)\n",
    "#         grid = GridSearchCV(\n",
    "#             pipe, \n",
    "#             param_grid, \n",
    "#             cv=inner_cv, \n",
    "#             scoring='neg_mean_squared_error',  # or 'r2'\n",
    "#             n_jobs=-1\n",
    "#         )\n",
    "        \n",
    "#         grid.fit(X_train, y_train)\n",
    "#         best_n = grid.best_params_['plsregression__n_components']\n",
    "#         best_ncomps.append(best_n)\n",
    "        \n",
    "#         y_pred = grid.predict(X_test)\n",
    "\n",
    "#         # --- metrics ---\n",
    "#         mae = mean_absolute_error(y_test, y_pred)\n",
    "#         rmse = np.sqrt(mean_squared_error(y_test, y_pred))\n",
    "#         r2 = r2_score(y_test, y_pred)\n",
    "\n",
    "#         outer_mae.append(mae)\n",
    "#         outer_rmse.append(rmse)\n",
    "#         outer_r2.append(r2)\n",
    "\n",
    "#         # --- extract loadings and compute VIP ---\n",
    "#         pls = grid.best_estimator_.named_steps['plsregression']\n",
    "#         coefs_list.append(pls.coef_.ravel())\n",
    "        \n",
    "#         T = pls.x_scores_\n",
    "#         W = pls.x_weights_\n",
    "#         Q = pls.y_loadings_\n",
    "#         p, h = W.shape\n",
    "\n",
    "#         print(f'Fold {fold:02d} • n_comp={best_n:02d} • '\n",
    "#             f'MAE={mae:.3f} • RMSE={rmse:.3f} • R²={r2:.3f}')\n",
    "        \n",
    "\n",
    "#     # Aggregate results\n",
    "#     print('\\n=== 10-fold CV summary ===')\n",
    "#     print(f'n_components (mean ± std): '\n",
    "#         f'{np.mean(best_ncomps):.1f} ± {np.std(best_ncomps):.1f}')\n",
    "#     print(f'MAE :  {np.mean(outer_mae):.3f} ± {np.std(outer_mae):.3f}')\n",
    "#     print(f'RMSE:  {np.mean(outer_rmse):.3f} ± {np.std(outer_rmse):.3f}')\n",
    "#     print(f'R²  :  {np.mean(outer_r2):.3f} ± {np.std(outer_r2):.3f}')\n"
   ]
  },
  {
   "cell_type": "code",
   "execution_count": 6,
   "id": "b7410d30",
   "metadata": {},
   "outputs": [],
   "source": [
    "# inner parallelized (demographic only)\n",
    "def pls_analysis(X, y, continuous_vars, categorical_vars, weights_dir, data_name, target_name, n_splits=10):\n",
    "    preprocessor = ColumnTransformer(transformers=[\n",
    "        # scale continuous features\n",
    "        ('num', StandardScaler(), continuous_vars),\n",
    "        # one-hot encode the assessment centre (drop one level to avoid collinearity)\n",
    "        ('cat', OneHotEncoder(drop='first', sparse_output=False), categorical_vars),\n",
    "    ])\n",
    "\n",
    "    # Cross-validation set-up\n",
    "    outer_cv = KFold(n_splits=n_splits, shuffle=True, random_state=42)\n",
    "\n",
    "    outer_mae, outer_rmse, outer_r2 = [], [], []\n",
    "    best_ncomps = []\n",
    "    coefs_list = []\n",
    "\n",
    "    for fold, (train_idx, test_idx) in enumerate(outer_cv.split(X, y), start=1):\n",
    "        X_train, X_test = X.iloc[train_idx], X.iloc[test_idx]\n",
    "        y_train, y_test = y.iloc[train_idx], y.iloc[test_idx]\n",
    "\n",
    "        # Inner CV\n",
    "        pipe = make_pipeline(\n",
    "            preprocessor,\n",
    "            PLSRegression()\n",
    "        )\n",
    "\n",
    "        param_grid = {\n",
    "            'plsregression__n_components': list(range(1, 4))\n",
    "        }\n",
    "\n",
    "        inner_cv = KFold(n_splits=n_splits, shuffle=True, random_state=42)\n",
    "        grid = GridSearchCV(\n",
    "            pipe, \n",
    "            param_grid, \n",
    "            cv=inner_cv, \n",
    "            scoring='neg_mean_squared_error',  # or 'r2'\n",
    "            n_jobs=-1\n",
    "        )\n",
    "        \n",
    "        grid.fit(X_train, y_train)\n",
    "        best_n = grid.best_params_['plsregression__n_components']\n",
    "        best_ncomps.append(best_n)\n",
    "        \n",
    "        y_pred = grid.predict(X_test)\n",
    "\n",
    "        # --- metrics ---\n",
    "        mae = mean_absolute_error(y_test, y_pred)\n",
    "        rmse = np.sqrt(mean_squared_error(y_test, y_pred))\n",
    "        r2 = r2_score(y_test, y_pred)\n",
    "\n",
    "        outer_mae.append(mae)\n",
    "        outer_rmse.append(rmse)\n",
    "        outer_r2.append(r2)\n",
    "\n",
    "        # --- extract loadings and compute VIP ---\n",
    "        pls = grid.best_estimator_.named_steps['plsregression']\n",
    "        coefs_list.append(pls.coef_.ravel())\n",
    "        \n",
    "        T = pls.x_scores_\n",
    "        W = pls.x_weights_\n",
    "        Q = pls.y_loadings_\n",
    "        p, h = W.shape\n",
    "\n",
    "        print(f'Fold {fold:02d} • n_comp={best_n:02d} • '\n",
    "            f'MAE={mae:.3f} • RMSE={rmse:.3f} • R²={r2:.3f}')\n",
    "        \n",
    "\n",
    "    # Aggregate results\n",
    "    print('\\n=== 10-fold CV summary ===')\n",
    "    print(f'n_components (mean ± std): '\n",
    "        f'{np.mean(best_ncomps):.1f} ± {np.std(best_ncomps):.1f}')\n",
    "    print(f'MAE :  {np.mean(outer_mae):.3f} ± {np.std(outer_mae):.3f}')\n",
    "    print(f'RMSE:  {np.mean(outer_rmse):.3f} ± {np.std(outer_rmse):.3f}')\n",
    "    print(f'R²  :  {np.mean(outer_r2):.3f} ± {np.std(outer_r2):.3f}')\n",
    "\n",
    "    # Get feature names after preprocessing\n",
    "    # First, fit the preprocessor to get the transformed feature names\n",
    "    preprocessor_fitted = preprocessor.fit(X)\n",
    "\n",
    "    # Get feature names for each transformer\n",
    "    num_features = continuous_vars\n",
    "    cat_features = list(preprocessor_fitted.named_transformers_['cat'].get_feature_names_out(categorical_vars))\n",
    "\n",
    "    # Combine all feature names in the correct order\n",
    "    all_feature_names = num_features + cat_features\n",
    "\n",
    "\n",
    "    # Final refit on all data\n",
    "    mean_ncomps = int(np.round(np.mean(best_ncomps)))\n",
    "\n",
    "    final_pipe = make_pipeline(\n",
    "        preprocessor,\n",
    "        PLSRegression(\n",
    "            n_components=mean_ncomps\n",
    "        )\n",
    "    ).fit(X, y)\n",
    "\n",
    "    pls = final_pipe.named_steps['plsregression']\n",
    "    ct  = final_pipe.named_steps['columntransformer']\n",
    "\n",
    "    W = pls.x_weights_\n",
    "\n",
    "    os.makedirs(weights_dir, exist_ok=True)\n",
    "\n",
    "    #Create a DataFrame to store the weights\n",
    "    weights_df = pd.DataFrame(W, \n",
    "                              index=all_feature_names, \n",
    "                              columns=[f'Component_{i+1}' for i in range(W.shape[1])])\n",
    "\n",
    "    weights_filename = f'PLS_weights_{data_name}_{target_name}.csv'\n",
    "    weights_filepath = os.path.join(weights_dir, weights_filename)\n",
    "    weights_df.to_csv(weights_filepath)\n",
    "\n",
    "    print(f\"PLS weights saved to: {weights_filepath}\")\n",
    "    print(f\"Final model parameters: n_components={mean_ncomps}\")\n",
    "\n",
    "\n",
    "# # demographic only (inner parallelized)\n",
    "# def pls_analysis(X, y, continuous_vars, categorical_vars, n_splits=10):\n",
    "#     preprocessor = ColumnTransformer(transformers=[\n",
    "#         # scale continuous features\n",
    "#         ('num', StandardScaler(), continuous_vars),\n",
    "#         # one-hot encode the assessment centre (drop one level to avoid collinearity)\n",
    "#         ('cat', OneHotEncoder(drop='first', sparse_output=False), categorical_vars),\n",
    "#     ])\n",
    "\n",
    "#     # Cross-validation set-up\n",
    "#     outer_cv = KFold(n_splits=n_splits, shuffle=True, random_state=42)\n",
    "\n",
    "#     outer_mae, outer_rmse, outer_r2 = [], [], []\n",
    "#     best_ncomps = []\n",
    "#     coefs_list = []\n",
    "\n",
    "#     for fold, (train_idx, test_idx) in enumerate(outer_cv.split(X, y), start=1):\n",
    "#         X_train, X_test = X.iloc[train_idx], X.iloc[test_idx]\n",
    "#         y_train, y_test = y.iloc[train_idx], y.iloc[test_idx]\n",
    "\n",
    "#         # Inner CV\n",
    "#         pipe = make_pipeline(\n",
    "#             preprocessor,\n",
    "#             PLSRegression()\n",
    "#         )\n",
    "\n",
    "#         param_grid = {\n",
    "#             'plsregression__n_components': list(range(1, 4))\n",
    "#         }\n",
    "\n",
    "#         inner_cv = KFold(n_splits=10, shuffle=True, random_state=42)\n",
    "#         grid = GridSearchCV(\n",
    "#             pipe, \n",
    "#             param_grid, \n",
    "#             cv=inner_cv, \n",
    "#             scoring='neg_mean_squared_error',  # or 'r2'\n",
    "#             n_jobs=-1\n",
    "#         )\n",
    "        \n",
    "#         grid.fit(X_train, y_train)\n",
    "#         best_n = grid.best_params_['plsregression__n_components']\n",
    "#         best_ncomps.append(best_n)\n",
    "        \n",
    "#         y_pred = grid.predict(X_test)\n",
    "\n",
    "#         # --- metrics ---\n",
    "#         mae = mean_absolute_error(y_test, y_pred)\n",
    "#         rmse = np.sqrt(mean_squared_error(y_test, y_pred))\n",
    "#         r2 = r2_score(y_test, y_pred)\n",
    "\n",
    "#         outer_mae.append(mae)\n",
    "#         outer_rmse.append(rmse)\n",
    "#         outer_r2.append(r2)\n",
    "\n",
    "#         # --- extract loadings and compute VIP ---\n",
    "#         pls = grid.best_estimator_.named_steps['plsregression']\n",
    "#         coefs_list.append(pls.coef_.ravel())\n",
    "        \n",
    "#         T = pls.x_scores_\n",
    "#         W = pls.x_weights_\n",
    "#         Q = pls.y_loadings_\n",
    "#         p, h = W.shape\n",
    "\n",
    "#         print(f'Fold {fold:02d} • n_comp={best_n:02d} • '\n",
    "#             f'MAE={mae:.3f} • RMSE={rmse:.3f} • R²={r2:.3f}')\n",
    "        \n",
    "\n",
    "#     # Aggregate results\n",
    "#     print('\\n=== 10-fold CV summary ===')\n",
    "#     print(f'n_components (mean ± std): '\n",
    "#         f'{np.mean(best_ncomps):.1f} ± {np.std(best_ncomps):.1f}')\n",
    "#     print(f'MAE :  {np.mean(outer_mae):.3f} ± {np.std(outer_mae):.3f}')\n",
    "#     print(f'RMSE:  {np.mean(outer_rmse):.3f} ± {np.std(outer_rmse):.3f}')\n",
    "#     print(f'R²  :  {np.mean(outer_r2):.3f} ± {np.std(outer_r2):.3f}')\n"
   ]
  },
  {
   "cell_type": "markdown",
   "id": "849e5a1c",
   "metadata": {},
   "source": [
    "# GF"
   ]
  },
  {
   "cell_type": "code",
   "execution_count": 7,
   "id": "55ebb3a1",
   "metadata": {},
   "outputs": [],
   "source": [
    "# Load the dataset\n",
    "df = pd.read_csv('/Users/baileyng/MIND_data/ukb_cog/ukb_master_GF_no_outliers.csv', index_col=0)\n",
    "target_name = 'GF'"
   ]
  },
  {
   "cell_type": "code",
   "execution_count": 8,
   "id": "60040ea3",
   "metadata": {},
   "outputs": [
    {
     "data": {
      "image/png": "[encoded data removed]",
      "text/plain": [
       "<Figure size 640x480 with 1 Axes>"
      ]
     },
     "metadata": {},
     "output_type": "display_data"
    }
   ],
   "source": [
    "# Histogram of Fluid Intelligence Scores\n",
    "sns.histplot(df['20016-2.0'], bins=14)\n",
    "plt.title('Distribution of GF Scores')\n",
    "plt.xlabel('GF Score')\n",
    "plt.ylabel('Frequency')\n",
    "plt.show()"
   ]
  },
  {
   "cell_type": "code",
   "execution_count": 9,
   "id": "82cc271c",
   "metadata": {},
   "outputs": [
    {
     "name": "stdout",
     "output_type": "stream",
     "text": [
      "33977\n",
      "(33977, 2628)\n"
     ]
    }
   ],
   "source": [
    "print(len(df))\n",
    "print(df.shape)"
   ]
  },
  {
   "cell_type": "markdown",
   "id": "a8b7006d",
   "metadata": {},
   "source": [
    "## GF vs. MIND (avg)"
   ]
  },
  {
   "cell_type": "code",
   "execution_count": 8,
   "id": "01c02b8c",
   "metadata": {},
   "outputs": [
    {
     "name": "stdout",
     "output_type": "stream",
     "text": [
      "(33977, 71)\n",
      "(33977,)\n"
     ]
    }
   ],
   "source": [
    "data_name = 'MIND_avg'\n",
    "\n",
    "# Set X and y\n",
    "with open('/Users/baileyng/MIND_models/region_names/MIND_avg_regions.txt', 'r') as f:\n",
    "    brain_regions = [line.strip() for line in f.readlines()]\n",
    "\n",
    "# Define demographic/clinical features\n",
    "demographic_vars = ['31-0.0', '21003-2.0', '54-2.0']\n",
    "\n",
    "# Combine demographic features with brain region features\n",
    "all_vars = demographic_vars + brain_regions\n",
    "\n",
    "X = df[all_vars]\n",
    "y = df['20016-2.0']\n",
    "\n",
    "print(X.shape)\n",
    "print(y.shape)"
   ]
  },
  {
   "cell_type": "code",
   "execution_count": 9,
   "id": "98a4c12f",
   "metadata": {},
   "outputs": [],
   "source": [
    "# rename columns\n",
    "X = X.rename(columns=rename_dict)\n",
    "\n",
    "categorical_vars = ['sex', 'assessment_centre']\n",
    "continuous_vars  = [c for c in X.columns if c not in categorical_vars]"
   ]
  },
  {
   "cell_type": "code",
   "execution_count": 10,
   "id": "ddfddfe5",
   "metadata": {},
   "outputs": [
    {
     "name": "stdout",
     "output_type": "stream",
     "text": [
      "Fold 01 • n_comp=04 • MAE=1.621 • RMSE=2.020 • R²=0.029\n",
      "Fold 02 • n_comp=04 • MAE=1.636 • RMSE=2.034 • R²=0.031\n",
      "Fold 03 • n_comp=03 • MAE=1.643 • RMSE=2.043 • R²=0.039\n",
      "Fold 04 • n_comp=04 • MAE=1.653 • RMSE=2.059 • R²=0.032\n",
      "Fold 05 • n_comp=03 • MAE=1.605 • RMSE=2.004 • R²=0.030\n",
      "Fold 06 • n_comp=03 • MAE=1.585 • RMSE=1.976 • R²=0.043\n",
      "Fold 07 • n_comp=03 • MAE=1.617 • RMSE=2.018 • R²=0.032\n",
      "Fold 08 • n_comp=03 • MAE=1.657 • RMSE=2.052 • R²=0.022\n",
      "Fold 09 • n_comp=03 • MAE=1.607 • RMSE=2.002 • R²=0.036\n",
      "Fold 10 • n_comp=04 • MAE=1.629 • RMSE=2.034 • R²=0.035\n",
      "\n",
      "=== 10-fold CV summary ===\n",
      "n_components (mean ± std): 3.4 ± 0.5\n",
      "MAE :  1.625 ± 0.022\n",
      "RMSE:  2.024 ± 0.024\n",
      "R²  :  0.033 ± 0.005\n",
      "PLS weights saved to: /Users/baileyng/MIND_models/models_plsregression/PLS_weights/PLS_weights_MIND_avg_GF.csv\n",
      "Final model parameters: n_components=3\n"
     ]
    }
   ],
   "source": [
    "pls_analysis(X, y, continuous_vars, categorical_vars, weights_dir, data_name, target_name, n_splits=10)"
   ]
  },
  {
   "cell_type": "markdown",
   "id": "c6192f4b",
   "metadata": {},
   "source": [
    "## GF vs. CT"
   ]
  },
  {
   "cell_type": "code",
   "execution_count": 14,
   "id": "21159c38",
   "metadata": {},
   "outputs": [
    {
     "name": "stdout",
     "output_type": "stream",
     "text": [
      "(33977, 65)\n",
      "(33977,)\n"
     ]
    }
   ],
   "source": [
    "data_name = 'CT'\n",
    "\n",
    "# Set X and y\n",
    "with open('/Users/baileyng/MIND_models/region_names/CT_regions.txt', 'r') as f:\n",
    "    brain_regions = [line.strip() for line in f.readlines()]\n",
    "\n",
    "# Define demographic/clinical features\n",
    "demographic_vars = ['31-0.0', '21003-2.0', '54-2.0']\n",
    "\n",
    "# Combine demographic features with brain region features\n",
    "all_vars = demographic_vars + brain_regions\n",
    "\n",
    "X = df[all_vars]\n",
    "y = df['20016-2.0']\n",
    "\n",
    "print(X.shape)\n",
    "print(y.shape)"
   ]
  },
  {
   "cell_type": "code",
   "execution_count": 15,
   "id": "42ed6385",
   "metadata": {},
   "outputs": [],
   "source": [
    "# rename columns\n",
    "X = X.rename(columns=rename_dict)\n",
    "\n",
    "categorical_vars = ['sex', 'assessment_centre']\n",
    "continuous_vars  = [c for c in X.columns if c not in categorical_vars]"
   ]
  },
  {
   "cell_type": "code",
   "execution_count": 16,
   "id": "bee67e59",
   "metadata": {},
   "outputs": [
    {
     "name": "stdout",
     "output_type": "stream",
     "text": [
      "Fold 01 • n_comp=06 • MAE=1.632 • RMSE=2.032 • R²=0.018\n",
      "Fold 02 • n_comp=05 • MAE=1.644 • RMSE=2.042 • R²=0.024\n",
      "Fold 03 • n_comp=09 • MAE=1.651 • RMSE=2.057 • R²=0.026\n",
      "Fold 04 • n_comp=05 • MAE=1.662 • RMSE=2.070 • R²=0.021\n",
      "Fold 05 • n_comp=05 • MAE=1.604 • RMSE=2.002 • R²=0.032\n",
      "Fold 06 • n_comp=05 • MAE=1.589 • RMSE=1.985 • R²=0.035\n",
      "Fold 07 • n_comp=06 • MAE=1.631 • RMSE=2.035 • R²=0.015\n",
      "Fold 08 • n_comp=08 • MAE=1.652 • RMSE=2.046 • R²=0.028\n",
      "Fold 09 • n_comp=09 • MAE=1.623 • RMSE=2.016 • R²=0.022\n",
      "Fold 10 • n_comp=06 • MAE=1.637 • RMSE=2.043 • R²=0.026\n",
      "\n",
      "=== 10-fold CV summary ===\n",
      "n_components (mean ± std): 6.4 ± 1.6\n",
      "MAE :  1.632 ± 0.021\n",
      "RMSE:  2.033 ± 0.024\n",
      "R²  :  0.025 ± 0.006\n",
      "PLS weights saved to: /Users/baileyng/MIND_models/models_plsregression/PLS_weights/PLS_weights_CT_GF.csv\n",
      "Final model parameters: n_components=6\n"
     ]
    }
   ],
   "source": [
    "pls_analysis(X, y, continuous_vars, categorical_vars, weights_dir, data_name, target_name, n_splits=10)"
   ]
  },
  {
   "cell_type": "markdown",
   "id": "13eaa766",
   "metadata": {},
   "source": [
    "## GF vs. FC"
   ]
  },
  {
   "cell_type": "code",
   "execution_count": null,
   "id": "5c1106f6",
   "metadata": {},
   "outputs": [
    {
     "name": "stdout",
     "output_type": "stream",
     "text": [
      "(33977, 214)\n",
      "(33977,)\n"
     ]
    }
   ],
   "source": [
    "data_name = 'FC'\n",
    "\n",
    "# Set X and y\n",
    "with open('/Users/baileyng/MIND_models/region_names/FC_regions.txt', 'r') as f:\n",
    "    brain_regions = [line.strip() for line in f.readlines()]\n",
    "\n",
    "# Define demographic/clinical features\n",
    "demographic_vars = ['31-0.0', '21003-2.0', '54-2.0', '25741-2.0']\n",
    "\n",
    "# Combine demographic features with brain region features\n",
    "all_vars = demographic_vars + brain_regions\n",
    "\n",
    "X = df[all_vars]\n",
    "y = df['20016-2.0']\n",
    "\n",
    "print(X.shape)\n",
    "print(y.shape)"
   ]
  },
  {
   "cell_type": "code",
   "execution_count": null,
   "id": "3ada4ae5",
   "metadata": {},
   "outputs": [],
   "source": [
    "# rename columns\n",
    "X = X.rename(columns=rename_dict)\n",
    "\n",
    "categorical_vars = ['sex', 'assessment_centre']\n",
    "continuous_vars  = [c for c in X.columns if c not in categorical_vars]"
   ]
  },
  {
   "cell_type": "code",
   "execution_count": null,
   "id": "eb0f2d4f",
   "metadata": {},
   "outputs": [
    {
     "name": "stdout",
     "output_type": "stream",
     "text": [
      "Fold 01 • n_comp=05 • MAE=1.581 • RMSE=1.985 • R²=0.063\n",
      "Fold 02 • n_comp=05 • MAE=1.599 • RMSE=1.990 • R²=0.073\n",
      "Fold 03 • n_comp=05 • MAE=1.615 • RMSE=2.020 • R²=0.060\n",
      "Fold 04 • n_comp=05 • MAE=1.615 • RMSE=2.018 • R²=0.070\n",
      "Fold 05 • n_comp=05 • MAE=1.573 • RMSE=1.964 • R²=0.068\n",
      "Fold 06 • n_comp=05 • MAE=1.545 • RMSE=1.929 • R²=0.088\n",
      "Fold 07 • n_comp=05 • MAE=1.598 • RMSE=1.995 • R²=0.053\n",
      "Fold 08 • n_comp=05 • MAE=1.604 • RMSE=2.000 • R²=0.071\n",
      "Fold 09 • n_comp=05 • MAE=1.572 • RMSE=1.965 • R²=0.070\n",
      "Fold 10 • n_comp=05 • MAE=1.590 • RMSE=1.987 • R²=0.079\n",
      "\n",
      "=== 10-fold CV summary ===\n",
      "n_components (mean ± std): 5.0 ± 0.0\n",
      "MAE :  1.589 ± 0.021\n",
      "RMSE:  1.985 ± 0.026\n",
      "R²  :  0.070 ± 0.009\n",
      "PLS weights saved to: /Users/baileyng/MIND_models/models_plsregression/PLS_weights/PLS_weights_FC_GF.csv\n"
     ]
    }
   ],
   "source": [
    "pls_analysis(X, y, continuous_vars, categorical_vars, weights_dir, data_name, target_name, n_splits=10)"
   ]
  },
  {
   "cell_type": "markdown",
   "id": "f90f8fe8",
   "metadata": {},
   "source": [
    "## GF vs. Demographic Data"
   ]
  },
  {
   "cell_type": "code",
   "execution_count": 10,
   "id": "d88c96d0",
   "metadata": {},
   "outputs": [
    {
     "name": "stdout",
     "output_type": "stream",
     "text": [
      "(33977, 3)\n",
      "(33977,)\n"
     ]
    }
   ],
   "source": [
    "data_name = 'demo'\n",
    "\n",
    "# Set X and y\n",
    "brain_regions = []\n",
    "\n",
    "# Define demographic/clinical features\n",
    "demographic_vars = ['31-0.0', '21003-2.0', '54-2.0']\n",
    "\n",
    "# Combine demographic features with brain region features\n",
    "all_vars = demographic_vars + brain_regions\n",
    "\n",
    "X = df[all_vars]\n",
    "y = df['20016-2.0']\n",
    "\n",
    "print(X.shape)\n",
    "print(y.shape)"
   ]
  },
  {
   "cell_type": "code",
   "execution_count": 12,
   "id": "13d94b35",
   "metadata": {},
   "outputs": [],
   "source": [
    "# rename columns\n",
    "X = X.rename(columns=rename_dict)\n",
    "\n",
    "categorical_vars = ['sex', 'assessment_centre']\n",
    "continuous_vars  = [c for c in X.columns if c not in categorical_vars]"
   ]
  },
  {
   "cell_type": "code",
   "execution_count": 13,
   "id": "76102184",
   "metadata": {},
   "outputs": [
    {
     "name": "stdout",
     "output_type": "stream",
     "text": [
      "Fold 01 • n_comp=02 • MAE=1.634 • RMSE=2.040 • R²=0.010\n",
      "Fold 02 • n_comp=02 • MAE=1.654 • RMSE=2.051 • R²=0.015\n",
      "Fold 03 • n_comp=02 • MAE=1.666 • RMSE=2.072 • R²=0.012\n",
      "Fold 04 • n_comp=02 • MAE=1.670 • RMSE=2.076 • R²=0.015\n",
      "Fold 05 • n_comp=02 • MAE=1.614 • RMSE=2.015 • R²=0.019\n",
      "Fold 06 • n_comp=02 • MAE=1.601 • RMSE=1.998 • R²=0.022\n",
      "Fold 07 • n_comp=03 • MAE=1.642 • RMSE=2.044 • R²=0.006\n",
      "Fold 08 • n_comp=02 • MAE=1.670 • RMSE=2.062 • R²=0.012\n",
      "Fold 09 • n_comp=02 • MAE=1.631 • RMSE=2.023 • R²=0.015\n",
      "Fold 10 • n_comp=02 • MAE=1.652 • RMSE=2.054 • R²=0.016\n",
      "\n",
      "=== 10-fold CV summary ===\n",
      "n_components (mean ± std): 2.1 ± 0.3\n",
      "MAE :  1.643 ± 0.022\n",
      "RMSE:  2.044 ± 0.024\n",
      "R²  :  0.014 ± 0.004\n",
      "PLS weights saved to: /Users/baileyng/MIND_models/models_plsregression/PLS_weights/PLS_weights_demo_GF.csv\n",
      "Final model parameters: n_components=2\n"
     ]
    }
   ],
   "source": [
    "pls_analysis(X, y, continuous_vars, categorical_vars, weights_dir, data_name, target_name, n_splits=10)"
   ]
  },
  {
   "cell_type": "markdown",
   "id": "6c88071f",
   "metadata": {},
   "source": [
    "# PAL"
   ]
  },
  {
   "cell_type": "code",
   "execution_count": 14,
   "id": "c214d6f8",
   "metadata": {},
   "outputs": [],
   "source": [
    "# Load the dataset\n",
    "df = pd.read_csv('/Users/baileyng/MIND_data/ukb_cog/ukb_master_PAL_no_outliers.csv', index_col=0)\n",
    "target_name = 'PAL'"
   ]
  },
  {
   "cell_type": "code",
   "execution_count": 15,
   "id": "85101d4b",
   "metadata": {},
   "outputs": [
    {
     "data": {
      "image/png": "[encoded data removed]",
      "text/plain": [
       "<Figure size 640x480 with 1 Axes>"
      ]
     },
     "metadata": {},
     "output_type": "display_data"
    }
   ],
   "source": [
    "# Histogram of PAL Scores\n",
    "sns.histplot(df['20197-2.0'], bins=11)\n",
    "plt.title('Distribution of PAL Scores')\n",
    "plt.xlabel('PAL Score')\n",
    "plt.ylabel('Frequency')\n",
    "plt.show()"
   ]
  },
  {
   "cell_type": "code",
   "execution_count": 16,
   "id": "48492565",
   "metadata": {},
   "outputs": [
    {
     "name": "stdout",
     "output_type": "stream",
     "text": [
      "24492\n",
      "(24492, 2628)\n"
     ]
    }
   ],
   "source": [
    "print(len(df))\n",
    "print(df.shape)"
   ]
  },
  {
   "cell_type": "markdown",
   "id": "af5ccbaf",
   "metadata": {},
   "source": [
    "### PAL vs. MIND (avg)"
   ]
  },
  {
   "cell_type": "code",
   "execution_count": 26,
   "id": "2d664657",
   "metadata": {},
   "outputs": [
    {
     "name": "stdout",
     "output_type": "stream",
     "text": [
      "(24492, 71)\n",
      "(24492,)\n"
     ]
    }
   ],
   "source": [
    "data_name = 'MIND_avg'\n",
    "\n",
    "# Set X and y\n",
    "with open('/Users/baileyng/MIND_models/region_names/MIND_avg_regions.txt', 'r') as f:\n",
    "    brain_regions = [line.strip() for line in f.readlines()]\n",
    "\n",
    "# Define demographic/clinical features\n",
    "demographic_vars = ['31-0.0', '21003-2.0', '54-2.0']\n",
    "\n",
    "# Combine demographic features with brain region features\n",
    "all_vars = demographic_vars + brain_regions\n",
    "\n",
    "X = df[all_vars]\n",
    "y = df['20197-2.0']\n",
    "\n",
    "print(X.shape)\n",
    "print(y.shape)"
   ]
  },
  {
   "cell_type": "code",
   "execution_count": 27,
   "id": "c517fca9",
   "metadata": {},
   "outputs": [],
   "source": [
    "# rename columns\n",
    "X = X.rename(columns=rename_dict)\n",
    "\n",
    "categorical_vars = ['sex', 'assessment_centre']\n",
    "continuous_vars  = [c for c in X.columns if c not in categorical_vars]"
   ]
  },
  {
   "cell_type": "code",
   "execution_count": 28,
   "id": "fff7639a",
   "metadata": {},
   "outputs": [
    {
     "name": "stdout",
     "output_type": "stream",
     "text": [
      "Fold 01 • n_comp=05 • MAE=2.076 • RMSE=2.539 • R²=0.064\n",
      "Fold 02 • n_comp=05 • MAE=2.104 • RMSE=2.551 • R²=0.046\n",
      "Fold 03 • n_comp=05 • MAE=2.098 • RMSE=2.584 • R²=0.062\n",
      "Fold 04 • n_comp=04 • MAE=2.071 • RMSE=2.533 • R²=0.059\n",
      "Fold 05 • n_comp=05 • MAE=2.040 • RMSE=2.476 • R²=0.053\n",
      "Fold 06 • n_comp=04 • MAE=2.105 • RMSE=2.559 • R²=0.081\n",
      "Fold 07 • n_comp=05 • MAE=2.089 • RMSE=2.538 • R²=0.062\n",
      "Fold 08 • n_comp=05 • MAE=2.068 • RMSE=2.536 • R²=0.065\n",
      "Fold 09 • n_comp=05 • MAE=2.082 • RMSE=2.554 • R²=0.066\n",
      "Fold 10 • n_comp=05 • MAE=2.070 • RMSE=2.542 • R²=0.047\n",
      "\n",
      "=== 10-fold CV summary ===\n",
      "n_components (mean ± std): 4.8 ± 0.4\n",
      "MAE :  2.080 ± 0.019\n",
      "RMSE:  2.541 ± 0.026\n",
      "R²  :  0.061 ± 0.009\n",
      "PLS weights saved to: /Users/baileyng/MIND_models/models_plsregression/PLS_weights/PLS_weights_MIND_avg_PAL.csv\n"
     ]
    }
   ],
   "source": [
    "pls_analysis(X, y, continuous_vars, categorical_vars, weights_dir, data_name, target_name, n_splits=10)"
   ]
  },
  {
   "cell_type": "markdown",
   "id": "8580185c",
   "metadata": {},
   "source": [
    "### PAL vs. CT"
   ]
  },
  {
   "cell_type": "code",
   "execution_count": 29,
   "id": "f4ffafb4",
   "metadata": {},
   "outputs": [
    {
     "name": "stdout",
     "output_type": "stream",
     "text": [
      "(24492, 65)\n",
      "(24492,)\n"
     ]
    }
   ],
   "source": [
    "data_name = 'CT'\n",
    "\n",
    "# Set X and y\n",
    "with open('/Users/baileyng/MIND_models/region_names/CT_regions.txt', 'r') as f:\n",
    "    brain_regions = [line.strip() for line in f.readlines()]\n",
    "\n",
    "# Define demographic/clinical features\n",
    "demographic_vars = ['31-0.0', '21003-2.0', '54-2.0']\n",
    "\n",
    "# Combine demographic features with brain region features\n",
    "all_vars = demographic_vars + brain_regions\n",
    "\n",
    "X = df[all_vars]\n",
    "y = df['20197-2.0']\n",
    "\n",
    "print(X.shape)\n",
    "print(y.shape)"
   ]
  },
  {
   "cell_type": "code",
   "execution_count": 30,
   "id": "407c3a2e",
   "metadata": {},
   "outputs": [],
   "source": [
    "# rename columns\n",
    "X = X.rename(columns=rename_dict)\n",
    "\n",
    "categorical_vars = ['sex', 'assessment_centre']\n",
    "continuous_vars  = [c for c in X.columns if c not in categorical_vars]"
   ]
  },
  {
   "cell_type": "code",
   "execution_count": 31,
   "id": "988899b1",
   "metadata": {},
   "outputs": [
    {
     "name": "stdout",
     "output_type": "stream",
     "text": [
      "Fold 01 • n_comp=05 • MAE=2.081 • RMSE=2.537 • R²=0.066\n",
      "Fold 02 • n_comp=05 • MAE=2.106 • RMSE=2.556 • R²=0.043\n",
      "Fold 03 • n_comp=05 • MAE=2.096 • RMSE=2.581 • R²=0.064\n",
      "Fold 04 • n_comp=05 • MAE=2.065 • RMSE=2.532 • R²=0.060\n",
      "Fold 05 • n_comp=05 • MAE=2.041 • RMSE=2.475 • R²=0.055\n",
      "Fold 06 • n_comp=06 • MAE=2.107 • RMSE=2.564 • R²=0.077\n",
      "Fold 07 • n_comp=05 • MAE=2.087 • RMSE=2.537 • R²=0.063\n",
      "Fold 08 • n_comp=05 • MAE=2.073 • RMSE=2.540 • R²=0.061\n",
      "Fold 09 • n_comp=05 • MAE=2.084 • RMSE=2.554 • R²=0.066\n",
      "Fold 10 • n_comp=05 • MAE=2.076 • RMSE=2.542 • R²=0.048\n",
      "\n",
      "=== 10-fold CV summary ===\n",
      "n_components (mean ± std): 5.1 ± 0.3\n",
      "MAE :  2.082 ± 0.019\n",
      "RMSE:  2.542 ± 0.027\n",
      "R²  :  0.060 ± 0.009\n",
      "PLS weights saved to: /Users/baileyng/MIND_models/models_plsregression/PLS_weights/PLS_weights_CT_PAL.csv\n"
     ]
    }
   ],
   "source": [
    "pls_analysis(X, y, continuous_vars, categorical_vars, weights_dir, data_name, target_name, n_splits=10)"
   ]
  },
  {
   "cell_type": "markdown",
   "id": "42080c67",
   "metadata": {},
   "source": [
    "### PAL vs. FC"
   ]
  },
  {
   "cell_type": "code",
   "execution_count": 32,
   "id": "a81ccac7",
   "metadata": {},
   "outputs": [
    {
     "name": "stdout",
     "output_type": "stream",
     "text": [
      "(24492, 214)\n",
      "(24492,)\n"
     ]
    }
   ],
   "source": [
    "data_name = 'FC'\n",
    "\n",
    "# Set X and y\n",
    "with open('/Users/baileyng/MIND_models/region_names/FC_regions.txt', 'r') as f:\n",
    "    brain_regions = [line.strip() for line in f.readlines()]\n",
    "\n",
    "# Define demographic/clinical features\n",
    "demographic_vars = ['31-0.0', '21003-2.0', '54-2.0', '25741-2.0']\n",
    "\n",
    "# Combine demographic features with brain region features\n",
    "all_vars = demographic_vars + brain_regions\n",
    "\n",
    "X = df[all_vars]\n",
    "y = df['20197-2.0']\n",
    "\n",
    "print(X.shape)\n",
    "print(y.shape)"
   ]
  },
  {
   "cell_type": "code",
   "execution_count": 33,
   "id": "e774b18f",
   "metadata": {},
   "outputs": [],
   "source": [
    "# rename columns\n",
    "X = X.rename(columns=rename_dict)\n",
    "\n",
    "categorical_vars = ['sex', 'assessment_centre']\n",
    "continuous_vars  = [c for c in X.columns if c not in categorical_vars]"
   ]
  },
  {
   "cell_type": "code",
   "execution_count": 34,
   "id": "c19bae6e",
   "metadata": {},
   "outputs": [
    {
     "name": "stdout",
     "output_type": "stream",
     "text": [
      "Fold 01 • n_comp=09 • MAE=2.035 • RMSE=2.503 • R²=0.091\n",
      "Fold 02 • n_comp=10 • MAE=2.039 • RMSE=2.497 • R²=0.087\n",
      "Fold 03 • n_comp=09 • MAE=2.055 • RMSE=2.543 • R²=0.091\n",
      "Fold 04 • n_comp=09 • MAE=2.035 • RMSE=2.496 • R²=0.087\n",
      "Fold 05 • n_comp=10 • MAE=1.994 • RMSE=2.423 • R²=0.093\n",
      "Fold 06 • n_comp=09 • MAE=2.053 • RMSE=2.523 • R²=0.106\n",
      "Fold 07 • n_comp=10 • MAE=2.031 • RMSE=2.487 • R²=0.099\n",
      "Fold 08 • n_comp=09 • MAE=2.032 • RMSE=2.500 • R²=0.091\n",
      "Fold 09 • n_comp=09 • MAE=2.037 • RMSE=2.515 • R²=0.094\n",
      "Fold 10 • n_comp=10 • MAE=2.016 • RMSE=2.484 • R²=0.091\n",
      "\n",
      "=== 10-fold CV summary ===\n",
      "n_components (mean ± std): 9.4 ± 0.5\n",
      "MAE :  2.033 ± 0.017\n",
      "RMSE:  2.497 ± 0.030\n",
      "R²  :  0.093 ± 0.006\n",
      "PLS weights saved to: /Users/baileyng/MIND_models/models_plsregression/PLS_weights/PLS_weights_FC_PAL.csv\n"
     ]
    }
   ],
   "source": [
    "pls_analysis(X, y, continuous_vars, categorical_vars, weights_dir, data_name, target_name, n_splits=10)"
   ]
  },
  {
   "cell_type": "markdown",
   "id": "29bb86dd",
   "metadata": {},
   "source": [
    "## PAL vs. Demographic Data"
   ]
  },
  {
   "cell_type": "code",
   "execution_count": 17,
   "id": "3de47348",
   "metadata": {},
   "outputs": [
    {
     "name": "stdout",
     "output_type": "stream",
     "text": [
      "(24492, 3)\n",
      "(24492,)\n"
     ]
    }
   ],
   "source": [
    "data_name = 'demo'\n",
    "\n",
    "# Set X and y\n",
    "brain_regions = []\n",
    "\n",
    "# Define demographic/clinical features\n",
    "demographic_vars = ['31-0.0', '21003-2.0', '54-2.0']\n",
    "\n",
    "# Combine demographic features with brain region features\n",
    "all_vars = demographic_vars + brain_regions\n",
    "\n",
    "X = df[all_vars]\n",
    "y = df['20197-2.0']\n",
    "\n",
    "print(X.shape)\n",
    "print(y.shape)"
   ]
  },
  {
   "cell_type": "code",
   "execution_count": 18,
   "id": "1696284d",
   "metadata": {},
   "outputs": [],
   "source": [
    "# rename columns\n",
    "X = X.rename(columns=rename_dict)\n",
    "\n",
    "categorical_vars = ['sex', 'assessment_centre']\n",
    "continuous_vars  = [c for c in X.columns if c not in categorical_vars]"
   ]
  },
  {
   "cell_type": "code",
   "execution_count": 19,
   "id": "0653efd9",
   "metadata": {},
   "outputs": [
    {
     "name": "stdout",
     "output_type": "stream",
     "text": [
      "Fold 01 • n_comp=03 • MAE=2.088 • RMSE=2.546 • R²=0.059\n",
      "Fold 02 • n_comp=03 • MAE=2.105 • RMSE=2.556 • R²=0.043\n",
      "Fold 03 • n_comp=03 • MAE=2.101 • RMSE=2.587 • R²=0.059\n",
      "Fold 04 • n_comp=03 • MAE=2.074 • RMSE=2.537 • R²=0.056\n",
      "Fold 05 • n_comp=03 • MAE=2.044 • RMSE=2.473 • R²=0.056\n",
      "Fold 06 • n_comp=03 • MAE=2.114 • RMSE=2.571 • R²=0.071\n",
      "Fold 07 • n_comp=03 • MAE=2.092 • RMSE=2.544 • R²=0.058\n",
      "Fold 08 • n_comp=03 • MAE=2.069 • RMSE=2.536 • R²=0.065\n",
      "Fold 09 • n_comp=03 • MAE=2.086 • RMSE=2.557 • R²=0.064\n",
      "Fold 10 • n_comp=03 • MAE=2.075 • RMSE=2.543 • R²=0.047\n",
      "\n",
      "=== 10-fold CV summary ===\n",
      "n_components (mean ± std): 3.0 ± 0.0\n",
      "MAE :  2.085 ± 0.019\n",
      "RMSE:  2.545 ± 0.029\n",
      "R²  :  0.058 ± 0.008\n",
      "PLS weights saved to: /Users/baileyng/MIND_models/models_plsregression/PLS_weights/PLS_weights_demo_PAL.csv\n",
      "Final model parameters: n_components=3\n"
     ]
    }
   ],
   "source": [
    "pls_analysis(X, y, continuous_vars, categorical_vars, weights_dir, data_name, target_name, n_splits=10)"
   ]
  },
  {
   "cell_type": "markdown",
   "id": "84004ae1",
   "metadata": {},
   "source": [
    "# DSST"
   ]
  },
  {
   "cell_type": "code",
   "execution_count": 20,
   "id": "6172df27",
   "metadata": {},
   "outputs": [],
   "source": [
    "# Load the dataset\n",
    "df = pd.read_csv('/Users/baileyng/MIND_data/ukb_cog/ukb_master_DSST_no_outliers.csv', index_col=0)\n",
    "target_name = 'DSST'"
   ]
  },
  {
   "cell_type": "code",
   "execution_count": 21,
   "id": "def9d9fa",
   "metadata": {},
   "outputs": [
    {
     "data": {
      "image/png": "[encoded data removed]",
      "text/plain": [
       "<Figure size 640x480 with 1 Axes>"
      ]
     },
     "metadata": {},
     "output_type": "display_data"
    }
   ],
   "source": [
    "# Histogram of DSST Scores\n",
    "sns.histplot(df['23324-2.0'], bins=37)\n",
    "plt.title('Distribution of DSST Scores')\n",
    "plt.xlabel('DSST Score')\n",
    "plt.ylabel('Frequency')\n",
    "plt.show()"
   ]
  },
  {
   "cell_type": "code",
   "execution_count": 22,
   "id": "7709d3a7",
   "metadata": {},
   "outputs": [
    {
     "name": "stdout",
     "output_type": "stream",
     "text": [
      "24275\n",
      "(24275, 2628)\n"
     ]
    }
   ],
   "source": [
    "print(len(df))\n",
    "print(df.shape)"
   ]
  },
  {
   "cell_type": "markdown",
   "id": "f5f121e1",
   "metadata": {},
   "source": [
    "### DSST vs. MIND (avg)"
   ]
  },
  {
   "cell_type": "code",
   "execution_count": 41,
   "id": "f363b6e7",
   "metadata": {},
   "outputs": [
    {
     "name": "stdout",
     "output_type": "stream",
     "text": [
      "(24275, 71)\n",
      "(24275,)\n"
     ]
    }
   ],
   "source": [
    "data_name = 'MIND_avg'\n",
    "\n",
    "# Set X and y\n",
    "with open('/Users/baileyng/MIND_models/region_names/MIND_avg_regions.txt', 'r') as f:\n",
    "    brain_regions = [line.strip() for line in f.readlines()]\n",
    "\n",
    "# Define demographic/clinical features\n",
    "demographic_vars = ['31-0.0', '21003-2.0', '54-2.0']\n",
    "\n",
    "# Combine demographic features with brain region features\n",
    "all_vars = demographic_vars + brain_regions\n",
    "\n",
    "X = df[all_vars]\n",
    "y = df['23324-2.0']\n",
    "\n",
    "print(X.shape)\n",
    "print(y.shape)"
   ]
  },
  {
   "cell_type": "code",
   "execution_count": 42,
   "id": "6d7d9811",
   "metadata": {},
   "outputs": [],
   "source": [
    "# rename columns\n",
    "X = X.rename(columns=rename_dict)\n",
    "\n",
    "categorical_vars = ['sex', 'assessment_centre']\n",
    "continuous_vars  = [c for c in X.columns if c not in categorical_vars]"
   ]
  },
  {
   "cell_type": "code",
   "execution_count": 43,
   "id": "80755eaf",
   "metadata": {},
   "outputs": [
    {
     "name": "stdout",
     "output_type": "stream",
     "text": [
      "Fold 01 • n_comp=05 • MAE=3.703 • RMSE=4.712 • R²=0.193\n",
      "Fold 02 • n_comp=06 • MAE=3.804 • RMSE=4.845 • R²=0.207\n",
      "Fold 03 • n_comp=05 • MAE=3.725 • RMSE=4.712 • R²=0.200\n",
      "Fold 04 • n_comp=06 • MAE=3.665 • RMSE=4.619 • R²=0.161\n",
      "Fold 05 • n_comp=06 • MAE=3.782 • RMSE=4.816 • R²=0.181\n",
      "Fold 06 • n_comp=06 • MAE=3.701 • RMSE=4.738 • R²=0.195\n",
      "Fold 07 • n_comp=06 • MAE=3.738 • RMSE=4.754 • R²=0.188\n",
      "Fold 08 • n_comp=06 • MAE=3.713 • RMSE=4.738 • R²=0.184\n",
      "Fold 09 • n_comp=06 • MAE=3.640 • RMSE=4.636 • R²=0.189\n",
      "Fold 10 • n_comp=06 • MAE=3.650 • RMSE=4.597 • R²=0.203\n",
      "\n",
      "=== 10-fold CV summary ===\n",
      "n_components (mean ± std): 5.8 ± 0.4\n",
      "MAE :  3.712 ± 0.050\n",
      "RMSE:  4.717 ± 0.077\n",
      "R²  :  0.190 ± 0.013\n",
      "PLS weights saved to: /Users/baileyng/MIND_models/models_plsregression/PLS_weights/PLS_weights_MIND_avg_DSST.csv\n"
     ]
    }
   ],
   "source": [
    "pls_analysis(X, y, continuous_vars, categorical_vars, weights_dir, data_name, target_name, n_splits=10)"
   ]
  },
  {
   "cell_type": "markdown",
   "id": "adf5398c",
   "metadata": {},
   "source": [
    "### DSST vs. CT"
   ]
  },
  {
   "cell_type": "code",
   "execution_count": 44,
   "id": "df951bcc",
   "metadata": {},
   "outputs": [
    {
     "name": "stdout",
     "output_type": "stream",
     "text": [
      "(24275, 65)\n",
      "(24275,)\n"
     ]
    }
   ],
   "source": [
    "data_name = 'CT'\n",
    "\n",
    "# Set X and y\n",
    "with open('/Users/baileyng/MIND_models/region_names/CT_regions.txt', 'r') as f:\n",
    "    brain_regions = [line.strip() for line in f.readlines()]\n",
    "\n",
    "# Define demographic/clinical features\n",
    "demographic_vars = ['31-0.0', '21003-2.0', '54-2.0']\n",
    "\n",
    "# Combine demographic features with brain region features\n",
    "all_vars = demographic_vars + brain_regions\n",
    "\n",
    "X = df[all_vars]\n",
    "y = df['23324-2.0']\n",
    "\n",
    "print(X.shape)\n",
    "print(y.shape)"
   ]
  },
  {
   "cell_type": "code",
   "execution_count": 45,
   "id": "beccbed7",
   "metadata": {},
   "outputs": [],
   "source": [
    "# rename columns\n",
    "X = X.rename(columns=rename_dict)\n",
    "\n",
    "categorical_vars = ['sex', 'assessment_centre']\n",
    "continuous_vars  = [c for c in X.columns if c not in categorical_vars]"
   ]
  },
  {
   "cell_type": "code",
   "execution_count": 46,
   "id": "401e0cdb",
   "metadata": {},
   "outputs": [
    {
     "name": "stdout",
     "output_type": "stream",
     "text": [
      "Fold 01 • n_comp=06 • MAE=3.709 • RMSE=4.711 • R²=0.193\n",
      "Fold 02 • n_comp=06 • MAE=3.811 • RMSE=4.845 • R²=0.207\n",
      "Fold 03 • n_comp=06 • MAE=3.715 • RMSE=4.713 • R²=0.199\n",
      "Fold 04 • n_comp=06 • MAE=3.659 • RMSE=4.612 • R²=0.163\n",
      "Fold 05 • n_comp=06 • MAE=3.789 • RMSE=4.831 • R²=0.176\n",
      "Fold 06 • n_comp=06 • MAE=3.700 • RMSE=4.728 • R²=0.198\n",
      "Fold 07 • n_comp=06 • MAE=3.743 • RMSE=4.774 • R²=0.181\n",
      "Fold 08 • n_comp=06 • MAE=3.722 • RMSE=4.751 • R²=0.179\n",
      "Fold 09 • n_comp=06 • MAE=3.643 • RMSE=4.639 • R²=0.188\n",
      "Fold 10 • n_comp=06 • MAE=3.652 • RMSE=4.610 • R²=0.198\n",
      "\n",
      "=== 10-fold CV summary ===\n",
      "n_components (mean ± std): 6.0 ± 0.0\n",
      "MAE :  3.714 ± 0.053\n",
      "RMSE:  4.721 ± 0.079\n",
      "R²  :  0.188 ± 0.013\n",
      "PLS weights saved to: /Users/baileyng/MIND_models/models_plsregression/PLS_weights/PLS_weights_CT_DSST.csv\n"
     ]
    }
   ],
   "source": [
    "pls_analysis(X, y, continuous_vars, categorical_vars, weights_dir, data_name, target_name, n_splits=10)"
   ]
  },
  {
   "cell_type": "markdown",
   "id": "613536d1",
   "metadata": {},
   "source": [
    "### DSST vs. FC"
   ]
  },
  {
   "cell_type": "code",
   "execution_count": 47,
   "id": "52ee3da1",
   "metadata": {},
   "outputs": [
    {
     "name": "stdout",
     "output_type": "stream",
     "text": [
      "(24275, 214)\n",
      "(24275,)\n"
     ]
    }
   ],
   "source": [
    "data_name = 'FC'\n",
    "\n",
    "# Set X and y\n",
    "with open('/Users/baileyng/MIND_models/region_names/FC_regions.txt', 'r') as f:\n",
    "    brain_regions = [line.strip() for line in f.readlines()]\n",
    "\n",
    "# Define demographic/clinical features\n",
    "demographic_vars = ['31-0.0', '21003-2.0', '54-2.0', '25741-2.0']\n",
    "\n",
    "# Combine demographic features with brain region features\n",
    "all_vars = demographic_vars + brain_regions\n",
    "\n",
    "X = df[all_vars]\n",
    "y = df['23324-2.0']\n",
    "\n",
    "print(X.shape)\n",
    "print(y.shape)"
   ]
  },
  {
   "cell_type": "code",
   "execution_count": 48,
   "id": "9350dec7",
   "metadata": {},
   "outputs": [],
   "source": [
    "# rename columns\n",
    "X = X.rename(columns=rename_dict)\n",
    "\n",
    "categorical_vars = ['sex', 'assessment_centre']\n",
    "continuous_vars  = [c for c in X.columns if c not in categorical_vars]"
   ]
  },
  {
   "cell_type": "code",
   "execution_count": 49,
   "id": "1ca57c8e",
   "metadata": {},
   "outputs": [
    {
     "name": "stdout",
     "output_type": "stream",
     "text": [
      "Fold 01 • n_comp=09 • MAE=3.647 • RMSE=4.658 • R²=0.211\n",
      "Fold 02 • n_comp=09 • MAE=3.773 • RMSE=4.814 • R²=0.217\n",
      "Fold 03 • n_comp=09 • MAE=3.699 • RMSE=4.674 • R²=0.213\n",
      "Fold 04 • n_comp=09 • MAE=3.648 • RMSE=4.611 • R²=0.164\n",
      "Fold 05 • n_comp=09 • MAE=3.779 • RMSE=4.796 • R²=0.188\n",
      "Fold 06 • n_comp=09 • MAE=3.669 • RMSE=4.691 • R²=0.211\n",
      "Fold 07 • n_comp=09 • MAE=3.714 • RMSE=4.719 • R²=0.200\n",
      "Fold 08 • n_comp=10 • MAE=3.684 • RMSE=4.727 • R²=0.187\n",
      "Fold 09 • n_comp=10 • MAE=3.633 • RMSE=4.616 • R²=0.196\n",
      "Fold 10 • n_comp=09 • MAE=3.617 • RMSE=4.565 • R²=0.214\n",
      "\n",
      "=== 10-fold CV summary ===\n",
      "n_components (mean ± std): 9.2 ± 0.4\n",
      "MAE :  3.686 ± 0.053\n",
      "RMSE:  4.687 ± 0.076\n",
      "R²  :  0.200 ± 0.016\n",
      "PLS weights saved to: /Users/baileyng/MIND_models/models_plsregression/PLS_weights/PLS_weights_FC_DSST.csv\n"
     ]
    }
   ],
   "source": [
    "pls_analysis(X, y, continuous_vars, categorical_vars, weights_dir, data_name, target_name, n_splits=10)"
   ]
  },
  {
   "cell_type": "markdown",
   "id": "9c3b2784",
   "metadata": {},
   "source": [
    "## DSST vs. Demographic Data"
   ]
  },
  {
   "cell_type": "code",
   "execution_count": 23,
   "id": "5d610060",
   "metadata": {},
   "outputs": [
    {
     "name": "stdout",
     "output_type": "stream",
     "text": [
      "(24275, 3)\n",
      "(24275,)\n"
     ]
    }
   ],
   "source": [
    "data_name = 'demo'\n",
    "\n",
    "# Set X and y\n",
    "brain_regions = []\n",
    "\n",
    "# Define demographic/clinical features\n",
    "demographic_vars = ['31-0.0', '21003-2.0', '54-2.0']\n",
    "\n",
    "# Combine demographic features with brain region features\n",
    "all_vars = demographic_vars + brain_regions\n",
    "\n",
    "X = df[all_vars]\n",
    "y = df['23324-2.0']\n",
    "\n",
    "print(X.shape)\n",
    "print(y.shape)"
   ]
  },
  {
   "cell_type": "code",
   "execution_count": 24,
   "id": "a8c32b25",
   "metadata": {},
   "outputs": [],
   "source": [
    "# rename columns\n",
    "X = X.rename(columns=rename_dict)\n",
    "\n",
    "categorical_vars = ['sex', 'assessment_centre']\n",
    "continuous_vars  = [c for c in X.columns if c not in categorical_vars]"
   ]
  },
  {
   "cell_type": "code",
   "execution_count": 25,
   "id": "1c1ee293",
   "metadata": {},
   "outputs": [
    {
     "name": "stdout",
     "output_type": "stream",
     "text": [
      "Fold 01 • n_comp=03 • MAE=3.725 • RMSE=4.734 • R²=0.185\n",
      "Fold 02 • n_comp=03 • MAE=3.810 • RMSE=4.852 • R²=0.205\n",
      "Fold 03 • n_comp=03 • MAE=3.722 • RMSE=4.722 • R²=0.196\n",
      "Fold 04 • n_comp=03 • MAE=3.674 • RMSE=4.631 • R²=0.156\n",
      "Fold 05 • n_comp=03 • MAE=3.798 • RMSE=4.849 • R²=0.170\n",
      "Fold 06 • n_comp=03 • MAE=3.716 • RMSE=4.749 • R²=0.191\n",
      "Fold 07 • n_comp=03 • MAE=3.761 • RMSE=4.786 • R²=0.177\n",
      "Fold 08 • n_comp=03 • MAE=3.731 • RMSE=4.774 • R²=0.171\n",
      "Fold 09 • n_comp=03 • MAE=3.657 • RMSE=4.660 • R²=0.181\n",
      "Fold 10 • n_comp=03 • MAE=3.666 • RMSE=4.622 • R²=0.194\n",
      "\n",
      "=== 10-fold CV summary ===\n",
      "n_components (mean ± std): 3.0 ± 0.0\n",
      "MAE :  3.726 ± 0.050\n",
      "RMSE:  4.738 ± 0.078\n",
      "R²  :  0.183 ± 0.014\n",
      "PLS weights saved to: /Users/baileyng/MIND_models/models_plsregression/PLS_weights/PLS_weights_demo_DSST.csv\n",
      "Final model parameters: n_components=3\n"
     ]
    }
   ],
   "source": [
    "pls_analysis(X, y, continuous_vars, categorical_vars, weights_dir, data_name, target_name, n_splits=10)"
   ]
  },
  {
   "cell_type": "markdown",
   "id": "a246b9cd",
   "metadata": {},
   "source": [
    "# TMT"
   ]
  },
  {
   "cell_type": "code",
   "execution_count": 26,
   "id": "d834c5a2",
   "metadata": {},
   "outputs": [],
   "source": [
    "# Load the dataset\n",
    "df = pd.read_csv('/Users/baileyng/MIND_data/ukb_cog/ukb_master_TMT_no_outliers.csv', index_col=0)\n",
    "target_name = 'TMT'"
   ]
  },
  {
   "cell_type": "code",
   "execution_count": 27,
   "id": "77bca847",
   "metadata": {},
   "outputs": [
    {
     "data": {
      "image/png": "[encoded data removed]",
      "text/plain": [
       "<Figure size 640x480 with 1 Axes>"
      ]
     },
     "metadata": {},
     "output_type": "display_data"
    }
   ],
   "source": [
    "# Histogram of TMT Scores\n",
    "sns.histplot(df['trailmaking_score'], bins=80)\n",
    "plt.title('Distribution of TMT Scores')\n",
    "plt.xlabel('TMT Score')\n",
    "plt.ylabel('Frequency')\n",
    "plt.show()"
   ]
  },
  {
   "cell_type": "code",
   "execution_count": 28,
   "id": "433b60d7",
   "metadata": {},
   "outputs": [
    {
     "name": "stdout",
     "output_type": "stream",
     "text": [
      "23362\n",
      "(23362, 2628)\n"
     ]
    }
   ],
   "source": [
    "print(len(df))\n",
    "print(df.shape)"
   ]
  },
  {
   "cell_type": "markdown",
   "id": "c1c6f792",
   "metadata": {},
   "source": [
    "### TMT vs. MIND (avg)"
   ]
  },
  {
   "cell_type": "code",
   "execution_count": 56,
   "id": "13923e0c",
   "metadata": {},
   "outputs": [
    {
     "name": "stdout",
     "output_type": "stream",
     "text": [
      "(23362, 71)\n",
      "(23362,)\n"
     ]
    }
   ],
   "source": [
    "data_name = 'MIND_avg'\n",
    "\n",
    "# Set X and y\n",
    "with open('/Users/baileyng/MIND_models/region_names/MIND_avg_regions.txt', 'r') as f:\n",
    "    brain_regions = [line.strip() for line in f.readlines()]\n",
    "\n",
    "# Define demographic/clinical features\n",
    "demographic_vars = ['31-0.0', '21003-2.0', '54-2.0']\n",
    "\n",
    "# Combine demographic features with brain region features\n",
    "all_vars = demographic_vars + brain_regions\n",
    "\n",
    "X = df[all_vars]\n",
    "y = df['trailmaking_score']\n",
    "\n",
    "print(X.shape)\n",
    "print(y.shape)"
   ]
  },
  {
   "cell_type": "code",
   "execution_count": 57,
   "id": "24e9a044",
   "metadata": {},
   "outputs": [],
   "source": [
    "# rename columns\n",
    "X = X.rename(columns=rename_dict)\n",
    "\n",
    "categorical_vars = ['sex', 'assessment_centre']\n",
    "continuous_vars  = [c for c in X.columns if c not in categorical_vars]"
   ]
  },
  {
   "cell_type": "code",
   "execution_count": 58,
   "id": "b4062295",
   "metadata": {},
   "outputs": [
    {
     "name": "stdout",
     "output_type": "stream",
     "text": [
      "Fold 01 • n_comp=06 • MAE=152.318 • RMSE=204.732 • R²=0.098\n",
      "Fold 02 • n_comp=06 • MAE=142.837 • RMSE=190.780 • R²=0.137\n",
      "Fold 03 • n_comp=06 • MAE=144.857 • RMSE=197.484 • R²=0.121\n",
      "Fold 04 • n_comp=06 • MAE=142.657 • RMSE=197.176 • R²=0.136\n",
      "Fold 05 • n_comp=06 • MAE=140.738 • RMSE=190.721 • R²=0.133\n",
      "Fold 06 • n_comp=06 • MAE=144.204 • RMSE=201.155 • R²=0.125\n",
      "Fold 07 • n_comp=06 • MAE=144.319 • RMSE=195.567 • R²=0.133\n",
      "Fold 08 • n_comp=07 • MAE=146.228 • RMSE=203.530 • R²=0.146\n",
      "Fold 09 • n_comp=05 • MAE=147.680 • RMSE=203.748 • R²=0.124\n",
      "Fold 10 • n_comp=05 • MAE=147.192 • RMSE=202.258 • R²=0.153\n",
      "\n",
      "=== 10-fold CV summary ===\n",
      "n_components (mean ± std): 5.9 ± 0.5\n",
      "MAE :  145.303 ± 3.092\n",
      "RMSE:  198.715 ± 4.938\n",
      "R²  :  0.131 ± 0.014\n",
      "PLS weights saved to: /Users/baileyng/MIND_models/models_plsregression/PLS_weights/PLS_weights_MIND_avg_TMT.csv\n"
     ]
    }
   ],
   "source": [
    "pls_analysis(X, y, continuous_vars, categorical_vars, weights_dir, data_name, target_name, n_splits=10)"
   ]
  },
  {
   "cell_type": "markdown",
   "id": "fa6f99fe",
   "metadata": {},
   "source": [
    "### TMT vs. CT"
   ]
  },
  {
   "cell_type": "code",
   "execution_count": 59,
   "id": "b7923977",
   "metadata": {},
   "outputs": [
    {
     "name": "stdout",
     "output_type": "stream",
     "text": [
      "(23362, 65)\n",
      "(23362,)\n"
     ]
    }
   ],
   "source": [
    "data_name = 'CT'\n",
    "\n",
    "# Set X and y\n",
    "with open('/Users/baileyng/MIND_models/region_names/CT_regions.txt', 'r') as f:\n",
    "    brain_regions = [line.strip() for line in f.readlines()]\n",
    "\n",
    "# Define demographic/clinical features\n",
    "demographic_vars = ['31-0.0', '21003-2.0', '54-2.0']\n",
    "\n",
    "# Combine demographic features with brain region features\n",
    "all_vars = demographic_vars + brain_regions\n",
    "\n",
    "X = df[all_vars]\n",
    "y = df['trailmaking_score']\n",
    "\n",
    "print(X.shape)\n",
    "print(y.shape)"
   ]
  },
  {
   "cell_type": "code",
   "execution_count": 60,
   "id": "d3ca6927",
   "metadata": {},
   "outputs": [],
   "source": [
    "# rename columns\n",
    "X = X.rename(columns=rename_dict)\n",
    "\n",
    "categorical_vars = ['sex', 'assessment_centre']\n",
    "continuous_vars  = [c for c in X.columns if c not in categorical_vars]"
   ]
  },
  {
   "cell_type": "code",
   "execution_count": 61,
   "id": "8bbc821c",
   "metadata": {},
   "outputs": [
    {
     "name": "stdout",
     "output_type": "stream",
     "text": [
      "Fold 01 • n_comp=06 • MAE=152.069 • RMSE=204.187 • R²=0.103\n",
      "Fold 02 • n_comp=05 • MAE=142.597 • RMSE=190.942 • R²=0.136\n",
      "Fold 03 • n_comp=05 • MAE=145.190 • RMSE=197.621 • R²=0.119\n",
      "Fold 04 • n_comp=05 • MAE=141.833 • RMSE=197.567 • R²=0.132\n",
      "Fold 05 • n_comp=05 • MAE=141.372 • RMSE=191.402 • R²=0.127\n",
      "Fold 06 • n_comp=05 • MAE=145.111 • RMSE=201.368 • R²=0.123\n",
      "Fold 07 • n_comp=05 • MAE=145.290 • RMSE=195.711 • R²=0.132\n",
      "Fold 08 • n_comp=05 • MAE=147.614 • RMSE=204.960 • R²=0.134\n",
      "Fold 09 • n_comp=05 • MAE=147.860 • RMSE=203.735 • R²=0.125\n",
      "Fold 10 • n_comp=05 • MAE=148.069 • RMSE=202.969 • R²=0.147\n",
      "\n",
      "=== 10-fold CV summary ===\n",
      "n_components (mean ± std): 5.1 ± 0.3\n",
      "MAE :  145.700 ± 3.140\n",
      "RMSE:  199.046 ± 4.936\n",
      "R²  :  0.128 ± 0.011\n",
      "PLS weights saved to: /Users/baileyng/MIND_models/models_plsregression/PLS_weights/PLS_weights_CT_TMT.csv\n"
     ]
    }
   ],
   "source": [
    "pls_analysis(X, y, continuous_vars, categorical_vars, weights_dir, data_name, target_name, n_splits=10)"
   ]
  },
  {
   "cell_type": "markdown",
   "id": "5b23f907",
   "metadata": {},
   "source": [
    "### TMT vs. FC"
   ]
  },
  {
   "cell_type": "code",
   "execution_count": 62,
   "id": "da36a119",
   "metadata": {},
   "outputs": [
    {
     "name": "stdout",
     "output_type": "stream",
     "text": [
      "(23362, 214)\n",
      "(23362,)\n"
     ]
    }
   ],
   "source": [
    "data_name = 'FC'\n",
    "\n",
    "# Set X and y\n",
    "with open('/Users/baileyng/MIND_models/region_names/FC_regions.txt', 'r') as f:\n",
    "    brain_regions = [line.strip() for line in f.readlines()]\n",
    "\n",
    "# Define demographic/clinical features\n",
    "demographic_vars = ['31-0.0', '21003-2.0', '54-2.0', '25741-2.0']\n",
    "\n",
    "# Combine demographic features with brain region features\n",
    "all_vars = demographic_vars + brain_regions\n",
    "\n",
    "X = df[all_vars]\n",
    "y = df['trailmaking_score']\n",
    "\n",
    "print(X.shape)\n",
    "print(y.shape)"
   ]
  },
  {
   "cell_type": "code",
   "execution_count": 63,
   "id": "306a7206",
   "metadata": {},
   "outputs": [],
   "source": [
    "# rename columns\n",
    "X = X.rename(columns=rename_dict)\n",
    "\n",
    "categorical_vars = ['sex', 'assessment_centre']\n",
    "continuous_vars  = [c for c in X.columns if c not in categorical_vars]"
   ]
  },
  {
   "cell_type": "code",
   "execution_count": 64,
   "id": "ddee4381",
   "metadata": {},
   "outputs": [
    {
     "name": "stdout",
     "output_type": "stream",
     "text": [
      "Fold 01 • n_comp=10 • MAE=150.771 • RMSE=201.648 • R²=0.125\n",
      "Fold 02 • n_comp=09 • MAE=142.185 • RMSE=189.841 • R²=0.146\n",
      "Fold 03 • n_comp=09 • MAE=143.033 • RMSE=195.107 • R²=0.142\n",
      "Fold 04 • n_comp=10 • MAE=139.365 • RMSE=193.056 • R²=0.171\n",
      "Fold 05 • n_comp=09 • MAE=140.170 • RMSE=189.078 • R²=0.148\n",
      "Fold 06 • n_comp=09 • MAE=143.335 • RMSE=198.413 • R²=0.149\n",
      "Fold 07 • n_comp=09 • MAE=141.680 • RMSE=192.026 • R²=0.165\n",
      "Fold 08 • n_comp=09 • MAE=144.788 • RMSE=200.041 • R²=0.175\n",
      "Fold 09 • n_comp=08 • MAE=143.833 • RMSE=199.569 • R²=0.160\n",
      "Fold 10 • n_comp=08 • MAE=146.041 • RMSE=200.870 • R²=0.164\n",
      "\n",
      "=== 10-fold CV summary ===\n",
      "n_components (mean ± std): 9.0 ± 0.6\n",
      "MAE :  143.520 ± 3.075\n",
      "RMSE:  195.965 ± 4.490\n",
      "R²  :  0.154 ± 0.015\n",
      "PLS weights saved to: /Users/baileyng/MIND_models/models_plsregression/PLS_weights/PLS_weights_FC_TMT.csv\n"
     ]
    }
   ],
   "source": [
    "pls_analysis(X, y, continuous_vars, categorical_vars, weights_dir, data_name, target_name, n_splits=10)"
   ]
  },
  {
   "cell_type": "markdown",
   "id": "2b82db4d",
   "metadata": {},
   "source": [
    "## TMT vs. Demographic Data"
   ]
  },
  {
   "cell_type": "code",
   "execution_count": 29,
   "id": "c12cdfa5",
   "metadata": {},
   "outputs": [
    {
     "name": "stdout",
     "output_type": "stream",
     "text": [
      "(23362, 3)\n",
      "(23362,)\n"
     ]
    }
   ],
   "source": [
    "data_name = 'demo'\n",
    "\n",
    "# Set X and y\n",
    "brain_regions = []\n",
    "\n",
    "# Define demographic/clinical features\n",
    "demographic_vars = ['31-0.0', '21003-2.0', '54-2.0']\n",
    "\n",
    "# Combine demographic features with brain region features\n",
    "all_vars = demographic_vars + brain_regions\n",
    "\n",
    "X = df[all_vars]\n",
    "y = df['trailmaking_score']\n",
    "\n",
    "print(X.shape)\n",
    "print(y.shape)"
   ]
  },
  {
   "cell_type": "code",
   "execution_count": 30,
   "id": "efe58d0f",
   "metadata": {},
   "outputs": [],
   "source": [
    "# rename columns\n",
    "X = X.rename(columns=rename_dict)\n",
    "\n",
    "categorical_vars = ['sex', 'assessment_centre']\n",
    "continuous_vars  = [c for c in X.columns if c not in categorical_vars]"
   ]
  },
  {
   "cell_type": "code",
   "execution_count": 31,
   "id": "ba9561c2",
   "metadata": {},
   "outputs": [
    {
     "name": "stdout",
     "output_type": "stream",
     "text": [
      "Fold 01 • n_comp=03 • MAE=152.282 • RMSE=204.259 • R²=0.102\n",
      "Fold 02 • n_comp=03 • MAE=142.748 • RMSE=191.249 • R²=0.133\n",
      "Fold 03 • n_comp=03 • MAE=145.659 • RMSE=198.146 • R²=0.115\n",
      "Fold 04 • n_comp=03 • MAE=142.949 • RMSE=198.163 • R²=0.127\n",
      "Fold 05 • n_comp=03 • MAE=141.653 • RMSE=191.782 • R²=0.123\n",
      "Fold 06 • n_comp=03 • MAE=145.550 • RMSE=202.484 • R²=0.114\n",
      "Fold 07 • n_comp=03 • MAE=145.553 • RMSE=196.516 • R²=0.125\n",
      "Fold 08 • n_comp=03 • MAE=147.787 • RMSE=205.066 • R²=0.133\n",
      "Fold 09 • n_comp=03 • MAE=147.829 • RMSE=203.702 • R²=0.125\n",
      "Fold 10 • n_comp=03 • MAE=149.105 • RMSE=204.382 • R²=0.135\n",
      "\n",
      "=== 10-fold CV summary ===\n",
      "n_components (mean ± std): 3.0 ± 0.0\n",
      "MAE :  146.111 ± 3.079\n",
      "RMSE:  199.575 ± 4.941\n",
      "R²  :  0.123 ± 0.010\n",
      "PLS weights saved to: /Users/baileyng/MIND_models/models_plsregression/PLS_weights/PLS_weights_demo_TMT.csv\n",
      "Final model parameters: n_components=3\n"
     ]
    }
   ],
   "source": [
    "pls_analysis(X, y, continuous_vars, categorical_vars, weights_dir, data_name, target_name, n_splits=10)"
   ]
  }
 ],
 "metadata": {
  "kernelspec": {
   "display_name": "venv",
   "language": "python",
   "name": "python3"
  },
  "language_info": {
   "codemirror_mode": {
    "name": "ipython",
    "version": 3
   },
   "file_extension": ".py",
   "mimetype": "text/x-python",
   "name": "python",
   "nbconvert_exporter": "python",
   "pygments_lexer": "ipython3",
   "version": "3.8.20"
  }
 },
 "nbformat": 4,
 "nbformat_minor": 5
}
