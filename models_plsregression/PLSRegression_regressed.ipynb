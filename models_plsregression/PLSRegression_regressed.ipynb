{
 "cells": [
  {
   "cell_type": "markdown",
   "id": "25ae522b",
   "metadata": {},
   "source": [
    "# Set up"
   ]
  },
  {
   "cell_type": "code",
   "execution_count": 1,
   "id": "edc7107c",
   "metadata": {},
   "outputs": [],
   "source": [
    "import pandas as pd\n",
    "import numpy as np\n",
    "import seaborn as sns\n",
    "from collections import Counter\n",
    "from matplotlib import cm\n",
    "import matplotlib.pyplot as plt\n",
    "from sklearn.preprocessing import StandardScaler, OneHotEncoder\n",
    "from sklearn.compose import ColumnTransformer\n",
    "from sklearn.pipeline import make_pipeline\n",
    "from sklearn.cross_decomposition import PLSRegression\n",
    "from sklearn.model_selection import KFold, GridSearchCV\n",
    "from sklearn.metrics import mean_absolute_error, mean_squared_error, r2_score, explained_variance_score\n",
    "import nibabel.freesurfer.io as fsio\n",
    "from nilearn import datasets, plotting\n",
    "import random\n",
    "from joblib import Parallel, delayed\n",
    "from adjustText import adjust_text\n",
    "from matplotlib.patches import Ellipse\n",
    "import os"
   ]
  },
  {
   "cell_type": "code",
   "execution_count": 2,
   "id": "65ebc51f",
   "metadata": {},
   "outputs": [],
   "source": [
    "random.seed(42)\n",
    "np.random.seed(42)"
   ]
  },
  {
   "cell_type": "code",
   "execution_count": 3,
   "id": "66b17f13",
   "metadata": {},
   "outputs": [],
   "source": [
    "rename = pd.read_csv('/Users/baileyng/MIND_models/region_names/col_renames.csv')\n",
    "rename_dict = dict(zip(rename['datafield_code'], rename['datafield_name']))"
   ]
  },
  {
   "cell_type": "markdown",
   "id": "52a9eeb1",
   "metadata": {},
   "source": [
    "# PLS Analysis Function"
   ]
  },
  {
   "cell_type": "code",
   "execution_count": 5,
   "id": "4ad18c90",
   "metadata": {},
   "outputs": [],
   "source": [
    "# inner parallelized\n",
    "def regress_out_covariates(data, covariates, categorical_cols=None):\n",
    "    \"\"\"\n",
    "    Regress out covariates from data using vectorized operations.\n",
    "    Handles categorical variables by treating them as dummy variables.\n",
    "    \n",
    "    Parameters:\n",
    "    data: DataFrame or array - the data to regress covariates from\n",
    "    covariates: DataFrame - the covariate data\n",
    "    categorical_cols: list - explicit list of column names to treat as categorical\n",
    "    \n",
    "    Returns:\n",
    "    residuals: DataFrame or array - data with covariates regressed out\n",
    "    \"\"\"\n",
    "    # Convert to numpy arrays for computation\n",
    "    Y = np.array(data, dtype=float)\n",
    "    \n",
    "    # Handle categorical variables if DataFrame is passed\n",
    "    if isinstance(covariates, pd.DataFrame):\n",
    "        if categorical_cols is not None:\n",
    "            # Explicitly specify which columns are categorical\n",
    "            X_cov = pd.get_dummies(covariates, columns=categorical_cols, drop_first=True, dtype=float).values\n",
    "        else:\n",
    "            # Auto-detect categorical columns (object/string types)\n",
    "            X_cov = pd.get_dummies(covariates, drop_first=True, dtype=float).values\n",
    "    else:\n",
    "        X_cov = np.array(covariates, dtype=float)\n",
    "    \n",
    "    # Add intercept column\n",
    "    design_matrix = np.column_stack([np.ones(X_cov.shape[0]), X_cov])\n",
    "    \n",
    "    # Vectorized regression: solve for all columns simultaneously\n",
    "    beta_coeffs = np.linalg.lstsq(design_matrix, Y, rcond=None)[0]\n",
    "    \n",
    "    # Calculate predictions and residuals\n",
    "    predicted = design_matrix @ beta_coeffs\n",
    "    residuals = Y - predicted\n",
    "    \n",
    "    # Return as DataFrame if input was DataFrame\n",
    "    if isinstance(data, pd.DataFrame):\n",
    "        return pd.DataFrame(residuals, index=data.index, columns=data.columns)\n",
    "    else:\n",
    "        return residuals\n",
    "\n",
    "\n",
    "def pls_covariate_regression(X, y, brain_regions, X_covariates, y_covariates, \n",
    "                            categorical_cols=None, n_splits=10, weights_dir=None, \n",
    "                            data_name=None, target_name=None):\n",
    "    \"\"\"\n",
    "    PLS regression analysis with demographic covariates regressed out beforehand.\n",
    "    \"\"\"\n",
    "    # Separate demographic and brain region data\n",
    "    X_demographic = X[X_covariates]\n",
    "    y_demographic = X[y_covariates]\n",
    "    X_brain = X[brain_regions]\n",
    "    \n",
    "    # Determine which covariates are categorical\n",
    "    X_categorical = [col for col in X_covariates if col in (categorical_cols or [])]\n",
    "    y_categorical = [col for col in y_covariates if col in (categorical_cols or [])]\n",
    "    \n",
    "    # Regress out demographic variables from brain regions\n",
    "    print(\"Regressing out demographic variables from brain regions...\")\n",
    "    X_brain_residuals = regress_out_covariates(X_brain, X_demographic, X_categorical)\n",
    "    \n",
    "    # Regress out demographic variables from target variable\n",
    "    print(\"Regressing out demographic variables from target variable...\")\n",
    "    y_residuals = regress_out_covariates(y, y_demographic, y_categorical)\n",
    "    \n",
    "    # Use only the residualized brain regions as features\n",
    "    X_final = X_brain_residuals\n",
    "    y_final = y_residuals.squeeze() if y_residuals.ndim > 1 else y_residuals\n",
    "    \n",
    "    # Simple preprocessing (just scaling, no categorical encoding needed)\n",
    "    scaler = StandardScaler()\n",
    "    \n",
    "    # Cross-validation set-up\n",
    "    outer_cv = KFold(n_splits=n_splits, shuffle=True, random_state=42)\n",
    "    \n",
    "    outer_mae, outer_rmse, outer_r2 = [], [], []\n",
    "    best_ncomps = []\n",
    "    coefs_list = []\n",
    "    \n",
    "    for fold, (train_idx, test_idx) in enumerate(outer_cv.split(X_final, y_final), start=1):\n",
    "        X_train, X_test = X_final.iloc[train_idx], X_final.iloc[test_idx]\n",
    "        \n",
    "        # Handle y_final indexing based on its type\n",
    "        if isinstance(y_final, pd.DataFrame) or isinstance(y_final, pd.Series):\n",
    "            y_train, y_test = y_final.iloc[train_idx], y_final.iloc[test_idx]\n",
    "        else:\n",
    "            # y_final is a numpy array\n",
    "            y_train, y_test = y_final[train_idx], y_final[test_idx]\n",
    "        \n",
    "        # Scale features\n",
    "        X_train_scaled = scaler.fit_transform(X_train)\n",
    "        X_test_scaled = scaler.transform(X_test)\n",
    "        \n",
    "        # Inner CV for PLS using GridSearchCV\n",
    "        pls = PLSRegression()\n",
    "        param_grid = {'n_components': list(range(1, 11))}  # n_components from 1 to 10\n",
    "        \n",
    "        inner_cv = KFold(n_splits=10, shuffle=True, random_state=42)\n",
    "        \n",
    "        grid_search = GridSearchCV(\n",
    "            pls, \n",
    "            param_grid, \n",
    "            cv=inner_cv, \n",
    "            scoring='neg_mean_squared_error', # or 'r2'\n",
    "            n_jobs=-1\n",
    "        )\n",
    "        \n",
    "        grid_search.fit(X_train_scaled, y_train)\n",
    "        \n",
    "        # Get best parameters\n",
    "        best_n = grid_search.best_params_['n_components']\n",
    "        best_ncomps.append(best_n)\n",
    "        \n",
    "        # Predict on test set\n",
    "        y_pred = grid_search.predict(X_test_scaled)\n",
    "        \n",
    "        # --- metrics ---\n",
    "        mae = mean_absolute_error(y_test, y_pred)\n",
    "        rmse = np.sqrt(mean_squared_error(y_test, y_pred))\n",
    "        r2 = r2_score(y_test, y_pred)\n",
    "        \n",
    "        outer_mae.append(mae)\n",
    "        outer_rmse.append(rmse)\n",
    "        outer_r2.append(r2)\n",
    "        \n",
    "        # Store coefficients\n",
    "        coefs_list.append(grid_search.best_estimator_.coef_.ravel())\n",
    "        \n",
    "        print(f'Fold {fold:02d} • n_comp={best_n:02d} • '\n",
    "              f'MAE={mae:.3f} • RMSE={rmse:.3f} • R²={r2:.3f}')\n",
    "    \n",
    "    # Aggregate results\n",
    "    print('\\n=== 10-fold CV summary ===')\n",
    "    print(f'n_components (mean ± std): '\n",
    "          f'{np.mean(best_ncomps):.1f} ± {np.std(best_ncomps):.1f}')\n",
    "    print(f'MAE :  {np.mean(outer_mae):.3f} ± {np.std(outer_mae):.3f}')\n",
    "    print(f'RMSE:  {np.mean(outer_rmse):.3f} ± {np.std(outer_rmse):.3f}')\n",
    "    print(f'R²  :  {np.mean(outer_r2):.3f} ± {np.std(outer_r2):.3f}')\n",
    "    \n",
    "    # Final refit on all data if weights_dir is provided\n",
    "    if weights_dir is not None and data_name is not None and target_name is not None:\n",
    "        mean_ncomps = int(np.round(np.mean(best_ncomps)))\n",
    "        \n",
    "        # Scale all data\n",
    "        X_final_scaled = scaler.fit_transform(X_final)\n",
    "        \n",
    "        # Train final PLS model\n",
    "        final_pls = PLSRegression(n_components=mean_ncomps)\n",
    "        final_pls.fit(X_final_scaled, y_final)\n",
    "        \n",
    "        # Get PLS weights\n",
    "        W = final_pls.x_weights_\n",
    "        \n",
    "        # Create weights directory\n",
    "        os.makedirs(weights_dir, exist_ok=True)\n",
    "        \n",
    "        # Create a DataFrame to store the weights\n",
    "        weights_df = pd.DataFrame(W, \n",
    "                                  index=X_final.columns, \n",
    "                                  columns=[f'Component_{i+1}' for i in range(W.shape[1])])\n",
    "        \n",
    "        weights_filename = f'PLS_weights_{data_name}_{target_name}.csv'\n",
    "        weights_filepath = os.path.join(weights_dir, weights_filename)\n",
    "        weights_df.to_csv(weights_filepath)\n",
    "        \n",
    "        print(f\"PLS weights saved to: {weights_filepath}\")\n",
    "        print(f\"Final model parameters: n_components={mean_ncomps}\")\n",
    "    \n",
    "    return {\n",
    "        'mae': outer_mae,\n",
    "        'rmse': outer_rmse,\n",
    "        'r2': outer_r2,\n",
    "        'best_ncomps': best_ncomps,\n",
    "        'coefficients': coefs_list\n",
    "    }"
   ]
  },
  {
   "cell_type": "markdown",
   "id": "849e5a1c",
   "metadata": {},
   "source": [
    "# GF"
   ]
  },
  {
   "cell_type": "code",
   "execution_count": 5,
   "id": "c4bcb5a5",
   "metadata": {},
   "outputs": [
    {
     "data": {
      "image/png": "[encoded data removed]",
      "text/plain": [
       "<Figure size 640x480 with 1 Axes>"
      ]
     },
     "metadata": {},
     "output_type": "display_data"
    },
    {
     "name": "stdout",
     "output_type": "stream",
     "text": [
      "33977\n",
      "(33977, 2628)\n"
     ]
    }
   ],
   "source": [
    "# Load the dataset\n",
    "df = pd.read_csv('/Users/baileyng/MIND_data/ukb_cog/ukb_master_GF_no_outliers.csv', index_col=0)\n",
    "\n",
    "# Histogram of Fluid Intelligence Scores\n",
    "sns.histplot(df['20016-2.0'])\n",
    "plt.title('Distribution of Fluid Intelligence Scores')\n",
    "plt.xlabel('Fluid Intelligence Score')\n",
    "plt.ylabel('Frequency')\n",
    "plt.show()\n",
    "\n",
    "print(len(df))\n",
    "print(df.shape)"
   ]
  },
  {
   "cell_type": "markdown",
   "id": "bb6194f1",
   "metadata": {},
   "source": [
    "## GF vs. MIND (avg)"
   ]
  },
  {
   "cell_type": "code",
   "execution_count": 6,
   "id": "92afb070",
   "metadata": {},
   "outputs": [
    {
     "name": "stdout",
     "output_type": "stream",
     "text": [
      "Original shapes - X: (33977, 71), y: (33977,)\n"
     ]
    }
   ],
   "source": [
    "# Set X and y\n",
    "with open('/Users/baileyng/MIND_models/region_names/MIND_avg_regions.txt', 'r') as f:\n",
    "    brain_regions = [line.strip() for line in f.readlines()]\n",
    "\n",
    "# Define different covariates for X and y\n",
    "X_covariates = ['31-0.0', '21003-2.0', '54-2.0']  \n",
    "y_covariates = ['31-0.0', '21003-2.0', '54-2.0']  \n",
    "\n",
    "# Combine all variables\n",
    "all_vars = list(set(X_covariates + y_covariates + brain_regions))\n",
    "\n",
    "X = df[all_vars]\n",
    "y = df['20016-2.0']\n",
    "\n",
    "print(f\"Original shapes - X: {X.shape}, y: {y.shape}\")\n",
    "\n",
    "# rename columns\n",
    "X = X.rename(columns=rename_dict)\n",
    "\n",
    "# Update variable names after renaming\n",
    "X_covariates_renamed = [rename_dict.get(var, var) for var in X_covariates]\n",
    "y_covariates_renamed = [rename_dict.get(var, var) for var in y_covariates]\n",
    "brain_regions_renamed = [rename_dict.get(var, var) for var in brain_regions]\n",
    "\n",
    "# Specify which variables are categorical\n",
    "categorical_variables = ['sex', 'assessment_centre']  # Use renamed column names"
   ]
  },
  {
   "cell_type": "code",
   "execution_count": 7,
   "id": "b68f9fa7",
   "metadata": {},
   "outputs": [
    {
     "name": "stdout",
     "output_type": "stream",
     "text": [
      "Regressing out demographic variables from brain regions...\n",
      "Regressing out demographic variables from target variable...\n",
      "Fold 01 • n_comp=03 • MAE=1.621 • RMSE=2.020 • R²=0.019\n",
      "Fold 02 • n_comp=03 • MAE=1.634 • RMSE=2.032 • R²=0.017\n",
      "Fold 03 • n_comp=03 • MAE=1.642 • RMSE=2.042 • R²=0.028\n",
      "Fold 04 • n_comp=03 • MAE=1.654 • RMSE=2.059 • R²=0.017\n",
      "Fold 05 • n_comp=03 • MAE=1.606 • RMSE=2.004 • R²=0.011\n",
      "Fold 06 • n_comp=03 • MAE=1.583 • RMSE=1.976 • R²=0.022\n",
      "Fold 07 • n_comp=03 • MAE=1.617 • RMSE=2.016 • R²=0.027\n",
      "Fold 08 • n_comp=03 • MAE=1.657 • RMSE=2.052 • R²=0.010\n",
      "Fold 09 • n_comp=03 • MAE=1.607 • RMSE=2.001 • R²=0.021\n",
      "Fold 10 • n_comp=03 • MAE=1.628 • RMSE=2.033 • R²=0.020\n",
      "\n",
      "=== 10-fold CV summary ===\n",
      "n_components (mean ± std): 3.0 ± 0.0\n",
      "MAE :  1.625 ± 0.022\n",
      "RMSE:  2.024 ± 0.024\n",
      "R²  :  0.019 ± 0.006\n"
     ]
    }
   ],
   "source": [
    "# Run PLS analysis with covariate regression\n",
    "results = pls_covariate_regression(\n",
    "    X, y, brain_regions_renamed, X_covariates_renamed, y_covariates_renamed, \n",
    "    categorical_cols=categorical_variables, n_splits=10\n",
    ")"
   ]
  },
  {
   "cell_type": "markdown",
   "id": "15e3dd7c",
   "metadata": {},
   "source": [
    "## GF vs. MIND"
   ]
  },
  {
   "cell_type": "code",
   "execution_count": 6,
   "id": "6e5cc105",
   "metadata": {},
   "outputs": [
    {
     "name": "stdout",
     "output_type": "stream",
     "text": [
      "Original shapes - X: (33977, 2281), y: (33977,)\n"
     ]
    }
   ],
   "source": [
    "# Set X and y\n",
    "with open('/Users/baileyng/MIND_models/region_names/MIND_regions.txt', 'r') as f:\n",
    "    brain_regions = [line.strip() for line in f.readlines()]\n",
    "\n",
    "# Define different covariates for X and y\n",
    "X_covariates = ['31-0.0', '21003-2.0', '54-2.0']  \n",
    "y_covariates = ['31-0.0', '21003-2.0', '54-2.0']  \n",
    "\n",
    "# Combine all variables\n",
    "all_vars = list(set(X_covariates + y_covariates + brain_regions))\n",
    "\n",
    "X = df[all_vars]\n",
    "y = df['20016-2.0']\n",
    "\n",
    "print(f\"Original shapes - X: {X.shape}, y: {y.shape}\")\n",
    "\n",
    "# rename columns\n",
    "X = X.rename(columns=rename_dict)\n",
    "\n",
    "# Update variable names after renaming\n",
    "X_covariates_renamed = [rename_dict.get(var, var) for var in X_covariates]\n",
    "y_covariates_renamed = [rename_dict.get(var, var) for var in y_covariates]\n",
    "brain_regions_renamed = [rename_dict.get(var, var) for var in brain_regions]\n",
    "\n",
    "# Specify which variables are categorical\n",
    "categorical_variables = ['sex', 'assessment_centre']  # Use renamed column names"
   ]
  },
  {
   "cell_type": "code",
   "execution_count": 7,
   "id": "9663f3e6",
   "metadata": {},
   "outputs": [
    {
     "name": "stdout",
     "output_type": "stream",
     "text": [
      "Regressing out demographic variables from brain regions...\n",
      "Regressing out demographic variables from target variable...\n",
      "Fold 01 • n_comp=05 • MAE=1.603 • RMSE=2.002 • R²=0.036\n",
      "Fold 02 • n_comp=05 • MAE=1.624 • RMSE=2.023 • R²=0.026\n",
      "Fold 03 • n_comp=06 • MAE=1.631 • RMSE=2.037 • R²=0.033\n",
      "Fold 04 • n_comp=05 • MAE=1.647 • RMSE=2.056 • R²=0.019\n",
      "Fold 05 • n_comp=05 • MAE=1.597 • RMSE=1.994 • R²=0.020\n",
      "Fold 06 • n_comp=05 • MAE=1.568 • RMSE=1.957 • R²=0.041\n",
      "Fold 07 • n_comp=06 • MAE=1.605 • RMSE=2.005 • R²=0.037\n",
      "Fold 08 • n_comp=04 • MAE=1.652 • RMSE=2.045 • R²=0.016\n",
      "Fold 09 • n_comp=05 • MAE=1.604 • RMSE=1.996 • R²=0.026\n",
      "Fold 10 • n_comp=05 • MAE=1.626 • RMSE=2.033 • R²=0.019\n",
      "\n",
      "=== 10-fold CV summary ===\n",
      "n_components (mean ± std): 5.1 ± 0.5\n",
      "MAE :  1.616 ± 0.024\n",
      "RMSE:  2.015 ± 0.028\n",
      "R²  :  0.027 ± 0.008\n",
      "PLS weights saved to: /Users/baileyng/MIND_models/models_plsregression/PLS_weights/PLS_weights_MIND_GF_pythonreg.csv\n",
      "Final model parameters: n_components=5\n"
     ]
    }
   ],
   "source": [
    "# Run PLS analysis with covariate regression\n",
    "results = pls_covariate_regression(\n",
    "    X, y, brain_regions_renamed, X_covariates_renamed, y_covariates_renamed, \n",
    "    categorical_cols=categorical_variables, n_splits=10,\n",
    "    weights_dir='/Users/baileyng/MIND_models/models_plsregression/PLS_weights',\n",
    "    data_name='MIND',\n",
    "    target_name='GF_pythonreg'\n",
    ")"
   ]
  },
  {
   "cell_type": "markdown",
   "id": "d8d636ff",
   "metadata": {},
   "source": [
    "## GF vs. CT"
   ]
  },
  {
   "cell_type": "code",
   "execution_count": 10,
   "id": "5ee04274",
   "metadata": {},
   "outputs": [
    {
     "name": "stdout",
     "output_type": "stream",
     "text": [
      "Original shapes - X: (33977, 65), y: (33977,)\n"
     ]
    }
   ],
   "source": [
    "# Set X and y\n",
    "with open('/Users/baileyng/MIND_models/region_names/CT_regions.txt', 'r') as f:\n",
    "    brain_regions = [line.strip() for line in f.readlines()]\n",
    "\n",
    "# Define different covariates for X and y\n",
    "X_covariates = ['31-0.0', '21003-2.0', '54-2.0']  \n",
    "y_covariates = ['31-0.0', '21003-2.0', '54-2.0']  \n",
    "\n",
    "# Combine all variables\n",
    "all_vars = list(set(X_covariates + y_covariates + brain_regions))\n",
    "\n",
    "X = df[all_vars]\n",
    "y = df['20016-2.0']\n",
    "\n",
    "print(f\"Original shapes - X: {X.shape}, y: {y.shape}\")\n",
    "\n",
    "# rename columns\n",
    "X = X.rename(columns=rename_dict)\n",
    "\n",
    "# Update variable names after renaming\n",
    "X_covariates_renamed = [rename_dict.get(var, var) for var in X_covariates]\n",
    "y_covariates_renamed = [rename_dict.get(var, var) for var in y_covariates]\n",
    "brain_regions_renamed = [rename_dict.get(var, var) for var in brain_regions]\n",
    "\n",
    "# Specify which variables are categorical\n",
    "categorical_variables = ['sex', 'assessment_centre']  # Use renamed column names"
   ]
  },
  {
   "cell_type": "code",
   "execution_count": 11,
   "id": "8dba3384",
   "metadata": {},
   "outputs": [
    {
     "name": "stdout",
     "output_type": "stream",
     "text": [
      "Regressing out demographic variables from brain regions...\n",
      "Regressing out demographic variables from target variable...\n",
      "Fold 01 • n_comp=07 • MAE=1.631 • RMSE=2.031 • R²=0.008\n",
      "Fold 02 • n_comp=07 • MAE=1.643 • RMSE=2.040 • R²=0.009\n",
      "Fold 03 • n_comp=07 • MAE=1.650 • RMSE=2.056 • R²=0.015\n",
      "Fold 04 • n_comp=07 • MAE=1.662 • RMSE=2.071 • R²=0.005\n",
      "Fold 05 • n_comp=07 • MAE=1.603 • RMSE=2.001 • R²=0.014\n",
      "Fold 06 • n_comp=08 • MAE=1.591 • RMSE=1.986 • R²=0.011\n",
      "Fold 07 • n_comp=07 • MAE=1.631 • RMSE=2.035 • R²=0.008\n",
      "Fold 08 • n_comp=07 • MAE=1.652 • RMSE=2.046 • R²=0.016\n",
      "Fold 09 • n_comp=07 • MAE=1.623 • RMSE=2.016 • R²=0.006\n",
      "Fold 10 • n_comp=07 • MAE=1.638 • RMSE=2.044 • R²=0.009\n",
      "\n",
      "=== 10-fold CV summary ===\n",
      "n_components (mean ± std): 7.1 ± 0.3\n",
      "MAE :  1.632 ± 0.021\n",
      "RMSE:  2.033 ± 0.024\n",
      "R²  :  0.010 ± 0.003\n"
     ]
    }
   ],
   "source": [
    "# Run PLS analysis with covariate regression\n",
    "results = pls_covariate_regression(\n",
    "    X, y, brain_regions_renamed, X_covariates_renamed, y_covariates_renamed, \n",
    "    categorical_cols=categorical_variables, n_splits=10\n",
    ")"
   ]
  },
  {
   "cell_type": "markdown",
   "id": "134a28de",
   "metadata": {},
   "source": [
    "## GF vs. FC"
   ]
  },
  {
   "cell_type": "code",
   "execution_count": 12,
   "id": "b63a7492",
   "metadata": {},
   "outputs": [
    {
     "name": "stdout",
     "output_type": "stream",
     "text": [
      "Original shapes - X: (33977, 214), y: (33977,)\n"
     ]
    }
   ],
   "source": [
    "# Set X and y\n",
    "with open('/Users/baileyng/MIND_models/region_names/FC_regions.txt', 'r') as f:\n",
    "    brain_regions = [line.strip() for line in f.readlines()]\n",
    "\n",
    "# Define different covariates for X and y\n",
    "X_covariates = ['31-0.0', '21003-2.0', '54-2.0', '25741-2.0']  \n",
    "y_covariates = ['31-0.0', '21003-2.0', '54-2.0']  \n",
    "\n",
    "# Combine all variables\n",
    "all_vars = list(set(X_covariates + y_covariates + brain_regions))\n",
    "\n",
    "X = df[all_vars]\n",
    "y = df['20016-2.0']\n",
    "\n",
    "print(f\"Original shapes - X: {X.shape}, y: {y.shape}\")\n",
    "\n",
    "# rename columns\n",
    "X = X.rename(columns=rename_dict)\n",
    "\n",
    "# Update variable names after renaming\n",
    "X_covariates_renamed = [rename_dict.get(var, var) for var in X_covariates]\n",
    "y_covariates_renamed = [rename_dict.get(var, var) for var in y_covariates]\n",
    "brain_regions_renamed = [rename_dict.get(var, var) for var in brain_regions]\n",
    "\n",
    "# Specify which variables are categorical\n",
    "categorical_variables = ['sex', 'assessment_centre']  # Use renamed column names"
   ]
  },
  {
   "cell_type": "code",
   "execution_count": 13,
   "id": "34e5052c",
   "metadata": {},
   "outputs": [
    {
     "name": "stdout",
     "output_type": "stream",
     "text": [
      "Regressing out demographic variables from brain regions...\n",
      "Regressing out demographic variables from target variable...\n",
      "Fold 01 • n_comp=05 • MAE=1.584 • RMSE=1.992 • R²=0.046\n",
      "Fold 02 • n_comp=05 • MAE=1.609 • RMSE=2.000 • R²=0.049\n",
      "Fold 03 • n_comp=04 • MAE=1.625 • RMSE=2.027 • R²=0.043\n",
      "Fold 04 • n_comp=04 • MAE=1.620 • RMSE=2.022 • R²=0.052\n",
      "Fold 05 • n_comp=05 • MAE=1.577 • RMSE=1.968 • R²=0.046\n",
      "Fold 06 • n_comp=05 • MAE=1.552 • RMSE=1.935 • R²=0.062\n",
      "Fold 07 • n_comp=05 • MAE=1.603 • RMSE=2.001 • R²=0.041\n",
      "Fold 08 • n_comp=04 • MAE=1.609 • RMSE=2.007 • R²=0.053\n",
      "Fold 09 • n_comp=05 • MAE=1.579 • RMSE=1.973 • R²=0.048\n",
      "Fold 10 • n_comp=04 • MAE=1.602 • RMSE=2.002 • R²=0.050\n",
      "\n",
      "=== 10-fold CV summary ===\n",
      "n_components (mean ± std): 4.6 ± 0.5\n",
      "MAE :  1.596 ± 0.021\n",
      "RMSE:  1.992 ± 0.026\n",
      "R²  :  0.049 ± 0.006\n"
     ]
    }
   ],
   "source": [
    "# Run PLS analysis with covariate regression\n",
    "results = pls_covariate_regression(\n",
    "    X, y, brain_regions_renamed, X_covariates_renamed, y_covariates_renamed, \n",
    "    categorical_cols=categorical_variables, n_splits=10\n",
    ")"
   ]
  },
  {
   "cell_type": "markdown",
   "id": "8c2043ec",
   "metadata": {},
   "source": [
    "# PAL"
   ]
  },
  {
   "cell_type": "code",
   "execution_count": 6,
   "id": "6a7deafe",
   "metadata": {},
   "outputs": [
    {
     "data": {
      "image/png": "[encoded data removed]",
      "text/plain": [
       "<Figure size 640x480 with 1 Axes>"
      ]
     },
     "metadata": {},
     "output_type": "display_data"
    },
    {
     "name": "stdout",
     "output_type": "stream",
     "text": [
      "24492\n",
      "(24492, 2628)\n"
     ]
    }
   ],
   "source": [
    "# Load the dataset\n",
    "df = pd.read_csv('/Users/baileyng/MIND_data/ukb_cog/ukb_master_PAL_no_outliers.csv', index_col=0)\n",
    "\n",
    "# Histogram of PAL Scores\n",
    "sns.histplot(df['20197-2.0'])\n",
    "plt.title('Distribution of PAL Scores')\n",
    "plt.xlabel('PAL Score')\n",
    "plt.ylabel('Frequency')\n",
    "plt.show()\n",
    "\n",
    "print(len(df))\n",
    "print(df.shape)"
   ]
  },
  {
   "cell_type": "markdown",
   "id": "1a60cbaa",
   "metadata": {},
   "source": [
    "### PAL vs. MIND (avg)"
   ]
  },
  {
   "cell_type": "code",
   "execution_count": 6,
   "id": "463a7726",
   "metadata": {},
   "outputs": [
    {
     "name": "stdout",
     "output_type": "stream",
     "text": [
      "Original shapes - X: (24492, 71), y: (24492,)\n"
     ]
    }
   ],
   "source": [
    "# Set X and y\n",
    "with open('/Users/baileyng/MIND_models/region_names/MIND_avg_regions.txt', 'r') as f:\n",
    "    brain_regions = [line.strip() for line in f.readlines()]\n",
    "\n",
    "# Define different covariates for X and y\n",
    "X_covariates = ['31-0.0', '21003-2.0', '54-2.0']  \n",
    "y_covariates = ['31-0.0', '21003-2.0', '54-2.0']  \n",
    "\n",
    "# Combine all variables\n",
    "all_vars = list(set(X_covariates + y_covariates + brain_regions))\n",
    "\n",
    "X = df[all_vars]\n",
    "y = df['20197-2.0']\n",
    "\n",
    "print(f\"Original shapes - X: {X.shape}, y: {y.shape}\")\n",
    "\n",
    "# rename columns\n",
    "X = X.rename(columns=rename_dict)\n",
    "\n",
    "# Update variable names after renaming\n",
    "X_covariates_renamed = [rename_dict.get(var, var) for var in X_covariates]\n",
    "y_covariates_renamed = [rename_dict.get(var, var) for var in y_covariates]\n",
    "brain_regions_renamed = [rename_dict.get(var, var) for var in brain_regions]\n",
    "\n",
    "# Specify which variables are categorical\n",
    "categorical_variables = ['sex', 'assessment_centre']  # Use renamed column names"
   ]
  },
  {
   "cell_type": "code",
   "execution_count": 7,
   "id": "a06f646f",
   "metadata": {},
   "outputs": [
    {
     "name": "stdout",
     "output_type": "stream",
     "text": [
      "Regressing out demographic variables from brain regions...\n",
      "Regressing out demographic variables from target variable...\n",
      "Fold 01 • n_comp=02 • MAE=2.079 • RMSE=2.538 • R²=0.006\n",
      "Fold 02 • n_comp=02 • MAE=2.106 • RMSE=2.552 • R²=0.001\n",
      "Fold 03 • n_comp=02 • MAE=2.093 • RMSE=2.580 • R²=0.005\n",
      "Fold 04 • n_comp=02 • MAE=2.068 • RMSE=2.531 • R²=0.004\n",
      "Fold 05 • n_comp=02 • MAE=2.038 • RMSE=2.472 • R²=-0.003\n",
      "Fold 06 • n_comp=02 • MAE=2.107 • RMSE=2.562 • R²=0.005\n",
      "Fold 07 • n_comp=02 • MAE=2.091 • RMSE=2.541 • R²=0.002\n",
      "Fold 08 • n_comp=02 • MAE=2.068 • RMSE=2.534 • R²=0.001\n",
      "Fold 09 • n_comp=02 • MAE=2.080 • RMSE=2.550 • R²=0.006\n",
      "Fold 10 • n_comp=02 • MAE=2.071 • RMSE=2.542 • R²=0.001\n",
      "\n",
      "=== 10-fold CV summary ===\n",
      "n_components (mean ± std): 2.0 ± 0.0\n",
      "MAE :  2.080 ± 0.019\n",
      "RMSE:  2.540 ± 0.027\n",
      "R²  :  0.003 ± 0.003\n"
     ]
    }
   ],
   "source": [
    "# Run PLS analysis with covariate regression\n",
    "results = pls_covariate_regression(\n",
    "    X, y, brain_regions_renamed, X_covariates_renamed, y_covariates_renamed, \n",
    "    categorical_cols=categorical_variables, n_splits=10\n",
    ")"
   ]
  },
  {
   "cell_type": "markdown",
   "id": "54544253",
   "metadata": {},
   "source": [
    "### PAL vs. MIND"
   ]
  },
  {
   "cell_type": "code",
   "execution_count": 8,
   "id": "04f9d63e",
   "metadata": {},
   "outputs": [
    {
     "name": "stdout",
     "output_type": "stream",
     "text": [
      "Original shapes - X: (24492, 2281), y: (24492,)\n"
     ]
    }
   ],
   "source": [
    "# Set X and y\n",
    "with open('/Users/baileyng/MIND_models/region_names/MIND_regions.txt', 'r') as f:\n",
    "    brain_regions = [line.strip() for line in f.readlines()]\n",
    "\n",
    "# Define different covariates for X and y\n",
    "X_covariates = ['31-0.0', '21003-2.0', '54-2.0']  \n",
    "y_covariates = ['31-0.0', '21003-2.0', '54-2.0']  \n",
    "\n",
    "# Combine all variables\n",
    "all_vars = list(set(X_covariates + y_covariates + brain_regions))\n",
    "\n",
    "X = df[all_vars]\n",
    "y = df['20197-2.0']\n",
    "\n",
    "print(f\"Original shapes - X: {X.shape}, y: {y.shape}\")\n",
    "\n",
    "# rename columns\n",
    "X = X.rename(columns=rename_dict)\n",
    "\n",
    "# Update variable names after renaming\n",
    "X_covariates_renamed = [rename_dict.get(var, var) for var in X_covariates]\n",
    "y_covariates_renamed = [rename_dict.get(var, var) for var in y_covariates]\n",
    "brain_regions_renamed = [rename_dict.get(var, var) for var in brain_regions]\n",
    "\n",
    "# Specify which variables are categorical\n",
    "categorical_variables = ['sex', 'assessment_centre']  # Use renamed column names"
   ]
  },
  {
   "cell_type": "code",
   "execution_count": 9,
   "id": "0d83a4a8",
   "metadata": {},
   "outputs": [
    {
     "name": "stdout",
     "output_type": "stream",
     "text": [
      "Regressing out demographic variables from brain regions...\n",
      "Regressing out demographic variables from target variable...\n",
      "Fold 01 • n_comp=02 • MAE=2.067 • RMSE=2.533 • R²=0.010\n",
      "Fold 02 • n_comp=02 • MAE=2.098 • RMSE=2.546 • R²=0.006\n",
      "Fold 03 • n_comp=01 • MAE=2.088 • RMSE=2.573 • R²=0.010\n",
      "Fold 04 • n_comp=02 • MAE=2.068 • RMSE=2.531 • R²=0.004\n",
      "Fold 05 • n_comp=02 • MAE=2.034 • RMSE=2.467 • R²=0.001\n",
      "Fold 06 • n_comp=02 • MAE=2.097 • RMSE=2.555 • R²=0.011\n",
      "Fold 07 • n_comp=02 • MAE=2.082 • RMSE=2.530 • R²=0.010\n",
      "Fold 08 • n_comp=02 • MAE=2.062 • RMSE=2.528 • R²=0.006\n",
      "Fold 09 • n_comp=02 • MAE=2.086 • RMSE=2.560 • R²=-0.002\n",
      "Fold 10 • n_comp=02 • MAE=2.072 • RMSE=2.542 • R²=0.000\n",
      "\n",
      "=== 10-fold CV summary ===\n",
      "n_components (mean ± std): 1.9 ± 0.3\n",
      "MAE :  2.075 ± 0.018\n",
      "RMSE:  2.537 ± 0.027\n",
      "R²  :  0.006 ± 0.004\n",
      "PLS weights saved to: /Users/baileyng/MIND_models/models_plsregression/PLS_weights_reg/PLS_weights_MIND_PAL.csv\n",
      "Final model parameters: n_components=2\n"
     ]
    }
   ],
   "source": [
    "# Run PLS analysis with covariate regression\n",
    "results = pls_covariate_regression(\n",
    "    X, y, brain_regions_renamed, X_covariates_renamed, y_covariates_renamed, \n",
    "    categorical_cols=categorical_variables, n_splits=10,\n",
    "    weights_dir='/Users/baileyng/MIND_models/models_plsregression/PLS_weights_reg',\n",
    "    data_name='MIND',\n",
    "    target_name='PAL'\n",
    ")"
   ]
  },
  {
   "cell_type": "markdown",
   "id": "6e65da4f",
   "metadata": {},
   "source": [
    "### PAL vs. CT"
   ]
  },
  {
   "cell_type": "code",
   "execution_count": 10,
   "id": "ab735104",
   "metadata": {},
   "outputs": [
    {
     "name": "stdout",
     "output_type": "stream",
     "text": [
      "Original shapes - X: (24492, 65), y: (24492,)\n"
     ]
    }
   ],
   "source": [
    "# Set X and y\n",
    "with open('/Users/baileyng/MIND_models/region_names/CT_regions.txt', 'r') as f:\n",
    "    brain_regions = [line.strip() for line in f.readlines()]\n",
    "\n",
    "# Define different covariates for X and y\n",
    "X_covariates = ['31-0.0', '21003-2.0', '54-2.0']  \n",
    "y_covariates = ['31-0.0', '21003-2.0', '54-2.0']  \n",
    "\n",
    "# Combine all variables\n",
    "all_vars = list(set(X_covariates + y_covariates + brain_regions))\n",
    "\n",
    "X = df[all_vars]\n",
    "y = df['20197-2.0']\n",
    "\n",
    "print(f\"Original shapes - X: {X.shape}, y: {y.shape}\")\n",
    "\n",
    "# rename columns\n",
    "X = X.rename(columns=rename_dict)\n",
    "\n",
    "# Update variable names after renaming\n",
    "X_covariates_renamed = [rename_dict.get(var, var) for var in X_covariates]\n",
    "y_covariates_renamed = [rename_dict.get(var, var) for var in y_covariates]\n",
    "brain_regions_renamed = [rename_dict.get(var, var) for var in brain_regions]\n",
    "\n",
    "# Specify which variables are categorical\n",
    "categorical_variables = ['sex', 'assessment_centre']  # Use renamed column names"
   ]
  },
  {
   "cell_type": "code",
   "execution_count": 11,
   "id": "28117e3a",
   "metadata": {},
   "outputs": [
    {
     "name": "stdout",
     "output_type": "stream",
     "text": [
      "Regressing out demographic variables from brain regions...\n",
      "Regressing out demographic variables from target variable...\n",
      "Fold 01 • n_comp=03 • MAE=2.079 • RMSE=2.535 • R²=0.008\n",
      "Fold 02 • n_comp=03 • MAE=2.107 • RMSE=2.556 • R²=-0.002\n",
      "Fold 03 • n_comp=03 • MAE=2.096 • RMSE=2.582 • R²=0.003\n",
      "Fold 04 • n_comp=03 • MAE=2.065 • RMSE=2.532 • R²=0.004\n",
      "Fold 05 • n_comp=03 • MAE=2.042 • RMSE=2.475 • R²=-0.005\n",
      "Fold 06 • n_comp=03 • MAE=2.106 • RMSE=2.564 • R²=0.004\n",
      "Fold 07 • n_comp=03 • MAE=2.086 • RMSE=2.537 • R²=0.005\n",
      "Fold 08 • n_comp=03 • MAE=2.070 • RMSE=2.537 • R²=-0.002\n",
      "Fold 09 • n_comp=03 • MAE=2.085 • RMSE=2.554 • R²=0.002\n",
      "Fold 10 • n_comp=03 • MAE=2.073 • RMSE=2.539 • R²=0.002\n",
      "\n",
      "=== 10-fold CV summary ===\n",
      "n_components (mean ± std): 3.0 ± 0.0\n",
      "MAE :  2.081 ± 0.019\n",
      "RMSE:  2.541 ± 0.027\n",
      "R²  :  0.002 ± 0.004\n"
     ]
    }
   ],
   "source": [
    "# Run PLS analysis with covariate regression\n",
    "results = pls_covariate_regression(\n",
    "    X, y, brain_regions_renamed, X_covariates_renamed, y_covariates_renamed, \n",
    "    categorical_cols=categorical_variables, n_splits=10\n",
    ")"
   ]
  },
  {
   "cell_type": "markdown",
   "id": "bcead64a",
   "metadata": {},
   "source": [
    "### PAL vs. FC"
   ]
  },
  {
   "cell_type": "code",
   "execution_count": 12,
   "id": "7d5d7df8",
   "metadata": {},
   "outputs": [
    {
     "name": "stdout",
     "output_type": "stream",
     "text": [
      "Original shapes - X: (24492, 214), y: (24492,)\n"
     ]
    }
   ],
   "source": [
    "# Set X and y\n",
    "with open('/Users/baileyng/MIND_models/region_names/FC_regions.txt', 'r') as f:\n",
    "    brain_regions = [line.strip() for line in f.readlines()]\n",
    "\n",
    "# Define different covariates for X and y\n",
    "X_covariates = ['31-0.0', '21003-2.0', '54-2.0', '25741-2.0']  \n",
    "y_covariates = ['31-0.0', '21003-2.0', '54-2.0']  \n",
    "\n",
    "# Combine all variables\n",
    "all_vars = list(set(X_covariates + y_covariates + brain_regions))\n",
    "\n",
    "X = df[all_vars]\n",
    "y = df['20197-2.0']\n",
    "\n",
    "print(f\"Original shapes - X: {X.shape}, y: {y.shape}\")\n",
    "\n",
    "# rename columns\n",
    "X = X.rename(columns=rename_dict)\n",
    "\n",
    "# Update variable names after renaming\n",
    "X_covariates_renamed = [rename_dict.get(var, var) for var in X_covariates]\n",
    "y_covariates_renamed = [rename_dict.get(var, var) for var in y_covariates]\n",
    "brain_regions_renamed = [rename_dict.get(var, var) for var in brain_regions]\n",
    "\n",
    "# Specify which variables are categorical\n",
    "categorical_variables = ['sex', 'assessment_centre']  # Use renamed column names"
   ]
  },
  {
   "cell_type": "code",
   "execution_count": 13,
   "id": "fef2d06a",
   "metadata": {},
   "outputs": [
    {
     "name": "stdout",
     "output_type": "stream",
     "text": [
      "Regressing out demographic variables from brain regions...\n",
      "Regressing out demographic variables from target variable...\n",
      "Fold 01 • n_comp=03 • MAE=2.044 • RMSE=2.511 • R²=0.027\n",
      "Fold 02 • n_comp=03 • MAE=2.053 • RMSE=2.503 • R²=0.040\n",
      "Fold 03 • n_comp=04 • MAE=2.071 • RMSE=2.558 • R²=0.022\n",
      "Fold 04 • n_comp=04 • MAE=2.050 • RMSE=2.510 • R²=0.020\n",
      "Fold 05 • n_comp=03 • MAE=1.996 • RMSE=2.419 • R²=0.040\n",
      "Fold 06 • n_comp=03 • MAE=2.064 • RMSE=2.531 • R²=0.029\n",
      "Fold 07 • n_comp=03 • MAE=2.049 • RMSE=2.503 • R²=0.032\n",
      "Fold 08 • n_comp=03 • MAE=2.048 • RMSE=2.512 • R²=0.018\n",
      "Fold 09 • n_comp=04 • MAE=2.045 • RMSE=2.520 • R²=0.029\n",
      "Fold 10 • n_comp=03 • MAE=2.032 • RMSE=2.501 • R²=0.032\n",
      "\n",
      "=== 10-fold CV summary ===\n",
      "n_components (mean ± std): 3.3 ± 0.5\n",
      "MAE :  2.045 ± 0.019\n",
      "RMSE:  2.507 ± 0.033\n",
      "R²  :  0.029 ± 0.007\n"
     ]
    }
   ],
   "source": [
    "# Run PLS analysis with covariate regression\n",
    "results = pls_covariate_regression(\n",
    "    X, y, brain_regions_renamed, X_covariates_renamed, y_covariates_renamed, \n",
    "    categorical_cols=categorical_variables, n_splits=10\n",
    ")"
   ]
  },
  {
   "cell_type": "markdown",
   "id": "4868b25c",
   "metadata": {},
   "source": [
    "# DSST"
   ]
  },
  {
   "cell_type": "code",
   "execution_count": 7,
   "id": "713e92f9",
   "metadata": {},
   "outputs": [
    {
     "data": {
      "image/png": "[encoded data removed]",
      "text/plain": [
       "<Figure size 640x480 with 1 Axes>"
      ]
     },
     "metadata": {},
     "output_type": "display_data"
    },
    {
     "name": "stdout",
     "output_type": "stream",
     "text": [
      "24275\n",
      "(24275, 2628)\n"
     ]
    }
   ],
   "source": [
    "# Load the dataset\n",
    "df = pd.read_csv('/Users/baileyng/MIND_data/ukb_cog/ukb_master_DSST_no_outliers.csv', index_col=0)\n",
    "\n",
    "# Histogram of DSST Scores\n",
    "sns.histplot(df['23324-2.0'])\n",
    "plt.title('Distribution of DSST Scores')\n",
    "plt.xlabel('DSST Score')\n",
    "plt.ylabel('Frequency')\n",
    "plt.show()\n",
    "\n",
    "print(len(df))\n",
    "print(df.shape)"
   ]
  },
  {
   "cell_type": "markdown",
   "id": "f70a7882",
   "metadata": {},
   "source": [
    "### DSST vs. MIND (avg)"
   ]
  },
  {
   "cell_type": "code",
   "execution_count": 15,
   "id": "38980aab",
   "metadata": {},
   "outputs": [
    {
     "name": "stdout",
     "output_type": "stream",
     "text": [
      "Original shapes - X: (24275, 71), y: (24275,)\n"
     ]
    }
   ],
   "source": [
    "# Set X and y\n",
    "with open('/Users/baileyng/MIND_models/region_names/MIND_avg_regions.txt', 'r') as f:\n",
    "    brain_regions = [line.strip() for line in f.readlines()]\n",
    "\n",
    "# Define different covariates for X and y\n",
    "X_covariates = ['31-0.0', '21003-2.0', '54-2.0']  \n",
    "y_covariates = ['31-0.0', '21003-2.0', '54-2.0']  \n",
    "\n",
    "# Combine all variables\n",
    "all_vars = list(set(X_covariates + y_covariates + brain_regions))\n",
    "\n",
    "X = df[all_vars]\n",
    "y = df['23324-2.0']\n",
    "\n",
    "print(f\"Original shapes - X: {X.shape}, y: {y.shape}\")\n",
    "\n",
    "# rename columns\n",
    "X = X.rename(columns=rename_dict)\n",
    "\n",
    "# Update variable names after renaming\n",
    "X_covariates_renamed = [rename_dict.get(var, var) for var in X_covariates]\n",
    "y_covariates_renamed = [rename_dict.get(var, var) for var in y_covariates]\n",
    "brain_regions_renamed = [rename_dict.get(var, var) for var in brain_regions]\n",
    "\n",
    "# Specify which variables are categorical\n",
    "categorical_variables = ['sex', 'assessment_centre']  # Use renamed column names"
   ]
  },
  {
   "cell_type": "code",
   "execution_count": 16,
   "id": "5da3df63",
   "metadata": {},
   "outputs": [
    {
     "name": "stdout",
     "output_type": "stream",
     "text": [
      "Regressing out demographic variables from brain regions...\n",
      "Regressing out demographic variables from target variable...\n",
      "Fold 01 • n_comp=02 • MAE=3.711 • RMSE=4.718 • R²=0.006\n",
      "Fold 02 • n_comp=02 • MAE=3.797 • RMSE=4.840 • R²=0.004\n",
      "Fold 03 • n_comp=02 • MAE=3.719 • RMSE=4.707 • R²=0.003\n",
      "Fold 04 • n_comp=02 • MAE=3.660 • RMSE=4.612 • R²=0.008\n",
      "Fold 05 • n_comp=02 • MAE=3.774 • RMSE=4.811 • R²=0.016\n",
      "Fold 06 • n_comp=02 • MAE=3.702 • RMSE=4.741 • R²=0.003\n",
      "Fold 07 • n_comp=02 • MAE=3.739 • RMSE=4.755 • R²=0.012\n",
      "Fold 08 • n_comp=02 • MAE=3.715 • RMSE=4.740 • R²=0.014\n",
      "Fold 09 • n_comp=02 • MAE=3.639 • RMSE=4.632 • R²=0.012\n",
      "Fold 10 • n_comp=02 • MAE=3.640 • RMSE=4.594 • R²=0.012\n",
      "\n",
      "=== 10-fold CV summary ===\n",
      "n_components (mean ± std): 2.0 ± 0.0\n",
      "MAE :  3.710 ± 0.050\n",
      "RMSE:  4.715 ± 0.077\n",
      "R²  :  0.009 ± 0.004\n"
     ]
    }
   ],
   "source": [
    "# Run PLS analysis with covariate regression\n",
    "results = pls_covariate_regression(\n",
    "    X, y, brain_regions_renamed, X_covariates_renamed, y_covariates_renamed, \n",
    "    categorical_cols=categorical_variables, n_splits=10\n",
    ")"
   ]
  },
  {
   "cell_type": "markdown",
   "id": "056523a7",
   "metadata": {},
   "source": [
    "### DSST vs. MIND"
   ]
  },
  {
   "cell_type": "code",
   "execution_count": 8,
   "id": "d11f0f43",
   "metadata": {},
   "outputs": [
    {
     "name": "stdout",
     "output_type": "stream",
     "text": [
      "Original shapes - X: (24275, 2281), y: (24275,)\n"
     ]
    }
   ],
   "source": [
    "# Set X and y\n",
    "with open('/Users/baileyng/MIND_models/region_names/MIND_regions.txt', 'r') as f:\n",
    "    brain_regions = [line.strip() for line in f.readlines()]\n",
    "\n",
    "# Define different covariates for X and y\n",
    "X_covariates = ['31-0.0', '21003-2.0', '54-2.0']  \n",
    "y_covariates = ['31-0.0', '21003-2.0', '54-2.0']  \n",
    "\n",
    "# Combine all variables\n",
    "all_vars = list(set(X_covariates + y_covariates + brain_regions))\n",
    "\n",
    "X = df[all_vars]\n",
    "y = df['23324-2.0']\n",
    "\n",
    "print(f\"Original shapes - X: {X.shape}, y: {y.shape}\")\n",
    "\n",
    "# rename columns\n",
    "X = X.rename(columns=rename_dict)\n",
    "\n",
    "# Update variable names after renaming\n",
    "X_covariates_renamed = [rename_dict.get(var, var) for var in X_covariates]\n",
    "y_covariates_renamed = [rename_dict.get(var, var) for var in y_covariates]\n",
    "brain_regions_renamed = [rename_dict.get(var, var) for var in brain_regions]\n",
    "\n",
    "# Specify which variables are categorical\n",
    "categorical_variables = ['sex', 'assessment_centre']  # Use renamed column names"
   ]
  },
  {
   "cell_type": "code",
   "execution_count": 9,
   "id": "8c1f7a70",
   "metadata": {},
   "outputs": [
    {
     "name": "stdout",
     "output_type": "stream",
     "text": [
      "Regressing out demographic variables from brain regions...\n",
      "Regressing out demographic variables from target variable...\n",
      "Fold 01 • n_comp=02 • MAE=3.683 • RMSE=4.683 • R²=0.020\n",
      "Fold 02 • n_comp=02 • MAE=3.785 • RMSE=4.813 • R²=0.015\n",
      "Fold 03 • n_comp=02 • MAE=3.702 • RMSE=4.685 • R²=0.012\n",
      "Fold 04 • n_comp=02 • MAE=3.657 • RMSE=4.605 • R²=0.011\n",
      "Fold 05 • n_comp=02 • MAE=3.779 • RMSE=4.803 • R²=0.019\n",
      "Fold 06 • n_comp=02 • MAE=3.693 • RMSE=4.725 • R²=0.010\n",
      "Fold 07 • n_comp=02 • MAE=3.744 • RMSE=4.750 • R²=0.014\n",
      "Fold 08 • n_comp=02 • MAE=3.704 • RMSE=4.731 • R²=0.018\n",
      "Fold 09 • n_comp=02 • MAE=3.620 • RMSE=4.623 • R²=0.016\n",
      "Fold 10 • n_comp=02 • MAE=3.646 • RMSE=4.584 • R²=0.016\n",
      "\n",
      "=== 10-fold CV summary ===\n",
      "n_components (mean ± std): 2.0 ± 0.0\n",
      "MAE :  3.701 ± 0.052\n",
      "RMSE:  4.700 ± 0.075\n",
      "R²  :  0.015 ± 0.003\n",
      "PLS weights saved to: /Users/baileyng/MIND_models/models_plsregression/PLS_weights_reg/PLS_weights_MIND_DSST.csv\n",
      "Final model parameters: n_components=2\n"
     ]
    }
   ],
   "source": [
    "# Run PLS analysis with covariate regression\n",
    "results = pls_covariate_regression(\n",
    "    X, y, brain_regions_renamed, X_covariates_renamed, y_covariates_renamed, \n",
    "    categorical_cols=categorical_variables, n_splits=10,\n",
    "    weights_dir='/Users/baileyng/MIND_models/models_plsregression/PLS_weights_reg',\n",
    "    data_name='MIND',\n",
    "    target_name='DSST'\n",
    ")"
   ]
  },
  {
   "cell_type": "markdown",
   "id": "7d11b06c",
   "metadata": {},
   "source": [
    "### DSST vs. CT"
   ]
  },
  {
   "cell_type": "code",
   "execution_count": 19,
   "id": "4459d1c2",
   "metadata": {},
   "outputs": [
    {
     "name": "stdout",
     "output_type": "stream",
     "text": [
      "Original shapes - X: (24275, 65), y: (24275,)\n"
     ]
    }
   ],
   "source": [
    "# Set X and y\n",
    "with open('/Users/baileyng/MIND_models/region_names/CT_regions.txt', 'r') as f:\n",
    "    brain_regions = [line.strip() for line in f.readlines()]\n",
    "\n",
    "# Define different covariates for X and y\n",
    "X_covariates = ['31-0.0', '21003-2.0', '54-2.0']  \n",
    "y_covariates = ['31-0.0', '21003-2.0', '54-2.0']  \n",
    "\n",
    "# Combine all variables\n",
    "all_vars = list(set(X_covariates + y_covariates + brain_regions))\n",
    "\n",
    "X = df[all_vars]\n",
    "y = df['23324-2.0']\n",
    "\n",
    "print(f\"Original shapes - X: {X.shape}, y: {y.shape}\")\n",
    "\n",
    "# rename columns\n",
    "X = X.rename(columns=rename_dict)\n",
    "\n",
    "# Update variable names after renaming\n",
    "X_covariates_renamed = [rename_dict.get(var, var) for var in X_covariates]\n",
    "y_covariates_renamed = [rename_dict.get(var, var) for var in y_covariates]\n",
    "brain_regions_renamed = [rename_dict.get(var, var) for var in brain_regions]\n",
    "\n",
    "# Specify which variables are categorical\n",
    "categorical_variables = ['sex', 'assessment_centre']  # Use renamed column names"
   ]
  },
  {
   "cell_type": "code",
   "execution_count": 20,
   "id": "392b4ff5",
   "metadata": {},
   "outputs": [
    {
     "name": "stdout",
     "output_type": "stream",
     "text": [
      "Regressing out demographic variables from brain regions...\n",
      "Regressing out demographic variables from target variable...\n",
      "Fold 01 • n_comp=03 • MAE=3.710 • RMSE=4.714 • R²=0.007\n",
      "Fold 02 • n_comp=04 • MAE=3.802 • RMSE=4.838 • R²=0.005\n",
      "Fold 03 • n_comp=03 • MAE=3.718 • RMSE=4.718 • R²=-0.002\n",
      "Fold 04 • n_comp=03 • MAE=3.657 • RMSE=4.608 • R²=0.010\n",
      "Fold 05 • n_comp=04 • MAE=3.797 • RMSE=4.837 • R²=0.005\n",
      "Fold 06 • n_comp=03 • MAE=3.701 • RMSE=4.732 • R²=0.007\n",
      "Fold 07 • n_comp=04 • MAE=3.745 • RMSE=4.775 • R²=0.003\n",
      "Fold 08 • n_comp=03 • MAE=3.724 • RMSE=4.752 • R²=0.009\n",
      "Fold 09 • n_comp=03 • MAE=3.642 • RMSE=4.642 • R²=0.008\n",
      "Fold 10 • n_comp=03 • MAE=3.648 • RMSE=4.610 • R²=0.005\n",
      "\n",
      "=== 10-fold CV summary ===\n",
      "n_components (mean ± std): 3.3 ± 0.5\n",
      "MAE :  3.714 ± 0.053\n",
      "RMSE:  4.723 ± 0.079\n",
      "R²  :  0.006 ± 0.003\n"
     ]
    }
   ],
   "source": [
    "# Run PLS analysis with covariate regression\n",
    "results = pls_covariate_regression(\n",
    "    X, y, brain_regions_renamed, X_covariates_renamed, y_covariates_renamed, \n",
    "    categorical_cols=categorical_variables, n_splits=10\n",
    ")"
   ]
  },
  {
   "cell_type": "markdown",
   "id": "dbf2e998",
   "metadata": {},
   "source": [
    "### DSST vs. FC"
   ]
  },
  {
   "cell_type": "code",
   "execution_count": 21,
   "id": "6889a8a9",
   "metadata": {},
   "outputs": [
    {
     "name": "stdout",
     "output_type": "stream",
     "text": [
      "Original shapes - X: (24275, 214), y: (24275,)\n"
     ]
    }
   ],
   "source": [
    "# Set X and y\n",
    "with open('/Users/baileyng/MIND_models/region_names/FC_regions.txt', 'r') as f:\n",
    "    brain_regions = [line.strip() for line in f.readlines()]\n",
    "\n",
    "# Define different covariates for X and y\n",
    "X_covariates = ['31-0.0', '21003-2.0', '54-2.0', '25741-2.0']  \n",
    "y_covariates = ['31-0.0', '21003-2.0', '54-2.0']  \n",
    "\n",
    "# Combine all variables\n",
    "all_vars = list(set(X_covariates + y_covariates + brain_regions))\n",
    "\n",
    "X = df[all_vars]\n",
    "y = df['23324-2.0']\n",
    "\n",
    "print(f\"Original shapes - X: {X.shape}, y: {y.shape}\")\n",
    "\n",
    "# rename columns\n",
    "X = X.rename(columns=rename_dict)\n",
    "\n",
    "# Update variable names after renaming\n",
    "X_covariates_renamed = [rename_dict.get(var, var) for var in X_covariates]\n",
    "y_covariates_renamed = [rename_dict.get(var, var) for var in y_covariates]\n",
    "brain_regions_renamed = [rename_dict.get(var, var) for var in brain_regions]\n",
    "\n",
    "# Specify which variables are categorical\n",
    "categorical_variables = ['sex', 'assessment_centre']  # Use renamed column names"
   ]
  },
  {
   "cell_type": "code",
   "execution_count": 22,
   "id": "ef259cd7",
   "metadata": {},
   "outputs": [
    {
     "name": "stdout",
     "output_type": "stream",
     "text": [
      "Regressing out demographic variables from brain regions...\n",
      "Regressing out demographic variables from target variable...\n",
      "Fold 01 • n_comp=03 • MAE=3.683 • RMSE=4.690 • R²=0.017\n",
      "Fold 02 • n_comp=03 • MAE=3.788 • RMSE=4.829 • R²=0.009\n",
      "Fold 03 • n_comp=03 • MAE=3.723 • RMSE=4.700 • R²=0.006\n",
      "Fold 04 • n_comp=03 • MAE=3.638 • RMSE=4.608 • R²=0.010\n",
      "Fold 05 • n_comp=03 • MAE=3.788 • RMSE=4.822 • R²=0.011\n",
      "Fold 06 • n_comp=03 • MAE=3.688 • RMSE=4.719 • R²=0.012\n",
      "Fold 07 • n_comp=03 • MAE=3.725 • RMSE=4.745 • R²=0.016\n",
      "Fold 08 • n_comp=02 • MAE=3.700 • RMSE=4.747 • R²=0.011\n",
      "Fold 09 • n_comp=03 • MAE=3.636 • RMSE=4.622 • R²=0.016\n",
      "Fold 10 • n_comp=03 • MAE=3.610 • RMSE=4.566 • R²=0.024\n",
      "\n",
      "=== 10-fold CV summary ===\n",
      "n_components (mean ± std): 2.9 ± 0.3\n",
      "MAE :  3.698 ± 0.058\n",
      "RMSE:  4.705 ± 0.083\n",
      "R²  :  0.013 ± 0.005\n"
     ]
    }
   ],
   "source": [
    "# Run PLS analysis with covariate regression\n",
    "results = pls_covariate_regression(\n",
    "    X, y, brain_regions_renamed, X_covariates_renamed, y_covariates_renamed, \n",
    "    categorical_cols=categorical_variables, n_splits=10\n",
    ")"
   ]
  },
  {
   "cell_type": "markdown",
   "id": "c3a2ac4c",
   "metadata": {},
   "source": [
    "# TMT"
   ]
  },
  {
   "cell_type": "code",
   "execution_count": 11,
   "id": "368dd9b6",
   "metadata": {},
   "outputs": [
    {
     "data": {
      "image/png": "[encoded data removed]",
      "text/plain": [
       "<Figure size 640x480 with 1 Axes>"
      ]
     },
     "metadata": {},
     "output_type": "display_data"
    },
    {
     "name": "stdout",
     "output_type": "stream",
     "text": [
      "23362\n",
      "(23362, 2628)\n"
     ]
    }
   ],
   "source": [
    "# Load the dataset\n",
    "df = pd.read_csv('/Users/baileyng/MIND_data/ukb_cog/ukb_master_TMT_no_outliers.csv', index_col=0)\n",
    "\n",
    "# Histogram of TMT Scores\n",
    "sns.histplot(df['trailmaking_score'])\n",
    "plt.title('Distribution of TMT Scores')\n",
    "plt.xlabel('TMT Score')\n",
    "plt.ylabel('Frequency')\n",
    "plt.show()\n",
    "\n",
    "print(len(df))\n",
    "print(df.shape)"
   ]
  },
  {
   "cell_type": "markdown",
   "id": "e46ef9ce",
   "metadata": {},
   "source": [
    "### TMT vs. MIND (avg)"
   ]
  },
  {
   "cell_type": "code",
   "execution_count": 24,
   "id": "f6450757",
   "metadata": {},
   "outputs": [
    {
     "name": "stdout",
     "output_type": "stream",
     "text": [
      "Original shapes - X: (23362, 71), y: (23362,)\n"
     ]
    }
   ],
   "source": [
    "# Set X and y\n",
    "with open('/Users/baileyng/MIND_models/region_names/MIND_avg_regions.txt', 'r') as f:\n",
    "    brain_regions = [line.strip() for line in f.readlines()]\n",
    "\n",
    "# Define different covariates for X and y\n",
    "X_covariates = ['31-0.0', '21003-2.0', '54-2.0']  \n",
    "y_covariates = ['31-0.0', '21003-2.0', '54-2.0']  \n",
    "\n",
    "# Combine all variables\n",
    "all_vars = list(set(X_covariates + y_covariates + brain_regions))\n",
    "\n",
    "X = df[all_vars]\n",
    "y = df['trailmaking_score']\n",
    "\n",
    "print(f\"Original shapes - X: {X.shape}, y: {y.shape}\")\n",
    "\n",
    "# rename columns\n",
    "X = X.rename(columns=rename_dict)\n",
    "\n",
    "# Update variable names after renaming\n",
    "X_covariates_renamed = [rename_dict.get(var, var) for var in X_covariates]\n",
    "y_covariates_renamed = [rename_dict.get(var, var) for var in y_covariates]\n",
    "brain_regions_renamed = [rename_dict.get(var, var) for var in brain_regions]\n",
    "\n",
    "# Specify which variables are categorical\n",
    "categorical_variables = ['sex', 'assessment_centre']  # Use renamed column names"
   ]
  },
  {
   "cell_type": "code",
   "execution_count": 25,
   "id": "74c68bac",
   "metadata": {},
   "outputs": [
    {
     "name": "stdout",
     "output_type": "stream",
     "text": [
      "Regressing out demographic variables from brain regions...\n",
      "Regressing out demographic variables from target variable...\n",
      "Fold 01 • n_comp=02 • MAE=152.073 • RMSE=204.460 • R²=-0.003\n",
      "Fold 02 • n_comp=02 • MAE=142.844 • RMSE=190.931 • R²=0.003\n",
      "Fold 03 • n_comp=02 • MAE=144.833 • RMSE=197.275 • R²=0.009\n",
      "Fold 04 • n_comp=02 • MAE=142.673 • RMSE=197.198 • R²=0.010\n",
      "Fold 05 • n_comp=02 • MAE=140.726 • RMSE=190.657 • R²=0.011\n",
      "Fold 06 • n_comp=02 • MAE=144.212 • RMSE=200.979 • R²=0.014\n",
      "Fold 07 • n_comp=02 • MAE=144.080 • RMSE=195.184 • R²=0.013\n",
      "Fold 08 • n_comp=02 • MAE=146.350 • RMSE=203.773 • R²=0.012\n",
      "Fold 09 • n_comp=02 • MAE=147.324 • RMSE=203.319 • R²=0.003\n",
      "Fold 10 • n_comp=02 • MAE=147.096 • RMSE=202.215 • R²=0.020\n",
      "\n",
      "=== 10-fold CV summary ===\n",
      "n_components (mean ± std): 2.0 ± 0.0\n",
      "MAE :  145.221 ± 3.016\n",
      "RMSE:  198.599 ± 4.893\n",
      "R²  :  0.009 ± 0.006\n"
     ]
    }
   ],
   "source": [
    "# Run PLS analysis with covariate regression\n",
    "results = pls_covariate_regression(\n",
    "    X, y, brain_regions_renamed, X_covariates_renamed, y_covariates_renamed, \n",
    "    categorical_cols=categorical_variables, n_splits=10\n",
    ")"
   ]
  },
  {
   "cell_type": "markdown",
   "id": "a00ea2d3",
   "metadata": {},
   "source": [
    "### TMT vs. MIND"
   ]
  },
  {
   "cell_type": "code",
   "execution_count": 13,
   "id": "3e8db06c",
   "metadata": {},
   "outputs": [
    {
     "name": "stdout",
     "output_type": "stream",
     "text": [
      "Original shapes - X: (23362, 2281), y: (23362,)\n"
     ]
    }
   ],
   "source": [
    "# Set X and y\n",
    "with open('/Users/baileyng/MIND_models/region_names/MIND_regions.txt', 'r') as f:\n",
    "    brain_regions = [line.strip() for line in f.readlines()]\n",
    "\n",
    "# Define different covariates for X and y\n",
    "X_covariates = ['31-0.0', '21003-2.0', '54-2.0']  \n",
    "y_covariates = ['31-0.0', '21003-2.0', '54-2.0']  \n",
    "\n",
    "# Combine all variables\n",
    "all_vars = list(set(X_covariates + y_covariates + brain_regions))\n",
    "\n",
    "X = df[all_vars]\n",
    "y = df['trailmaking_score']\n",
    "\n",
    "print(f\"Original shapes - X: {X.shape}, y: {y.shape}\")\n",
    "\n",
    "# rename columns\n",
    "X = X.rename(columns=rename_dict)\n",
    "\n",
    "# Update variable names after renaming\n",
    "X_covariates_renamed = [rename_dict.get(var, var) for var in X_covariates]\n",
    "y_covariates_renamed = [rename_dict.get(var, var) for var in y_covariates]\n",
    "brain_regions_renamed = [rename_dict.get(var, var) for var in brain_regions]\n",
    "\n",
    "# Specify which variables are categorical\n",
    "categorical_variables = ['sex', 'assessment_centre']  # Use renamed column names"
   ]
  },
  {
   "cell_type": "code",
   "execution_count": 14,
   "id": "52c926af",
   "metadata": {},
   "outputs": [
    {
     "name": "stdout",
     "output_type": "stream",
     "text": [
      "Regressing out demographic variables from brain regions...\n",
      "Regressing out demographic variables from target variable...\n",
      "Fold 01 • n_comp=03 • MAE=152.253 • RMSE=204.336 • R²=-0.001\n",
      "Fold 02 • n_comp=02 • MAE=142.563 • RMSE=190.484 • R²=0.007\n",
      "Fold 03 • n_comp=02 • MAE=144.577 • RMSE=196.835 • R²=0.013\n",
      "Fold 04 • n_comp=03 • MAE=141.573 • RMSE=195.956 • R²=0.022\n",
      "Fold 05 • n_comp=02 • MAE=140.252 • RMSE=189.945 • R²=0.018\n",
      "Fold 06 • n_comp=02 • MAE=143.520 • RMSE=200.529 • R²=0.018\n",
      "Fold 07 • n_comp=02 • MAE=143.546 • RMSE=194.620 • R²=0.019\n",
      "Fold 08 • n_comp=02 • MAE=145.931 • RMSE=203.372 • R²=0.016\n",
      "Fold 09 • n_comp=02 • MAE=147.260 • RMSE=203.224 • R²=0.004\n",
      "Fold 10 • n_comp=02 • MAE=146.330 • RMSE=201.127 • R²=0.031\n",
      "\n",
      "=== 10-fold CV summary ===\n",
      "n_components (mean ± std): 2.2 ± 0.4\n",
      "MAE :  144.780 ± 3.234\n",
      "RMSE:  198.043 ± 5.008\n",
      "R²  :  0.015 ± 0.009\n",
      "PLS weights saved to: /Users/baileyng/MIND_models/models_plsregression/PLS_weights_reg/PLS_weights_MIND_TMT.csv\n",
      "Final model parameters: n_components=2\n"
     ]
    }
   ],
   "source": [
    "# Run PLS analysis with covariate regression\n",
    "results = pls_covariate_regression(\n",
    "    X, y, brain_regions_renamed, X_covariates_renamed, y_covariates_renamed, \n",
    "    categorical_cols=categorical_variables, n_splits=10,\n",
    "    weights_dir='/Users/baileyng/MIND_models/models_plsregression/PLS_weights_reg',\n",
    "    data_name='MIND',\n",
    "    target_name='TMT'\n",
    ")"
   ]
  },
  {
   "cell_type": "markdown",
   "id": "19b8b2aa",
   "metadata": {},
   "source": [
    "### TMT vs. CT"
   ]
  },
  {
   "cell_type": "code",
   "execution_count": 28,
   "id": "c9403aa6",
   "metadata": {},
   "outputs": [
    {
     "name": "stdout",
     "output_type": "stream",
     "text": [
      "Original shapes - X: (23362, 65), y: (23362,)\n"
     ]
    }
   ],
   "source": [
    "# Set X and y\n",
    "with open('/Users/baileyng/MIND_models/region_names/CT_regions.txt', 'r') as f:\n",
    "    brain_regions = [line.strip() for line in f.readlines()]\n",
    "\n",
    "# Define different covariates for X and y\n",
    "X_covariates = ['31-0.0', '21003-2.0', '54-2.0']  \n",
    "y_covariates = ['31-0.0', '21003-2.0', '54-2.0']  \n",
    "\n",
    "# Combine all variables\n",
    "all_vars = list(set(X_covariates + y_covariates + brain_regions))\n",
    "\n",
    "X = df[all_vars]\n",
    "y = df['trailmaking_score']\n",
    "\n",
    "print(f\"Original shapes - X: {X.shape}, y: {y.shape}\")\n",
    "\n",
    "# rename columns\n",
    "X = X.rename(columns=rename_dict)\n",
    "\n",
    "# Update variable names after renaming\n",
    "X_covariates_renamed = [rename_dict.get(var, var) for var in X_covariates]\n",
    "y_covariates_renamed = [rename_dict.get(var, var) for var in y_covariates]\n",
    "brain_regions_renamed = [rename_dict.get(var, var) for var in brain_regions]\n",
    "\n",
    "# Specify which variables are categorical\n",
    "categorical_variables = ['sex', 'assessment_centre']  # Use renamed column names"
   ]
  },
  {
   "cell_type": "code",
   "execution_count": 29,
   "id": "91ea4bfd",
   "metadata": {},
   "outputs": [
    {
     "name": "stdout",
     "output_type": "stream",
     "text": [
      "Regressing out demographic variables from brain regions...\n",
      "Regressing out demographic variables from target variable...\n",
      "Fold 01 • n_comp=04 • MAE=152.199 • RMSE=204.327 • R²=-0.001\n",
      "Fold 02 • n_comp=03 • MAE=142.802 • RMSE=190.923 • R²=0.003\n",
      "Fold 03 • n_comp=03 • MAE=145.459 • RMSE=197.801 • R²=0.003\n",
      "Fold 04 • n_comp=04 • MAE=141.739 • RMSE=197.460 • R²=0.007\n",
      "Fold 05 • n_comp=03 • MAE=141.346 • RMSE=191.242 • R²=0.005\n",
      "Fold 06 • n_comp=03 • MAE=145.006 • RMSE=201.427 • R²=0.009\n",
      "Fold 07 • n_comp=03 • MAE=144.993 • RMSE=195.753 • R²=0.008\n",
      "Fold 08 • n_comp=04 • MAE=147.480 • RMSE=204.838 • R²=0.002\n",
      "Fold 09 • n_comp=04 • MAE=147.887 • RMSE=203.773 • R²=-0.001\n",
      "Fold 10 • n_comp=03 • MAE=148.247 • RMSE=202.949 • R²=0.013\n",
      "\n",
      "=== 10-fold CV summary ===\n",
      "n_components (mean ± std): 3.4 ± 0.5\n",
      "MAE :  145.716 ± 3.174\n",
      "RMSE:  199.049 ± 4.965\n",
      "R²  :  0.005 ± 0.004\n"
     ]
    }
   ],
   "source": [
    "# Run PLS analysis with covariate regression\n",
    "results = pls_covariate_regression(\n",
    "    X, y, brain_regions_renamed, X_covariates_renamed, y_covariates_renamed, \n",
    "    categorical_cols=categorical_variables, n_splits=10\n",
    ")"
   ]
  },
  {
   "cell_type": "markdown",
   "id": "33c4af2a",
   "metadata": {},
   "source": [
    "### TMT vs. FC"
   ]
  },
  {
   "cell_type": "code",
   "execution_count": 30,
   "id": "a619610c",
   "metadata": {},
   "outputs": [
    {
     "name": "stdout",
     "output_type": "stream",
     "text": [
      "Original shapes - X: (23362, 214), y: (23362,)\n"
     ]
    }
   ],
   "source": [
    "# Set X and y\n",
    "with open('/Users/baileyng/MIND_models/region_names/FC_regions.txt', 'r') as f:\n",
    "    brain_regions = [line.strip() for line in f.readlines()]\n",
    "\n",
    "# Define different covariates for X and y\n",
    "X_covariates = ['31-0.0', '21003-2.0', '54-2.0', '25741-2.0']  \n",
    "y_covariates = ['31-0.0', '21003-2.0', '54-2.0']  \n",
    "\n",
    "# Combine all variables\n",
    "all_vars = list(set(X_covariates + y_covariates + brain_regions))\n",
    "\n",
    "X = df[all_vars]\n",
    "y = df['trailmaking_score']\n",
    "\n",
    "print(f\"Original shapes - X: {X.shape}, y: {y.shape}\")\n",
    "\n",
    "# rename columns\n",
    "X = X.rename(columns=rename_dict)\n",
    "\n",
    "# Update variable names after renaming\n",
    "X_covariates_renamed = [rename_dict.get(var, var) for var in X_covariates]\n",
    "y_covariates_renamed = [rename_dict.get(var, var) for var in y_covariates]\n",
    "brain_regions_renamed = [rename_dict.get(var, var) for var in brain_regions]\n",
    "\n",
    "# Specify which variables are categorical\n",
    "categorical_variables = ['sex', 'assessment_centre']  # Use renamed column names"
   ]
  },
  {
   "cell_type": "code",
   "execution_count": 31,
   "id": "fa104d03",
   "metadata": {},
   "outputs": [
    {
     "name": "stdout",
     "output_type": "stream",
     "text": [
      "Regressing out demographic variables from brain regions...\n",
      "Regressing out demographic variables from target variable...\n",
      "Fold 01 • n_comp=03 • MAE=150.784 • RMSE=201.838 • R²=0.023\n",
      "Fold 02 • n_comp=03 • MAE=142.130 • RMSE=190.022 • R²=0.012\n",
      "Fold 03 • n_comp=03 • MAE=142.945 • RMSE=195.216 • R²=0.029\n",
      "Fold 04 • n_comp=03 • MAE=139.500 • RMSE=193.562 • R²=0.046\n",
      "Fold 05 • n_comp=03 • MAE=140.968 • RMSE=190.321 • R²=0.014\n",
      "Fold 06 • n_comp=03 • MAE=143.474 • RMSE=198.562 • R²=0.037\n",
      "Fold 07 • n_comp=03 • MAE=142.335 • RMSE=192.760 • R²=0.038\n",
      "Fold 08 • n_comp=03 • MAE=144.704 • RMSE=200.359 • R²=0.045\n",
      "Fold 09 • n_comp=03 • MAE=144.504 • RMSE=199.989 • R²=0.036\n",
      "Fold 10 • n_comp=03 • MAE=146.438 • RMSE=201.198 • R²=0.030\n",
      "\n",
      "=== 10-fold CV summary ===\n",
      "n_components (mean ± std): 3.0 ± 0.0\n",
      "MAE :  143.778 ± 2.989\n",
      "RMSE:  196.383 ± 4.315\n",
      "R²  :  0.031 ± 0.011\n"
     ]
    }
   ],
   "source": [
    "# Run PLS analysis with covariate regression\n",
    "results = pls_covariate_regression(\n",
    "    X, y, brain_regions_renamed, X_covariates_renamed, y_covariates_renamed, \n",
    "    categorical_cols=categorical_variables, n_splits=10\n",
    ")"
   ]
  },
  {
   "cell_type": "markdown",
   "id": "c6f8b0fc",
   "metadata": {},
   "source": [
    "# All Cognitive Data"
   ]
  },
  {
   "cell_type": "code",
   "execution_count": 32,
   "id": "810eab68",
   "metadata": {},
   "outputs": [
    {
     "name": "stdout",
     "output_type": "stream",
     "text": [
      "23188\n",
      "(23188, 2628)\n"
     ]
    }
   ],
   "source": [
    "# Load the dataset\n",
    "df = pd.read_csv('/Users/baileyng/MIND_data/ukb_master_allcols_no_outliers.csv', index_col=0)\n",
    "\n",
    "print(len(df))\n",
    "print(df.shape)"
   ]
  },
  {
   "cell_type": "markdown",
   "id": "c95c0b00",
   "metadata": {},
   "source": [
    "### All Data vs. MIND (avg)"
   ]
  },
  {
   "cell_type": "code",
   "execution_count": 33,
   "id": "944713ab",
   "metadata": {},
   "outputs": [
    {
     "name": "stdout",
     "output_type": "stream",
     "text": [
      "Original shapes - X: (23188, 72), y: (23188, 4)\n"
     ]
    }
   ],
   "source": [
    "# Set X and y\n",
    "with open('/Users/baileyng/MIND_models/region_names/MIND_avg_regions.txt', 'r') as f:\n",
    "    brain_regions = [line.strip() for line in f.readlines()]\n",
    "\n",
    "# Define different covariates for X and y\n",
    "X_covariates = ['31-0.0', '21003-2.0', '54-2.0', '25741-2.0']  \n",
    "y_covariates = ['31-0.0', '21003-2.0', '54-2.0']  \n",
    "\n",
    "# Combine all variables\n",
    "all_vars = list(set(X_covariates + y_covariates + brain_regions))\n",
    "\n",
    "X = df[all_vars]\n",
    "y = df[['20016-2.0', '20197-2.0', '23324-2.0', 'trailmaking_score']]\n",
    "\n",
    "print(f\"Original shapes - X: {X.shape}, y: {y.shape}\")\n",
    "\n",
    "# rename columns\n",
    "X = X.rename(columns=rename_dict)\n",
    "\n",
    "# Update variable names after renaming\n",
    "X_covariates_renamed = [rename_dict.get(var, var) for var in X_covariates]\n",
    "y_covariates_renamed = [rename_dict.get(var, var) for var in y_covariates]\n",
    "brain_regions_renamed = [rename_dict.get(var, var) for var in brain_regions]\n",
    "\n",
    "# Specify which variables are categorical\n",
    "categorical_variables = ['sex', 'assessment_centre']  # Use renamed column names"
   ]
  },
  {
   "cell_type": "code",
   "execution_count": 34,
   "id": "001f0fbc",
   "metadata": {},
   "outputs": [
    {
     "name": "stdout",
     "output_type": "stream",
     "text": [
      "Regressing out demographic variables from brain regions...\n",
      "Regressing out demographic variables from target variable...\n",
      "Fold 01 • n_comp=02 • MAE=38.943 • RMSE=103.234 • R²=0.007\n",
      "Fold 02 • n_comp=02 • MAE=38.933 • RMSE=99.933 • R²=0.009\n",
      "Fold 03 • n_comp=02 • MAE=38.024 • RMSE=98.100 • R²=0.002\n",
      "Fold 04 • n_comp=02 • MAE=37.313 • RMSE=97.088 • R²=0.007\n",
      "Fold 05 • n_comp=02 • MAE=37.140 • RMSE=96.199 • R²=0.011\n",
      "Fold 06 • n_comp=02 • MAE=37.361 • RMSE=98.198 • R²=0.009\n",
      "Fold 07 • n_comp=02 • MAE=38.538 • RMSE=101.210 • R²=0.006\n",
      "Fold 08 • n_comp=03 • MAE=37.222 • RMSE=96.391 • R²=0.008\n",
      "Fold 09 • n_comp=02 • MAE=38.148 • RMSE=97.938 • R²=0.005\n",
      "Fold 10 • n_comp=02 • MAE=37.113 • RMSE=97.393 • R²=0.005\n",
      "\n",
      "=== 10-fold CV summary ===\n",
      "n_components (mean ± std): 2.1 ± 0.3\n",
      "MAE :  37.874 ± 0.701\n",
      "RMSE:  98.568 ± 2.128\n",
      "R²  :  0.007 ± 0.002\n"
     ]
    }
   ],
   "source": [
    "# Run PLS analysis with covariate regression\n",
    "results = pls_covariate_regression(\n",
    "    X, y, brain_regions_renamed, X_covariates_renamed, y_covariates_renamed, \n",
    "    categorical_cols=categorical_variables, n_splits=10\n",
    ")"
   ]
  },
  {
   "cell_type": "markdown",
   "id": "1a5b5d09",
   "metadata": {},
   "source": [
    "### All Data vs. MIND"
   ]
  },
  {
   "cell_type": "code",
   "execution_count": 35,
   "id": "586d9e2d",
   "metadata": {},
   "outputs": [
    {
     "name": "stdout",
     "output_type": "stream",
     "text": [
      "Original shapes - X: (23188, 2282), y: (23188, 4)\n"
     ]
    }
   ],
   "source": [
    "# Set X and y\n",
    "with open('/Users/baileyng/MIND_models/region_names/MIND_regions.txt', 'r') as f:\n",
    "    brain_regions = [line.strip() for line in f.readlines()]\n",
    "\n",
    "# Define different covariates for X and y\n",
    "X_covariates = ['31-0.0', '21003-2.0', '54-2.0', '25741-2.0']  \n",
    "y_covariates = ['31-0.0', '21003-2.0', '54-2.0']  \n",
    "\n",
    "# Combine all variables\n",
    "all_vars = list(set(X_covariates + y_covariates + brain_regions))\n",
    "\n",
    "X = df[all_vars]\n",
    "y = df[['20016-2.0', '20197-2.0', '23324-2.0', 'trailmaking_score']]\n",
    "\n",
    "print(f\"Original shapes - X: {X.shape}, y: {y.shape}\")\n",
    "\n",
    "# rename columns\n",
    "X = X.rename(columns=rename_dict)\n",
    "\n",
    "# Update variable names after renaming\n",
    "X_covariates_renamed = [rename_dict.get(var, var) for var in X_covariates]\n",
    "y_covariates_renamed = [rename_dict.get(var, var) for var in y_covariates]\n",
    "brain_regions_renamed = [rename_dict.get(var, var) for var in brain_regions]\n",
    "\n",
    "# Specify which variables are categorical\n",
    "categorical_variables = ['sex', 'assessment_centre']  # Use renamed column names"
   ]
  },
  {
   "cell_type": "code",
   "execution_count": 36,
   "id": "db349cc9",
   "metadata": {},
   "outputs": [
    {
     "name": "stdout",
     "output_type": "stream",
     "text": [
      "Regressing out demographic variables from brain regions...\n",
      "Regressing out demographic variables from target variable...\n",
      "Fold 01 • n_comp=03 • MAE=38.843 • RMSE=102.896 • R²=0.009\n",
      "Fold 02 • n_comp=02 • MAE=38.811 • RMSE=99.770 • R²=0.012\n",
      "Fold 03 • n_comp=03 • MAE=37.868 • RMSE=97.911 • R²=0.006\n",
      "Fold 04 • n_comp=02 • MAE=37.238 • RMSE=96.877 • R²=0.010\n",
      "Fold 05 • n_comp=03 • MAE=37.093 • RMSE=96.210 • R²=0.014\n",
      "Fold 06 • n_comp=03 • MAE=37.381 • RMSE=98.223 • R²=0.010\n",
      "Fold 07 • n_comp=02 • MAE=38.466 • RMSE=101.086 • R²=0.008\n",
      "Fold 08 • n_comp=03 • MAE=37.097 • RMSE=96.036 • R²=0.012\n",
      "Fold 09 • n_comp=03 • MAE=38.061 • RMSE=97.941 • R²=0.007\n",
      "Fold 10 • n_comp=02 • MAE=37.096 • RMSE=97.253 • R²=0.008\n",
      "\n",
      "=== 10-fold CV summary ===\n",
      "n_components (mean ± std): 2.6 ± 0.5\n",
      "MAE :  37.795 ± 0.679\n",
      "RMSE:  98.420 ± 2.093\n",
      "R²  :  0.010 ± 0.002\n"
     ]
    }
   ],
   "source": [
    "# Run PLS analysis with covariate regression\n",
    "results = pls_covariate_regression(\n",
    "    X, y, brain_regions_renamed, X_covariates_renamed, y_covariates_renamed, \n",
    "    categorical_cols=categorical_variables, n_splits=10\n",
    ")"
   ]
  },
  {
   "cell_type": "markdown",
   "id": "06f5b47a",
   "metadata": {},
   "source": [
    "### All Data vs. CT"
   ]
  },
  {
   "cell_type": "code",
   "execution_count": 37,
   "id": "53c740cc",
   "metadata": {},
   "outputs": [
    {
     "name": "stdout",
     "output_type": "stream",
     "text": [
      "Original shapes - X: (23188, 66), y: (23188, 4)\n"
     ]
    }
   ],
   "source": [
    "# Set X and y\n",
    "with open('/Users/baileyng/MIND_models/region_names/CT_regions.txt', 'r') as f:\n",
    "    brain_regions = [line.strip() for line in f.readlines()]\n",
    "\n",
    "# Define different covariates for X and y\n",
    "X_covariates = ['31-0.0', '21003-2.0', '54-2.0', '25741-2.0']  \n",
    "y_covariates = ['31-0.0', '21003-2.0', '54-2.0']  \n",
    "\n",
    "# Combine all variables\n",
    "all_vars = list(set(X_covariates + y_covariates + brain_regions))\n",
    "\n",
    "X = df[all_vars]\n",
    "y = df[['20016-2.0', '20197-2.0', '23324-2.0', 'trailmaking_score']]\n",
    "\n",
    "print(f\"Original shapes - X: {X.shape}, y: {y.shape}\")\n",
    "\n",
    "# rename columns\n",
    "X = X.rename(columns=rename_dict)\n",
    "\n",
    "# Update variable names after renaming\n",
    "X_covariates_renamed = [rename_dict.get(var, var) for var in X_covariates]\n",
    "y_covariates_renamed = [rename_dict.get(var, var) for var in y_covariates]\n",
    "brain_regions_renamed = [rename_dict.get(var, var) for var in brain_regions]\n",
    "\n",
    "# Specify which variables are categorical\n",
    "categorical_variables = ['sex', 'assessment_centre']  # Use renamed column names"
   ]
  },
  {
   "cell_type": "code",
   "execution_count": 38,
   "id": "30c8a196",
   "metadata": {},
   "outputs": [
    {
     "name": "stdout",
     "output_type": "stream",
     "text": [
      "Regressing out demographic variables from brain regions...\n",
      "Regressing out demographic variables from target variable...\n",
      "Fold 01 • n_comp=08 • MAE=39.043 • RMSE=103.296 • R²=0.004\n",
      "Fold 02 • n_comp=09 • MAE=39.166 • RMSE=100.361 • R²=0.001\n",
      "Fold 03 • n_comp=09 • MAE=37.869 • RMSE=98.123 • R²=0.003\n",
      "Fold 04 • n_comp=09 • MAE=37.554 • RMSE=97.283 • R²=0.004\n",
      "Fold 05 • n_comp=09 • MAE=37.289 • RMSE=96.910 • R²=0.004\n",
      "Fold 06 • n_comp=04 • MAE=37.538 • RMSE=98.663 • R²=0.004\n",
      "Fold 07 • n_comp=09 • MAE=38.776 • RMSE=101.466 • R²=0.003\n",
      "Fold 08 • n_comp=09 • MAE=37.371 • RMSE=96.384 • R²=0.004\n",
      "Fold 09 • n_comp=04 • MAE=38.264 • RMSE=98.215 • R²=0.001\n",
      "Fold 10 • n_comp=09 • MAE=37.056 • RMSE=97.301 • R²=0.004\n",
      "\n",
      "=== 10-fold CV summary ===\n",
      "n_components (mean ± std): 7.9 ± 2.0\n",
      "MAE :  37.993 ± 0.731\n",
      "RMSE:  98.800 ± 2.110\n",
      "R²  :  0.003 ± 0.001\n"
     ]
    }
   ],
   "source": [
    "# Run PLS analysis with covariate regression\n",
    "results = pls_covariate_regression(\n",
    "    X, y, brain_regions_renamed, X_covariates_renamed, y_covariates_renamed, \n",
    "    categorical_cols=categorical_variables, n_splits=10\n",
    ")"
   ]
  },
  {
   "cell_type": "markdown",
   "id": "7b73a54f",
   "metadata": {},
   "source": [
    "### All Data vs. FC"
   ]
  },
  {
   "cell_type": "code",
   "execution_count": 39,
   "id": "4e647ab1",
   "metadata": {},
   "outputs": [
    {
     "name": "stdout",
     "output_type": "stream",
     "text": [
      "Original shapes - X: (23188, 214), y: (23188, 4)\n"
     ]
    }
   ],
   "source": [
    "# Set X and y\n",
    "with open('/Users/baileyng/MIND_models/region_names/FC_regions.txt', 'r') as f:\n",
    "    brain_regions = [line.strip() for line in f.readlines()]\n",
    "\n",
    "# Define different covariates for X and y\n",
    "X_covariates = ['31-0.0', '21003-2.0', '54-2.0', '25741-2.0']  \n",
    "y_covariates = ['31-0.0', '21003-2.0', '54-2.0']  \n",
    "\n",
    "# Combine all variables\n",
    "all_vars = list(set(X_covariates + y_covariates + brain_regions))\n",
    "\n",
    "X = df[all_vars]\n",
    "y = df[['20016-2.0', '20197-2.0', '23324-2.0', 'trailmaking_score']]\n",
    "\n",
    "print(f\"Original shapes - X: {X.shape}, y: {y.shape}\")\n",
    "\n",
    "# rename columns\n",
    "X = X.rename(columns=rename_dict)\n",
    "\n",
    "# Update variable names after renaming\n",
    "X_covariates_renamed = [rename_dict.get(var, var) for var in X_covariates]\n",
    "y_covariates_renamed = [rename_dict.get(var, var) for var in y_covariates]\n",
    "brain_regions_renamed = [rename_dict.get(var, var) for var in brain_regions]\n",
    "\n",
    "# Specify which variables are categorical\n",
    "categorical_variables = ['sex', 'assessment_centre']  # Use renamed column names"
   ]
  },
  {
   "cell_type": "code",
   "execution_count": 40,
   "id": "f6047742",
   "metadata": {},
   "outputs": [
    {
     "name": "stdout",
     "output_type": "stream",
     "text": [
      "Regressing out demographic variables from brain regions...\n",
      "Regressing out demographic variables from target variable...\n",
      "Fold 01 • n_comp=07 • MAE=38.648 • RMSE=102.478 • R²=0.027\n",
      "Fold 02 • n_comp=05 • MAE=37.917 • RMSE=97.429 • R²=0.040\n",
      "Fold 03 • n_comp=07 • MAE=37.531 • RMSE=97.283 • R²=0.023\n",
      "Fold 04 • n_comp=05 • MAE=36.857 • RMSE=95.742 • R²=0.032\n",
      "Fold 05 • n_comp=05 • MAE=36.875 • RMSE=95.423 • R²=0.029\n",
      "Fold 06 • n_comp=05 • MAE=36.876 • RMSE=96.827 • R²=0.032\n",
      "Fold 07 • n_comp=07 • MAE=38.747 • RMSE=100.782 • R²=0.024\n",
      "Fold 08 • n_comp=05 • MAE=36.769 • RMSE=95.500 • R²=0.028\n",
      "Fold 09 • n_comp=07 • MAE=37.542 • RMSE=96.666 • R²=0.025\n",
      "Fold 10 • n_comp=06 • MAE=36.683 • RMSE=95.824 • R²=0.027\n",
      "\n",
      "=== 10-fold CV summary ===\n",
      "n_components (mean ± std): 5.9 ± 0.9\n",
      "MAE :  37.444 ± 0.736\n",
      "RMSE:  97.395 ± 2.255\n",
      "R²  :  0.029 ± 0.005\n"
     ]
    }
   ],
   "source": [
    "# Run PLS analysis with covariate regression\n",
    "results = pls_covariate_regression(\n",
    "    X, y, brain_regions_renamed, X_covariates_renamed, y_covariates_renamed, \n",
    "    categorical_cols=categorical_variables, n_splits=10\n",
    ")"
   ]
  }
 ],
 "metadata": {
  "kernelspec": {
   "display_name": "venv",
   "language": "python",
   "name": "python3"
  },
  "language_info": {
   "codemirror_mode": {
    "name": "ipython",
    "version": 3
   },
   "file_extension": ".py",
   "mimetype": "text/x-python",
   "name": "python",
   "nbconvert_exporter": "python",
   "pygments_lexer": "ipython3",
   "version": "3.8.20"
  }
 },
 "nbformat": 4,
 "nbformat_minor": 5
}
