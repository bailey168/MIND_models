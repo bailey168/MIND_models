{
 "cells": [
  {
   "cell_type": "markdown",
   "id": "aad05c61",
   "metadata": {},
   "source": [
    "# Set up"
   ]
  },
  {
   "cell_type": "code",
   "execution_count": null,
   "id": "edc7107c",
   "metadata": {},
   "outputs": [],
   "source": [
    "import pandas as pd\n",
    "import numpy as np\n",
    "import re\n",
    "import seaborn as sns\n",
    "from collections import Counter\n",
    "from matplotlib import cm\n",
    "import matplotlib.pyplot as plt\n",
    "from sklearn.preprocessing import StandardScaler, OneHotEncoder\n",
    "from sklearn.compose import ColumnTransformer\n",
    "from sklearn.pipeline import make_pipeline\n",
    "from sklearn.linear_model import ElasticNetCV, ElasticNet\n",
    "from sklearn.model_selection import KFold\n",
    "from sklearn.metrics import mean_absolute_error, mean_squared_error, r2_score\n",
    "import nibabel.freesurfer.io as fsio\n",
    "from nilearn import datasets, plotting\n",
    "import random\n",
    "from joblib import Parallel, delayed\n",
    "import os"
   ]
  },
  {
   "cell_type": "code",
   "execution_count": 2,
   "id": "65ebc51f",
   "metadata": {},
   "outputs": [],
   "source": [
    "random.seed(42)\n",
    "np.random.seed(42)"
   ]
  },
  {
   "cell_type": "code",
   "execution_count": 3,
   "id": "88b53a4f",
   "metadata": {},
   "outputs": [],
   "source": [
    "rename = pd.read_csv('/Users/baileyng/MIND_models/region_names/col_renames.csv')\n",
    "rename_dict = dict(zip(rename['datafield_code'], rename['datafield_name']))"
   ]
  },
  {
   "cell_type": "markdown",
   "id": "472d0707",
   "metadata": {},
   "source": [
    "# ElasticNet Analysis Function"
   ]
  },
  {
   "cell_type": "code",
   "execution_count": null,
   "id": "794b189e",
   "metadata": {},
   "outputs": [],
   "source": [
    "def regress_out_covariates(data, covariates, categorical_cols=None):\n",
    "    \"\"\"\n",
    "    Regress out covariates from data using vectorized operations.\n",
    "    Handles categorical variables by treating them as dummy variables.\n",
    "    \n",
    "    Parameters:\n",
    "    data: DataFrame or array - the data to regress covariates from\n",
    "    covariates: DataFrame - the covariate data\n",
    "    categorical_cols: list - explicit list of column names to treat as categorical\n",
    "    \n",
    "    Returns:\n",
    "    residuals: DataFrame or array - data with covariates regressed out\n",
    "    \"\"\"\n",
    "    # Convert to numpy arrays for computation\n",
    "    Y = np.array(data, dtype=float)\n",
    "    \n",
    "    # Handle categorical variables if DataFrame is passed\n",
    "    if isinstance(covariates, pd.DataFrame):\n",
    "        if categorical_cols is not None:\n",
    "            # Explicitly specify which columns are categorical\n",
    "            X_cov = pd.get_dummies(covariates, columns=categorical_cols, drop_first=True, dtype=float).values\n",
    "        else:\n",
    "            # Auto-detect categorical columns (object/string types)\n",
    "            X_cov = pd.get_dummies(covariates, drop_first=True, dtype=float).values\n",
    "    else:\n",
    "        X_cov = np.array(covariates, dtype=float)\n",
    "    \n",
    "    # Add intercept column\n",
    "    design_matrix = np.column_stack([np.ones(X_cov.shape[0]), X_cov])\n",
    "    \n",
    "    # Vectorized regression: solve for all columns simultaneously\n",
    "    beta_coeffs = np.linalg.lstsq(design_matrix, Y, rcond=None)[0]\n",
    "    \n",
    "    # Calculate predictions and residuals\n",
    "    predicted = design_matrix @ beta_coeffs\n",
    "    residuals = Y - predicted\n",
    "    \n",
    "    # Return as DataFrame if input was DataFrame\n",
    "    if isinstance(data, pd.DataFrame):\n",
    "        return pd.DataFrame(residuals, index=data.index, columns=data.columns)\n",
    "    else:\n",
    "        return residuals\n",
    "    \n",
    "\n",
    "def elasticnet_covariate_regression(X, y, brain_regions, X_covariates, y_covariates, \n",
    "                                                 categorical_cols=None, n_splits=10, weights_dir=None, data_name=None, target_name=None):\n",
    "    \"\"\"\n",
    "    ElasticNet analysis with demographic covariates regressed out beforehand.\n",
    "    \"\"\"\n",
    "    # Separate demographic and brain region data\n",
    "    X_demographic = X[X_covariates]\n",
    "    y_demographic = X[y_covariates]\n",
    "    X_brain = X[brain_regions]\n",
    "    \n",
    "    # Determine which covariates are categorical\n",
    "    X_categorical = [col for col in X_covariates if col in (categorical_cols or [])]\n",
    "    y_categorical = [col for col in y_covariates if col in (categorical_cols or [])]\n",
    "    \n",
    "    # Regress out demographic variables from brain regions\n",
    "    print(\"Regressing out demographic variables from brain regions...\")\n",
    "    X_brain_residuals = regress_out_covariates(X_brain, X_demographic, X_categorical)\n",
    "    \n",
    "    # Regress out demographic variables from target variable\n",
    "    print(\"Regressing out demographic variables from target variable...\")\n",
    "    y_residuals = regress_out_covariates(y, y_demographic, y_categorical)\n",
    "    \n",
    "    # Use only the residualized brain regions as features\n",
    "    X_final = X_brain_residuals\n",
    "    y_final = y_residuals.squeeze() if y_residuals.ndim > 1 else y_residuals\n",
    "    \n",
    "    # Simple preprocessing (just scaling, no categorical encoding needed)\n",
    "    scaler = StandardScaler()\n",
    "    \n",
    "    # Cross-validation set-up\n",
    "    outer_cv = KFold(n_splits=n_splits, shuffle=True, random_state=42)\n",
    "    \n",
    "    outer_mae, outer_rmse, outer_r2 = [], [], []\n",
    "    best_params_per_fold = []\n",
    "    nonzero_predictors = []\n",
    "    coefs_list = []\n",
    "    \n",
    "    for fold, (train_idx, test_idx) in enumerate(outer_cv.split(X_final, y_final), start=1):\n",
    "        X_train, X_test = X_final.iloc[train_idx], X_final.iloc[test_idx]\n",
    "        \n",
    "        # Handle y_final indexing based on its type\n",
    "        if isinstance(y_final, pd.DataFrame) or isinstance(y_final, pd.Series):\n",
    "            y_train, y_test = y_final.iloc[train_idx], y_final.iloc[test_idx]\n",
    "        else:\n",
    "            # y_final is a numpy array\n",
    "            y_train, y_test = y_final[train_idx], y_final[test_idx]\n",
    "        \n",
    "        # Scale features\n",
    "        X_train_scaled = scaler.fit_transform(X_train)\n",
    "        X_test_scaled = scaler.transform(X_test)\n",
    "        \n",
    "        # Inner CV\n",
    "        elastic_net = ElasticNetCV(\n",
    "            l1_ratio=np.linspace(0.3, 0.9, 7),\n",
    "            alphas=np.logspace(-4, 1, 15),\n",
    "            cv=10, max_iter=25000, random_state=42,\n",
    "            n_jobs=-1\n",
    "        )\n",
    "        \n",
    "        elastic_net.fit(X_train_scaled, y_train)\n",
    "        y_pred = elastic_net.predict(X_test_scaled)\n",
    "        \n",
    "        # --- metrics ---\n",
    "        mae = mean_absolute_error(y_test, y_pred)\n",
    "        rmse = np.sqrt(mean_squared_error(y_test, y_pred))\n",
    "        r2 = r2_score(y_test, y_pred)\n",
    "        \n",
    "        outer_mae.append(mae)\n",
    "        outer_rmse.append(rmse)\n",
    "        outer_r2.append(r2)\n",
    "        \n",
    "        # --- store best α & l1_ratio for this fold ---\n",
    "        best_params_per_fold.append(\n",
    "            {'alpha': elastic_net.alpha_, 'l1_ratio': elastic_net.l1_ratio_}\n",
    "        )\n",
    "        \n",
    "        # --- predictors that survived ---\n",
    "        coefs = elastic_net.coef_\n",
    "        coefs_list.append(coefs)\n",
    "        surviving = [col for col, c in zip(X_final.columns, coefs) if c != 0]\n",
    "        nonzero_predictors.append(surviving)\n",
    "        \n",
    "        print(f'Fold {fold:02d} • MAE={mae:.3f} • RMSE={rmse:.3f} • R²={r2:.3f} '\n",
    "              f'• α={elastic_net.alpha_:.4g} • l1_ratio={elastic_net.l1_ratio_:.2f}')\n",
    "    \n",
    "    # Aggregate results\n",
    "    print('\\n=== 10-fold CV summary ===')\n",
    "    print(f'Mean MAE :  {np.mean(outer_mae):.3f}  ± {np.std(outer_mae):.3f}')\n",
    "    print(f'Mean RMSE:  {np.mean(outer_rmse):.3f} ± {np.std(outer_rmse):.3f}')\n",
    "    print(f'Mean R²  :  {np.mean(outer_r2):.3f}  ± {np.std(outer_r2):.3f}')\n",
    "    \n",
    "    # Calculate mean best parameters from all folds\n",
    "    mean_alpha = np.mean([p['alpha'] for p in best_params_per_fold])\n",
    "    mean_l1_ratio = np.mean([p['l1_ratio'] for p in best_params_per_fold])\n",
    "    \n",
    "    # Fit final model on all data\n",
    "    final_scaler = StandardScaler()\n",
    "    X_final_scaled = final_scaler.fit_transform(X_final)\n",
    "    \n",
    "    final_model = ElasticNet(\n",
    "        alpha=mean_alpha,\n",
    "        l1_ratio=mean_l1_ratio,\n",
    "        max_iter=40000,\n",
    "        random_state=42\n",
    "    )\n",
    "    \n",
    "    final_model.fit(X_final_scaled, y_final)\n",
    "    \n",
    "    # Create coefficients DataFrame\n",
    "    coefs_df = pd.DataFrame({\n",
    "        'Feature': X_final.columns,\n",
    "        'Coefficient': final_model.coef_\n",
    "    })\n",
    "    \n",
    "    # Save coefficients\n",
    "    os.makedirs(weights_dir, exist_ok=True)\n",
    "    weights_filename = f'ElasticNet_weights_{data_name}_{target_name}.csv'\n",
    "    weights_filepath = os.path.join(weights_dir, weights_filename)\n",
    "    coefs_df.to_csv(weights_filepath, index=False)\n",
    "    \n",
    "    print(f\"\\nElasticNet coefficients saved to: {weights_filepath}\")\n",
    "    print(f\"Final model parameters: α={mean_alpha:.4g}, l1_ratio={mean_l1_ratio:.3f}\")\n",
    "    print(f\"Number of non-zero coefficients: {np.sum(final_model.coef_ != 0)}\")\n",
    "    \n",
    "    return {\n",
    "        'mae': outer_mae,\n",
    "        'rmse': outer_rmse,\n",
    "        'r2': outer_r2,\n",
    "        'best_params': best_params_per_fold,\n",
    "        'nonzero_predictors': nonzero_predictors,\n",
    "        'coefficients': coefs_list\n",
    "    }"
   ]
  },
  {
   "cell_type": "markdown",
   "id": "cedaea78",
   "metadata": {},
   "source": [
    "# GF"
   ]
  },
  {
   "cell_type": "code",
   "execution_count": 5,
   "id": "54f114ed",
   "metadata": {},
   "outputs": [
    {
     "data": {
      "image/png": "[encoded data removed]",
      "text/plain": [
       "<Figure size 640x480 with 1 Axes>"
      ]
     },
     "metadata": {},
     "output_type": "display_data"
    },
    {
     "name": "stdout",
     "output_type": "stream",
     "text": [
      "33977\n",
      "(33977, 2628)\n"
     ]
    }
   ],
   "source": [
    "# Load the dataset\n",
    "df = pd.read_csv('/Users/baileyng/MIND_data/ukb_master_GF_no_outliers.csv', index_col=0)\n",
    "\n",
    "# Histogram of Fluid Intelligence Scores\n",
    "sns.histplot(df['20016-2.0'])\n",
    "plt.title('Distribution of Fluid Intelligence Scores')\n",
    "plt.xlabel('Fluid Intelligence Score')\n",
    "plt.ylabel('Frequency')\n",
    "plt.show()\n",
    "\n",
    "print(len(df))\n",
    "print(df.shape)"
   ]
  },
  {
   "cell_type": "markdown",
   "id": "71abb5a8",
   "metadata": {},
   "source": [
    "## GF vs. MIND (avg)"
   ]
  },
  {
   "cell_type": "code",
   "execution_count": 6,
   "id": "f45348d6",
   "metadata": {},
   "outputs": [
    {
     "name": "stdout",
     "output_type": "stream",
     "text": [
      "Original shapes - X: (33977, 71), y: (33977,)\n"
     ]
    }
   ],
   "source": [
    "# Set X and y\n",
    "with open('/Users/baileyng/MIND_models/region_names/MIND_avg_regions.txt', 'r') as f:\n",
    "    brain_regions = [line.strip() for line in f.readlines()]\n",
    "\n",
    "# Define different covariates for X and y\n",
    "X_covariates = ['31-0.0', '21003-2.0', '54-2.0']  \n",
    "y_covariates = ['31-0.0', '21003-2.0', '54-2.0']  \n",
    "\n",
    "# Combine all variables\n",
    "all_vars = list(set(X_covariates + y_covariates + brain_regions))\n",
    "\n",
    "X = df[all_vars]\n",
    "y = df['20016-2.0']\n",
    "\n",
    "print(f\"Original shapes - X: {X.shape}, y: {y.shape}\")\n",
    "\n",
    "# rename columns\n",
    "X = X.rename(columns=rename_dict)\n",
    "\n",
    "# Update variable names after renaming\n",
    "X_covariates_renamed = [rename_dict.get(var, var) for var in X_covariates]\n",
    "y_covariates_renamed = [rename_dict.get(var, var) for var in y_covariates]\n",
    "brain_regions_renamed = [rename_dict.get(var, var) for var in brain_regions]\n",
    "\n",
    "# Specify which variables are categorical\n",
    "categorical_variables = ['sex', 'assessment_centre']  # Use renamed column names"
   ]
  },
  {
   "cell_type": "code",
   "execution_count": 7,
   "id": "b56ffe12",
   "metadata": {},
   "outputs": [
    {
     "name": "stdout",
     "output_type": "stream",
     "text": [
      "Regressing out demographic variables from brain regions...\n",
      "Regressing out demographic variables from target variable...\n",
      "Fold 01 • MAE=1.621 • RMSE=2.021 • R²=0.018 • α=0.01389 • l1_ratio=0.40\n",
      "Fold 02 • MAE=1.635 • RMSE=2.034 • R²=0.016 • α=0.01389 • l1_ratio=0.30\n",
      "Fold 03 • MAE=1.642 • RMSE=2.044 • R²=0.027 • α=0.01389 • l1_ratio=0.40\n",
      "Fold 04 • MAE=1.652 • RMSE=2.058 • R²=0.018 • α=0.01389 • l1_ratio=0.30\n",
      "Fold 05 • MAE=1.604 • RMSE=2.001 • R²=0.013 • α=0.01389 • l1_ratio=0.40\n",
      "Fold 06 • MAE=1.584 • RMSE=1.975 • R²=0.022 • α=0.01389 • l1_ratio=0.30\n",
      "Fold 07 • MAE=1.617 • RMSE=2.016 • R²=0.026 • α=0.01389 • l1_ratio=0.40\n",
      "Fold 08 • MAE=1.657 • RMSE=2.052 • R²=0.010 • α=0.01389 • l1_ratio=0.30\n",
      "Fold 09 • MAE=1.608 • RMSE=2.001 • R²=0.021 • α=0.01389 • l1_ratio=0.30\n",
      "Fold 10 • MAE=1.629 • RMSE=2.033 • R²=0.020 • α=0.01389 • l1_ratio=0.30\n",
      "\n",
      "=== 10-fold CV summary ===\n",
      "Mean MAE :  1.625  ± 0.022\n",
      "Mean RMSE:  2.024 ± 0.024\n",
      "Mean R²  :  0.019  ± 0.005\n"
     ]
    }
   ],
   "source": [
    "# Run analysis with covariate regression\n",
    "results = elasticnet_covariate_regression(\n",
    "    X, y, brain_regions_renamed, X_covariates_renamed, y_covariates_renamed, \n",
    "    categorical_cols=categorical_variables, n_splits=10\n",
    ")"
   ]
  },
  {
   "cell_type": "markdown",
   "id": "0d901f76",
   "metadata": {},
   "source": [
    "## GF vs. MIND"
   ]
  },
  {
   "cell_type": "code",
   "execution_count": null,
   "id": "ef5b697e",
   "metadata": {},
   "outputs": [
    {
     "name": "stdout",
     "output_type": "stream",
     "text": [
      "Original shapes - X: (33977, 2281), y: (33977,)\n"
     ]
    }
   ],
   "source": [
    "# Set X and y\n",
    "with open('/Users/baileyng/MIND_models/region_names/MIND_regions.txt', 'r') as f:\n",
    "    brain_regions = [line.strip() for line in f.readlines()]\n",
    "\n",
    "# Define different covariates for X and y\n",
    "X_covariates = ['31-0.0', '21003-2.0', '54-2.0']  \n",
    "y_covariates = ['31-0.0', '21003-2.0', '54-2.0']  \n",
    "\n",
    "# Combine all variables\n",
    "all_vars = list(set(X_covariates + y_covariates + brain_regions))\n",
    "\n",
    "X = df[all_vars]\n",
    "y = df['20016-2.0']\n",
    "\n",
    "print(f\"Original shapes - X: {X.shape}, y: {y.shape}\")\n",
    "\n",
    "# rename columns\n",
    "X = X.rename(columns=rename_dict)\n",
    "\n",
    "# Update variable names after renaming\n",
    "X_covariates_renamed = [rename_dict.get(var, var) for var in X_covariates]\n",
    "y_covariates_renamed = [rename_dict.get(var, var) for var in y_covariates]\n",
    "brain_regions_renamed = [rename_dict.get(var, var) for var in brain_regions]\n",
    "\n",
    "# Specify which variables are categorical\n",
    "categorical_variables = ['sex', 'assessment_centre']  # Use renamed column names"
   ]
  },
  {
   "cell_type": "code",
   "execution_count": null,
   "id": "88597e62",
   "metadata": {},
   "outputs": [
    {
     "name": "stdout",
     "output_type": "stream",
     "text": [
      "Regressing out demographic variables from brain regions...\n",
      "Regressing out demographic variables from target variable...\n",
      "Fold 01 • n_comp=05 • MAE=1.603 • RMSE=2.002 • R²=0.036\n"
     ]
    }
   ],
   "source": [
    "# Run analysis with covariate regression\n",
    "results = elasticnet_covariate_regression(\n",
    "    X, y, brain_regions_renamed, X_covariates_renamed, y_covariates_renamed, \n",
    "    categorical_cols=categorical_variables, n_splits=10\n",
    ")"
   ]
  },
  {
   "cell_type": "markdown",
   "id": "87e4aed9",
   "metadata": {},
   "source": [
    "## GF vs. CT"
   ]
  },
  {
   "cell_type": "code",
   "execution_count": null,
   "id": "c6f99f95",
   "metadata": {},
   "outputs": [
    {
     "name": "stdout",
     "output_type": "stream",
     "text": [
      "(33977, 65)\n",
      "(33977,)\n"
     ]
    }
   ],
   "source": [
    "# Set X and y\n",
    "with open('/Users/baileyng/MIND_models/region_names/CT_regions.txt', 'r') as f:\n",
    "    brain_regions = [line.strip() for line in f.readlines()]\n",
    "\n",
    "# Define different covariates for X and y\n",
    "X_covariates = ['31-0.0', '21003-2.0', '54-2.0']  \n",
    "y_covariates = ['31-0.0', '21003-2.0', '54-2.0']  \n",
    "\n",
    "# Combine all variables\n",
    "all_vars = list(set(X_covariates + y_covariates + brain_regions))\n",
    "\n",
    "X = df[all_vars]\n",
    "y = df['20016-2.0']\n",
    "\n",
    "print(f\"Original shapes - X: {X.shape}, y: {y.shape}\")\n",
    "\n",
    "# rename columns\n",
    "X = X.rename(columns=rename_dict)\n",
    "\n",
    "# Update variable names after renaming\n",
    "X_covariates_renamed = [rename_dict.get(var, var) for var in X_covariates]\n",
    "y_covariates_renamed = [rename_dict.get(var, var) for var in y_covariates]\n",
    "brain_regions_renamed = [rename_dict.get(var, var) for var in brain_regions]\n",
    "\n",
    "# Specify which variables are categorical\n",
    "categorical_variables = ['sex', 'assessment_centre']  # Use renamed column names"
   ]
  },
  {
   "cell_type": "code",
   "execution_count": null,
   "id": "2ebacc9a",
   "metadata": {},
   "outputs": [
    {
     "name": "stdout",
     "output_type": "stream",
     "text": [
      "Fold 01 • n_comp=06 • MAE=1.632 • RMSE=2.032 • R²=0.018\n",
      "Fold 02 • n_comp=05 • MAE=1.644 • RMSE=2.042 • R²=0.024\n",
      "Fold 03 • n_comp=09 • MAE=1.651 • RMSE=2.057 • R²=0.026\n",
      "Fold 04 • n_comp=05 • MAE=1.662 • RMSE=2.070 • R²=0.021\n",
      "Fold 05 • n_comp=05 • MAE=1.604 • RMSE=2.002 • R²=0.032\n",
      "Fold 06 • n_comp=05 • MAE=1.589 • RMSE=1.985 • R²=0.035\n",
      "Fold 07 • n_comp=06 • MAE=1.631 • RMSE=2.035 • R²=0.015\n",
      "Fold 08 • n_comp=08 • MAE=1.652 • RMSE=2.046 • R²=0.028\n",
      "Fold 09 • n_comp=09 • MAE=1.623 • RMSE=2.016 • R²=0.022\n",
      "Fold 10 • n_comp=06 • MAE=1.637 • RMSE=2.043 • R²=0.026\n",
      "\n",
      "=== 10-fold CV summary ===\n",
      "n_components (mean ± std): 6.4 ± 1.6\n",
      "MAE :  1.632 ± 0.021\n",
      "RMSE:  2.033 ± 0.024\n",
      "R²  :  0.025 ± 0.006\n"
     ]
    }
   ],
   "source": [
    "# Run analysis with covariate regression\n",
    "results = elasticnet_covariate_regression(\n",
    "    X, y, brain_regions_renamed, X_covariates_renamed, y_covariates_renamed, \n",
    "    categorical_cols=categorical_variables, n_splits=10\n",
    ")"
   ]
  },
  {
   "cell_type": "markdown",
   "id": "27bb1396",
   "metadata": {},
   "source": [
    "## GF vs. FC"
   ]
  },
  {
   "cell_type": "code",
   "execution_count": null,
   "id": "0c9a0adf",
   "metadata": {},
   "outputs": [
    {
     "name": "stdout",
     "output_type": "stream",
     "text": [
      "(33977, 214)\n",
      "(33977,)\n"
     ]
    }
   ],
   "source": [
    "# Set X and y\n",
    "with open('/Users/baileyng/MIND_models/region_names/FC_regions.txt', 'r') as f:\n",
    "    brain_regions = [line.strip() for line in f.readlines()]\n",
    "\n",
    "# Define different covariates for X and y\n",
    "X_covariates = ['31-0.0', '21003-2.0', '54-2.0', '25741-2.0']  \n",
    "y_covariates = ['31-0.0', '21003-2.0', '54-2.0']  \n",
    "\n",
    "# Combine all variables\n",
    "all_vars = list(set(X_covariates + y_covariates + brain_regions))\n",
    "\n",
    "X = df[all_vars]\n",
    "y = df['20016-2.0']\n",
    "\n",
    "print(f\"Original shapes - X: {X.shape}, y: {y.shape}\")\n",
    "\n",
    "# rename columns\n",
    "X = X.rename(columns=rename_dict)\n",
    "\n",
    "# Update variable names after renaming\n",
    "X_covariates_renamed = [rename_dict.get(var, var) for var in X_covariates]\n",
    "y_covariates_renamed = [rename_dict.get(var, var) for var in y_covariates]\n",
    "brain_regions_renamed = [rename_dict.get(var, var) for var in brain_regions]\n",
    "\n",
    "# Specify which variables are categorical\n",
    "categorical_variables = ['sex', 'assessment_centre']  # Use renamed column names"
   ]
  },
  {
   "cell_type": "code",
   "execution_count": null,
   "id": "8f21772e",
   "metadata": {},
   "outputs": [
    {
     "name": "stderr",
     "output_type": "stream",
     "text": [
      "/Users/baileyng/MIND_models/venv/lib/python3.8/site-packages/joblib/externals/loky/process_executor.py:752: UserWarning: A worker stopped while some jobs were given to the executor. This can be caused by a too short worker timeout or by a memory leak.\n",
      "  warnings.warn(\n"
     ]
    },
    {
     "name": "stdout",
     "output_type": "stream",
     "text": [
      "Fold 01 • n_comp=05 • MAE=1.581 • RMSE=1.985 • R²=0.063\n",
      "Fold 02 • n_comp=05 • MAE=1.599 • RMSE=1.990 • R²=0.073\n",
      "Fold 03 • n_comp=05 • MAE=1.615 • RMSE=2.020 • R²=0.060\n",
      "Fold 04 • n_comp=05 • MAE=1.615 • RMSE=2.018 • R²=0.070\n",
      "Fold 05 • n_comp=05 • MAE=1.573 • RMSE=1.964 • R²=0.068\n",
      "Fold 06 • n_comp=05 • MAE=1.545 • RMSE=1.929 • R²=0.088\n",
      "Fold 07 • n_comp=05 • MAE=1.598 • RMSE=1.995 • R²=0.053\n",
      "Fold 08 • n_comp=05 • MAE=1.604 • RMSE=2.000 • R²=0.071\n",
      "Fold 09 • n_comp=05 • MAE=1.572 • RMSE=1.965 • R²=0.070\n",
      "Fold 10 • n_comp=05 • MAE=1.590 • RMSE=1.987 • R²=0.079\n",
      "\n",
      "=== 10-fold CV summary ===\n",
      "n_components (mean ± std): 5.0 ± 0.0\n",
      "MAE :  1.589 ± 0.021\n",
      "RMSE:  1.985 ± 0.026\n",
      "R²  :  0.070 ± 0.009\n"
     ]
    }
   ],
   "source": [
    "# Run analysis with covariate regression\n",
    "results = elasticnet_covariate_regression(\n",
    "    X, y, brain_regions_renamed, X_covariates_renamed, y_covariates_renamed, \n",
    "    categorical_cols=categorical_variables, n_splits=10\n",
    ")"
   ]
  },
  {
   "cell_type": "markdown",
   "id": "9e82fbe4",
   "metadata": {},
   "source": [
    "# PAL"
   ]
  },
  {
   "cell_type": "code",
   "execution_count": null,
   "id": "e49372ef",
   "metadata": {},
   "outputs": [],
   "source": [
    "# Load the dataset\n",
    "df = pd.read_csv('/Users/baileyng/MIND_data/ukb_master_PAL_no_outliers.csv', index_col=0)\n",
    "\n",
    "# Histogram of PAL Scores\n",
    "sns.histplot(df['20197-2.0'])\n",
    "plt.title('Distribution of PAL Scores')\n",
    "plt.xlabel('PAL Score')\n",
    "plt.ylabel('Frequency')\n",
    "plt.show()\n",
    "\n",
    "print(len(df))\n",
    "print(df.shape)"
   ]
  },
  {
   "cell_type": "markdown",
   "id": "eecf7168",
   "metadata": {},
   "source": [
    "### PAL vs. MIND (avg)"
   ]
  },
  {
   "cell_type": "code",
   "execution_count": null,
   "id": "71443196",
   "metadata": {},
   "outputs": [
    {
     "name": "stdout",
     "output_type": "stream",
     "text": [
      "(24492, 71)\n",
      "(24492,)\n"
     ]
    }
   ],
   "source": [
    "# Set X and y\n",
    "with open('/Users/baileyng/MIND_models/region_names/MIND_avg_regions.txt', 'r') as f:\n",
    "    brain_regions = [line.strip() for line in f.readlines()]\n",
    "\n",
    "# Define different covariates for X and y\n",
    "X_covariates = ['31-0.0', '21003-2.0', '54-2.0']  \n",
    "y_covariates = ['31-0.0', '21003-2.0', '54-2.0']  \n",
    "\n",
    "# Combine all variables\n",
    "all_vars = list(set(X_covariates + y_covariates + brain_regions))\n",
    "\n",
    "X = df[all_vars]\n",
    "y = df['20197-2.0']\n",
    "\n",
    "print(f\"Original shapes - X: {X.shape}, y: {y.shape}\")\n",
    "\n",
    "# rename columns\n",
    "X = X.rename(columns=rename_dict)\n",
    "\n",
    "# Update variable names after renaming\n",
    "X_covariates_renamed = [rename_dict.get(var, var) for var in X_covariates]\n",
    "y_covariates_renamed = [rename_dict.get(var, var) for var in y_covariates]\n",
    "brain_regions_renamed = [rename_dict.get(var, var) for var in brain_regions]\n",
    "\n",
    "# Specify which variables are categorical\n",
    "categorical_variables = ['sex', 'assessment_centre']  # Use renamed column names"
   ]
  },
  {
   "cell_type": "code",
   "execution_count": null,
   "id": "8f3b39a7",
   "metadata": {},
   "outputs": [
    {
     "name": "stdout",
     "output_type": "stream",
     "text": [
      "Fold 01 • n_comp=05 • MAE=2.076 • RMSE=2.539 • R²=0.064\n",
      "Fold 02 • n_comp=05 • MAE=2.104 • RMSE=2.551 • R²=0.046\n",
      "Fold 03 • n_comp=05 • MAE=2.098 • RMSE=2.584 • R²=0.062\n",
      "Fold 04 • n_comp=04 • MAE=2.071 • RMSE=2.533 • R²=0.059\n",
      "Fold 05 • n_comp=05 • MAE=2.040 • RMSE=2.476 • R²=0.053\n",
      "Fold 06 • n_comp=04 • MAE=2.105 • RMSE=2.559 • R²=0.081\n",
      "Fold 07 • n_comp=05 • MAE=2.089 • RMSE=2.538 • R²=0.062\n",
      "Fold 08 • n_comp=05 • MAE=2.068 • RMSE=2.536 • R²=0.065\n",
      "Fold 09 • n_comp=05 • MAE=2.082 • RMSE=2.554 • R²=0.066\n",
      "Fold 10 • n_comp=05 • MAE=2.070 • RMSE=2.542 • R²=0.047\n",
      "\n",
      "=== 10-fold CV summary ===\n",
      "n_components (mean ± std): 4.8 ± 0.4\n",
      "MAE :  2.080 ± 0.019\n",
      "RMSE:  2.541 ± 0.026\n",
      "R²  :  0.061 ± 0.009\n"
     ]
    }
   ],
   "source": [
    "# Run analysis with covariate regression\n",
    "results = elasticnet_covariate_regression(\n",
    "    X, y, brain_regions_renamed, X_covariates_renamed, y_covariates_renamed, \n",
    "    categorical_cols=categorical_variables, n_splits=10\n",
    ")"
   ]
  },
  {
   "cell_type": "markdown",
   "id": "366aac7a",
   "metadata": {},
   "source": [
    "### PAL vs. MIND"
   ]
  },
  {
   "cell_type": "code",
   "execution_count": null,
   "id": "ce9da4e0",
   "metadata": {},
   "outputs": [
    {
     "name": "stdout",
     "output_type": "stream",
     "text": [
      "(24492, 2281)\n",
      "(24492,)\n"
     ]
    }
   ],
   "source": [
    "# Set X and y\n",
    "with open('/Users/baileyng/MIND_models/region_names/MIND_regions.txt', 'r') as f:\n",
    "    brain_regions = [line.strip() for line in f.readlines()]\n",
    "\n",
    "# Define different covariates for X and y\n",
    "X_covariates = ['31-0.0', '21003-2.0', '54-2.0']  \n",
    "y_covariates = ['31-0.0', '21003-2.0', '54-2.0']  \n",
    "\n",
    "# Combine all variables\n",
    "all_vars = list(set(X_covariates + y_covariates + brain_regions))\n",
    "\n",
    "X = df[all_vars]\n",
    "y = df['20197-2.0']\n",
    "\n",
    "print(f\"Original shapes - X: {X.shape}, y: {y.shape}\")\n",
    "\n",
    "# rename columns\n",
    "X = X.rename(columns=rename_dict)\n",
    "\n",
    "# Update variable names after renaming\n",
    "X_covariates_renamed = [rename_dict.get(var, var) for var in X_covariates]\n",
    "y_covariates_renamed = [rename_dict.get(var, var) for var in y_covariates]\n",
    "brain_regions_renamed = [rename_dict.get(var, var) for var in brain_regions]\n",
    "\n",
    "# Specify which variables are categorical\n",
    "categorical_variables = ['sex', 'assessment_centre']  # Use renamed column names"
   ]
  },
  {
   "cell_type": "code",
   "execution_count": null,
   "id": "2ccb1bd2",
   "metadata": {},
   "outputs": [
    {
     "name": "stdout",
     "output_type": "stream",
     "text": [
      "Fold 01 • n_comp=07 • MAE=2.088 • RMSE=2.558 • R²=0.050\n",
      "Fold 02 • n_comp=07 • MAE=2.105 • RMSE=2.551 • R²=0.046\n",
      "Fold 03 • n_comp=07 • MAE=2.105 • RMSE=2.589 • R²=0.058\n",
      "Fold 04 • n_comp=09 • MAE=2.091 • RMSE=2.564 • R²=0.036\n",
      "Fold 05 • n_comp=07 • MAE=2.061 • RMSE=2.501 • R²=0.035\n",
      "Fold 06 • n_comp=06 • MAE=2.129 • RMSE=2.598 • R²=0.052\n",
      "Fold 07 • n_comp=08 • MAE=2.113 • RMSE=2.576 • R²=0.034\n",
      "Fold 08 • n_comp=06 • MAE=2.085 • RMSE=2.557 • R²=0.049\n",
      "Fold 09 • n_comp=09 • MAE=2.092 • RMSE=2.571 • R²=0.054\n",
      "Fold 10 • n_comp=06 • MAE=2.088 • RMSE=2.559 • R²=0.035\n",
      "\n",
      "=== 10-fold CV summary ===\n",
      "n_components (mean ± std): 7.2 ± 1.1\n",
      "MAE :  2.096 ± 0.018\n",
      "RMSE:  2.562 ± 0.025\n",
      "R²  :  0.045 ± 0.009\n"
     ]
    }
   ],
   "source": [
    "# Run analysis with covariate regression\n",
    "results = elasticnet_covariate_regression(\n",
    "    X, y, brain_regions_renamed, X_covariates_renamed, y_covariates_renamed, \n",
    "    categorical_cols=categorical_variables, n_splits=10\n",
    ")"
   ]
  },
  {
   "cell_type": "markdown",
   "id": "9345c52f",
   "metadata": {},
   "source": [
    "### PAL vs. CT"
   ]
  },
  {
   "cell_type": "code",
   "execution_count": null,
   "id": "02885369",
   "metadata": {},
   "outputs": [
    {
     "name": "stdout",
     "output_type": "stream",
     "text": [
      "(24492, 65)\n",
      "(24492,)\n"
     ]
    }
   ],
   "source": [
    "# Set X and y\n",
    "with open('/Users/baileyng/MIND_models/region_names/CT_regions.txt', 'r') as f:\n",
    "    brain_regions = [line.strip() for line in f.readlines()]\n",
    "\n",
    "# Define different covariates for X and y\n",
    "X_covariates = ['31-0.0', '21003-2.0', '54-2.0']  \n",
    "y_covariates = ['31-0.0', '21003-2.0', '54-2.0']  \n",
    "\n",
    "# Combine all variables\n",
    "all_vars = list(set(X_covariates + y_covariates + brain_regions))\n",
    "\n",
    "X = df[all_vars]\n",
    "y = df['20197-2.0']\n",
    "\n",
    "print(f\"Original shapes - X: {X.shape}, y: {y.shape}\")\n",
    "\n",
    "# rename columns\n",
    "X = X.rename(columns=rename_dict)\n",
    "\n",
    "# Update variable names after renaming\n",
    "X_covariates_renamed = [rename_dict.get(var, var) for var in X_covariates]\n",
    "y_covariates_renamed = [rename_dict.get(var, var) for var in y_covariates]\n",
    "brain_regions_renamed = [rename_dict.get(var, var) for var in brain_regions]\n",
    "\n",
    "# Specify which variables are categorical\n",
    "categorical_variables = ['sex', 'assessment_centre']  # Use renamed column names"
   ]
  },
  {
   "cell_type": "code",
   "execution_count": null,
   "id": "17f2b69c",
   "metadata": {},
   "outputs": [
    {
     "name": "stdout",
     "output_type": "stream",
     "text": [
      "Fold 01 • n_comp=05 • MAE=2.081 • RMSE=2.537 • R²=0.066\n",
      "Fold 02 • n_comp=05 • MAE=2.106 • RMSE=2.556 • R²=0.043\n",
      "Fold 03 • n_comp=05 • MAE=2.096 • RMSE=2.581 • R²=0.064\n",
      "Fold 04 • n_comp=05 • MAE=2.065 • RMSE=2.532 • R²=0.060\n",
      "Fold 05 • n_comp=05 • MAE=2.041 • RMSE=2.475 • R²=0.055\n",
      "Fold 06 • n_comp=06 • MAE=2.107 • RMSE=2.564 • R²=0.077\n",
      "Fold 07 • n_comp=05 • MAE=2.087 • RMSE=2.537 • R²=0.063\n",
      "Fold 08 • n_comp=05 • MAE=2.073 • RMSE=2.540 • R²=0.061\n",
      "Fold 09 • n_comp=05 • MAE=2.084 • RMSE=2.554 • R²=0.066\n",
      "Fold 10 • n_comp=05 • MAE=2.076 • RMSE=2.542 • R²=0.048\n",
      "\n",
      "=== 10-fold CV summary ===\n",
      "n_components (mean ± std): 5.1 ± 0.3\n",
      "MAE :  2.082 ± 0.019\n",
      "RMSE:  2.542 ± 0.027\n",
      "R²  :  0.060 ± 0.009\n"
     ]
    }
   ],
   "source": [
    "# Run analysis with covariate regression\n",
    "results = elasticnet_covariate_regression(\n",
    "    X, y, brain_regions_renamed, X_covariates_renamed, y_covariates_renamed, \n",
    "    categorical_cols=categorical_variables, n_splits=10\n",
    ")"
   ]
  },
  {
   "cell_type": "markdown",
   "id": "c8760e08",
   "metadata": {},
   "source": [
    "### PAL vs. FC"
   ]
  },
  {
   "cell_type": "code",
   "execution_count": null,
   "id": "b8ac9e6b",
   "metadata": {},
   "outputs": [
    {
     "name": "stdout",
     "output_type": "stream",
     "text": [
      "(24492, 214)\n",
      "(24492,)\n"
     ]
    }
   ],
   "source": [
    "# Set X and y\n",
    "with open('/Users/baileyng/MIND_models/region_names/FC_regions.txt', 'r') as f:\n",
    "    brain_regions = [line.strip() for line in f.readlines()]\n",
    "\n",
    "# Define different covariates for X and y\n",
    "X_covariates = ['31-0.0', '21003-2.0', '54-2.0', '25741-2.0']  \n",
    "y_covariates = ['31-0.0', '21003-2.0', '54-2.0']  \n",
    "\n",
    "# Combine all variables\n",
    "all_vars = list(set(X_covariates + y_covariates + brain_regions))\n",
    "\n",
    "X = df[all_vars]\n",
    "y = df['20197-2.0']\n",
    "\n",
    "print(f\"Original shapes - X: {X.shape}, y: {y.shape}\")\n",
    "\n",
    "# rename columns\n",
    "X = X.rename(columns=rename_dict)\n",
    "\n",
    "# Update variable names after renaming\n",
    "X_covariates_renamed = [rename_dict.get(var, var) for var in X_covariates]\n",
    "y_covariates_renamed = [rename_dict.get(var, var) for var in y_covariates]\n",
    "brain_regions_renamed = [rename_dict.get(var, var) for var in brain_regions]\n",
    "\n",
    "# Specify which variables are categorical\n",
    "categorical_variables = ['sex', 'assessment_centre']  # Use renamed column names"
   ]
  },
  {
   "cell_type": "code",
   "execution_count": null,
   "id": "3b4b047e",
   "metadata": {},
   "outputs": [
    {
     "name": "stdout",
     "output_type": "stream",
     "text": [
      "Fold 01 • n_comp=09 • MAE=2.035 • RMSE=2.503 • R²=0.091\n",
      "Fold 02 • n_comp=10 • MAE=2.039 • RMSE=2.497 • R²=0.087\n",
      "Fold 03 • n_comp=09 • MAE=2.055 • RMSE=2.543 • R²=0.091\n",
      "Fold 04 • n_comp=09 • MAE=2.035 • RMSE=2.496 • R²=0.087\n",
      "Fold 05 • n_comp=10 • MAE=1.994 • RMSE=2.423 • R²=0.093\n",
      "Fold 06 • n_comp=09 • MAE=2.053 • RMSE=2.523 • R²=0.106\n",
      "Fold 07 • n_comp=10 • MAE=2.031 • RMSE=2.487 • R²=0.099\n",
      "Fold 08 • n_comp=09 • MAE=2.032 • RMSE=2.500 • R²=0.091\n",
      "Fold 09 • n_comp=09 • MAE=2.037 • RMSE=2.515 • R²=0.094\n",
      "Fold 10 • n_comp=10 • MAE=2.016 • RMSE=2.484 • R²=0.091\n",
      "\n",
      "=== 10-fold CV summary ===\n",
      "n_components (mean ± std): 9.4 ± 0.5\n",
      "MAE :  2.033 ± 0.017\n",
      "RMSE:  2.497 ± 0.030\n",
      "R²  :  0.093 ± 0.006\n"
     ]
    }
   ],
   "source": [
    "# Run analysis with covariate regression\n",
    "results = elasticnet_covariate_regression(\n",
    "    X, y, brain_regions_renamed, X_covariates_renamed, y_covariates_renamed, \n",
    "    categorical_cols=categorical_variables, n_splits=10\n",
    ")"
   ]
  },
  {
   "cell_type": "markdown",
   "id": "1ece2fb6",
   "metadata": {},
   "source": [
    "# DSST"
   ]
  },
  {
   "cell_type": "code",
   "execution_count": null,
   "id": "5f606d63",
   "metadata": {},
   "outputs": [],
   "source": [
    "# Load the dataset\n",
    "df = pd.read_csv('/Users/baileyng/MIND_data/ukb_master_DSST_no_outliers.csv', index_col=0)\n",
    "\n",
    "# Histogram of DSST Scores\n",
    "sns.histplot(df['23324-2.0'])\n",
    "plt.title('Distribution of DSST Scores')\n",
    "plt.xlabel('DSST Score')\n",
    "plt.ylabel('Frequency')\n",
    "plt.show()\n",
    "\n",
    "print(len(df))\n",
    "print(df.shape)"
   ]
  },
  {
   "cell_type": "markdown",
   "id": "04239ec3",
   "metadata": {},
   "source": [
    "### DSST vs. MIND (avg)"
   ]
  },
  {
   "cell_type": "code",
   "execution_count": null,
   "id": "b946c6ce",
   "metadata": {},
   "outputs": [
    {
     "name": "stdout",
     "output_type": "stream",
     "text": [
      "(24275, 71)\n",
      "(24275,)\n"
     ]
    }
   ],
   "source": [
    "# Set X and y\n",
    "with open('/Users/baileyng/MIND_models/region_names/MIND_avg_regions.txt', 'r') as f:\n",
    "    brain_regions = [line.strip() for line in f.readlines()]\n",
    "\n",
    "# Define different covariates for X and y\n",
    "X_covariates = ['31-0.0', '21003-2.0', '54-2.0']  \n",
    "y_covariates = ['31-0.0', '21003-2.0', '54-2.0']  \n",
    "\n",
    "# Combine all variables\n",
    "all_vars = list(set(X_covariates + y_covariates + brain_regions))\n",
    "\n",
    "X = df[all_vars]\n",
    "y = df['23324-2.0']\n",
    "\n",
    "print(f\"Original shapes - X: {X.shape}, y: {y.shape}\")\n",
    "\n",
    "# rename columns\n",
    "X = X.rename(columns=rename_dict)\n",
    "\n",
    "# Update variable names after renaming\n",
    "X_covariates_renamed = [rename_dict.get(var, var) for var in X_covariates]\n",
    "y_covariates_renamed = [rename_dict.get(var, var) for var in y_covariates]\n",
    "brain_regions_renamed = [rename_dict.get(var, var) for var in brain_regions]\n",
    "\n",
    "# Specify which variables are categorical\n",
    "categorical_variables = ['sex', 'assessment_centre']  # Use renamed column names"
   ]
  },
  {
   "cell_type": "code",
   "execution_count": null,
   "id": "ea0f19ba",
   "metadata": {},
   "outputs": [
    {
     "name": "stdout",
     "output_type": "stream",
     "text": [
      "Fold 01 • n_comp=05 • MAE=3.703 • RMSE=4.712 • R²=0.193\n",
      "Fold 02 • n_comp=06 • MAE=3.804 • RMSE=4.845 • R²=0.207\n",
      "Fold 03 • n_comp=05 • MAE=3.725 • RMSE=4.712 • R²=0.200\n",
      "Fold 04 • n_comp=06 • MAE=3.665 • RMSE=4.619 • R²=0.161\n",
      "Fold 05 • n_comp=06 • MAE=3.782 • RMSE=4.816 • R²=0.181\n",
      "Fold 06 • n_comp=06 • MAE=3.701 • RMSE=4.738 • R²=0.195\n",
      "Fold 07 • n_comp=06 • MAE=3.738 • RMSE=4.754 • R²=0.188\n",
      "Fold 08 • n_comp=06 • MAE=3.713 • RMSE=4.738 • R²=0.184\n",
      "Fold 09 • n_comp=06 • MAE=3.640 • RMSE=4.636 • R²=0.189\n",
      "Fold 10 • n_comp=06 • MAE=3.650 • RMSE=4.597 • R²=0.203\n",
      "\n",
      "=== 10-fold CV summary ===\n",
      "n_components (mean ± std): 5.8 ± 0.4\n",
      "MAE :  3.712 ± 0.050\n",
      "RMSE:  4.717 ± 0.077\n",
      "R²  :  0.190 ± 0.013\n"
     ]
    }
   ],
   "source": [
    "# Run analysis with covariate regression\n",
    "results = elasticnet_covariate_regression(\n",
    "    X, y, brain_regions_renamed, X_covariates_renamed, y_covariates_renamed, \n",
    "    categorical_cols=categorical_variables, n_splits=10\n",
    ")"
   ]
  },
  {
   "cell_type": "markdown",
   "id": "b1208c71",
   "metadata": {},
   "source": [
    "### DSST vs. MIND"
   ]
  },
  {
   "cell_type": "code",
   "execution_count": null,
   "id": "0b6f405e",
   "metadata": {},
   "outputs": [
    {
     "name": "stdout",
     "output_type": "stream",
     "text": [
      "(24275, 2281)\n",
      "(24275,)\n"
     ]
    }
   ],
   "source": [
    "# Set X and y\n",
    "with open('/Users/baileyng/MIND_models/region_names/MIND_regions.txt', 'r') as f:\n",
    "    brain_regions = [line.strip() for line in f.readlines()]\n",
    "\n",
    "# Define different covariates for X and y\n",
    "X_covariates = ['31-0.0', '21003-2.0', '54-2.0']  \n",
    "y_covariates = ['31-0.0', '21003-2.0', '54-2.0']  \n",
    "\n",
    "# Combine all variables\n",
    "all_vars = list(set(X_covariates + y_covariates + brain_regions))\n",
    "\n",
    "X = df[all_vars]\n",
    "y = df['23324-2.0']\n",
    "\n",
    "print(f\"Original shapes - X: {X.shape}, y: {y.shape}\")\n",
    "\n",
    "# rename columns\n",
    "X = X.rename(columns=rename_dict)\n",
    "\n",
    "# Update variable names after renaming\n",
    "X_covariates_renamed = [rename_dict.get(var, var) for var in X_covariates]\n",
    "y_covariates_renamed = [rename_dict.get(var, var) for var in y_covariates]\n",
    "brain_regions_renamed = [rename_dict.get(var, var) for var in brain_regions]\n",
    "\n",
    "# Specify which variables are categorical\n",
    "categorical_variables = ['sex', 'assessment_centre']  # Use renamed column names"
   ]
  },
  {
   "cell_type": "code",
   "execution_count": null,
   "id": "2fa733c9",
   "metadata": {},
   "outputs": [
    {
     "name": "stdout",
     "output_type": "stream",
     "text": [
      "Fold 01 • n_comp=10 • MAE=3.764 • RMSE=4.769 • R²=0.173\n",
      "Fold 02 • n_comp=10 • MAE=3.865 • RMSE=4.909 • R²=0.186\n",
      "Fold 03 • n_comp=10 • MAE=3.760 • RMSE=4.766 • R²=0.181\n",
      "Fold 04 • n_comp=10 • MAE=3.686 • RMSE=4.673 • R²=0.141\n",
      "Fold 05 • n_comp=10 • MAE=3.821 • RMSE=4.863 • R²=0.165\n",
      "Fold 06 • n_comp=10 • MAE=3.772 • RMSE=4.812 • R²=0.170\n",
      "Fold 07 • n_comp=10 • MAE=3.816 • RMSE=4.831 • R²=0.162\n",
      "Fold 08 • n_comp=10 • MAE=3.761 • RMSE=4.808 • R²=0.159\n",
      "Fold 09 • n_comp=10 • MAE=3.675 • RMSE=4.670 • R²=0.178\n",
      "Fold 10 • n_comp=10 • MAE=3.686 • RMSE=4.649 • R²=0.185\n",
      "\n",
      "=== 10-fold CV summary ===\n",
      "n_components (mean ± std): 10.0 ± 0.0\n",
      "MAE :  3.761 ± 0.060\n",
      "RMSE:  4.775 ± 0.083\n",
      "R²  :  0.170 ± 0.013\n"
     ]
    }
   ],
   "source": [
    "# Run analysis with covariate regression\n",
    "results = elasticnet_covariate_regression(\n",
    "    X, y, brain_regions_renamed, X_covariates_renamed, y_covariates_renamed, \n",
    "    categorical_cols=categorical_variables, n_splits=10\n",
    ")"
   ]
  },
  {
   "cell_type": "markdown",
   "id": "2b6aedc9",
   "metadata": {},
   "source": [
    "### DSST vs. CT"
   ]
  },
  {
   "cell_type": "code",
   "execution_count": null,
   "id": "8bd6d7b6",
   "metadata": {},
   "outputs": [
    {
     "name": "stdout",
     "output_type": "stream",
     "text": [
      "(24275, 65)\n",
      "(24275,)\n"
     ]
    }
   ],
   "source": [
    "# Set X and y\n",
    "with open('/Users/baileyng/MIND_models/region_names/CT_regions.txt', 'r') as f:\n",
    "    brain_regions = [line.strip() for line in f.readlines()]\n",
    "\n",
    "# Define different covariates for X and y\n",
    "X_covariates = ['31-0.0', '21003-2.0', '54-2.0']  \n",
    "y_covariates = ['31-0.0', '21003-2.0', '54-2.0']  \n",
    "\n",
    "# Combine all variables\n",
    "all_vars = list(set(X_covariates + y_covariates + brain_regions))\n",
    "\n",
    "X = df[all_vars]\n",
    "y = df['23324-2.0']\n",
    "\n",
    "print(f\"Original shapes - X: {X.shape}, y: {y.shape}\")\n",
    "\n",
    "# rename columns\n",
    "X = X.rename(columns=rename_dict)\n",
    "\n",
    "# Update variable names after renaming\n",
    "X_covariates_renamed = [rename_dict.get(var, var) for var in X_covariates]\n",
    "y_covariates_renamed = [rename_dict.get(var, var) for var in y_covariates]\n",
    "brain_regions_renamed = [rename_dict.get(var, var) for var in brain_regions]\n",
    "\n",
    "# Specify which variables are categorical\n",
    "categorical_variables = ['sex', 'assessment_centre']  # Use renamed column names"
   ]
  },
  {
   "cell_type": "code",
   "execution_count": null,
   "id": "a7957382",
   "metadata": {},
   "outputs": [
    {
     "name": "stdout",
     "output_type": "stream",
     "text": [
      "Fold 01 • n_comp=06 • MAE=3.709 • RMSE=4.711 • R²=0.193\n",
      "Fold 02 • n_comp=06 • MAE=3.811 • RMSE=4.845 • R²=0.207\n",
      "Fold 03 • n_comp=06 • MAE=3.715 • RMSE=4.713 • R²=0.199\n",
      "Fold 04 • n_comp=06 • MAE=3.659 • RMSE=4.612 • R²=0.163\n",
      "Fold 05 • n_comp=06 • MAE=3.789 • RMSE=4.831 • R²=0.176\n",
      "Fold 06 • n_comp=06 • MAE=3.700 • RMSE=4.728 • R²=0.198\n",
      "Fold 07 • n_comp=06 • MAE=3.743 • RMSE=4.774 • R²=0.181\n",
      "Fold 08 • n_comp=06 • MAE=3.722 • RMSE=4.751 • R²=0.179\n",
      "Fold 09 • n_comp=06 • MAE=3.643 • RMSE=4.639 • R²=0.188\n",
      "Fold 10 • n_comp=06 • MAE=3.652 • RMSE=4.610 • R²=0.198\n",
      "\n",
      "=== 10-fold CV summary ===\n",
      "n_components (mean ± std): 6.0 ± 0.0\n",
      "MAE :  3.714 ± 0.053\n",
      "RMSE:  4.721 ± 0.079\n",
      "R²  :  0.188 ± 0.013\n"
     ]
    }
   ],
   "source": [
    "# Run analysis with covariate regression\n",
    "results = elasticnet_covariate_regression(\n",
    "    X, y, brain_regions_renamed, X_covariates_renamed, y_covariates_renamed, \n",
    "    categorical_cols=categorical_variables, n_splits=10\n",
    ")"
   ]
  },
  {
   "cell_type": "markdown",
   "id": "278082eb",
   "metadata": {},
   "source": [
    "### DSST vs. FC"
   ]
  },
  {
   "cell_type": "code",
   "execution_count": null,
   "id": "f58c220c",
   "metadata": {},
   "outputs": [
    {
     "name": "stdout",
     "output_type": "stream",
     "text": [
      "(24275, 214)\n",
      "(24275,)\n"
     ]
    }
   ],
   "source": [
    "# Set X and y\n",
    "with open('/Users/baileyng/MIND_models/region_names/FC_regions.txt', 'r') as f:\n",
    "    brain_regions = [line.strip() for line in f.readlines()]\n",
    "\n",
    "# Define different covariates for X and y\n",
    "X_covariates = ['31-0.0', '21003-2.0', '54-2.0', '25741-2.0']  \n",
    "y_covariates = ['31-0.0', '21003-2.0', '54-2.0']  \n",
    "\n",
    "# Combine all variables\n",
    "all_vars = list(set(X_covariates + y_covariates + brain_regions))\n",
    "\n",
    "X = df[all_vars]\n",
    "y = df['23324-2.0']\n",
    "\n",
    "print(f\"Original shapes - X: {X.shape}, y: {y.shape}\")\n",
    "\n",
    "# rename columns\n",
    "X = X.rename(columns=rename_dict)\n",
    "\n",
    "# Update variable names after renaming\n",
    "X_covariates_renamed = [rename_dict.get(var, var) for var in X_covariates]\n",
    "y_covariates_renamed = [rename_dict.get(var, var) for var in y_covariates]\n",
    "brain_regions_renamed = [rename_dict.get(var, var) for var in brain_regions]\n",
    "\n",
    "# Specify which variables are categorical\n",
    "categorical_variables = ['sex', 'assessment_centre']  # Use renamed column names"
   ]
  },
  {
   "cell_type": "code",
   "execution_count": null,
   "id": "74f13d4d",
   "metadata": {},
   "outputs": [
    {
     "name": "stdout",
     "output_type": "stream",
     "text": [
      "Fold 01 • n_comp=09 • MAE=3.647 • RMSE=4.658 • R²=0.211\n",
      "Fold 02 • n_comp=09 • MAE=3.773 • RMSE=4.814 • R²=0.217\n",
      "Fold 03 • n_comp=09 • MAE=3.699 • RMSE=4.674 • R²=0.213\n",
      "Fold 04 • n_comp=09 • MAE=3.648 • RMSE=4.611 • R²=0.164\n",
      "Fold 05 • n_comp=09 • MAE=3.779 • RMSE=4.796 • R²=0.188\n",
      "Fold 06 • n_comp=09 • MAE=3.669 • RMSE=4.691 • R²=0.211\n",
      "Fold 07 • n_comp=09 • MAE=3.714 • RMSE=4.719 • R²=0.200\n",
      "Fold 08 • n_comp=10 • MAE=3.684 • RMSE=4.727 • R²=0.187\n",
      "Fold 09 • n_comp=10 • MAE=3.633 • RMSE=4.616 • R²=0.196\n",
      "Fold 10 • n_comp=09 • MAE=3.617 • RMSE=4.565 • R²=0.214\n",
      "\n",
      "=== 10-fold CV summary ===\n",
      "n_components (mean ± std): 9.2 ± 0.4\n",
      "MAE :  3.686 ± 0.053\n",
      "RMSE:  4.687 ± 0.076\n",
      "R²  :  0.200 ± 0.016\n"
     ]
    }
   ],
   "source": [
    "# Run analysis with covariate regression\n",
    "results = elasticnet_covariate_regression(\n",
    "    X, y, brain_regions_renamed, X_covariates_renamed, y_covariates_renamed, \n",
    "    categorical_cols=categorical_variables, n_splits=10\n",
    ")"
   ]
  },
  {
   "cell_type": "markdown",
   "id": "a1bdfc31",
   "metadata": {},
   "source": [
    "# TMT"
   ]
  },
  {
   "cell_type": "code",
   "execution_count": null,
   "id": "795e7ea8",
   "metadata": {},
   "outputs": [],
   "source": [
    "# Load the dataset\n",
    "df = pd.read_csv('/Users/baileyng/MIND_data/ukb_master_TMT_no_outliers.csv', index_col=0)\n",
    "\n",
    "# Histogram of TMT Scores\n",
    "sns.histplot(df['trailmaking_score'])\n",
    "plt.title('Distribution of TMT Scores')\n",
    "plt.xlabel('TMT Score')\n",
    "plt.ylabel('Frequency')\n",
    "plt.show()\n",
    "\n",
    "print(len(df))\n",
    "print(df.shape)"
   ]
  },
  {
   "cell_type": "markdown",
   "id": "04833738",
   "metadata": {},
   "source": [
    "### TMT vs. MIND (avg)"
   ]
  },
  {
   "cell_type": "code",
   "execution_count": null,
   "id": "209e49e4",
   "metadata": {},
   "outputs": [
    {
     "name": "stdout",
     "output_type": "stream",
     "text": [
      "(24492, 71)\n",
      "(24492,)\n"
     ]
    }
   ],
   "source": [
    "# Set X and y\n",
    "with open('/Users/baileyng/MIND_models/region_names/MIND_avg_regions.txt', 'r') as f:\n",
    "    brain_regions = [line.strip() for line in f.readlines()]\n",
    "\n",
    "# Define different covariates for X and y\n",
    "X_covariates = ['31-0.0', '21003-2.0', '54-2.0']  \n",
    "y_covariates = ['31-0.0', '21003-2.0', '54-2.0']  \n",
    "\n",
    "# Combine all variables\n",
    "all_vars = list(set(X_covariates + y_covariates + brain_regions))\n",
    "\n",
    "X = df[all_vars]\n",
    "y = df['trailmaking_score']\n",
    "\n",
    "print(f\"Original shapes - X: {X.shape}, y: {y.shape}\")\n",
    "\n",
    "# rename columns\n",
    "X = X.rename(columns=rename_dict)\n",
    "\n",
    "# Update variable names after renaming\n",
    "X_covariates_renamed = [rename_dict.get(var, var) for var in X_covariates]\n",
    "y_covariates_renamed = [rename_dict.get(var, var) for var in y_covariates]\n",
    "brain_regions_renamed = [rename_dict.get(var, var) for var in brain_regions]\n",
    "\n",
    "# Specify which variables are categorical\n",
    "categorical_variables = ['sex', 'assessment_centre']  # Use renamed column names"
   ]
  },
  {
   "cell_type": "code",
   "execution_count": null,
   "id": "642c6597",
   "metadata": {},
   "outputs": [
    {
     "name": "stdout",
     "output_type": "stream",
     "text": [
      "Fold 01 • n_comp=04 • MAE=176.425 • RMSE=293.983 • R²=0.082\n",
      "Fold 02 • n_comp=04 • MAE=172.440 • RMSE=276.644 • R²=0.073\n",
      "Fold 03 • n_comp=04 • MAE=177.297 • RMSE=279.430 • R²=0.063\n",
      "Fold 04 • n_comp=04 • MAE=172.116 • RMSE=269.513 • R²=0.079\n",
      "Fold 05 • n_comp=04 • MAE=171.227 • RMSE=265.072 • R²=0.044\n",
      "Fold 06 • n_comp=04 • MAE=173.696 • RMSE=262.275 • R²=0.069\n",
      "Fold 07 • n_comp=04 • MAE=176.838 • RMSE=262.683 • R²=0.056\n",
      "Fold 08 • n_comp=04 • MAE=170.765 • RMSE=261.890 • R²=0.082\n",
      "Fold 09 • n_comp=04 • MAE=172.606 • RMSE=276.270 • R²=0.066\n",
      "Fold 10 • n_comp=04 • MAE=168.278 • RMSE=260.266 • R²=0.054\n",
      "\n",
      "=== 10-fold CV summary ===\n",
      "n_components (mean ± std): 4.0 ± 0.0\n",
      "MAE :  173.169 ± 2.772\n",
      "RMSE:  270.803 ± 10.195\n",
      "R²  :  0.067 ± 0.012\n"
     ]
    }
   ],
   "source": [
    "# Run analysis with covariate regression\n",
    "results = elasticnet_covariate_regression(\n",
    "    X, y, brain_regions_renamed, X_covariates_renamed, y_covariates_renamed, \n",
    "    categorical_cols=categorical_variables, n_splits=10\n",
    ")"
   ]
  },
  {
   "cell_type": "markdown",
   "id": "41ac6236",
   "metadata": {},
   "source": [
    "### TMT vs. MIND"
   ]
  },
  {
   "cell_type": "code",
   "execution_count": null,
   "id": "3f14f807",
   "metadata": {},
   "outputs": [
    {
     "name": "stdout",
     "output_type": "stream",
     "text": [
      "(24492, 2281)\n",
      "(24492,)\n"
     ]
    }
   ],
   "source": [
    "# Set X and y\n",
    "with open('/Users/baileyng/MIND_models/region_names/MIND_regions.txt', 'r') as f:\n",
    "    brain_regions = [line.strip() for line in f.readlines()]\n",
    "\n",
    "# Define different covariates for X and y\n",
    "X_covariates = ['31-0.0', '21003-2.0', '54-2.0']  \n",
    "y_covariates = ['31-0.0', '21003-2.0', '54-2.0']  \n",
    "\n",
    "# Combine all variables\n",
    "all_vars = list(set(X_covariates + y_covariates + brain_regions))\n",
    "\n",
    "X = df[all_vars]\n",
    "y = df['trailmaking_score']\n",
    "\n",
    "print(f\"Original shapes - X: {X.shape}, y: {y.shape}\")\n",
    "\n",
    "# rename columns\n",
    "X = X.rename(columns=rename_dict)\n",
    "\n",
    "# Update variable names after renaming\n",
    "X_covariates_renamed = [rename_dict.get(var, var) for var in X_covariates]\n",
    "y_covariates_renamed = [rename_dict.get(var, var) for var in y_covariates]\n",
    "brain_regions_renamed = [rename_dict.get(var, var) for var in brain_regions]\n",
    "\n",
    "# Specify which variables are categorical\n",
    "categorical_variables = ['sex', 'assessment_centre']  # Use renamed column names"
   ]
  },
  {
   "cell_type": "code",
   "execution_count": null,
   "id": "99547b77",
   "metadata": {},
   "outputs": [
    {
     "name": "stdout",
     "output_type": "stream",
     "text": [
      "Fold 01 • n_comp=06 • MAE=178.817 • RMSE=296.572 • R²=0.065\n",
      "Fold 02 • n_comp=07 • MAE=176.302 • RMSE=280.124 • R²=0.049\n",
      "Fold 03 • n_comp=07 • MAE=181.287 • RMSE=285.389 • R²=0.023\n",
      "Fold 04 • n_comp=07 • MAE=175.723 • RMSE=273.635 • R²=0.051\n",
      "Fold 05 • n_comp=06 • MAE=173.849 • RMSE=267.583 • R²=0.026\n",
      "Fold 06 • n_comp=06 • MAE=176.252 • RMSE=263.684 • R²=0.059\n",
      "Fold 07 • n_comp=06 • MAE=178.031 • RMSE=264.085 • R²=0.046\n",
      "Fold 08 • n_comp=07 • MAE=175.083 • RMSE=265.310 • R²=0.058\n",
      "Fold 09 • n_comp=05 • MAE=177.449 • RMSE=279.785 • R²=0.042\n",
      "Fold 10 • n_comp=06 • MAE=171.326 • RMSE=263.140 • R²=0.033\n",
      "\n",
      "=== 10-fold CV summary ===\n",
      "n_components (mean ± std): 6.3 ± 0.6\n",
      "MAE :  176.412 ± 2.607\n",
      "RMSE:  273.931 ± 10.722\n",
      "R²  :  0.045 ± 0.013\n"
     ]
    }
   ],
   "source": [
    "# Run analysis with covariate regression\n",
    "results = elasticnet_covariate_regression(\n",
    "    X, y, brain_regions_renamed, X_covariates_renamed, y_covariates_renamed, \n",
    "    categorical_cols=categorical_variables, n_splits=10\n",
    ")"
   ]
  },
  {
   "cell_type": "markdown",
   "id": "c5a696ee",
   "metadata": {},
   "source": [
    "### TMT vs. CT"
   ]
  },
  {
   "cell_type": "code",
   "execution_count": null,
   "id": "3b79e452",
   "metadata": {},
   "outputs": [
    {
     "name": "stdout",
     "output_type": "stream",
     "text": [
      "(24492, 65)\n",
      "(24492,)\n"
     ]
    }
   ],
   "source": [
    "# Set X and y\n",
    "with open('/Users/baileyng/MIND_models/region_names/CT_regions.txt', 'r') as f:\n",
    "    brain_regions = [line.strip() for line in f.readlines()]\n",
    "\n",
    "# Define different covariates for X and y\n",
    "X_covariates = ['31-0.0', '21003-2.0', '54-2.0']  \n",
    "y_covariates = ['31-0.0', '21003-2.0', '54-2.0']  \n",
    "\n",
    "# Combine all variables\n",
    "all_vars = list(set(X_covariates + y_covariates + brain_regions))\n",
    "\n",
    "X = df[all_vars]\n",
    "y = df['trailmaking_score']\n",
    "\n",
    "print(f\"Original shapes - X: {X.shape}, y: {y.shape}\")\n",
    "\n",
    "# rename columns\n",
    "X = X.rename(columns=rename_dict)\n",
    "\n",
    "# Update variable names after renaming\n",
    "X_covariates_renamed = [rename_dict.get(var, var) for var in X_covariates]\n",
    "y_covariates_renamed = [rename_dict.get(var, var) for var in y_covariates]\n",
    "brain_regions_renamed = [rename_dict.get(var, var) for var in brain_regions]\n",
    "\n",
    "# Specify which variables are categorical\n",
    "categorical_variables = ['sex', 'assessment_centre']  # Use renamed column names"
   ]
  },
  {
   "cell_type": "code",
   "execution_count": null,
   "id": "0f2fee7d",
   "metadata": {},
   "outputs": [
    {
     "name": "stdout",
     "output_type": "stream",
     "text": [
      "Fold 01 • n_comp=05 • MAE=176.795 • RMSE=294.811 • R²=0.076\n",
      "Fold 02 • n_comp=05 • MAE=172.517 • RMSE=276.251 • R²=0.076\n",
      "Fold 03 • n_comp=05 • MAE=177.328 • RMSE=279.850 • R²=0.060\n",
      "Fold 04 • n_comp=05 • MAE=171.812 • RMSE=269.260 • R²=0.081\n",
      "Fold 05 • n_comp=05 • MAE=171.478 • RMSE=265.403 • R²=0.042\n",
      "Fold 06 • n_comp=05 • MAE=173.821 • RMSE=262.212 • R²=0.069\n",
      "Fold 07 • n_comp=05 • MAE=176.760 • RMSE=262.482 • R²=0.057\n",
      "Fold 08 • n_comp=05 • MAE=172.398 • RMSE=262.920 • R²=0.075\n",
      "Fold 09 • n_comp=05 • MAE=173.251 • RMSE=276.179 • R²=0.067\n",
      "Fold 10 • n_comp=05 • MAE=168.856 • RMSE=260.247 • R²=0.054\n",
      "\n",
      "=== 10-fold CV summary ===\n",
      "n_components (mean ± std): 5.0 ± 0.0\n",
      "MAE :  173.502 ± 2.588\n",
      "RMSE:  270.961 ± 10.319\n",
      "R²  :  0.066 ± 0.012\n"
     ]
    }
   ],
   "source": [
    "# Run analysis with covariate regression\n",
    "results = elasticnet_covariate_regression(\n",
    "    X, y, brain_regions_renamed, X_covariates_renamed, y_covariates_renamed, \n",
    "    categorical_cols=categorical_variables, n_splits=10\n",
    ")"
   ]
  },
  {
   "cell_type": "markdown",
   "id": "d236f969",
   "metadata": {},
   "source": [
    "### TMT vs. FC"
   ]
  },
  {
   "cell_type": "code",
   "execution_count": null,
   "id": "f346503c",
   "metadata": {},
   "outputs": [
    {
     "name": "stdout",
     "output_type": "stream",
     "text": [
      "(24492, 214)\n",
      "(24492,)\n"
     ]
    }
   ],
   "source": [
    "# Set X and y\n",
    "with open('/Users/baileyng/MIND_models/region_names/FC_regions.txt', 'r') as f:\n",
    "    brain_regions = [line.strip() for line in f.readlines()]\n",
    "\n",
    "# Define different covariates for X and y\n",
    "X_covariates = ['31-0.0', '21003-2.0', '54-2.0', '25741-2.0']  \n",
    "y_covariates = ['31-0.0', '21003-2.0', '54-2.0']  \n",
    "\n",
    "# Combine all variables\n",
    "all_vars = list(set(X_covariates + y_covariates + brain_regions))\n",
    "\n",
    "X = df[all_vars]\n",
    "y = df['trailmaking_score']\n",
    "\n",
    "print(f\"Original shapes - X: {X.shape}, y: {y.shape}\")\n",
    "\n",
    "# rename columns\n",
    "X = X.rename(columns=rename_dict)\n",
    "\n",
    "# Update variable names after renaming\n",
    "X_covariates_renamed = [rename_dict.get(var, var) for var in X_covariates]\n",
    "y_covariates_renamed = [rename_dict.get(var, var) for var in y_covariates]\n",
    "brain_regions_renamed = [rename_dict.get(var, var) for var in brain_regions]\n",
    "\n",
    "# Specify which variables are categorical\n",
    "categorical_variables = ['sex', 'assessment_centre']  # Use renamed column names"
   ]
  },
  {
   "cell_type": "code",
   "execution_count": null,
   "id": "e036dee3",
   "metadata": {},
   "outputs": [
    {
     "name": "stdout",
     "output_type": "stream",
     "text": [
      "Fold 01 • n_comp=09 • MAE=175.815 • RMSE=292.650 • R²=0.090\n",
      "Fold 02 • n_comp=08 • MAE=172.804 • RMSE=277.529 • R²=0.067\n",
      "Fold 03 • n_comp=09 • MAE=175.728 • RMSE=277.324 • R²=0.077\n",
      "Fold 04 • n_comp=08 • MAE=172.391 • RMSE=269.491 • R²=0.080\n",
      "Fold 05 • n_comp=08 • MAE=169.631 • RMSE=263.416 • R²=0.056\n",
      "Fold 06 • n_comp=07 • MAE=172.061 • RMSE=260.911 • R²=0.079\n",
      "Fold 07 • n_comp=08 • MAE=173.836 • RMSE=261.197 • R²=0.066\n",
      "Fold 08 • n_comp=08 • MAE=170.318 • RMSE=261.209 • R²=0.087\n",
      "Fold 09 • n_comp=09 • MAE=169.796 • RMSE=271.336 • R²=0.099\n",
      "Fold 10 • n_comp=08 • MAE=167.751 • RMSE=258.536 • R²=0.067\n",
      "\n",
      "=== 10-fold CV summary ===\n",
      "n_components (mean ± std): 8.2 ± 0.6\n",
      "MAE :  172.013 ± 2.529\n",
      "RMSE:  269.360 ± 10.166\n",
      "R²  :  0.077 ± 0.012\n"
     ]
    }
   ],
   "source": [
    "# Run analysis with covariate regression\n",
    "results = elasticnet_covariate_regression(\n",
    "    X, y, brain_regions_renamed, X_covariates_renamed, y_covariates_renamed, \n",
    "    categorical_cols=categorical_variables, n_splits=10\n",
    ")"
   ]
  }
 ],
 "metadata": {
  "kernelspec": {
   "display_name": "venv",
   "language": "python",
   "name": "python3"
  },
  "language_info": {
   "codemirror_mode": {
    "name": "ipython",
    "version": 3
   },
   "file_extension": ".py",
   "mimetype": "text/x-python",
   "name": "python",
   "nbconvert_exporter": "python",
   "pygments_lexer": "ipython3",
   "version": "3.8.20"
  }
 },
 "nbformat": 4,
 "nbformat_minor": 5
}
