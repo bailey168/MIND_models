{
 "cells": [
  {
   "cell_type": "markdown",
   "id": "aad05c61",
   "metadata": {},
   "source": [
    "# Set up"
   ]
  },
  {
   "cell_type": "code",
   "execution_count": null,
   "id": "edc7107c",
   "metadata": {},
   "outputs": [],
   "source": [
    "import pandas as pd\n",
    "import numpy as np\n",
    "from sklearn.preprocessing import StandardScaler, OneHotEncoder\n",
    "from sklearn.compose import ColumnTransformer\n",
    "from sklearn.pipeline import make_pipeline\n",
    "from sklearn.linear_model import ElasticNetCV\n",
    "from sklearn.model_selection import KFold\n",
    "from sklearn.metrics import mean_absolute_error, mean_squared_error, r2_score\n",
    "import random"
   ]
  },
  {
   "cell_type": "code",
   "execution_count": 2,
   "id": "65ebc51f",
   "metadata": {},
   "outputs": [],
   "source": [
    "random.seed(42)\n",
    "np.random.seed(42)"
   ]
  },
  {
   "cell_type": "code",
   "execution_count": null,
   "id": "88b53a4f",
   "metadata": {},
   "outputs": [],
   "source": [
    "rename = pd.read_csv('/external/rprshnas01/tigrlab/scratch/bng/cartbind/code/MIND_models/region_names/col_renames.csv')\n",
    "rename_dict = dict(zip(rename['datafield_code'], rename['datafield_name']))"
   ]
  },
  {
   "cell_type": "markdown",
   "id": "472d0707",
   "metadata": {},
   "source": [
    "# ElasticNet Analysis Function"
   ]
  },
  {
   "cell_type": "code",
   "execution_count": 4,
   "id": "22007734",
   "metadata": {},
   "outputs": [],
   "source": [
    "#inner parallelized\n",
    "def elasticnet_analysis(X, y, continuous_vars, categorical_vars, n_splits=10):\n",
    "    preprocessor = ColumnTransformer(transformers=[\n",
    "        # scale continuous features\n",
    "        ('num', StandardScaler(), continuous_vars),\n",
    "        # one-hot encode the assessment centre (drop one level to avoid collinearity)\n",
    "        ('cat', OneHotEncoder(drop='first', sparse_output=False), categorical_vars),\n",
    "    ])\n",
    "\n",
    "    # Cross-validation set-up\n",
    "    outer_cv = KFold(n_splits=n_splits, shuffle=True, random_state=42)\n",
    "\n",
    "    outer_mae, outer_rmse, outer_r2 = [], [], []\n",
    "    best_params_per_fold = []\n",
    "    nonzero_predictors = []\n",
    "    coefs_list = []\n",
    "\n",
    "    for fold, (train_idx, test_idx) in enumerate(outer_cv.split(X, y), start=1):\n",
    "        X_train, X_test = X.iloc[train_idx], X.iloc[test_idx]\n",
    "        y_train, y_test = y.iloc[train_idx], y.iloc[test_idx]\n",
    "\n",
    "        # Inner CV\n",
    "        pipe = make_pipeline(\n",
    "            preprocessor,\n",
    "            ElasticNetCV(\n",
    "                l1_ratio=np.linspace(0.3,0.9,7),\n",
    "                alphas=np.logspace(-4,1,11),\n",
    "                cv=10, max_iter=30000, random_state=42,\n",
    "                n_jobs=-1\n",
    "            )\n",
    "        )\n",
    "\n",
    "        pipe.fit(X_train, y_train)\n",
    "        y_pred = pipe.predict(X_test)\n",
    "\n",
    "        # --- metrics ---\n",
    "        mae = mean_absolute_error(y_test, y_pred)\n",
    "        rmse = np.sqrt(mean_squared_error(y_test, y_pred))\n",
    "        r2 = r2_score(y_test, y_pred)\n",
    "\n",
    "        outer_mae.append(mae)\n",
    "        outer_rmse.append(rmse)\n",
    "        outer_r2.append(r2)\n",
    "\n",
    "        # --- store best α & l1_ratio for this fold ---\n",
    "        est = pipe.named_steps['elasticnetcv']\n",
    "        best_params_per_fold.append(\n",
    "            {'alpha': est.alpha_, 'l1_ratio': est.l1_ratio_}\n",
    "        )\n",
    "\n",
    "        # --- predictors that survived ---\n",
    "        coefs = est.coef_\n",
    "        coefs_list.append(coefs)\n",
    "        surviving = [col for col, c in zip(X.columns, coefs) if c != 0]\n",
    "        nonzero_predictors.append(surviving)\n",
    "\n",
    "        print(f'Fold {fold:02d} • MAE={mae:.3f} • RMSE={rmse:.3f} • R²={r2:.3f} '\n",
    "            f'• α={est.alpha_:.4g} • l1_ratio={est.l1_ratio_:.2f}')\n",
    "        \n",
    "\n",
    "    # Aggregate results\n",
    "    print('\\n=== 10-fold CV summary ===')\n",
    "    print(f'Mean MAE :  {np.mean(outer_mae):.3f}  ± {np.std(outer_mae):.3f}')\n",
    "    print(f'Mean RMSE:  {np.mean(outer_rmse):.3f} ± {np.std(outer_rmse):.3f}')\n",
    "    print(f'Mean R²  :  {np.mean(outer_r2):.3f}  ± {np.std(outer_r2):.3f}')\n",
    "\n"
   ]
  },
  {
   "cell_type": "markdown",
   "id": "aab8d7a8",
   "metadata": {},
   "source": [
    "# GF"
   ]
  },
  {
   "cell_type": "code",
   "execution_count": null,
   "id": "5b34c7f2",
   "metadata": {},
   "outputs": [],
   "source": [
    "# Load the dataset\n",
    "df = pd.read_csv('/external/rprshnas01/tigrlab/scratch/bng/cartbind/data/ukb_master_GF_no_outliers.csv', index_col=0)"
   ]
  },
  {
   "cell_type": "markdown",
   "id": "11ab6011",
   "metadata": {},
   "source": [
    "## GF vs. MIND"
   ]
  },
  {
   "cell_type": "code",
   "execution_count": null,
   "id": "04f708e6",
   "metadata": {},
   "outputs": [
    {
     "name": "stdout",
     "output_type": "stream",
     "text": [
      "(33977, 2281)\n",
      "(33977,)\n"
     ]
    }
   ],
   "source": [
    "# Set X and y\n",
    "with open('/external/rprshnas01/tigrlab/scratch/bng/cartbind/code/MIND_models/region_names/MIND_regions.txt', 'r') as f:\n",
    "    brain_regions = [line.strip() for line in f.readlines()]\n",
    "\n",
    "# Define demographic/clinical features\n",
    "demographic_vars = ['31-0.0', '21003-2.0', '54-2.0']\n",
    "\n",
    "# Combine demographic features with brain region features\n",
    "all_vars = demographic_vars + brain_regions\n",
    "\n",
    "X = df[all_vars]\n",
    "y = df['20016-2.0']\n",
    "\n",
    "print(X.shape)\n",
    "print(y.shape)"
   ]
  },
  {
   "cell_type": "code",
   "execution_count": 9,
   "id": "68f28482",
   "metadata": {},
   "outputs": [],
   "source": [
    "# rename columns\n",
    "X = X.rename(columns=rename_dict)\n",
    "\n",
    "categorical_vars = ['sex', 'assessment_centre']\n",
    "continuous_vars  = [c for c in X.columns if c not in categorical_vars]"
   ]
  },
  {
   "cell_type": "code",
   "execution_count": 10,
   "id": "9f1217d9",
   "metadata": {},
   "outputs": [
    {
     "name": "stdout",
     "output_type": "stream",
     "text": [
      "Fold 01 • MAE=1.605 • RMSE=2.004 • R²=0.045 • α=0.01389 • l1_ratio=0.60\n",
      "Fold 02 • MAE=1.623 • RMSE=2.019 • R²=0.045 • α=0.03162 • l1_ratio=0.30\n",
      "Fold 03 • MAE=1.626 • RMSE=2.029 • R²=0.052 • α=0.01389 • l1_ratio=0.60\n",
      "Fold 04 • MAE=1.645 • RMSE=2.049 • R²=0.042 • α=0.01389 • l1_ratio=0.70\n",
      "Fold 05 • MAE=1.594 • RMSE=1.988 • R²=0.045 • α=0.01389 • l1_ratio=0.60\n",
      "Fold 06 • MAE=1.566 • RMSE=1.953 • R²=0.065 • α=0.01389 • l1_ratio=0.60\n",
      "Fold 07 • MAE=1.600 • RMSE=2.001 • R²=0.047 • α=0.01389 • l1_ratio=0.70\n",
      "Fold 08 • MAE=1.647 • RMSE=2.038 • R²=0.036 • α=0.03162 • l1_ratio=0.30\n",
      "Fold 09 • MAE=1.597 • RMSE=1.991 • R²=0.046 • α=0.01389 • l1_ratio=0.60\n",
      "Fold 10 • MAE=1.620 • RMSE=2.026 • R²=0.042 • α=0.01389 • l1_ratio=0.50\n",
      "\n",
      "=== 10-fold CV summary ===\n",
      "Mean MAE :  1.612  ± 0.024\n",
      "Mean RMSE:  2.010 ± 0.027\n",
      "Mean R²  :  0.046  ± 0.007\n"
     ]
    }
   ],
   "source": [
    "elasticnet_analysis(X, y, continuous_vars, categorical_vars, n_splits=10)"
   ]
  }
 ],
 "metadata": {
  "kernelspec": {
   "display_name": "venv",
   "language": "python",
   "name": "python3"
  },
  "language_info": {
   "codemirror_mode": {
    "name": "ipython",
    "version": 3
   },
   "file_extension": ".py",
   "mimetype": "text/x-python",
   "name": "python",
   "nbconvert_exporter": "python",
   "pygments_lexer": "ipython3",
   "version": "3.8.20"
  }
 },
 "nbformat": 4,
 "nbformat_minor": 5
}
