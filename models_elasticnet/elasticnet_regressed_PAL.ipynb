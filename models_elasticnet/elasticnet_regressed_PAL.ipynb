{
 "cells": [
  {
   "cell_type": "markdown",
   "id": "aad05c61",
   "metadata": {},
   "source": [
    "# Set up"
   ]
  },
  {
   "cell_type": "code",
   "execution_count": 2,
   "id": "edc7107c",
   "metadata": {},
   "outputs": [],
   "source": [
    "import pandas as pd\n",
    "import numpy as np\n",
    "import seaborn as sns\n",
    "import matplotlib.pyplot as plt\n",
    "from sklearn.preprocessing import StandardScaler\n",
    "from sklearn.linear_model import ElasticNetCV, ElasticNet\n",
    "from sklearn.model_selection import KFold\n",
    "from sklearn.metrics import mean_absolute_error, mean_squared_error, r2_score\n",
    "import random\n",
    "import os\n",
    "import time"
   ]
  },
  {
   "cell_type": "code",
   "execution_count": null,
   "id": "65ebc51f",
   "metadata": {},
   "outputs": [],
   "source": [
    "start = time.time()\n",
    "\n",
    "random.seed(42)\n",
    "np.random.seed(42)"
   ]
  },
  {
   "cell_type": "code",
   "execution_count": null,
   "id": "88b53a4f",
   "metadata": {},
   "outputs": [],
   "source": [
    "rename = pd.read_csv('/external/rprshnas01/tigrlab/scratch/bng/cartbind/code/MIND_models/region_names/col_renames.csv')\n",
    "rename_dict = dict(zip(rename['datafield_code'], rename['datafield_name']))\n",
    "\n",
    "weights_dir = '/external/rprshnas01/tigrlab/scratch/bng/cartbind/code/MIND_models/models_elasticnet/elasticnet_weights_reg'"
   ]
  },
  {
   "cell_type": "markdown",
   "id": "472d0707",
   "metadata": {},
   "source": [
    "# ElasticNet Analysis Function"
   ]
  },
  {
   "cell_type": "code",
   "execution_count": null,
   "id": "794b189e",
   "metadata": {},
   "outputs": [],
   "source": [
    "def regress_out_covariates(data, covariates, categorical_cols=None):\n",
    "    \"\"\"\n",
    "    Regress out covariates from data using vectorized operations.\n",
    "    Handles categorical variables by treating them as dummy variables.\n",
    "    \n",
    "    Parameters:\n",
    "    data: DataFrame or array - the data to regress covariates from\n",
    "    covariates: DataFrame - the covariate data\n",
    "    categorical_cols: list - explicit list of column names to treat as categorical\n",
    "    \n",
    "    Returns:\n",
    "    residuals: DataFrame or array - data with covariates regressed out\n",
    "    \"\"\"\n",
    "    # Convert to numpy arrays for computation\n",
    "    Y = np.array(data, dtype=float)\n",
    "    \n",
    "    # Handle categorical variables if DataFrame is passed\n",
    "    if isinstance(covariates, pd.DataFrame):\n",
    "        if categorical_cols is not None:\n",
    "            # Explicitly specify which columns are categorical\n",
    "            X_cov = pd.get_dummies(covariates, columns=categorical_cols, drop_first=True, dtype=float).values\n",
    "        else:\n",
    "            # Auto-detect categorical columns (object/string types)\n",
    "            X_cov = pd.get_dummies(covariates, drop_first=True, dtype=float).values\n",
    "    else:\n",
    "        X_cov = np.array(covariates, dtype=float)\n",
    "    \n",
    "    # Add intercept column\n",
    "    design_matrix = np.column_stack([np.ones(X_cov.shape[0]), X_cov])\n",
    "    \n",
    "    # Vectorized regression: solve for all columns simultaneously\n",
    "    beta_coeffs = np.linalg.lstsq(design_matrix, Y, rcond=None)[0]\n",
    "    \n",
    "    # Calculate predictions and residuals\n",
    "    predicted = design_matrix @ beta_coeffs\n",
    "    residuals = Y - predicted\n",
    "    \n",
    "    # Return as DataFrame if input was DataFrame\n",
    "    if isinstance(data, pd.DataFrame):\n",
    "        return pd.DataFrame(residuals, index=data.index, columns=data.columns)\n",
    "    else:\n",
    "        return residuals\n",
    "    \n",
    "\n",
    "def elasticnet_covariate_regression(X, y, brain_regions, X_covariates, y_covariates, \n",
    "                                                 categorical_cols=None, n_splits=10, weights_dir=None, data_name=None, target_name=None):\n",
    "    \"\"\"\n",
    "    ElasticNet analysis with demographic covariates regressed out beforehand.\n",
    "    \"\"\"\n",
    "    # Separate demographic and brain region data\n",
    "    X_demographic = X[X_covariates]\n",
    "    y_demographic = X[y_covariates]\n",
    "    X_brain = X[brain_regions]\n",
    "    \n",
    "    # Determine which covariates are categorical\n",
    "    X_categorical = [col for col in X_covariates if col in (categorical_cols or [])]\n",
    "    y_categorical = [col for col in y_covariates if col in (categorical_cols or [])]\n",
    "    \n",
    "    # Regress out demographic variables from brain regions\n",
    "    print(\"Regressing out demographic variables from brain regions...\")\n",
    "    X_brain_residuals = regress_out_covariates(X_brain, X_demographic, X_categorical)\n",
    "    \n",
    "    # Regress out demographic variables from target variable\n",
    "    print(\"Regressing out demographic variables from target variable...\")\n",
    "    y_residuals = regress_out_covariates(y, y_demographic, y_categorical)\n",
    "    \n",
    "    # Use only the residualized brain regions as features\n",
    "    X_final = X_brain_residuals\n",
    "    y_final = y_residuals.squeeze() if y_residuals.ndim > 1 else y_residuals\n",
    "    \n",
    "    # Simple preprocessing (just scaling, no categorical encoding needed)\n",
    "    scaler = StandardScaler()\n",
    "    \n",
    "    # Cross-validation set-up\n",
    "    outer_cv = KFold(n_splits=n_splits, shuffle=True, random_state=42)\n",
    "    \n",
    "    outer_mae, outer_rmse, outer_r2 = [], [], []\n",
    "    best_params_per_fold = []\n",
    "    nonzero_predictors = []\n",
    "    coefs_list = []\n",
    "    \n",
    "    for fold, (train_idx, test_idx) in enumerate(outer_cv.split(X_final, y_final), start=1):\n",
    "        X_train, X_test = X_final.iloc[train_idx], X_final.iloc[test_idx]\n",
    "        \n",
    "        # Handle y_final indexing based on its type\n",
    "        if isinstance(y_final, pd.DataFrame) or isinstance(y_final, pd.Series):\n",
    "            y_train, y_test = y_final.iloc[train_idx], y_final.iloc[test_idx]\n",
    "        else:\n",
    "            # y_final is a numpy array\n",
    "            y_train, y_test = y_final[train_idx], y_final[test_idx]\n",
    "        \n",
    "        # Scale features\n",
    "        X_train_scaled = scaler.fit_transform(X_train)\n",
    "        X_test_scaled = scaler.transform(X_test)\n",
    "        \n",
    "        # Inner CV\n",
    "        elastic_net = ElasticNetCV(\n",
    "            l1_ratio=np.linspace(0.3, 0.9, 7),\n",
    "            alphas=np.logspace(-4, 1, 15),\n",
    "            cv=10, max_iter=25000, random_state=42,\n",
    "            n_jobs=-1\n",
    "        )\n",
    "        \n",
    "        elastic_net.fit(X_train_scaled, y_train)\n",
    "        y_pred = elastic_net.predict(X_test_scaled)\n",
    "        \n",
    "        # --- metrics ---\n",
    "        mae = mean_absolute_error(y_test, y_pred)\n",
    "        rmse = np.sqrt(mean_squared_error(y_test, y_pred))\n",
    "        r2 = r2_score(y_test, y_pred)\n",
    "        \n",
    "        outer_mae.append(mae)\n",
    "        outer_rmse.append(rmse)\n",
    "        outer_r2.append(r2)\n",
    "        \n",
    "        # --- store best α & l1_ratio for this fold ---\n",
    "        best_params_per_fold.append(\n",
    "            {'alpha': elastic_net.alpha_, 'l1_ratio': elastic_net.l1_ratio_}\n",
    "        )\n",
    "        \n",
    "        # --- predictors that survived ---\n",
    "        coefs = elastic_net.coef_\n",
    "        coefs_list.append(coefs)\n",
    "        surviving = [col for col, c in zip(X_final.columns, coefs) if c != 0]\n",
    "        nonzero_predictors.append(surviving)\n",
    "        \n",
    "        print(f'Fold {fold:02d} • MAE={mae:.3f} • RMSE={rmse:.3f} • R²={r2:.3f} '\n",
    "              f'• α={elastic_net.alpha_:.4g} • l1_ratio={elastic_net.l1_ratio_:.2f}')\n",
    "    \n",
    "    # Aggregate results\n",
    "    print('\\n=== 10-fold CV summary ===')\n",
    "    print(f'Mean MAE :  {np.mean(outer_mae):.3f}  ± {np.std(outer_mae):.3f}')\n",
    "    print(f'Mean RMSE:  {np.mean(outer_rmse):.3f} ± {np.std(outer_rmse):.3f}')\n",
    "    print(f'Mean R²  :  {np.mean(outer_r2):.3f}  ± {np.std(outer_r2):.3f}')\n",
    "    \n",
    "    # Calculate mean best parameters from all folds\n",
    "    mean_alpha = np.mean([p['alpha'] for p in best_params_per_fold])\n",
    "    mean_l1_ratio = np.mean([p['l1_ratio'] for p in best_params_per_fold])\n",
    "    \n",
    "    # Fit final model on all data\n",
    "    final_scaler = StandardScaler()\n",
    "    X_final_scaled = final_scaler.fit_transform(X_final)\n",
    "    \n",
    "    final_model = ElasticNet(\n",
    "        alpha=mean_alpha,\n",
    "        l1_ratio=mean_l1_ratio,\n",
    "        max_iter=40000,\n",
    "        random_state=42\n",
    "    )\n",
    "    \n",
    "    final_model.fit(X_final_scaled, y_final)\n",
    "    \n",
    "    # Create coefficients DataFrame\n",
    "    coefs_df = pd.DataFrame({\n",
    "        'Feature': X_final.columns,\n",
    "        'Coefficient': final_model.coef_\n",
    "    })\n",
    "    \n",
    "    # Save coefficients\n",
    "    os.makedirs(weights_dir, exist_ok=True)\n",
    "    weights_filename = f'ElasticNet_weights_{data_name}_{target_name}.csv'\n",
    "    weights_filepath = os.path.join(weights_dir, weights_filename)\n",
    "    coefs_df.to_csv(weights_filepath, index=False)\n",
    "    \n",
    "    print(f\"\\nElasticNet coefficients saved to: {weights_filepath}\")\n",
    "    print(f\"Final model parameters: α={mean_alpha:.4g}, l1_ratio={mean_l1_ratio:.3f}\")\n",
    "    print(f\"Number of non-zero coefficients: {np.sum(final_model.coef_ != 0)}\")\n",
    "    \n",
    "    return {\n",
    "        'mae': outer_mae,\n",
    "        'rmse': outer_rmse,\n",
    "        'r2': outer_r2,\n",
    "        'best_params': best_params_per_fold,\n",
    "        'nonzero_predictors': nonzero_predictors,\n",
    "        'coefficients': coefs_list\n",
    "    }"
   ]
  },
  {
   "cell_type": "markdown",
   "id": "cedaea78",
   "metadata": {},
   "source": [
    "# PAL"
   ]
  },
  {
   "cell_type": "code",
   "execution_count": null,
   "id": "54f114ed",
   "metadata": {},
   "outputs": [
    {
     "name": "stdout",
     "output_type": "stream",
     "text": [
      "Loading dataset...\n"
     ]
    },
    {
     "ename": "NameError",
     "evalue": "name 'pd' is not defined",
     "output_type": "error",
     "traceback": [
      "\u001b[0;31m---------------------------------------------------------------------------\u001b[0m",
      "\u001b[0;31mNameError\u001b[0m                                 Traceback (most recent call last)",
      "Cell \u001b[0;32mIn[1], line 3\u001b[0m\n\u001b[1;32m      1\u001b[0m \u001b[38;5;66;03m# Load the dataset\u001b[39;00m\n\u001b[1;32m      2\u001b[0m \u001b[38;5;28mprint\u001b[39m(\u001b[38;5;124m\"\u001b[39m\u001b[38;5;124mLoading dataset...\u001b[39m\u001b[38;5;124m\"\u001b[39m)\n\u001b[0;32m----> 3\u001b[0m df \u001b[38;5;241m=\u001b[39m \u001b[43mpd\u001b[49m\u001b[38;5;241m.\u001b[39mread_csv(\u001b[38;5;124m'\u001b[39m\u001b[38;5;124m/external/rprshnas01/tigrlab/scratch/bng/cartbind/data/ukb_master_GF_no_outliers.csv\u001b[39m\u001b[38;5;124m'\u001b[39m, index_col\u001b[38;5;241m=\u001b[39m\u001b[38;5;241m0\u001b[39m)\n\u001b[1;32m      4\u001b[0m target_name \u001b[38;5;241m=\u001b[39m \u001b[38;5;124m'\u001b[39m\u001b[38;5;124mGF\u001b[39m\u001b[38;5;124m'\u001b[39m\n",
      "\u001b[0;31mNameError\u001b[0m: name 'pd' is not defined"
     ]
    }
   ],
   "source": [
    "# Load the dataset\n",
    "print(\"Loading dataset...\")\n",
    "df = pd.read_csv('/external/rprshnas01/tigrlab/scratch/bng/cartbind/data/ukb_master_PAL_no_outliers.csv', index_col=0)\n",
    "target_name = 'PAL'"
   ]
  },
  {
   "cell_type": "markdown",
   "id": "0d901f76",
   "metadata": {},
   "source": [
    "## PAL vs. MIND"
   ]
  },
  {
   "cell_type": "code",
   "execution_count": null,
   "id": "ef5b697e",
   "metadata": {},
   "outputs": [
    {
     "name": "stdout",
     "output_type": "stream",
     "text": [
      "Original shapes - X: (33977, 2281), y: (33977,)\n"
     ]
    }
   ],
   "source": [
    "data_name = 'MIND'\n",
    "\n",
    "# Set X and y\n",
    "with open('/external/rprshnas01/tigrlab/scratch/bng/cartbind/code/MIND_models/region_names/MIND_regions.txt', 'r') as f:\n",
    "    brain_regions = [line.strip() for line in f.readlines()]\n",
    "\n",
    "# Define different covariates for X and y\n",
    "X_covariates = ['31-0.0', '21003-2.0', '54-2.0']  \n",
    "y_covariates = ['31-0.0', '21003-2.0', '54-2.0']  \n",
    "\n",
    "# Combine all variables\n",
    "all_vars = list(set(X_covariates + y_covariates + brain_regions))\n",
    "\n",
    "X = df[all_vars]\n",
    "y = df['20016-2.0']\n",
    "\n",
    "print(f\"Original shapes - X: {X.shape}, y: {y.shape}\")\n",
    "\n",
    "# rename columns\n",
    "X = X.rename(columns=rename_dict)\n",
    "\n",
    "# Update variable names after renaming\n",
    "X_covariates_renamed = [rename_dict.get(var, var) for var in X_covariates]\n",
    "y_covariates_renamed = [rename_dict.get(var, var) for var in y_covariates]\n",
    "brain_regions_renamed = [rename_dict.get(var, var) for var in brain_regions]\n",
    "\n",
    "# Specify which variables are categorical\n",
    "categorical_variables = ['sex', 'assessment_centre']  # Use renamed column names"
   ]
  },
  {
   "cell_type": "code",
   "execution_count": null,
   "id": "88597e62",
   "metadata": {},
   "outputs": [
    {
     "name": "stdout",
     "output_type": "stream",
     "text": [
      "Regressing out demographic variables from brain regions...\n",
      "Regressing out demographic variables from target variable...\n",
      "Fold 01 • n_comp=05 • MAE=1.603 • RMSE=2.002 • R²=0.036\n"
     ]
    }
   ],
   "source": [
    "# Run analysis with covariate regression\n",
    "print('Starting elastic net analysis (regressed)...')\n",
    "\n",
    "results = elasticnet_covariate_regression(\n",
    "    X, y, brain_regions_renamed, X_covariates_renamed, y_covariates_renamed, \n",
    "    categorical_cols=categorical_variables, n_splits=10,\n",
    "    weights_dir=weights_dir, data_name=data_name, target_name=target_name\n",
    ")\n",
    "\n",
    "print(f'\\nTotal time taken: {time.time() - start:.2f} seconds')"
   ]
  }
 ],
 "metadata": {
  "kernelspec": {
   "display_name": "venv",
   "language": "python",
   "name": "python3"
  },
  "language_info": {
   "codemirror_mode": {
    "name": "ipython",
    "version": 3
   },
   "file_extension": ".py",
   "mimetype": "text/x-python",
   "name": "python",
   "nbconvert_exporter": "python",
   "pygments_lexer": "ipython3",
   "version": "3.8.20"
  }
 },
 "nbformat": 4,
 "nbformat_minor": 5
}
