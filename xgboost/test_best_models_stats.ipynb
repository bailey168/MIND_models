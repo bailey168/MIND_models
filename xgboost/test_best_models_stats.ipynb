{
 "cells": [
  {
   "cell_type": "code",
   "execution_count": 1,
   "id": "966c3299",
   "metadata": {},
   "outputs": [],
   "source": [
    "import pandas as pd\n",
    "import json\n",
    "import numpy as np\n",
    "import xgboost as xgb\n",
    "import os\n",
    "from sklearn.preprocessing import StandardScaler\n",
    "from sklearn.metrics import mean_absolute_error, mean_squared_error, r2_score\n",
    "import random"
   ]
  },
  {
   "cell_type": "code",
   "execution_count": 2,
   "id": "73914a82",
   "metadata": {},
   "outputs": [],
   "source": [
    "random.seed(42)\n",
    "np.random.seed(42)"
   ]
  },
  {
   "cell_type": "code",
   "execution_count": 3,
   "id": "d5109c5a",
   "metadata": {},
   "outputs": [],
   "source": [
    "n_splits = 10"
   ]
  },
  {
   "cell_type": "code",
   "execution_count": 4,
   "id": "7f5cd407",
   "metadata": {},
   "outputs": [],
   "source": [
    "def train_test_metrics(output_variable):\n",
    "    mae_list, rmse_list, r2_list = [], [], []\n",
    "\n",
    "    for split_idx in range(n_splits):\n",
    "        split_dir = os.path.join(BASE_FOLDER, output_variable, f'split_{split_idx}')\n",
    "\n",
    "        # load data\n",
    "        data = np.load(os.path.join(split_dir, 'train_test_data.npz'), allow_pickle=True)\n",
    "        cols     = data['column_names']\n",
    "        X_train  = pd.DataFrame(data=data['x_train'], columns=cols)\n",
    "        X_test   = pd.DataFrame(data=data['x_test'],  columns=cols)\n",
    "        y_train  = data['y_train']\n",
    "        y_test   = data['y_test']\n",
    "\n",
    "        # cast types\n",
    "        for c in categorical_variables:\n",
    "            if c in cols:\n",
    "                X_train[c] = X_train[c].astype('category')\n",
    "                X_test[c]  = X_test[c].astype('category')\n",
    "        for b in binary_variables:\n",
    "            if b in cols:\n",
    "                X_train[b] = pd.to_numeric(X_train[b], errors='coerce')\n",
    "                X_test[b]  = pd.to_numeric(X_test[b], errors='coerce')\n",
    "\n",
    "        # load best hyperparams\n",
    "        with open(os.path.join(split_dir, 'best_hyperparameters.json'), 'r') as f:\n",
    "            params = json.load(f)\n",
    "\n",
    "        # choose objective/metric\n",
    "        if np.unique(y_train).shape[0] >= 3:\n",
    "            params.update({'eval_metric':'rmse', 'objective':'reg:squarederror'})\n",
    "        else:\n",
    "            params.update({'eval_metric':'auc',  'objective':'binary:logistic'})\n",
    "\n",
    "        # extract and remove n_estimators\n",
    "        n_estimators = int(params.pop('n_estimators'))\n",
    "\n",
    "        # scale numerics\n",
    "        scaler = StandardScaler()\n",
    "        num_vars = [v for v in cols if v in numerical_variables]\n",
    "        X_train[num_vars] = scaler.fit_transform(X_train[num_vars])\n",
    "        X_test[num_vars]  = scaler.transform(   X_test[num_vars])\n",
    "\n",
    "        # train XGBoost\n",
    "        dtrain = xgb.DMatrix(X_train, label=y_train, enable_categorical=True)\n",
    "        booster = xgb.train(params, dtrain, num_boost_round=n_estimators)\n",
    "\n",
    "        # predict\n",
    "        dtest = xgb.DMatrix(X_test, label=y_test, enable_categorical=True)\n",
    "        preds = booster.predict(dtest)\n",
    "\n",
    "        # compute metrics\n",
    "        mae  = mean_absolute_error(y_test, preds)\n",
    "        rmse = np.sqrt(mean_squared_error(y_test, preds))\n",
    "        r2   = r2_score(y_test, preds)\n",
    "\n",
    "        mae_list.append(mae)\n",
    "        rmse_list.append(rmse)\n",
    "        r2_list.append(r2)\n",
    "\n",
    "        print(f\"Split {split_idx:02d} → MAE: {mae:.3f}, RMSE: {rmse:.3f}, R²: {r2:.3f}\")\n",
    "\n",
    "    # after all splits, summary\n",
    "    print(\"\\nOverall performance:\")\n",
    "    print(f\"MAE  : {np.mean(mae_list):.3f} ± {np.std(mae_list):.3f}\")\n",
    "    print(f\"RMSE : {np.mean(rmse_list):.3f} ± {np.std(rmse_list):.3f}\")\n",
    "    print(f\"R²   : {np.mean(r2_list):.3f} ± {np.std(r2_list):.3f}\")\n",
    "\n",
    "    return mae_list, rmse_list, r2_list"
   ]
  },
  {
   "cell_type": "markdown",
   "id": "908ccc2e",
   "metadata": {},
   "source": [
    "### FIS vs. MIND (avg)"
   ]
  },
  {
   "cell_type": "code",
   "execution_count": 5,
   "id": "68cb986b",
   "metadata": {},
   "outputs": [],
   "source": [
    "numerical_variables = ['age',\n",
    "                       \n",
    "        'lh_bankssts', 'lh_caudalanteriorcingulate', 'lh_caudalmiddlefrontal',\n",
    "        'lh_cuneus', 'lh_entorhinal', 'lh_fusiform', 'lh_inferiorparietal', \n",
    "        'lh_inferiortemporal', 'lh_isthmuscingulate', 'lh_lateraloccipital', \n",
    "        'lh_lateralorbitofrontal', 'lh_lingual', 'lh_medialorbitofrontal', \n",
    "        'lh_middletemporal', 'lh_parahippocampal', 'lh_paracentral', \n",
    "        'lh_parsopercularis', 'lh_parsorbitalis', 'lh_parstriangularis', \n",
    "        'lh_pericalcarine', 'lh_postcentral', 'lh_posteriorcingulate', \n",
    "        'lh_precentral', 'lh_precuneus', 'lh_rostralanteriorcingulate', \n",
    "        'lh_rostralmiddlefrontal', 'lh_superiorfrontal', 'lh_superiorparietal', \n",
    "        'lh_superiortemporal', 'lh_supramarginal', 'lh_frontalpole', \n",
    "        'lh_temporalpole', 'lh_transversetemporal', 'lh_insula', \n",
    "        'rh_bankssts', 'rh_caudalanteriorcingulate', 'rh_caudalmiddlefrontal', \n",
    "        'rh_cuneus', 'rh_entorhinal', 'rh_fusiform', 'rh_inferiorparietal', \n",
    "        'rh_inferiortemporal', 'rh_isthmuscingulate', 'rh_lateraloccipital', \n",
    "        'rh_lateralorbitofrontal', 'rh_lingual', 'rh_medialorbitofrontal', \n",
    "        'rh_middletemporal', 'rh_parahippocampal', 'rh_paracentral', \n",
    "        'rh_parsopercularis', 'rh_parsorbitalis', 'rh_parstriangularis', \n",
    "        'rh_pericalcarine', 'rh_postcentral', 'rh_posteriorcingulate', \n",
    "        'rh_precentral', 'rh_precuneus', 'rh_rostralanteriorcingulate', \n",
    "        'rh_rostralmiddlefrontal', 'rh_superiorfrontal', 'rh_superiorparietal', \n",
    "        'rh_superiortemporal', 'rh_supramarginal', 'rh_frontalpole', \n",
    "        'rh_temporalpole', 'rh_transversetemporal', 'rh_insula']\n",
    "\n",
    "categorical_variables = ['assessment centre']\n",
    "\n",
    "binary_variables = ['sex']\n",
    "\n",
    "OUT_VAR = '20016-2.0'"
   ]
  },
  {
   "cell_type": "code",
   "execution_count": 6,
   "id": "48166896",
   "metadata": {},
   "outputs": [
    {
     "name": "stdout",
     "output_type": "stream",
     "text": [
      "Split 00 → MAE: 1.644, RMSE: 2.049, R²: 0.033\n",
      "Split 01 → MAE: 1.760, RMSE: 2.190, R²: -0.127\n",
      "Split 02 → MAE: 1.639, RMSE: 2.044, R²: 0.039\n",
      "Split 03 → MAE: 1.695, RMSE: 2.107, R²: -0.064\n",
      "Split 04 → MAE: 1.641, RMSE: 2.054, R²: 0.030\n",
      "Split 05 → MAE: 1.698, RMSE: 2.132, R²: -0.095\n",
      "Split 06 → MAE: 1.709, RMSE: 2.151, R²: -0.090\n",
      "Split 07 → MAE: 1.677, RMSE: 2.100, R²: -0.041\n",
      "Split 08 → MAE: 1.621, RMSE: 2.023, R²: 0.024\n",
      "Split 09 → MAE: 1.624, RMSE: 2.021, R²: 0.036\n",
      "\n",
      "Overall performance:\n",
      "MAE  : 1.671 ± 0.043\n",
      "RMSE : 2.087 ± 0.055\n",
      "R²   : -0.025 ± 0.061\n"
     ]
    }
   ],
   "source": [
    "BASE_FOLDER = '/Users/baileyng/MIND_data/hyperparameters/best_hyperparameters_MIND_06-28'\n",
    "maes, rmses, r2s = train_test_metrics(OUT_VAR)"
   ]
  },
  {
   "cell_type": "code",
   "execution_count": 7,
   "id": "11e4c893",
   "metadata": {},
   "outputs": [
    {
     "name": "stdout",
     "output_type": "stream",
     "text": [
      "Split 00 → MAE: 1.703, RMSE: 2.124, R²: -0.040\n",
      "Split 01 → MAE: 1.628, RMSE: 2.029, R²: 0.032\n",
      "Split 02 → MAE: 1.639, RMSE: 2.045, R²: 0.038\n",
      "Split 03 → MAE: 1.677, RMSE: 2.086, R²: -0.044\n",
      "Split 04 → MAE: 1.652, RMSE: 2.069, R²: 0.016\n",
      "Split 05 → MAE: 1.612, RMSE: 2.010, R²: 0.026\n",
      "Split 06 → MAE: 1.609, RMSE: 2.014, R²: 0.045\n",
      "Split 07 → MAE: 1.613, RMSE: 2.018, R²: 0.040\n",
      "Split 08 → MAE: 1.621, RMSE: 2.023, R²: 0.024\n",
      "Split 09 → MAE: 1.620, RMSE: 2.015, R²: 0.041\n",
      "\n",
      "Overall performance:\n",
      "MAE  : 1.638 ± 0.030\n",
      "RMSE : 2.043 ± 0.036\n",
      "R²   : 0.018 ± 0.031\n"
     ]
    }
   ],
   "source": [
    "BASE_FOLDER = '/Users/baileyng/MIND_data/hyperparameters/best_hyperparameters_MIND_reg_06-30'\n",
    "maes, rmses, r2s = train_test_metrics(OUT_VAR)"
   ]
  },
  {
   "cell_type": "markdown",
   "id": "7e174e8b",
   "metadata": {},
   "source": [
    "### CT Models"
   ]
  },
  {
   "cell_type": "code",
   "execution_count": 8,
   "id": "17f7f4f6",
   "metadata": {},
   "outputs": [],
   "source": [
    "numerical_variables = ['age',\n",
    "                       \n",
    "        'lh_caudalanteriorcingulate_thickness', 'rh_caudalanteriorcingulate_thickness', 'lh_caudalmiddlefrontal_thickness',\n",
    "        'rh_caudalmiddlefrontal_thickness', 'lh_cuneus_thickness', 'rh_cuneus_thickness', 'lh_entorhinal_thickness', \n",
    "        'rh_entorhinal_thickness', 'lh_fusiform_thickness', 'rh_fusiform_thickness', 'lh_inferiorparietal_thickness', \n",
    "        'rh_inferiorparietal_thickness', 'lh_inferiortemporal_thickness', 'rh_inferiortemporal_thickness', 'lh_insula_thickness', \n",
    "        'rh_insula_thickness', 'lh_isthmuscingulate_thickness', 'rh_isthmuscingulate_thickness', 'lh_lateraloccipital_thickness', \n",
    "        'rh_lateraloccipital_thickness', 'lh_lateralorbitofrontal_thickness', 'rh_lateralorbitofrontal_thickness', \n",
    "        'lh_lingual_thickness', 'rh_lingual_thickness', 'lh_medialorbitofrontal_thickness', 'rh_medialorbitofrontal_thickness', \n",
    "        'lh_middletemporal_thickness', 'rh_middletemporal_thickness', 'lh_paracentral_thickness', 'rh_paracentral_thickness', \n",
    "        'lh_parahippocampal_thickness', 'rh_parahippocampal_thickness', 'lh_parsopercularis_thickness', 'rh_parsopercularis_thickness', \n",
    "        'lh_parsorbitalis_thickness', 'rh_parsorbitalis_thickness', 'lh_parstriangularis_thickness', 'rh_parstriangularis_thickness', \n",
    "        'lh_pericalcarine_thickness', 'rh_pericalcarine_thickness', 'lh_postcentral_thickness', 'rh_postcentral_thickness', \n",
    "        'lh_posteriorcingulate_thickness', 'rh_posteriorcingulate_thickness', 'lh_precentral_thickness', 'rh_precentral_thickness', \n",
    "        'lh_precuneus_thickness', 'rh_precuneus_thickness', 'lh_rostralanteriorcingulate_thickness', 'rh_rostralanteriorcingulate_thickness', \n",
    "        'lh_rostralmiddlefrontal_thickness', 'rh_rostralmiddlefrontal_thickness', 'lh_superiorfrontal_thickness', 'rh_superiorfrontal_thickness', \n",
    "        'lh_superiorparietal_thickness', 'rh_superiorparietal_thickness', 'lh_superiortemporal_thickness', 'rh_superiortemporal_thickness', \n",
    "        'lh_supramarginal_thickness', 'rh_supramarginal_thickness', 'lh_transversetemporal_thickness', 'rh_transversetemporal_thickness']\n",
    "\n",
    "categorical_variables = ['assessment centre']\n",
    "\n",
    "binary_variables = ['sex']\n",
    "\n",
    "OUT_VAR = '20016-2.0'"
   ]
  },
  {
   "cell_type": "code",
   "execution_count": 9,
   "id": "2a9c8e9c",
   "metadata": {},
   "outputs": [
    {
     "name": "stdout",
     "output_type": "stream",
     "text": [
      "Split 00 → MAE: 1.757, RMSE: 2.202, R²: -0.118\n",
      "Split 01 → MAE: 1.631, RMSE: 2.032, R²: 0.030\n",
      "Split 02 → MAE: 1.647, RMSE: 2.054, R²: 0.030\n",
      "Split 03 → MAE: 1.629, RMSE: 2.020, R²: 0.021\n",
      "Split 04 → MAE: 1.645, RMSE: 2.059, R²: 0.026\n",
      "Split 05 → MAE: 1.663, RMSE: 2.081, R²: -0.043\n",
      "Split 06 → MAE: 1.621, RMSE: 2.024, R²: 0.034\n",
      "Split 07 → MAE: 1.616, RMSE: 2.020, R²: 0.037\n",
      "Split 08 → MAE: 1.628, RMSE: 2.030, R²: 0.017\n",
      "Split 09 → MAE: 1.813, RMSE: 2.278, R²: -0.226\n",
      "\n",
      "Overall performance:\n",
      "MAE  : 1.665 ± 0.063\n",
      "RMSE : 2.080 ± 0.084\n",
      "R²   : -0.019 ± 0.083\n"
     ]
    }
   ],
   "source": [
    "BASE_FOLDER = '/Users/baileyng/MIND_data/hyperparameters/best_hyperparameters_CT_06-28'\n",
    "maes, rmses, r2s = train_test_metrics(OUT_VAR)"
   ]
  },
  {
   "cell_type": "markdown",
   "id": "13930f24",
   "metadata": {},
   "source": [
    "### FC Models"
   ]
  },
  {
   "cell_type": "code",
   "execution_count": 10,
   "id": "7fc630b5",
   "metadata": {},
   "outputs": [],
   "source": [
    "numerical_variables = ['age',\n",
    "        \n",
    "        'IC1IC2', 'IC1IC3', 'IC1IC4', 'IC1IC5', 'IC1IC6', 'IC1IC7', 'IC1IC8', \n",
    "        'IC1IC9', 'IC1IC10', 'IC1IC11', 'IC1IC12', 'IC1IC13', 'IC1IC14', \n",
    "        'IC1IC15', 'IC1IC16', 'IC1IC17', 'IC1IC18', 'IC1IC19', 'IC1IC20', \n",
    "        'IC1IC21', 'IC2IC3', 'IC2IC4', 'IC2IC5', 'IC2IC6', 'IC2IC7', 'IC2IC8', \n",
    "        'IC2IC9', 'IC2IC10', 'IC2IC11', 'IC2IC12', 'IC2IC13', 'IC2IC14', 'IC2IC15', \n",
    "        'IC2IC16', 'IC2IC17', 'IC2IC18', 'IC2IC19', 'IC2IC20', 'IC2IC21', 'IC3IC4', \n",
    "        'IC3IC5', 'IC3IC6', 'IC3IC7', 'IC3IC8', 'IC3IC9', 'IC3IC10', 'IC3IC11', \n",
    "        'IC3IC12', 'IC3IC13', 'IC3IC14', 'IC3IC15', 'IC3IC16', 'IC3IC17', 'IC3IC18', \n",
    "        'IC3IC19', 'IC3IC20', 'IC3IC21', 'IC4IC5', 'IC4IC6', 'IC4IC7', 'IC4IC8', \n",
    "        'IC4IC9', 'IC4IC10', 'IC4IC11', 'IC4IC12', 'IC4IC13', 'IC4IC14', 'IC4IC15', \n",
    "        'IC4IC16', 'IC4IC17', 'IC4IC18', 'IC4IC19', 'IC4IC20', 'IC4IC21', 'IC5IC6', \n",
    "        'IC5IC7', 'IC5IC8', 'IC5IC9', 'IC5IC10', 'IC5IC11', 'IC5IC12', 'IC5IC13', \n",
    "        'IC5IC14', 'IC5IC15', 'IC5IC16', 'IC5IC17', 'IC5IC18', 'IC5IC19', 'IC5IC20', \n",
    "        'IC5IC21', 'IC6IC7', 'IC6IC8', 'IC6IC9', 'IC6IC10', 'IC6IC11', 'IC6IC12', \n",
    "        'IC6IC13', 'IC6IC14', 'IC6IC15', 'IC6IC16', 'IC6IC17', 'IC6IC18', 'IC6IC19', \n",
    "        'IC6IC20', 'IC6IC21', 'IC7IC8', 'IC7IC9', 'IC7IC10', 'IC7IC11', 'IC7IC12', \n",
    "        'IC7IC13', 'IC7IC14', 'IC7IC15', 'IC7IC16', 'IC7IC17', 'IC7IC18', 'IC7IC19', \n",
    "        'IC7IC20', 'IC7IC21', 'IC8IC9', 'IC8IC10', 'IC8IC11', 'IC8IC12', 'IC8IC13', \n",
    "        'IC8IC14', 'IC8IC15', 'IC8IC16', 'IC8IC17', 'IC8IC18', 'IC8IC19', 'IC8IC20', \n",
    "        'IC8IC21', 'IC9IC10', 'IC9IC11', 'IC9IC12', 'IC9IC13', 'IC9IC14', 'IC9IC15', \n",
    "        'IC9IC16', 'IC9IC17', 'IC9IC18', 'IC9IC19', 'IC9IC20', 'IC9IC21', 'IC10IC11', \n",
    "        'IC10IC12', 'IC10IC13', 'IC10IC14', 'IC10IC15', 'IC10IC16', 'IC10IC17', 'IC10IC18', \n",
    "        'IC10IC19', 'IC10IC20', 'IC10IC21', 'IC11IC12', 'IC11IC13', 'IC11IC14', 'IC11IC15', \n",
    "        'IC11IC16', 'IC11IC17', 'IC11IC18', 'IC11IC19', 'IC11IC20', 'IC11IC21', 'IC12IC13', \n",
    "        'IC12IC14', 'IC12IC15', 'IC12IC16', 'IC12IC17', 'IC12IC18', 'IC12IC19', 'IC12IC20', \n",
    "        'IC12IC21', 'IC13IC14', 'IC13IC15', 'IC13IC16', 'IC13IC17', 'IC13IC18', 'IC13IC19', \n",
    "        'IC13IC20', 'IC13IC21', 'IC14IC15', 'IC14IC16', 'IC14IC17', 'IC14IC18', 'IC14IC19', \n",
    "        'IC14IC20', 'IC14IC21', 'IC15IC16', 'IC15IC17', 'IC15IC18', 'IC15IC19', 'IC15IC20', \n",
    "        'IC15IC21', 'IC16IC17', 'IC16IC18', 'IC16IC19', 'IC16IC20', 'IC16IC21', 'IC17IC18', \n",
    "        'IC17IC19', 'IC17IC20', 'IC17IC21', 'IC18IC19', 'IC18IC20', 'IC18IC21', 'IC19IC20', \n",
    "        'IC19IC21', 'IC20IC21']\n",
    "\n",
    "categorical_variables = ['assessment centre']\n",
    "\n",
    "binary_variables = ['sex']\n",
    "\n",
    "OUT_VAR = '20016-2.0'"
   ]
  },
  {
   "cell_type": "code",
   "execution_count": 11,
   "id": "cccb673a",
   "metadata": {},
   "outputs": [
    {
     "name": "stdout",
     "output_type": "stream",
     "text": [
      "Split 00 → MAE: 1.613, RMSE: 2.026, R²: 0.054\n",
      "Split 01 → MAE: 1.652, RMSE: 2.072, R²: -0.009\n",
      "Split 02 → MAE: 1.725, RMSE: 2.152, R²: -0.065\n",
      "Split 03 → MAE: 1.594, RMSE: 1.977, R²: 0.063\n",
      "Split 04 → MAE: 1.616, RMSE: 2.026, R²: 0.057\n",
      "Split 05 → MAE: 1.591, RMSE: 1.985, R²: 0.050\n",
      "Split 06 → MAE: 1.697, RMSE: 2.116, R²: -0.055\n",
      "Split 07 → MAE: 1.578, RMSE: 1.974, R²: 0.081\n",
      "Split 08 → MAE: 1.593, RMSE: 1.991, R²: 0.054\n",
      "Split 09 → MAE: 1.592, RMSE: 1.981, R²: 0.073\n",
      "\n",
      "Overall performance:\n",
      "MAE  : 1.625 ± 0.048\n",
      "RMSE : 2.030 ± 0.060\n",
      "R²   : 0.030 ± 0.051\n"
     ]
    }
   ],
   "source": [
    "BASE_FOLDER = '/Users/baileyng/MIND_data/hyperparameters/best_hyperparameters_FC_06-28'\n",
    "maes, rmses, r2s = train_test_metrics(OUT_VAR)"
   ]
  }
 ],
 "metadata": {
  "kernelspec": {
   "display_name": "venv",
   "language": "python",
   "name": "python3"
  },
  "language_info": {
   "codemirror_mode": {
    "name": "ipython",
    "version": 3
   },
   "file_extension": ".py",
   "mimetype": "text/x-python",
   "name": "python",
   "nbconvert_exporter": "python",
   "pygments_lexer": "ipython3",
   "version": "3.8.20"
  }
 },
 "nbformat": 4,
 "nbformat_minor": 5
}
